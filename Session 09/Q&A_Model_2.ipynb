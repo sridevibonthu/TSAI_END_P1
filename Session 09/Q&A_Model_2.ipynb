{
  "nbformat": 4,
  "nbformat_minor": 0,
  "metadata": {
    "accelerator": "GPU",
    "colab": {
      "name": "Q&A Model 2.ipynb",
      "provenance": [],
      "collapsed_sections": [],
      "include_colab_link": true
    },
    "kernelspec": {
      "display_name": "Python 3",
      "name": "python3"
    }
  },
  "cells": [
    {
      "cell_type": "markdown",
      "metadata": {
        "id": "view-in-github",
        "colab_type": "text"
      },
      "source": [
        "<a href=\"https://colab.research.google.com/github/sridevibonthu/TSAI_END_P1/blob/main/Session%2009/Q%26A_Model_2.ipynb\" target=\"_parent\"><img src=\"https://colab.research.google.com/assets/colab-badge.svg\" alt=\"Open In Colab\"/></a>"
      ]
    },
    {
      "cell_type": "markdown",
      "metadata": {
        "id": "s8fmX5NKltrG"
      },
      "source": [
        "[Question-and-answer dataset](http://www.cs.cmu.edu/~ark/QA-data/): This corpus includes Wikipedia articles, factual questions manually generated from them, and answers to these manually generated questions for use in academic research."
      ]
    },
    {
      "cell_type": "markdown",
      "metadata": {
        "id": "1C-PE8R83XdV"
      },
      "source": [
        "# Neural Machine Translation by Jointly Learning to Align and Translate\r\n",
        "\r\n",
        "In this notebook on sequence-to-sequence models using PyTorch and TorchText, we'll be implementing the model from [Neural Machine Translation by Jointly Learning to Align and Translate](https://arxiv.org/abs/1409.0473). This model achives our best perplexity yet, ~27 compared to ~34 for the previous model.\r\n",
        "\r\n",
        "## Introduction\r\n",
        "\r\n",
        "As a reminder, here is the general encoder-decoder model:\r\n",
        "\r\n",
        "![](https://github.com/bentrevett/pytorch-seq2seq/blob/master/assets/seq2seq1.png?raw=1)\r\n",
        "\r\n",
        "In the previous model, our architecture was set-up in a way to reduce \"information compression\" by explicitly passing the context vector, $z$, to the decoder at every time-step and by passing both the context vector and embedded input word, $d(y_t)$, along with the hidden state, $s_t$, to the linear layer, $f$, to make a prediction.\r\n",
        "\r\n",
        "![](https://github.com/bentrevett/pytorch-seq2seq/blob/master/assets/seq2seq7.png?raw=1)\r\n",
        "\r\n",
        "Even though we have reduced some of this compression, our context vector still needs to contain all of the information about the source sentence. The model implemented in this notebook avoids this compression by allowing the decoder to look at the entire source sentence (via its hidden states) at each decoding step! How does it do this? It uses *attention*. \r\n",
        "\r\n",
        "Attention works by first, calculating an attention vector, $a$, that is the length of the source sentence. The attention vector has the property that each element is between 0 and 1, and the entire vector sums to 1. We then calculate a weighted sum of our source sentence hidden states, $H$, to get a weighted source vector, $w$. \r\n",
        "\r\n",
        "$$w = \\sum_{i}a_ih_i$$\r\n",
        "\r\n",
        "We calculate a new weighted source vector every time-step when decoding, using it as input to our decoder RNN as well as the linear layer to make a prediction. We'll explain how to do all of this during the session.\r\n",
        "\r\n",
        "## Preparing Data\r\n",
        "\r\n",
        "Again, the preparation is similar to last time.\r\n",
        "\r\n",
        "First we import all the required modules."
      ]
    },
    {
      "cell_type": "markdown",
      "metadata": {
        "id": "mig849pnl4X2"
      },
      "source": [
        "### Load data from Kaggle"
      ]
    },
    {
      "cell_type": "code",
      "metadata": {
        "id": "AkqtyCwVl0_Q",
        "colab": {
          "resources": {
            "http://localhost:8080/nbextensions/google.colab/files.js": {
              "data": "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",
              "ok": true,
              "headers": [
                [
                  "content-type",
                  "application/javascript"
                ]
              ],
              "status": 200,
              "status_text": ""
            }
          },
          "base_uri": "https://localhost:8080/",
          "height": 91
        },
        "outputId": "60305b5d-cbff-4e8f-e215-9f1bfbfea907"
      },
      "source": [
        "# Run this cell and select the kaggle.json file downloaded\r\n",
        "# from the Kaggle account settings page.\r\n",
        "from google.colab import files\r\n",
        "files.upload()"
      ],
      "execution_count": 1,
      "outputs": [
        {
          "output_type": "display_data",
          "data": {
            "text/html": [
              "\n",
              "     <input type=\"file\" id=\"files-05232dae-afef-4085-a003-c29bd3a3629b\" name=\"files[]\" multiple disabled\n",
              "        style=\"border:none\" />\n",
              "     <output id=\"result-05232dae-afef-4085-a003-c29bd3a3629b\">\n",
              "      Upload widget is only available when the cell has been executed in the\n",
              "      current browser session. Please rerun this cell to enable.\n",
              "      </output>\n",
              "      <script src=\"/nbextensions/google.colab/files.js\"></script> "
            ],
            "text/plain": [
              "<IPython.core.display.HTML object>"
            ]
          },
          "metadata": {
            "tags": []
          }
        },
        {
          "output_type": "stream",
          "text": [
            "Saving kaggle.json to kaggle.json\n"
          ],
          "name": "stdout"
        },
        {
          "output_type": "execute_result",
          "data": {
            "text/plain": [
              "{'kaggle.json': b'{\"username\":\"bsridevi\",\"key\":\"dcd1e4498a2f0a8ca2f36ba1ab2ee686\"}'}"
            ]
          },
          "metadata": {
            "tags": []
          },
          "execution_count": 1
        }
      ]
    },
    {
      "cell_type": "code",
      "metadata": {
        "colab": {
          "base_uri": "https://localhost:8080/"
        },
        "id": "AN_yFvVsl08K",
        "outputId": "d3b25175-e132-42bd-a22d-5aaf323d61cf"
      },
      "source": [
        "# Let's make sure the kaggle.json file is present.\r\n",
        "!ls -lha kaggle.json"
      ],
      "execution_count": 2,
      "outputs": [
        {
          "output_type": "stream",
          "text": [
            "-rw-r--r-- 1 root root 64 Jan 11 15:30 kaggle.json\n"
          ],
          "name": "stdout"
        }
      ]
    },
    {
      "cell_type": "code",
      "metadata": {
        "id": "8tGKgf1wl05D"
      },
      "source": [
        "# Next, install the Kaggle API client.\r\n",
        "!pip install -q kaggle"
      ],
      "execution_count": 3,
      "outputs": []
    },
    {
      "cell_type": "code",
      "metadata": {
        "id": "bEfED1v1l01i"
      },
      "source": [
        "# The Kaggle API client expects this file to be in ~/.kaggle,\r\n",
        "# so move it there.\r\n",
        "!mkdir -p ~/.kaggle\r\n",
        "!cp kaggle.json ~/.kaggle/\r\n",
        "\r\n",
        "# This permissions change avoids a warning on Kaggle tool startup.\r\n",
        "!chmod 600 ~/.kaggle/kaggle.json"
      ],
      "execution_count": 4,
      "outputs": []
    },
    {
      "cell_type": "code",
      "metadata": {
        "colab": {
          "base_uri": "https://localhost:8080/"
        },
        "id": "ip0-9X8el0xE",
        "outputId": "96ff4644-0e02-478b-ef77-5836bc8e73bb"
      },
      "source": [
        "# Copy the customer-support-on-twitter data set locally.\r\n",
        "!kaggle datasets download -d veeralakrishna/questionanswer-dataset"
      ],
      "execution_count": 5,
      "outputs": [
        {
          "output_type": "stream",
          "text": [
            "Downloading questionanswer-dataset.zip to /content\n",
            "100% 8.70M/8.70M [00:00<00:00, 77.9MB/s]\n",
            "\n"
          ],
          "name": "stdout"
        }
      ]
    },
    {
      "cell_type": "code",
      "metadata": {
        "colab": {
          "base_uri": "https://localhost:8080/"
        },
        "id": "nlwOZDwXl0ss",
        "outputId": "44b65ca4-6ede-44ed-db1a-605dab04ffd8"
      },
      "source": [
        "# Check the directory\r\n",
        "!ls"
      ],
      "execution_count": 6,
      "outputs": [
        {
          "output_type": "stream",
          "text": [
            "kaggle.json  questionanswer-dataset.zip  sample_data\n"
          ],
          "name": "stdout"
        }
      ]
    },
    {
      "cell_type": "code",
      "metadata": {
        "colab": {
          "base_uri": "https://localhost:8080/"
        },
        "id": "ywa2IBEnl0po",
        "outputId": "13da0033-f734-4be5-8a72-046586acb364"
      },
      "source": [
        "# Unzip the file\r\n",
        "!unzip questionanswer-dataset.zip"
      ],
      "execution_count": 7,
      "outputs": [
        {
          "output_type": "stream",
          "text": [
            "Archive:  questionanswer-dataset.zip\n",
            "  inflating: Question_Answer_Dataset_v1.2/LICENSE-S08,S09  \n",
            "  inflating: Question_Answer_Dataset_v1.2/README.v1.2  \n",
            "  inflating: Question_Answer_Dataset_v1.2/S08/data/set1/a1.htm  \n",
            "  inflating: Question_Answer_Dataset_v1.2/S08/data/set1/a1.txt  \n",
            "  inflating: Question_Answer_Dataset_v1.2/S08/data/set1/a1.txt.clean  \n",
            "  inflating: Question_Answer_Dataset_v1.2/S08/data/set1/a10.htm  \n",
            "  inflating: Question_Answer_Dataset_v1.2/S08/data/set1/a10.txt  \n",
            "  inflating: Question_Answer_Dataset_v1.2/S08/data/set1/a10.txt.clean  \n",
            "  inflating: Question_Answer_Dataset_v1.2/S08/data/set1/a10o.htm  \n",
            "  inflating: Question_Answer_Dataset_v1.2/S08/data/set1/a1o.htm  \n",
            "  inflating: Question_Answer_Dataset_v1.2/S08/data/set1/a2.htm  \n",
            "  inflating: Question_Answer_Dataset_v1.2/S08/data/set1/a2.txt  \n",
            "  inflating: Question_Answer_Dataset_v1.2/S08/data/set1/a2.txt.clean  \n",
            "  inflating: Question_Answer_Dataset_v1.2/S08/data/set1/a2o.htm  \n",
            "  inflating: Question_Answer_Dataset_v1.2/S08/data/set1/a3.htm  \n",
            "  inflating: Question_Answer_Dataset_v1.2/S08/data/set1/a3.txt  \n",
            "  inflating: Question_Answer_Dataset_v1.2/S08/data/set1/a3.txt.clean  \n",
            "  inflating: Question_Answer_Dataset_v1.2/S08/data/set1/a3o.htm  \n",
            "  inflating: Question_Answer_Dataset_v1.2/S08/data/set1/a4.htm  \n",
            "  inflating: Question_Answer_Dataset_v1.2/S08/data/set1/a4.txt  \n",
            "  inflating: Question_Answer_Dataset_v1.2/S08/data/set1/a4.txt.clean  \n",
            "  inflating: Question_Answer_Dataset_v1.2/S08/data/set1/a4o.htm  \n",
            "  inflating: Question_Answer_Dataset_v1.2/S08/data/set1/a5.htm  \n",
            "  inflating: Question_Answer_Dataset_v1.2/S08/data/set1/a5.txt  \n",
            "  inflating: Question_Answer_Dataset_v1.2/S08/data/set1/a5.txt.clean  \n",
            "  inflating: Question_Answer_Dataset_v1.2/S08/data/set1/a5o.htm  \n",
            "  inflating: Question_Answer_Dataset_v1.2/S08/data/set1/a6.htm  \n",
            "  inflating: Question_Answer_Dataset_v1.2/S08/data/set1/a6.txt  \n",
            "  inflating: Question_Answer_Dataset_v1.2/S08/data/set1/a6.txt.clean  \n",
            "  inflating: Question_Answer_Dataset_v1.2/S08/data/set1/a6o.htm  \n",
            "  inflating: Question_Answer_Dataset_v1.2/S08/data/set1/a7.htm  \n",
            "  inflating: Question_Answer_Dataset_v1.2/S08/data/set1/a7.txt  \n",
            "  inflating: Question_Answer_Dataset_v1.2/S08/data/set1/a7.txt.clean  \n",
            "  inflating: Question_Answer_Dataset_v1.2/S08/data/set1/a7o.htm  \n",
            "  inflating: Question_Answer_Dataset_v1.2/S08/data/set1/a8.htm  \n",
            "  inflating: Question_Answer_Dataset_v1.2/S08/data/set1/a8.txt  \n",
            "  inflating: Question_Answer_Dataset_v1.2/S08/data/set1/a8.txt.clean  \n",
            "  inflating: Question_Answer_Dataset_v1.2/S08/data/set1/a8o.htm  \n",
            "  inflating: Question_Answer_Dataset_v1.2/S08/data/set1/a9.htm  \n",
            "  inflating: Question_Answer_Dataset_v1.2/S08/data/set1/a9.txt  \n",
            "  inflating: Question_Answer_Dataset_v1.2/S08/data/set1/a9.txt.clean  \n",
            "  inflating: Question_Answer_Dataset_v1.2/S08/data/set1/a9o.htm  \n",
            "  inflating: Question_Answer_Dataset_v1.2/S08/data/set1/topics.txt  \n",
            "  inflating: Question_Answer_Dataset_v1.2/S08/data/set2/a1.htm  \n",
            "  inflating: Question_Answer_Dataset_v1.2/S08/data/set2/a1.txt  \n",
            "  inflating: Question_Answer_Dataset_v1.2/S08/data/set2/a1.txt.clean  \n",
            "  inflating: Question_Answer_Dataset_v1.2/S08/data/set2/a10.htm  \n",
            "  inflating: Question_Answer_Dataset_v1.2/S08/data/set2/a10.txt  \n",
            "  inflating: Question_Answer_Dataset_v1.2/S08/data/set2/a10.txt.clean  \n",
            "  inflating: Question_Answer_Dataset_v1.2/S08/data/set2/a10o.htm  \n",
            "  inflating: Question_Answer_Dataset_v1.2/S08/data/set2/a1o.htm  \n",
            "  inflating: Question_Answer_Dataset_v1.2/S08/data/set2/a2.htm  \n",
            "  inflating: Question_Answer_Dataset_v1.2/S08/data/set2/a2.txt  \n",
            "  inflating: Question_Answer_Dataset_v1.2/S08/data/set2/a2.txt.clean  \n",
            "  inflating: Question_Answer_Dataset_v1.2/S08/data/set2/a2o.htm  \n",
            "  inflating: Question_Answer_Dataset_v1.2/S08/data/set2/a3.htm  \n",
            "  inflating: Question_Answer_Dataset_v1.2/S08/data/set2/a3.txt  \n",
            "  inflating: Question_Answer_Dataset_v1.2/S08/data/set2/a3.txt.clean  \n",
            "  inflating: Question_Answer_Dataset_v1.2/S08/data/set2/a3o.htm  \n",
            "  inflating: Question_Answer_Dataset_v1.2/S08/data/set2/a4.htm  \n",
            "  inflating: Question_Answer_Dataset_v1.2/S08/data/set2/a4.txt  \n",
            "  inflating: Question_Answer_Dataset_v1.2/S08/data/set2/a4.txt.clean  \n",
            "  inflating: Question_Answer_Dataset_v1.2/S08/data/set2/a4o.htm  \n",
            "  inflating: Question_Answer_Dataset_v1.2/S08/data/set2/a5.htm  \n",
            "  inflating: Question_Answer_Dataset_v1.2/S08/data/set2/a5.txt  \n",
            "  inflating: Question_Answer_Dataset_v1.2/S08/data/set2/a5.txt.clean  \n",
            "  inflating: Question_Answer_Dataset_v1.2/S08/data/set2/a5o.htm  \n",
            "  inflating: Question_Answer_Dataset_v1.2/S08/data/set2/a6.htm  \n",
            "  inflating: Question_Answer_Dataset_v1.2/S08/data/set2/a6.txt  \n",
            "  inflating: Question_Answer_Dataset_v1.2/S08/data/set2/a6.txt.clean  \n",
            "  inflating: Question_Answer_Dataset_v1.2/S08/data/set2/a6o.htm  \n",
            "  inflating: Question_Answer_Dataset_v1.2/S08/data/set2/a7.htm  \n",
            "  inflating: Question_Answer_Dataset_v1.2/S08/data/set2/a7.txt  \n",
            "  inflating: Question_Answer_Dataset_v1.2/S08/data/set2/a7.txt.clean  \n",
            "  inflating: Question_Answer_Dataset_v1.2/S08/data/set2/a7o.htm  \n",
            "  inflating: Question_Answer_Dataset_v1.2/S08/data/set2/a8.htm  \n",
            "  inflating: Question_Answer_Dataset_v1.2/S08/data/set2/a8.txt  \n",
            "  inflating: Question_Answer_Dataset_v1.2/S08/data/set2/a8.txt.clean  \n",
            "  inflating: Question_Answer_Dataset_v1.2/S08/data/set2/a8o.htm  \n",
            "  inflating: Question_Answer_Dataset_v1.2/S08/data/set2/a9.htm  \n",
            "  inflating: Question_Answer_Dataset_v1.2/S08/data/set2/a9.txt  \n",
            "  inflating: Question_Answer_Dataset_v1.2/S08/data/set2/a9.txt.clean  \n",
            "  inflating: Question_Answer_Dataset_v1.2/S08/data/set2/a9o.htm  \n",
            "  inflating: Question_Answer_Dataset_v1.2/S08/data/set2/topics.txt  \n",
            "  inflating: Question_Answer_Dataset_v1.2/S08/data/set3/a1.htm  \n",
            "  inflating: Question_Answer_Dataset_v1.2/S08/data/set3/a1.txt  \n",
            "  inflating: Question_Answer_Dataset_v1.2/S08/data/set3/a1.txt.clean  \n",
            "  inflating: Question_Answer_Dataset_v1.2/S08/data/set3/a10.htm  \n",
            "  inflating: Question_Answer_Dataset_v1.2/S08/data/set3/a10.txt  \n",
            "  inflating: Question_Answer_Dataset_v1.2/S08/data/set3/a10.txt.clean  \n",
            "  inflating: Question_Answer_Dataset_v1.2/S08/data/set3/a10o.htm  \n",
            "  inflating: Question_Answer_Dataset_v1.2/S08/data/set3/a1o.htm  \n",
            "  inflating: Question_Answer_Dataset_v1.2/S08/data/set3/a2.htm  \n",
            "  inflating: Question_Answer_Dataset_v1.2/S08/data/set3/a2.txt  \n",
            "  inflating: Question_Answer_Dataset_v1.2/S08/data/set3/a2.txt.clean  \n",
            "  inflating: Question_Answer_Dataset_v1.2/S08/data/set3/a2o.htm  \n",
            "  inflating: Question_Answer_Dataset_v1.2/S08/data/set3/a3.htm  \n",
            "  inflating: Question_Answer_Dataset_v1.2/S08/data/set3/a3.txt  \n",
            "  inflating: Question_Answer_Dataset_v1.2/S08/data/set3/a3.txt.clean  \n",
            "  inflating: Question_Answer_Dataset_v1.2/S08/data/set3/a3o.htm  \n",
            "  inflating: Question_Answer_Dataset_v1.2/S08/data/set3/a4.htm  \n",
            "  inflating: Question_Answer_Dataset_v1.2/S08/data/set3/a4.txt  \n",
            "  inflating: Question_Answer_Dataset_v1.2/S08/data/set3/a4.txt.clean  \n",
            "  inflating: Question_Answer_Dataset_v1.2/S08/data/set3/a4o.htm  \n",
            "  inflating: Question_Answer_Dataset_v1.2/S08/data/set3/a5.htm  \n",
            "  inflating: Question_Answer_Dataset_v1.2/S08/data/set3/a5.txt  \n",
            "  inflating: Question_Answer_Dataset_v1.2/S08/data/set3/a5.txt.clean  \n",
            "  inflating: Question_Answer_Dataset_v1.2/S08/data/set3/a5o.htm  \n",
            "  inflating: Question_Answer_Dataset_v1.2/S08/data/set3/a6.htm  \n",
            "  inflating: Question_Answer_Dataset_v1.2/S08/data/set3/a6.txt  \n",
            "  inflating: Question_Answer_Dataset_v1.2/S08/data/set3/a6.txt.clean  \n",
            "  inflating: Question_Answer_Dataset_v1.2/S08/data/set3/a6o.htm  \n",
            "  inflating: Question_Answer_Dataset_v1.2/S08/data/set3/a7.htm  \n",
            "  inflating: Question_Answer_Dataset_v1.2/S08/data/set3/a7.txt  \n",
            "  inflating: Question_Answer_Dataset_v1.2/S08/data/set3/a7.txt.clean  \n",
            "  inflating: Question_Answer_Dataset_v1.2/S08/data/set3/a7o.htm  \n",
            "  inflating: Question_Answer_Dataset_v1.2/S08/data/set3/a8.htm  \n",
            "  inflating: Question_Answer_Dataset_v1.2/S08/data/set3/a8.txt  \n",
            "  inflating: Question_Answer_Dataset_v1.2/S08/data/set3/a8.txt.clean  \n",
            "  inflating: Question_Answer_Dataset_v1.2/S08/data/set3/a8o.htm  \n",
            "  inflating: Question_Answer_Dataset_v1.2/S08/data/set3/a9.htm  \n",
            "  inflating: Question_Answer_Dataset_v1.2/S08/data/set3/a9.txt  \n",
            "  inflating: Question_Answer_Dataset_v1.2/S08/data/set3/a9.txt.clean  \n",
            "  inflating: Question_Answer_Dataset_v1.2/S08/data/set3/a9o.htm  \n",
            "  inflating: Question_Answer_Dataset_v1.2/S08/data/set3/topics.txt  \n",
            "  inflating: Question_Answer_Dataset_v1.2/S08/data/set4/a1.htm  \n",
            "  inflating: Question_Answer_Dataset_v1.2/S08/data/set4/a1.txt  \n",
            "  inflating: Question_Answer_Dataset_v1.2/S08/data/set4/a1.txt.clean  \n",
            "  inflating: Question_Answer_Dataset_v1.2/S08/data/set4/a10.htm  \n",
            "  inflating: Question_Answer_Dataset_v1.2/S08/data/set4/a10.txt  \n",
            "  inflating: Question_Answer_Dataset_v1.2/S08/data/set4/a10.txt.clean  \n",
            "  inflating: Question_Answer_Dataset_v1.2/S08/data/set4/a10o.htm  \n",
            "  inflating: Question_Answer_Dataset_v1.2/S08/data/set4/a1o.htm  \n",
            "  inflating: Question_Answer_Dataset_v1.2/S08/data/set4/a2.htm  \n",
            "  inflating: Question_Answer_Dataset_v1.2/S08/data/set4/a2.txt  \n",
            "  inflating: Question_Answer_Dataset_v1.2/S08/data/set4/a2.txt.clean  \n",
            "  inflating: Question_Answer_Dataset_v1.2/S08/data/set4/a2o.htm  \n",
            "  inflating: Question_Answer_Dataset_v1.2/S08/data/set4/a3.htm  \n",
            "  inflating: Question_Answer_Dataset_v1.2/S08/data/set4/a3.txt  \n",
            "  inflating: Question_Answer_Dataset_v1.2/S08/data/set4/a3.txt.clean  \n",
            "  inflating: Question_Answer_Dataset_v1.2/S08/data/set4/a3o.htm  \n",
            "  inflating: Question_Answer_Dataset_v1.2/S08/data/set4/a4.htm  \n",
            "  inflating: Question_Answer_Dataset_v1.2/S08/data/set4/a4.txt  \n",
            "  inflating: Question_Answer_Dataset_v1.2/S08/data/set4/a4.txt.clean  \n",
            "  inflating: Question_Answer_Dataset_v1.2/S08/data/set4/a4o.htm  \n",
            "  inflating: Question_Answer_Dataset_v1.2/S08/data/set4/a5.htm  \n",
            "  inflating: Question_Answer_Dataset_v1.2/S08/data/set4/a5.txt  \n",
            "  inflating: Question_Answer_Dataset_v1.2/S08/data/set4/a5.txt.clean  \n",
            "  inflating: Question_Answer_Dataset_v1.2/S08/data/set4/a5o.htm  \n",
            "  inflating: Question_Answer_Dataset_v1.2/S08/data/set4/a6.htm  \n",
            "  inflating: Question_Answer_Dataset_v1.2/S08/data/set4/a6.txt  \n",
            "  inflating: Question_Answer_Dataset_v1.2/S08/data/set4/a6.txt.clean  \n",
            "  inflating: Question_Answer_Dataset_v1.2/S08/data/set4/a6o.htm  \n",
            "  inflating: Question_Answer_Dataset_v1.2/S08/data/set4/a7.htm  \n",
            "  inflating: Question_Answer_Dataset_v1.2/S08/data/set4/a7.txt  \n",
            "  inflating: Question_Answer_Dataset_v1.2/S08/data/set4/a7.txt.clean  \n",
            "  inflating: Question_Answer_Dataset_v1.2/S08/data/set4/a7o.htm  \n",
            "  inflating: Question_Answer_Dataset_v1.2/S08/data/set4/a8.htm  \n",
            "  inflating: Question_Answer_Dataset_v1.2/S08/data/set4/a8.txt  \n",
            "  inflating: Question_Answer_Dataset_v1.2/S08/data/set4/a8.txt.clean  \n",
            "  inflating: Question_Answer_Dataset_v1.2/S08/data/set4/a8o.htm  \n",
            "  inflating: Question_Answer_Dataset_v1.2/S08/data/set4/a9.htm  \n",
            "  inflating: Question_Answer_Dataset_v1.2/S08/data/set4/a9.txt  \n",
            "  inflating: Question_Answer_Dataset_v1.2/S08/data/set4/a9.txt.clean  \n",
            "  inflating: Question_Answer_Dataset_v1.2/S08/data/set4/a9o.htm  \n",
            "  inflating: Question_Answer_Dataset_v1.2/S08/data/set4/topics.txt  \n",
            "  inflating: Question_Answer_Dataset_v1.2/S08/question_answer_pairs.txt  \n",
            "  inflating: Question_Answer_Dataset_v1.2/S09/data/set1/a1.htm  \n",
            "  inflating: Question_Answer_Dataset_v1.2/S09/data/set1/a1.txt  \n",
            "  inflating: Question_Answer_Dataset_v1.2/S09/data/set1/a1.txt.clean  \n",
            "  inflating: Question_Answer_Dataset_v1.2/S09/data/set1/a10.htm  \n",
            "  inflating: Question_Answer_Dataset_v1.2/S09/data/set1/a10.txt  \n",
            "  inflating: Question_Answer_Dataset_v1.2/S09/data/set1/a10.txt.clean  \n",
            "  inflating: Question_Answer_Dataset_v1.2/S09/data/set1/a10o.htm  \n",
            "  inflating: Question_Answer_Dataset_v1.2/S09/data/set1/a1o.htm  \n",
            "  inflating: Question_Answer_Dataset_v1.2/S09/data/set1/a2.htm  \n",
            "  inflating: Question_Answer_Dataset_v1.2/S09/data/set1/a2.txt  \n",
            "  inflating: Question_Answer_Dataset_v1.2/S09/data/set1/a2.txt.clean  \n",
            "  inflating: Question_Answer_Dataset_v1.2/S09/data/set1/a2o.htm  \n",
            "  inflating: Question_Answer_Dataset_v1.2/S09/data/set1/a3.htm  \n",
            "  inflating: Question_Answer_Dataset_v1.2/S09/data/set1/a3.txt  \n",
            "  inflating: Question_Answer_Dataset_v1.2/S09/data/set1/a3.txt.clean  \n",
            "  inflating: Question_Answer_Dataset_v1.2/S09/data/set1/a3o.htm  \n",
            "  inflating: Question_Answer_Dataset_v1.2/S09/data/set1/a4.htm  \n",
            "  inflating: Question_Answer_Dataset_v1.2/S09/data/set1/a4.txt  \n",
            "  inflating: Question_Answer_Dataset_v1.2/S09/data/set1/a4.txt.clean  \n",
            "  inflating: Question_Answer_Dataset_v1.2/S09/data/set1/a4o.htm  \n",
            "  inflating: Question_Answer_Dataset_v1.2/S09/data/set1/a5.htm  \n",
            "  inflating: Question_Answer_Dataset_v1.2/S09/data/set1/a5.txt  \n",
            "  inflating: Question_Answer_Dataset_v1.2/S09/data/set1/a5.txt.clean  \n",
            "  inflating: Question_Answer_Dataset_v1.2/S09/data/set1/a5o.htm  \n",
            "  inflating: Question_Answer_Dataset_v1.2/S09/data/set1/a6.htm  \n",
            "  inflating: Question_Answer_Dataset_v1.2/S09/data/set1/a6.txt  \n",
            "  inflating: Question_Answer_Dataset_v1.2/S09/data/set1/a6.txt.clean  \n",
            "  inflating: Question_Answer_Dataset_v1.2/S09/data/set1/a6o.htm  \n",
            "  inflating: Question_Answer_Dataset_v1.2/S09/data/set1/a7.htm  \n",
            "  inflating: Question_Answer_Dataset_v1.2/S09/data/set1/a7.txt  \n",
            "  inflating: Question_Answer_Dataset_v1.2/S09/data/set1/a7.txt.clean  \n",
            "  inflating: Question_Answer_Dataset_v1.2/S09/data/set1/a7o.htm  \n",
            "  inflating: Question_Answer_Dataset_v1.2/S09/data/set1/a8.htm  \n",
            "  inflating: Question_Answer_Dataset_v1.2/S09/data/set1/a8.txt  \n",
            "  inflating: Question_Answer_Dataset_v1.2/S09/data/set1/a8.txt.clean  \n",
            "  inflating: Question_Answer_Dataset_v1.2/S09/data/set1/a8o.htm  \n",
            "  inflating: Question_Answer_Dataset_v1.2/S09/data/set1/a9.htm  \n",
            "  inflating: Question_Answer_Dataset_v1.2/S09/data/set1/a9.txt  \n",
            "  inflating: Question_Answer_Dataset_v1.2/S09/data/set1/a9.txt.clean  \n",
            "  inflating: Question_Answer_Dataset_v1.2/S09/data/set1/a9o.htm  \n",
            "  inflating: Question_Answer_Dataset_v1.2/S09/data/set1/topics.txt  \n",
            "  inflating: Question_Answer_Dataset_v1.2/S09/data/set2/a1.htm  \n",
            "  inflating: Question_Answer_Dataset_v1.2/S09/data/set2/a1.txt  \n",
            "  inflating: Question_Answer_Dataset_v1.2/S09/data/set2/a1.txt.clean  \n",
            "  inflating: Question_Answer_Dataset_v1.2/S09/data/set2/a10.htm  \n",
            "  inflating: Question_Answer_Dataset_v1.2/S09/data/set2/a10.txt  \n",
            "  inflating: Question_Answer_Dataset_v1.2/S09/data/set2/a10.txt.clean  \n",
            "  inflating: Question_Answer_Dataset_v1.2/S09/data/set2/a10o.htm  \n",
            "  inflating: Question_Answer_Dataset_v1.2/S09/data/set2/a1o.htm  \n",
            "  inflating: Question_Answer_Dataset_v1.2/S09/data/set2/a2.htm  \n",
            "  inflating: Question_Answer_Dataset_v1.2/S09/data/set2/a2.txt  \n",
            "  inflating: Question_Answer_Dataset_v1.2/S09/data/set2/a2.txt.clean  \n",
            "  inflating: Question_Answer_Dataset_v1.2/S09/data/set2/a2o.htm  \n",
            "  inflating: Question_Answer_Dataset_v1.2/S09/data/set2/a3.htm  \n",
            "  inflating: Question_Answer_Dataset_v1.2/S09/data/set2/a3.txt  \n",
            "  inflating: Question_Answer_Dataset_v1.2/S09/data/set2/a3.txt.clean  \n",
            "  inflating: Question_Answer_Dataset_v1.2/S09/data/set2/a3o.htm  \n",
            "  inflating: Question_Answer_Dataset_v1.2/S09/data/set2/a4.htm  \n",
            "  inflating: Question_Answer_Dataset_v1.2/S09/data/set2/a4.txt  \n",
            "  inflating: Question_Answer_Dataset_v1.2/S09/data/set2/a4.txt.clean  \n",
            "  inflating: Question_Answer_Dataset_v1.2/S09/data/set2/a4o.htm  \n",
            "  inflating: Question_Answer_Dataset_v1.2/S09/data/set2/a5.htm  \n",
            "  inflating: Question_Answer_Dataset_v1.2/S09/data/set2/a5.txt  \n",
            "  inflating: Question_Answer_Dataset_v1.2/S09/data/set2/a5.txt.clean  \n",
            "  inflating: Question_Answer_Dataset_v1.2/S09/data/set2/a5o.htm  \n",
            "  inflating: Question_Answer_Dataset_v1.2/S09/data/set2/a6.htm  \n",
            "  inflating: Question_Answer_Dataset_v1.2/S09/data/set2/a6.txt  \n",
            "  inflating: Question_Answer_Dataset_v1.2/S09/data/set2/a6.txt.clean  \n",
            "  inflating: Question_Answer_Dataset_v1.2/S09/data/set2/a6o.htm  \n",
            "  inflating: Question_Answer_Dataset_v1.2/S09/data/set2/a7.htm  \n",
            "  inflating: Question_Answer_Dataset_v1.2/S09/data/set2/a7.txt  \n",
            "  inflating: Question_Answer_Dataset_v1.2/S09/data/set2/a7.txt.clean  \n",
            "  inflating: Question_Answer_Dataset_v1.2/S09/data/set2/a7o.htm  \n",
            "  inflating: Question_Answer_Dataset_v1.2/S09/data/set2/a8.htm  \n",
            "  inflating: Question_Answer_Dataset_v1.2/S09/data/set2/a8.txt  \n",
            "  inflating: Question_Answer_Dataset_v1.2/S09/data/set2/a8.txt.clean  \n",
            "  inflating: Question_Answer_Dataset_v1.2/S09/data/set2/a8o.htm  \n",
            "  inflating: Question_Answer_Dataset_v1.2/S09/data/set2/a9.htm  \n",
            "  inflating: Question_Answer_Dataset_v1.2/S09/data/set2/a9.txt  \n",
            "  inflating: Question_Answer_Dataset_v1.2/S09/data/set2/a9.txt.clean  \n",
            "  inflating: Question_Answer_Dataset_v1.2/S09/data/set2/a9o.htm  \n",
            "  inflating: Question_Answer_Dataset_v1.2/S09/data/set2/topics.txt  \n",
            "  inflating: Question_Answer_Dataset_v1.2/S09/data/set3/a1.htm  \n",
            "  inflating: Question_Answer_Dataset_v1.2/S09/data/set3/a1.txt  \n",
            "  inflating: Question_Answer_Dataset_v1.2/S09/data/set3/a1.txt.clean  \n",
            "  inflating: Question_Answer_Dataset_v1.2/S09/data/set3/a10.htm  \n",
            "  inflating: Question_Answer_Dataset_v1.2/S09/data/set3/a10.txt  \n",
            "  inflating: Question_Answer_Dataset_v1.2/S09/data/set3/a10.txt.clean  \n",
            "  inflating: Question_Answer_Dataset_v1.2/S09/data/set3/a10o.htm  \n",
            "  inflating: Question_Answer_Dataset_v1.2/S09/data/set3/a1o.htm  \n",
            "  inflating: Question_Answer_Dataset_v1.2/S09/data/set3/a2.htm  \n",
            "  inflating: Question_Answer_Dataset_v1.2/S09/data/set3/a2.txt  \n",
            "  inflating: Question_Answer_Dataset_v1.2/S09/data/set3/a2.txt.clean  \n",
            "  inflating: Question_Answer_Dataset_v1.2/S09/data/set3/a2o.htm  \n",
            "  inflating: Question_Answer_Dataset_v1.2/S09/data/set3/a3.htm  \n",
            "  inflating: Question_Answer_Dataset_v1.2/S09/data/set3/a3.txt  \n",
            "  inflating: Question_Answer_Dataset_v1.2/S09/data/set3/a3.txt.clean  \n",
            "  inflating: Question_Answer_Dataset_v1.2/S09/data/set3/a3o.htm  \n",
            "  inflating: Question_Answer_Dataset_v1.2/S09/data/set3/a4.htm  \n",
            "  inflating: Question_Answer_Dataset_v1.2/S09/data/set3/a4.txt  \n",
            "  inflating: Question_Answer_Dataset_v1.2/S09/data/set3/a4.txt.clean  \n",
            "  inflating: Question_Answer_Dataset_v1.2/S09/data/set3/a4o.htm  \n",
            "  inflating: Question_Answer_Dataset_v1.2/S09/data/set3/a5.htm  \n",
            "  inflating: Question_Answer_Dataset_v1.2/S09/data/set3/a5.txt  \n",
            "  inflating: Question_Answer_Dataset_v1.2/S09/data/set3/a5.txt.clean  \n",
            "  inflating: Question_Answer_Dataset_v1.2/S09/data/set3/a5o.htm  \n",
            "  inflating: Question_Answer_Dataset_v1.2/S09/data/set3/a6.htm  \n",
            "  inflating: Question_Answer_Dataset_v1.2/S09/data/set3/a6.txt  \n",
            "  inflating: Question_Answer_Dataset_v1.2/S09/data/set3/a6.txt.clean  \n",
            "  inflating: Question_Answer_Dataset_v1.2/S09/data/set3/a6o.htm  \n",
            "  inflating: Question_Answer_Dataset_v1.2/S09/data/set3/a7.htm  \n",
            "  inflating: Question_Answer_Dataset_v1.2/S09/data/set3/a7.txt  \n",
            "  inflating: Question_Answer_Dataset_v1.2/S09/data/set3/a7.txt.clean  \n",
            "  inflating: Question_Answer_Dataset_v1.2/S09/data/set3/a7o.htm  \n",
            "  inflating: Question_Answer_Dataset_v1.2/S09/data/set3/a8.htm  \n",
            "  inflating: Question_Answer_Dataset_v1.2/S09/data/set3/a8.txt  \n",
            "  inflating: Question_Answer_Dataset_v1.2/S09/data/set3/a8.txt.clean  \n",
            "  inflating: Question_Answer_Dataset_v1.2/S09/data/set3/a8o.htm  \n",
            "  inflating: Question_Answer_Dataset_v1.2/S09/data/set3/a9.htm  \n",
            "  inflating: Question_Answer_Dataset_v1.2/S09/data/set3/a9.txt  \n",
            "  inflating: Question_Answer_Dataset_v1.2/S09/data/set3/a9.txt.clean  \n",
            "  inflating: Question_Answer_Dataset_v1.2/S09/data/set3/a9o.htm  \n",
            "  inflating: Question_Answer_Dataset_v1.2/S09/data/set3/topics.txt  \n",
            "  inflating: Question_Answer_Dataset_v1.2/S09/data/set4/a1.htm  \n",
            "  inflating: Question_Answer_Dataset_v1.2/S09/data/set4/a1.txt  \n",
            "  inflating: Question_Answer_Dataset_v1.2/S09/data/set4/a1.txt.clean  \n",
            "  inflating: Question_Answer_Dataset_v1.2/S09/data/set4/a10.htm  \n",
            "  inflating: Question_Answer_Dataset_v1.2/S09/data/set4/a10.txt  \n",
            "  inflating: Question_Answer_Dataset_v1.2/S09/data/set4/a10.txt.clean  \n",
            "  inflating: Question_Answer_Dataset_v1.2/S09/data/set4/a10o.htm  \n",
            "  inflating: Question_Answer_Dataset_v1.2/S09/data/set4/a1o.htm  \n",
            "  inflating: Question_Answer_Dataset_v1.2/S09/data/set4/a2.htm  \n",
            "  inflating: Question_Answer_Dataset_v1.2/S09/data/set4/a2.txt  \n",
            "  inflating: Question_Answer_Dataset_v1.2/S09/data/set4/a2.txt.clean  \n",
            "  inflating: Question_Answer_Dataset_v1.2/S09/data/set4/a2o.htm  \n",
            "  inflating: Question_Answer_Dataset_v1.2/S09/data/set4/a3.htm  \n",
            "  inflating: Question_Answer_Dataset_v1.2/S09/data/set4/a3.txt  \n",
            "  inflating: Question_Answer_Dataset_v1.2/S09/data/set4/a3.txt.clean  \n",
            "  inflating: Question_Answer_Dataset_v1.2/S09/data/set4/a3o.htm  \n",
            "  inflating: Question_Answer_Dataset_v1.2/S09/data/set4/a4.htm  \n",
            "  inflating: Question_Answer_Dataset_v1.2/S09/data/set4/a4.txt  \n",
            "  inflating: Question_Answer_Dataset_v1.2/S09/data/set4/a4.txt.clean  \n",
            "  inflating: Question_Answer_Dataset_v1.2/S09/data/set4/a4o.htm  \n",
            "  inflating: Question_Answer_Dataset_v1.2/S09/data/set4/a5.htm  \n",
            "  inflating: Question_Answer_Dataset_v1.2/S09/data/set4/a5.txt  \n",
            "  inflating: Question_Answer_Dataset_v1.2/S09/data/set4/a5.txt.clean  \n",
            "  inflating: Question_Answer_Dataset_v1.2/S09/data/set4/a5o.htm  \n",
            "  inflating: Question_Answer_Dataset_v1.2/S09/data/set4/a6.htm  \n",
            "  inflating: Question_Answer_Dataset_v1.2/S09/data/set4/a6.txt  \n",
            "  inflating: Question_Answer_Dataset_v1.2/S09/data/set4/a6.txt.clean  \n",
            "  inflating: Question_Answer_Dataset_v1.2/S09/data/set4/a6o.htm  \n",
            "  inflating: Question_Answer_Dataset_v1.2/S09/data/set4/a7.htm  \n",
            "  inflating: Question_Answer_Dataset_v1.2/S09/data/set4/a7.txt  \n",
            "  inflating: Question_Answer_Dataset_v1.2/S09/data/set4/a7.txt.clean  \n",
            "  inflating: Question_Answer_Dataset_v1.2/S09/data/set4/a7o.htm  \n",
            "  inflating: Question_Answer_Dataset_v1.2/S09/data/set4/a8.htm  \n",
            "  inflating: Question_Answer_Dataset_v1.2/S09/data/set4/a8.txt  \n",
            "  inflating: Question_Answer_Dataset_v1.2/S09/data/set4/a8.txt.clean  \n",
            "  inflating: Question_Answer_Dataset_v1.2/S09/data/set4/a8o.htm  \n",
            "  inflating: Question_Answer_Dataset_v1.2/S09/data/set4/a9.htm  \n",
            "  inflating: Question_Answer_Dataset_v1.2/S09/data/set4/a9.txt  \n",
            "  inflating: Question_Answer_Dataset_v1.2/S09/data/set4/a9.txt.clean  \n",
            "  inflating: Question_Answer_Dataset_v1.2/S09/data/set4/a9o.htm  \n",
            "  inflating: Question_Answer_Dataset_v1.2/S09/data/set4/topics.txt  \n",
            "  inflating: Question_Answer_Dataset_v1.2/S09/data/set5/a1.htm  \n",
            "  inflating: Question_Answer_Dataset_v1.2/S09/data/set5/a1.txt  \n",
            "  inflating: Question_Answer_Dataset_v1.2/S09/data/set5/a1.txt.clean  \n",
            "  inflating: Question_Answer_Dataset_v1.2/S09/data/set5/a10.htm  \n",
            "  inflating: Question_Answer_Dataset_v1.2/S09/data/set5/a10.txt  \n",
            "  inflating: Question_Answer_Dataset_v1.2/S09/data/set5/a10.txt.clean  \n",
            "  inflating: Question_Answer_Dataset_v1.2/S09/data/set5/a10o.htm  \n",
            "  inflating: Question_Answer_Dataset_v1.2/S09/data/set5/a1o.htm  \n",
            "  inflating: Question_Answer_Dataset_v1.2/S09/data/set5/a2.htm  \n",
            "  inflating: Question_Answer_Dataset_v1.2/S09/data/set5/a2.txt  \n",
            "  inflating: Question_Answer_Dataset_v1.2/S09/data/set5/a2.txt.clean  \n",
            "  inflating: Question_Answer_Dataset_v1.2/S09/data/set5/a2o.htm  \n",
            "  inflating: Question_Answer_Dataset_v1.2/S09/data/set5/a3.htm  \n",
            "  inflating: Question_Answer_Dataset_v1.2/S09/data/set5/a3.txt  \n",
            "  inflating: Question_Answer_Dataset_v1.2/S09/data/set5/a3.txt.clean  \n",
            "  inflating: Question_Answer_Dataset_v1.2/S09/data/set5/a3o.htm  \n",
            "  inflating: Question_Answer_Dataset_v1.2/S09/data/set5/a4.htm  \n",
            "  inflating: Question_Answer_Dataset_v1.2/S09/data/set5/a4.txt  \n",
            "  inflating: Question_Answer_Dataset_v1.2/S09/data/set5/a4.txt.clean  \n",
            "  inflating: Question_Answer_Dataset_v1.2/S09/data/set5/a4o.htm  \n",
            "  inflating: Question_Answer_Dataset_v1.2/S09/data/set5/a5.htm  \n",
            "  inflating: Question_Answer_Dataset_v1.2/S09/data/set5/a5.txt  \n",
            "  inflating: Question_Answer_Dataset_v1.2/S09/data/set5/a5.txt.clean  \n",
            "  inflating: Question_Answer_Dataset_v1.2/S09/data/set5/a5o.htm  \n",
            "  inflating: Question_Answer_Dataset_v1.2/S09/data/set5/a6.htm  \n",
            "  inflating: Question_Answer_Dataset_v1.2/S09/data/set5/a6.txt  \n",
            "  inflating: Question_Answer_Dataset_v1.2/S09/data/set5/a6.txt.clean  \n",
            "  inflating: Question_Answer_Dataset_v1.2/S09/data/set5/a6o.htm  \n",
            "  inflating: Question_Answer_Dataset_v1.2/S09/data/set5/a7.htm  \n",
            "  inflating: Question_Answer_Dataset_v1.2/S09/data/set5/a7.txt  \n",
            "  inflating: Question_Answer_Dataset_v1.2/S09/data/set5/a7.txt.clean  \n",
            "  inflating: Question_Answer_Dataset_v1.2/S09/data/set5/a7o.htm  \n",
            "  inflating: Question_Answer_Dataset_v1.2/S09/data/set5/a8.htm  \n",
            "  inflating: Question_Answer_Dataset_v1.2/S09/data/set5/a8.txt  \n",
            "  inflating: Question_Answer_Dataset_v1.2/S09/data/set5/a8.txt.clean  \n",
            "  inflating: Question_Answer_Dataset_v1.2/S09/data/set5/a8o.htm  \n",
            "  inflating: Question_Answer_Dataset_v1.2/S09/data/set5/a9.htm  \n",
            "  inflating: Question_Answer_Dataset_v1.2/S09/data/set5/a9.txt  \n",
            "  inflating: Question_Answer_Dataset_v1.2/S09/data/set5/a9.txt.clean  \n",
            "  inflating: Question_Answer_Dataset_v1.2/S09/data/set5/a9o.htm  \n",
            "  inflating: Question_Answer_Dataset_v1.2/S09/data/set5/topics.txt  \n",
            "  inflating: Question_Answer_Dataset_v1.2/S09/question_answer_pairs.txt  \n",
            "  inflating: Question_Answer_Dataset_v1.2/S10/data/set1/a1.htm  \n",
            "  inflating: Question_Answer_Dataset_v1.2/S10/data/set1/a1.txt  \n",
            "  inflating: Question_Answer_Dataset_v1.2/S10/data/set1/a1.txt.clean  \n",
            "  inflating: Question_Answer_Dataset_v1.2/S10/data/set1/a10.htm  \n",
            "  inflating: Question_Answer_Dataset_v1.2/S10/data/set1/a10.txt  \n",
            "  inflating: Question_Answer_Dataset_v1.2/S10/data/set1/a10.txt.clean  \n",
            "  inflating: Question_Answer_Dataset_v1.2/S10/data/set1/a10o.htm  \n",
            "  inflating: Question_Answer_Dataset_v1.2/S10/data/set1/a1o.htm  \n",
            "  inflating: Question_Answer_Dataset_v1.2/S10/data/set1/a2.htm  \n",
            "  inflating: Question_Answer_Dataset_v1.2/S10/data/set1/a2.txt  \n",
            "  inflating: Question_Answer_Dataset_v1.2/S10/data/set1/a2.txt.clean  \n",
            "  inflating: Question_Answer_Dataset_v1.2/S10/data/set1/a2o.htm  \n",
            "  inflating: Question_Answer_Dataset_v1.2/S10/data/set1/a3.htm  \n",
            "  inflating: Question_Answer_Dataset_v1.2/S10/data/set1/a3.txt  \n",
            "  inflating: Question_Answer_Dataset_v1.2/S10/data/set1/a3.txt.clean  \n",
            "  inflating: Question_Answer_Dataset_v1.2/S10/data/set1/a3o.htm  \n",
            "  inflating: Question_Answer_Dataset_v1.2/S10/data/set1/a4.htm  \n",
            "  inflating: Question_Answer_Dataset_v1.2/S10/data/set1/a4.txt  \n",
            "  inflating: Question_Answer_Dataset_v1.2/S10/data/set1/a4.txt.clean  \n",
            "  inflating: Question_Answer_Dataset_v1.2/S10/data/set1/a4o.htm  \n",
            "  inflating: Question_Answer_Dataset_v1.2/S10/data/set1/a5.htm  \n",
            "  inflating: Question_Answer_Dataset_v1.2/S10/data/set1/a5.txt  \n",
            "  inflating: Question_Answer_Dataset_v1.2/S10/data/set1/a5.txt.clean  \n",
            "  inflating: Question_Answer_Dataset_v1.2/S10/data/set1/a5o.htm  \n",
            "  inflating: Question_Answer_Dataset_v1.2/S10/data/set1/a6.htm  \n",
            "  inflating: Question_Answer_Dataset_v1.2/S10/data/set1/a6.txt  \n",
            "  inflating: Question_Answer_Dataset_v1.2/S10/data/set1/a6.txt.clean  \n",
            "  inflating: Question_Answer_Dataset_v1.2/S10/data/set1/a6o.htm  \n",
            "  inflating: Question_Answer_Dataset_v1.2/S10/data/set1/a7.htm  \n",
            "  inflating: Question_Answer_Dataset_v1.2/S10/data/set1/a7.txt  \n",
            "  inflating: Question_Answer_Dataset_v1.2/S10/data/set1/a7.txt.clean  \n",
            "  inflating: Question_Answer_Dataset_v1.2/S10/data/set1/a7o.htm  \n",
            "  inflating: Question_Answer_Dataset_v1.2/S10/data/set1/a8.htm  \n",
            "  inflating: Question_Answer_Dataset_v1.2/S10/data/set1/a8.txt  \n",
            "  inflating: Question_Answer_Dataset_v1.2/S10/data/set1/a8.txt.clean  \n",
            "  inflating: Question_Answer_Dataset_v1.2/S10/data/set1/a8o.htm  \n",
            "  inflating: Question_Answer_Dataset_v1.2/S10/data/set1/a9.htm  \n",
            "  inflating: Question_Answer_Dataset_v1.2/S10/data/set1/a9.txt  \n",
            "  inflating: Question_Answer_Dataset_v1.2/S10/data/set1/a9.txt.clean  \n",
            "  inflating: Question_Answer_Dataset_v1.2/S10/data/set1/a9o.htm  \n",
            "  inflating: Question_Answer_Dataset_v1.2/S10/data/set1/topics.txt  \n",
            "  inflating: Question_Answer_Dataset_v1.2/S10/data/set2/a1.htm  \n",
            "  inflating: Question_Answer_Dataset_v1.2/S10/data/set2/a1.txt  \n",
            "  inflating: Question_Answer_Dataset_v1.2/S10/data/set2/a1.txt.clean  \n",
            "  inflating: Question_Answer_Dataset_v1.2/S10/data/set2/a10.htm  \n",
            "  inflating: Question_Answer_Dataset_v1.2/S10/data/set2/a10.txt  \n",
            "  inflating: Question_Answer_Dataset_v1.2/S10/data/set2/a10.txt.clean  \n",
            "  inflating: Question_Answer_Dataset_v1.2/S10/data/set2/a10o.htm  \n",
            "  inflating: Question_Answer_Dataset_v1.2/S10/data/set2/a1o.htm  \n",
            "  inflating: Question_Answer_Dataset_v1.2/S10/data/set2/a2.htm  \n",
            "  inflating: Question_Answer_Dataset_v1.2/S10/data/set2/a2.txt  \n",
            "  inflating: Question_Answer_Dataset_v1.2/S10/data/set2/a2.txt.clean  \n",
            "  inflating: Question_Answer_Dataset_v1.2/S10/data/set2/a2o.htm  \n",
            "  inflating: Question_Answer_Dataset_v1.2/S10/data/set2/a3.htm  \n",
            "  inflating: Question_Answer_Dataset_v1.2/S10/data/set2/a3.txt  \n",
            "  inflating: Question_Answer_Dataset_v1.2/S10/data/set2/a3.txt.clean  \n",
            "  inflating: Question_Answer_Dataset_v1.2/S10/data/set2/a3o.htm  \n",
            "  inflating: Question_Answer_Dataset_v1.2/S10/data/set2/a4.htm  \n",
            "  inflating: Question_Answer_Dataset_v1.2/S10/data/set2/a4.txt  \n",
            "  inflating: Question_Answer_Dataset_v1.2/S10/data/set2/a4.txt.clean  \n",
            "  inflating: Question_Answer_Dataset_v1.2/S10/data/set2/a4o.htm  \n",
            "  inflating: Question_Answer_Dataset_v1.2/S10/data/set2/a5.htm  \n",
            "  inflating: Question_Answer_Dataset_v1.2/S10/data/set2/a5.txt  \n",
            "  inflating: Question_Answer_Dataset_v1.2/S10/data/set2/a5.txt.clean  \n",
            "  inflating: Question_Answer_Dataset_v1.2/S10/data/set2/a5o.htm  \n",
            "  inflating: Question_Answer_Dataset_v1.2/S10/data/set2/a6.htm  \n",
            "  inflating: Question_Answer_Dataset_v1.2/S10/data/set2/a6.txt  \n",
            "  inflating: Question_Answer_Dataset_v1.2/S10/data/set2/a6.txt.clean  \n",
            "  inflating: Question_Answer_Dataset_v1.2/S10/data/set2/a6o.htm  \n",
            "  inflating: Question_Answer_Dataset_v1.2/S10/data/set2/a7.htm  \n",
            "  inflating: Question_Answer_Dataset_v1.2/S10/data/set2/a7.txt  \n",
            "  inflating: Question_Answer_Dataset_v1.2/S10/data/set2/a7.txt.clean  \n",
            "  inflating: Question_Answer_Dataset_v1.2/S10/data/set2/a7o.htm  \n",
            "  inflating: Question_Answer_Dataset_v1.2/S10/data/set2/a8.htm  \n",
            "  inflating: Question_Answer_Dataset_v1.2/S10/data/set2/a8.txt  \n",
            "  inflating: Question_Answer_Dataset_v1.2/S10/data/set2/a8.txt.clean  \n",
            "  inflating: Question_Answer_Dataset_v1.2/S10/data/set2/a8o.htm  \n",
            "  inflating: Question_Answer_Dataset_v1.2/S10/data/set2/a9.htm  \n",
            "  inflating: Question_Answer_Dataset_v1.2/S10/data/set2/a9.txt  \n",
            "  inflating: Question_Answer_Dataset_v1.2/S10/data/set2/a9.txt.clean  \n",
            "  inflating: Question_Answer_Dataset_v1.2/S10/data/set2/a9o.htm  \n",
            "  inflating: Question_Answer_Dataset_v1.2/S10/data/set2/topics.txt  \n",
            "  inflating: Question_Answer_Dataset_v1.2/S10/data/set3/a1.htm  \n",
            "  inflating: Question_Answer_Dataset_v1.2/S10/data/set3/a1.txt  \n",
            "  inflating: Question_Answer_Dataset_v1.2/S10/data/set3/a1.txt.clean  \n",
            "  inflating: Question_Answer_Dataset_v1.2/S10/data/set3/a10.htm  \n",
            "  inflating: Question_Answer_Dataset_v1.2/S10/data/set3/a10.txt  \n",
            "  inflating: Question_Answer_Dataset_v1.2/S10/data/set3/a10.txt.clean  \n",
            "  inflating: Question_Answer_Dataset_v1.2/S10/data/set3/a10o.htm  \n",
            "  inflating: Question_Answer_Dataset_v1.2/S10/data/set3/a1o.htm  \n",
            "  inflating: Question_Answer_Dataset_v1.2/S10/data/set3/a2.htm  \n",
            "  inflating: Question_Answer_Dataset_v1.2/S10/data/set3/a2.txt  \n",
            "  inflating: Question_Answer_Dataset_v1.2/S10/data/set3/a2.txt.clean  \n",
            "  inflating: Question_Answer_Dataset_v1.2/S10/data/set3/a2o.htm  \n",
            "  inflating: Question_Answer_Dataset_v1.2/S10/data/set3/a3.htm  \n",
            "  inflating: Question_Answer_Dataset_v1.2/S10/data/set3/a3.txt  \n",
            "  inflating: Question_Answer_Dataset_v1.2/S10/data/set3/a3.txt.clean  \n",
            "  inflating: Question_Answer_Dataset_v1.2/S10/data/set3/a3o.htm  \n",
            "  inflating: Question_Answer_Dataset_v1.2/S10/data/set3/a4.htm  \n",
            "  inflating: Question_Answer_Dataset_v1.2/S10/data/set3/a4.txt  \n",
            "  inflating: Question_Answer_Dataset_v1.2/S10/data/set3/a4.txt.clean  \n",
            "  inflating: Question_Answer_Dataset_v1.2/S10/data/set3/a4o.htm  \n",
            "  inflating: Question_Answer_Dataset_v1.2/S10/data/set3/a5.htm  \n",
            "  inflating: Question_Answer_Dataset_v1.2/S10/data/set3/a5.txt  \n",
            "  inflating: Question_Answer_Dataset_v1.2/S10/data/set3/a5.txt.clean  \n",
            "  inflating: Question_Answer_Dataset_v1.2/S10/data/set3/a5o.htm  \n",
            "  inflating: Question_Answer_Dataset_v1.2/S10/data/set3/a6.htm  \n",
            "  inflating: Question_Answer_Dataset_v1.2/S10/data/set3/a6.txt  \n",
            "  inflating: Question_Answer_Dataset_v1.2/S10/data/set3/a6.txt.clean  \n",
            "  inflating: Question_Answer_Dataset_v1.2/S10/data/set3/a6o.htm  \n",
            "  inflating: Question_Answer_Dataset_v1.2/S10/data/set3/a7.htm  \n",
            "  inflating: Question_Answer_Dataset_v1.2/S10/data/set3/a7.txt  \n",
            "  inflating: Question_Answer_Dataset_v1.2/S10/data/set3/a7.txt.clean  \n",
            "  inflating: Question_Answer_Dataset_v1.2/S10/data/set3/a7o.htm  \n",
            "  inflating: Question_Answer_Dataset_v1.2/S10/data/set3/a8.htm  \n",
            "  inflating: Question_Answer_Dataset_v1.2/S10/data/set3/a8.txt  \n",
            "  inflating: Question_Answer_Dataset_v1.2/S10/data/set3/a8.txt.clean  \n",
            "  inflating: Question_Answer_Dataset_v1.2/S10/data/set3/a8o.htm  \n",
            "  inflating: Question_Answer_Dataset_v1.2/S10/data/set3/a9.htm  \n",
            "  inflating: Question_Answer_Dataset_v1.2/S10/data/set3/a9.txt  \n",
            "  inflating: Question_Answer_Dataset_v1.2/S10/data/set3/a9.txt.clean  \n",
            "  inflating: Question_Answer_Dataset_v1.2/S10/data/set3/a9o.htm  \n",
            "  inflating: Question_Answer_Dataset_v1.2/S10/data/set3/topics.txt  \n",
            "  inflating: Question_Answer_Dataset_v1.2/S10/data/set4/a1.htm  \n",
            "  inflating: Question_Answer_Dataset_v1.2/S10/data/set4/a1.txt  \n",
            "  inflating: Question_Answer_Dataset_v1.2/S10/data/set4/a1.txt.clean  \n",
            "  inflating: Question_Answer_Dataset_v1.2/S10/data/set4/a10.htm  \n",
            "  inflating: Question_Answer_Dataset_v1.2/S10/data/set4/a10.txt  \n",
            "  inflating: Question_Answer_Dataset_v1.2/S10/data/set4/a10.txt.clean  \n",
            "  inflating: Question_Answer_Dataset_v1.2/S10/data/set4/a10o.htm  \n",
            "  inflating: Question_Answer_Dataset_v1.2/S10/data/set4/a1o.htm  \n",
            "  inflating: Question_Answer_Dataset_v1.2/S10/data/set4/a2.htm  \n",
            "  inflating: Question_Answer_Dataset_v1.2/S10/data/set4/a2.txt  \n",
            "  inflating: Question_Answer_Dataset_v1.2/S10/data/set4/a2.txt.clean  \n",
            "  inflating: Question_Answer_Dataset_v1.2/S10/data/set4/a2o.htm  \n",
            "  inflating: Question_Answer_Dataset_v1.2/S10/data/set4/a3.htm  \n",
            "  inflating: Question_Answer_Dataset_v1.2/S10/data/set4/a3.txt  \n",
            "  inflating: Question_Answer_Dataset_v1.2/S10/data/set4/a3.txt.clean  \n",
            "  inflating: Question_Answer_Dataset_v1.2/S10/data/set4/a3o.htm  \n",
            "  inflating: Question_Answer_Dataset_v1.2/S10/data/set4/a4.htm  \n",
            "  inflating: Question_Answer_Dataset_v1.2/S10/data/set4/a4.txt  \n",
            "  inflating: Question_Answer_Dataset_v1.2/S10/data/set4/a4.txt.clean  \n",
            "  inflating: Question_Answer_Dataset_v1.2/S10/data/set4/a4o.htm  \n",
            "  inflating: Question_Answer_Dataset_v1.2/S10/data/set4/a5.htm  \n",
            "  inflating: Question_Answer_Dataset_v1.2/S10/data/set4/a5.txt  \n",
            "  inflating: Question_Answer_Dataset_v1.2/S10/data/set4/a5.txt.clean  \n",
            "  inflating: Question_Answer_Dataset_v1.2/S10/data/set4/a5o.htm  \n",
            "  inflating: Question_Answer_Dataset_v1.2/S10/data/set4/a6.htm  \n",
            "  inflating: Question_Answer_Dataset_v1.2/S10/data/set4/a6.txt  \n",
            "  inflating: Question_Answer_Dataset_v1.2/S10/data/set4/a6.txt.clean  \n",
            "  inflating: Question_Answer_Dataset_v1.2/S10/data/set4/a6o.htm  \n",
            "  inflating: Question_Answer_Dataset_v1.2/S10/data/set4/a7.htm  \n",
            "  inflating: Question_Answer_Dataset_v1.2/S10/data/set4/a7.txt  \n",
            "  inflating: Question_Answer_Dataset_v1.2/S10/data/set4/a7.txt.clean  \n",
            "  inflating: Question_Answer_Dataset_v1.2/S10/data/set4/a7o.htm  \n",
            "  inflating: Question_Answer_Dataset_v1.2/S10/data/set4/a8.htm  \n",
            "  inflating: Question_Answer_Dataset_v1.2/S10/data/set4/a8.txt  \n",
            "  inflating: Question_Answer_Dataset_v1.2/S10/data/set4/a8.txt.clean  \n",
            "  inflating: Question_Answer_Dataset_v1.2/S10/data/set4/a8o.htm  \n",
            "  inflating: Question_Answer_Dataset_v1.2/S10/data/set4/a9.htm  \n",
            "  inflating: Question_Answer_Dataset_v1.2/S10/data/set4/a9.txt  \n",
            "  inflating: Question_Answer_Dataset_v1.2/S10/data/set4/a9.txt.clean  \n",
            "  inflating: Question_Answer_Dataset_v1.2/S10/data/set4/a9o.htm  \n",
            "  inflating: Question_Answer_Dataset_v1.2/S10/data/set4/topics.txt  \n",
            "  inflating: Question_Answer_Dataset_v1.2/S10/data/set5/a1.htm  \n",
            "  inflating: Question_Answer_Dataset_v1.2/S10/data/set5/a1.txt  \n",
            "  inflating: Question_Answer_Dataset_v1.2/S10/data/set5/a1.txt.clean  \n",
            "  inflating: Question_Answer_Dataset_v1.2/S10/data/set5/a10.htm  \n",
            "  inflating: Question_Answer_Dataset_v1.2/S10/data/set5/a10.txt  \n",
            "  inflating: Question_Answer_Dataset_v1.2/S10/data/set5/a10.txt.clean  \n",
            "  inflating: Question_Answer_Dataset_v1.2/S10/data/set5/a10o.htm  \n",
            "  inflating: Question_Answer_Dataset_v1.2/S10/data/set5/a1o.htm  \n",
            "  inflating: Question_Answer_Dataset_v1.2/S10/data/set5/a2.htm  \n",
            "  inflating: Question_Answer_Dataset_v1.2/S10/data/set5/a2.txt  \n",
            "  inflating: Question_Answer_Dataset_v1.2/S10/data/set5/a2.txt.clean  \n",
            "  inflating: Question_Answer_Dataset_v1.2/S10/data/set5/a2o.htm  \n",
            "  inflating: Question_Answer_Dataset_v1.2/S10/data/set5/a3.htm  \n",
            "  inflating: Question_Answer_Dataset_v1.2/S10/data/set5/a3.txt  \n",
            "  inflating: Question_Answer_Dataset_v1.2/S10/data/set5/a3.txt.clean  \n",
            "  inflating: Question_Answer_Dataset_v1.2/S10/data/set5/a3o.htm  \n",
            "  inflating: Question_Answer_Dataset_v1.2/S10/data/set5/a4.htm  \n",
            "  inflating: Question_Answer_Dataset_v1.2/S10/data/set5/a4.txt  \n",
            "  inflating: Question_Answer_Dataset_v1.2/S10/data/set5/a4.txt.clean  \n",
            "  inflating: Question_Answer_Dataset_v1.2/S10/data/set5/a4o.htm  \n",
            "  inflating: Question_Answer_Dataset_v1.2/S10/data/set5/a5.htm  \n",
            "  inflating: Question_Answer_Dataset_v1.2/S10/data/set5/a5.txt  \n",
            "  inflating: Question_Answer_Dataset_v1.2/S10/data/set5/a5.txt.clean  \n",
            "  inflating: Question_Answer_Dataset_v1.2/S10/data/set5/a5o.htm  \n",
            "  inflating: Question_Answer_Dataset_v1.2/S10/data/set5/a6.htm  \n",
            "  inflating: Question_Answer_Dataset_v1.2/S10/data/set5/a6.txt  \n",
            "  inflating: Question_Answer_Dataset_v1.2/S10/data/set5/a6.txt.clean  \n",
            "  inflating: Question_Answer_Dataset_v1.2/S10/data/set5/a6o.htm  \n",
            "  inflating: Question_Answer_Dataset_v1.2/S10/data/set5/a7.htm  \n",
            "  inflating: Question_Answer_Dataset_v1.2/S10/data/set5/a7.txt  \n",
            "  inflating: Question_Answer_Dataset_v1.2/S10/data/set5/a7.txt.clean  \n",
            "  inflating: Question_Answer_Dataset_v1.2/S10/data/set5/a7o.htm  \n",
            "  inflating: Question_Answer_Dataset_v1.2/S10/data/set5/a8.htm  \n",
            "  inflating: Question_Answer_Dataset_v1.2/S10/data/set5/a8.txt  \n",
            "  inflating: Question_Answer_Dataset_v1.2/S10/data/set5/a8.txt.clean  \n",
            "  inflating: Question_Answer_Dataset_v1.2/S10/data/set5/a8o.htm  \n",
            "  inflating: Question_Answer_Dataset_v1.2/S10/data/set5/a9.htm  \n",
            "  inflating: Question_Answer_Dataset_v1.2/S10/data/set5/a9.txt  \n",
            "  inflating: Question_Answer_Dataset_v1.2/S10/data/set5/a9.txt.clean  \n",
            "  inflating: Question_Answer_Dataset_v1.2/S10/data/set5/a9o.htm  \n",
            "  inflating: Question_Answer_Dataset_v1.2/S10/data/set5/topics.txt  \n",
            "  inflating: Question_Answer_Dataset_v1.2/S10/data/set6/a1.htm  \n",
            "  inflating: Question_Answer_Dataset_v1.2/S10/data/set6/a1.txt  \n",
            "  inflating: Question_Answer_Dataset_v1.2/S10/data/set6/a1.txt.clean  \n",
            "  inflating: Question_Answer_Dataset_v1.2/S10/data/set6/a10.htm  \n",
            "  inflating: Question_Answer_Dataset_v1.2/S10/data/set6/a10.txt  \n",
            "  inflating: Question_Answer_Dataset_v1.2/S10/data/set6/a10.txt.clean  \n",
            "  inflating: Question_Answer_Dataset_v1.2/S10/data/set6/a10o.htm  \n",
            "  inflating: Question_Answer_Dataset_v1.2/S10/data/set6/a1o.htm  \n",
            "  inflating: Question_Answer_Dataset_v1.2/S10/data/set6/a2.htm  \n",
            "  inflating: Question_Answer_Dataset_v1.2/S10/data/set6/a2.txt  \n",
            "  inflating: Question_Answer_Dataset_v1.2/S10/data/set6/a2.txt.clean  \n",
            "  inflating: Question_Answer_Dataset_v1.2/S10/data/set6/a2o.htm  \n",
            "  inflating: Question_Answer_Dataset_v1.2/S10/data/set6/a3.htm  \n",
            "  inflating: Question_Answer_Dataset_v1.2/S10/data/set6/a3.txt  \n",
            "  inflating: Question_Answer_Dataset_v1.2/S10/data/set6/a3.txt.clean  \n",
            "  inflating: Question_Answer_Dataset_v1.2/S10/data/set6/a3o.htm  \n",
            "  inflating: Question_Answer_Dataset_v1.2/S10/data/set6/a4.htm  \n",
            "  inflating: Question_Answer_Dataset_v1.2/S10/data/set6/a4.txt  \n",
            "  inflating: Question_Answer_Dataset_v1.2/S10/data/set6/a4.txt.clean  \n",
            "  inflating: Question_Answer_Dataset_v1.2/S10/data/set6/a4o.htm  \n",
            "  inflating: Question_Answer_Dataset_v1.2/S10/data/set6/a5.htm  \n",
            "  inflating: Question_Answer_Dataset_v1.2/S10/data/set6/a5.txt  \n",
            "  inflating: Question_Answer_Dataset_v1.2/S10/data/set6/a5.txt.clean  \n",
            "  inflating: Question_Answer_Dataset_v1.2/S10/data/set6/a5o.htm  \n",
            "  inflating: Question_Answer_Dataset_v1.2/S10/data/set6/a6.htm  \n",
            "  inflating: Question_Answer_Dataset_v1.2/S10/data/set6/a6.txt  \n",
            "  inflating: Question_Answer_Dataset_v1.2/S10/data/set6/a6.txt.clean  \n",
            "  inflating: Question_Answer_Dataset_v1.2/S10/data/set6/a6o.htm  \n",
            "  inflating: Question_Answer_Dataset_v1.2/S10/data/set6/a7.htm  \n",
            "  inflating: Question_Answer_Dataset_v1.2/S10/data/set6/a7.txt  \n",
            "  inflating: Question_Answer_Dataset_v1.2/S10/data/set6/a7.txt.clean  \n",
            "  inflating: Question_Answer_Dataset_v1.2/S10/data/set6/a7o.htm  \n",
            "  inflating: Question_Answer_Dataset_v1.2/S10/data/set6/a8.htm  \n",
            "  inflating: Question_Answer_Dataset_v1.2/S10/data/set6/a8.txt  \n",
            "  inflating: Question_Answer_Dataset_v1.2/S10/data/set6/a8.txt.clean  \n",
            "  inflating: Question_Answer_Dataset_v1.2/S10/data/set6/a8o.htm  \n",
            "  inflating: Question_Answer_Dataset_v1.2/S10/data/set6/a9.htm  \n",
            "  inflating: Question_Answer_Dataset_v1.2/S10/data/set6/a9.txt  \n",
            "  inflating: Question_Answer_Dataset_v1.2/S10/data/set6/a9.txt.clean  \n",
            "  inflating: Question_Answer_Dataset_v1.2/S10/data/set6/a9o.htm  \n",
            "  inflating: Question_Answer_Dataset_v1.2/S10/data/set6/topics.txt  \n",
            "  inflating: Question_Answer_Dataset_v1.2/S10/question_answer_pairs.txt  \n"
          ],
          "name": "stdout"
        }
      ]
    },
    {
      "cell_type": "code",
      "metadata": {
        "id": "Eb4KClfXl0mf"
      },
      "source": [
        "import os\r\n",
        "import math\r\n",
        "import time\r\n",
        "import random\r\n",
        "\r\n",
        "import pandas as pd\r\n",
        "import numpy as np\r\n",
        "\r\n",
        "import torchtext\r\n",
        "import torch\r\n",
        "from torch import nn\r\n",
        "from torchtext import data \r\n",
        "import torch.optim as optim\r\n",
        "from torchtext.data import Field, BucketIterator\r\n",
        "import spacy\r\n",
        "\r\n",
        "\r\n",
        "\r\n",
        "from IPython.core.interactiveshell import InteractiveShell\r\n",
        "InteractiveShell.ast_node_interactivity = \"all\""
      ],
      "execution_count": 8,
      "outputs": []
    },
    {
      "cell_type": "code",
      "metadata": {
        "id": "AdfgzGXPl0jC"
      },
      "source": [
        "def seed_everything(seed_value):\r\n",
        "    random.seed(seed_value)\r\n",
        "    np.random.seed(seed_value)\r\n",
        "    torch.manual_seed(seed_value)\r\n",
        "    os.environ['PYTHONHASHSEED'] = str(seed_value)\r\n",
        "    \r\n",
        "    if torch.cuda.is_available(): \r\n",
        "        torch.cuda.manual_seed(seed_value)\r\n",
        "        torch.cuda.manual_seed_all(seed_value)\r\n",
        "        torch.backends.cudnn.deterministic = True\r\n",
        "        torch.backends.cudnn.benchmark = False\r\n",
        "        \r\n",
        "seed_everything(42)"
      ],
      "execution_count": 9,
      "outputs": []
    },
    {
      "cell_type": "markdown",
      "metadata": {
        "id": "c125yPZO8uJK"
      },
      "source": [
        "There are three directories, one for each year of students: S08, S09, and S10. The file \"question_answer_pairs.txt\" contains the questions and answers. The first line of the file contains \r\n",
        "column names for the tab-separated data fields in the file. This first line follows:\r\n",
        "\r\n",
        "We will extract the question and answers from all the three files and concatenate"
      ]
    },
    {
      "cell_type": "code",
      "metadata": {
        "id": "EGE6as9s23FW",
        "colab": {
          "base_uri": "https://localhost:8080/"
        },
        "outputId": "59dd665e-72ae-48cd-9737-2a37395fbf5c"
      },
      "source": [
        "df1 = pd.read_csv(\"./Question_Answer_Dataset_v1.2/S08/question_answer_pairs.txt\",sep=\"\\t\",engine='python')\r\n",
        "df2 = pd.read_csv(\"./Question_Answer_Dataset_v1.2/S09/question_answer_pairs.txt\",sep=\"\\t\",engine='python')\r\n",
        "df3 = pd.read_csv(\"./Question_Answer_Dataset_v1.2/S10/question_answer_pairs.txt\",sep=\"\\t\",engine='python',quotechar='\"', error_bad_lines=False)"
      ],
      "execution_count": 10,
      "outputs": [
        {
          "output_type": "stream",
          "text": [
            "Skipping line 765: '\t' expected after '\"'\n",
            "Skipping line 876: '\t' expected after '\"'\n",
            "Skipping line 1219: '\t' expected after '\"'\n"
          ],
          "name": "stderr"
        }
      ]
    },
    {
      "cell_type": "code",
      "metadata": {
        "id": "uMz8avsr3-EB"
      },
      "source": [
        "df = pd.concat([df1, df2, df3], axis=0, ignore_index=True)"
      ],
      "execution_count": 11,
      "outputs": []
    },
    {
      "cell_type": "code",
      "metadata": {
        "id": "7xHeurgBfqdY",
        "colab": {
          "base_uri": "https://localhost:8080/",
          "height": 202
        },
        "outputId": "35472e50-a914-4ca7-932b-4c8095801eec"
      },
      "source": [
        "df.head()"
      ],
      "execution_count": 12,
      "outputs": [
        {
          "output_type": "execute_result",
          "data": {
            "text/html": [
              "<div>\n",
              "<style scoped>\n",
              "    .dataframe tbody tr th:only-of-type {\n",
              "        vertical-align: middle;\n",
              "    }\n",
              "\n",
              "    .dataframe tbody tr th {\n",
              "        vertical-align: top;\n",
              "    }\n",
              "\n",
              "    .dataframe thead th {\n",
              "        text-align: right;\n",
              "    }\n",
              "</style>\n",
              "<table border=\"1\" class=\"dataframe\">\n",
              "  <thead>\n",
              "    <tr style=\"text-align: right;\">\n",
              "      <th></th>\n",
              "      <th>ArticleTitle</th>\n",
              "      <th>Question</th>\n",
              "      <th>Answer</th>\n",
              "      <th>DifficultyFromQuestioner</th>\n",
              "      <th>DifficultyFromAnswerer</th>\n",
              "      <th>ArticleFile</th>\n",
              "    </tr>\n",
              "  </thead>\n",
              "  <tbody>\n",
              "    <tr>\n",
              "      <th>0</th>\n",
              "      <td>Abraham_Lincoln</td>\n",
              "      <td>Was Abraham Lincoln the sixteenth President of...</td>\n",
              "      <td>yes</td>\n",
              "      <td>easy</td>\n",
              "      <td>easy</td>\n",
              "      <td>data/set3/a4</td>\n",
              "    </tr>\n",
              "    <tr>\n",
              "      <th>1</th>\n",
              "      <td>Abraham_Lincoln</td>\n",
              "      <td>Was Abraham Lincoln the sixteenth President of...</td>\n",
              "      <td>Yes.</td>\n",
              "      <td>easy</td>\n",
              "      <td>easy</td>\n",
              "      <td>data/set3/a4</td>\n",
              "    </tr>\n",
              "    <tr>\n",
              "      <th>2</th>\n",
              "      <td>Abraham_Lincoln</td>\n",
              "      <td>Did Lincoln sign the National Banking Act of 1...</td>\n",
              "      <td>yes</td>\n",
              "      <td>easy</td>\n",
              "      <td>medium</td>\n",
              "      <td>data/set3/a4</td>\n",
              "    </tr>\n",
              "    <tr>\n",
              "      <th>3</th>\n",
              "      <td>Abraham_Lincoln</td>\n",
              "      <td>Did Lincoln sign the National Banking Act of 1...</td>\n",
              "      <td>Yes.</td>\n",
              "      <td>easy</td>\n",
              "      <td>easy</td>\n",
              "      <td>data/set3/a4</td>\n",
              "    </tr>\n",
              "    <tr>\n",
              "      <th>4</th>\n",
              "      <td>Abraham_Lincoln</td>\n",
              "      <td>Did his mother die of pneumonia?</td>\n",
              "      <td>no</td>\n",
              "      <td>easy</td>\n",
              "      <td>medium</td>\n",
              "      <td>data/set3/a4</td>\n",
              "    </tr>\n",
              "  </tbody>\n",
              "</table>\n",
              "</div>"
            ],
            "text/plain": [
              "      ArticleTitle  ...   ArticleFile\n",
              "0  Abraham_Lincoln  ...  data/set3/a4\n",
              "1  Abraham_Lincoln  ...  data/set3/a4\n",
              "2  Abraham_Lincoln  ...  data/set3/a4\n",
              "3  Abraham_Lincoln  ...  data/set3/a4\n",
              "4  Abraham_Lincoln  ...  data/set3/a4\n",
              "\n",
              "[5 rows x 6 columns]"
            ]
          },
          "metadata": {
            "tags": []
          },
          "execution_count": 12
        }
      ]
    },
    {
      "cell_type": "code",
      "metadata": {
        "id": "RSYcUJQawJ7D",
        "colab": {
          "base_uri": "https://localhost:8080/"
        },
        "outputId": "9534d341-e3d6-48b5-b2a4-647b5cc1992e"
      },
      "source": [
        "df.info()"
      ],
      "execution_count": 13,
      "outputs": [
        {
          "output_type": "stream",
          "text": [
            "<class 'pandas.core.frame.DataFrame'>\n",
            "RangeIndex: 3995 entries, 0 to 3994\n",
            "Data columns (total 6 columns):\n",
            " #   Column                    Non-Null Count  Dtype \n",
            "---  ------                    --------------  ----- \n",
            " 0   ArticleTitle              3995 non-null   object\n",
            " 1   Question                  3958 non-null   object\n",
            " 2   Answer                    3419 non-null   object\n",
            " 3   DifficultyFromQuestioner  3041 non-null   object\n",
            " 4   DifficultyFromAnswerer    3415 non-null   object\n",
            " 5   ArticleFile               3993 non-null   object\n",
            "dtypes: object(6)\n",
            "memory usage: 187.4+ KB\n"
          ],
          "name": "stdout"
        }
      ]
    },
    {
      "cell_type": "markdown",
      "metadata": {
        "id": "NqoiwZwk9Uya"
      },
      "source": [
        "Drop the rows which contains nulls values in Question and Answer columns"
      ]
    },
    {
      "cell_type": "code",
      "metadata": {
        "id": "MlnGJCpxvr0T",
        "colab": {
          "base_uri": "https://localhost:8080/",
          "height": 537
        },
        "outputId": "e4718035-c491-461b-837f-9de60e083e2e"
      },
      "source": [
        "df.dropna(subset=['Question','Answer'], inplace=True)\r\n",
        "df.reset_index(drop=True)"
      ],
      "execution_count": 14,
      "outputs": [
        {
          "output_type": "execute_result",
          "data": {
            "text/html": [
              "<div>\n",
              "<style scoped>\n",
              "    .dataframe tbody tr th:only-of-type {\n",
              "        vertical-align: middle;\n",
              "    }\n",
              "\n",
              "    .dataframe tbody tr th {\n",
              "        vertical-align: top;\n",
              "    }\n",
              "\n",
              "    .dataframe thead th {\n",
              "        text-align: right;\n",
              "    }\n",
              "</style>\n",
              "<table border=\"1\" class=\"dataframe\">\n",
              "  <thead>\n",
              "    <tr style=\"text-align: right;\">\n",
              "      <th></th>\n",
              "      <th>ArticleTitle</th>\n",
              "      <th>Question</th>\n",
              "      <th>Answer</th>\n",
              "      <th>DifficultyFromQuestioner</th>\n",
              "      <th>DifficultyFromAnswerer</th>\n",
              "      <th>ArticleFile</th>\n",
              "    </tr>\n",
              "  </thead>\n",
              "  <tbody>\n",
              "    <tr>\n",
              "      <th>0</th>\n",
              "      <td>Abraham_Lincoln</td>\n",
              "      <td>Was Abraham Lincoln the sixteenth President of...</td>\n",
              "      <td>yes</td>\n",
              "      <td>easy</td>\n",
              "      <td>easy</td>\n",
              "      <td>data/set3/a4</td>\n",
              "    </tr>\n",
              "    <tr>\n",
              "      <th>1</th>\n",
              "      <td>Abraham_Lincoln</td>\n",
              "      <td>Was Abraham Lincoln the sixteenth President of...</td>\n",
              "      <td>Yes.</td>\n",
              "      <td>easy</td>\n",
              "      <td>easy</td>\n",
              "      <td>data/set3/a4</td>\n",
              "    </tr>\n",
              "    <tr>\n",
              "      <th>2</th>\n",
              "      <td>Abraham_Lincoln</td>\n",
              "      <td>Did Lincoln sign the National Banking Act of 1...</td>\n",
              "      <td>yes</td>\n",
              "      <td>easy</td>\n",
              "      <td>medium</td>\n",
              "      <td>data/set3/a4</td>\n",
              "    </tr>\n",
              "    <tr>\n",
              "      <th>3</th>\n",
              "      <td>Abraham_Lincoln</td>\n",
              "      <td>Did Lincoln sign the National Banking Act of 1...</td>\n",
              "      <td>Yes.</td>\n",
              "      <td>easy</td>\n",
              "      <td>easy</td>\n",
              "      <td>data/set3/a4</td>\n",
              "    </tr>\n",
              "    <tr>\n",
              "      <th>4</th>\n",
              "      <td>Abraham_Lincoln</td>\n",
              "      <td>Did his mother die of pneumonia?</td>\n",
              "      <td>no</td>\n",
              "      <td>easy</td>\n",
              "      <td>medium</td>\n",
              "      <td>data/set3/a4</td>\n",
              "    </tr>\n",
              "    <tr>\n",
              "      <th>...</th>\n",
              "      <td>...</td>\n",
              "      <td>...</td>\n",
              "      <td>...</td>\n",
              "      <td>...</td>\n",
              "      <td>...</td>\n",
              "      <td>...</td>\n",
              "    </tr>\n",
              "    <tr>\n",
              "      <th>3414</th>\n",
              "      <td>Zebra</td>\n",
              "      <td>What areas do the Grevy's Zebras inhabit?</td>\n",
              "      <td>semi-arid grasslands of Ethiopia and northern ...</td>\n",
              "      <td>hard</td>\n",
              "      <td>hard</td>\n",
              "      <td>data/set1/a9</td>\n",
              "    </tr>\n",
              "    <tr>\n",
              "      <th>3415</th>\n",
              "      <td>Zebra</td>\n",
              "      <td>Which species of zebra is known as the common ...</td>\n",
              "      <td>Plains Zebra (Equus quagga, formerly Equus bur...</td>\n",
              "      <td>hard</td>\n",
              "      <td>medium</td>\n",
              "      <td>data/set1/a9</td>\n",
              "    </tr>\n",
              "    <tr>\n",
              "      <th>3416</th>\n",
              "      <td>Zebra</td>\n",
              "      <td>Which species of zebra is known as the common ...</td>\n",
              "      <td>Plains Zebra</td>\n",
              "      <td>hard</td>\n",
              "      <td>medium</td>\n",
              "      <td>data/set1/a9</td>\n",
              "    </tr>\n",
              "    <tr>\n",
              "      <th>3417</th>\n",
              "      <td>Zebra</td>\n",
              "      <td>At what age can a zebra breed?</td>\n",
              "      <td>five or six</td>\n",
              "      <td>hard</td>\n",
              "      <td>medium</td>\n",
              "      <td>data/set1/a9</td>\n",
              "    </tr>\n",
              "    <tr>\n",
              "      <th>3418</th>\n",
              "      <td>Zebra</td>\n",
              "      <td>At what age can a zebra breed?</td>\n",
              "      <td>5 or 6</td>\n",
              "      <td>hard</td>\n",
              "      <td>hard</td>\n",
              "      <td>data/set1/a9</td>\n",
              "    </tr>\n",
              "  </tbody>\n",
              "</table>\n",
              "<p>3419 rows × 6 columns</p>\n",
              "</div>"
            ],
            "text/plain": [
              "         ArticleTitle  ...   ArticleFile\n",
              "0     Abraham_Lincoln  ...  data/set3/a4\n",
              "1     Abraham_Lincoln  ...  data/set3/a4\n",
              "2     Abraham_Lincoln  ...  data/set3/a4\n",
              "3     Abraham_Lincoln  ...  data/set3/a4\n",
              "4     Abraham_Lincoln  ...  data/set3/a4\n",
              "...               ...  ...           ...\n",
              "3414            Zebra  ...  data/set1/a9\n",
              "3415            Zebra  ...  data/set1/a9\n",
              "3416            Zebra  ...  data/set1/a9\n",
              "3417            Zebra  ...  data/set1/a9\n",
              "3418            Zebra  ...  data/set1/a9\n",
              "\n",
              "[3419 rows x 6 columns]"
            ]
          },
          "metadata": {
            "tags": []
          },
          "execution_count": 14
        }
      ]
    },
    {
      "cell_type": "code",
      "metadata": {
        "id": "VXN0QPGzz0N4",
        "colab": {
          "base_uri": "https://localhost:8080/"
        },
        "outputId": "0549ec5a-d2b9-4e7a-eb52-dcf441878467"
      },
      "source": [
        "df.info()"
      ],
      "execution_count": 15,
      "outputs": [
        {
          "output_type": "stream",
          "text": [
            "<class 'pandas.core.frame.DataFrame'>\n",
            "Int64Index: 3419 entries, 0 to 3994\n",
            "Data columns (total 6 columns):\n",
            " #   Column                    Non-Null Count  Dtype \n",
            "---  ------                    --------------  ----- \n",
            " 0   ArticleTitle              3419 non-null   object\n",
            " 1   Question                  3419 non-null   object\n",
            " 2   Answer                    3419 non-null   object\n",
            " 3   DifficultyFromQuestioner  2732 non-null   object\n",
            " 4   DifficultyFromAnswerer    3414 non-null   object\n",
            " 5   ArticleFile               3417 non-null   object\n",
            "dtypes: object(6)\n",
            "memory usage: 187.0+ KB\n"
          ],
          "name": "stdout"
        }
      ]
    },
    {
      "cell_type": "markdown",
      "metadata": {
        "id": "FIqiCwLi9ziA"
      },
      "source": [
        "Create our fields to process our data. This will append the \"start of sentence\" and \"end of sentence\" tokens as well as converting all words to lowercase."
      ]
    },
    {
      "cell_type": "code",
      "metadata": {
        "id": "mPLXQgHHf1jN"
      },
      "source": [
        "SRC= data.Field(sequential = True, tokenize = 'spacy',init_token='<sos>', \r\n",
        "            eos_token='<eos>', \r\n",
        "            lower=True)\r\n",
        "TRG = data.Field(sequential = True, tokenize = 'spacy',init_token='<sos>', \r\n",
        "            eos_token='<eos>', \r\n",
        "            lower=True)"
      ],
      "execution_count": 16,
      "outputs": []
    },
    {
      "cell_type": "markdown",
      "metadata": {
        "id": "2oFGBpLD-SWN"
      },
      "source": [
        "Having defined those fields, we now need to produce a list that maps them onto the list of rows that are in the CSV:"
      ]
    },
    {
      "cell_type": "code",
      "metadata": {
        "id": "oRu2G06Uu9NT"
      },
      "source": [
        "fields = [('Question', SRC),('Answer',TRG)]"
      ],
      "execution_count": 17,
      "outputs": []
    },
    {
      "cell_type": "markdown",
      "metadata": {
        "id": "456Hn8XE-f0Y"
      },
      "source": [
        "Armed with our declared fields, lets convert from pandas to list to torchtext. "
      ]
    },
    {
      "cell_type": "code",
      "metadata": {
        "id": "D-TlfW5lvDMP"
      },
      "source": [
        "example = [data.Example.fromlist([df.Question.iloc[i],df.Answer.iloc[i]], fields) for i in range(df.shape[0])] "
      ],
      "execution_count": 18,
      "outputs": []
    },
    {
      "cell_type": "markdown",
      "metadata": {
        "id": "sEBSbtg--kLP"
      },
      "source": [
        "Creating dataset"
      ]
    },
    {
      "cell_type": "code",
      "metadata": {
        "id": "OgRNKj2FvNq0"
      },
      "source": [
        "QnADataset = data.Dataset(example, fields)"
      ],
      "execution_count": 19,
      "outputs": []
    },
    {
      "cell_type": "markdown",
      "metadata": {
        "id": "00Dba1Gi-woo"
      },
      "source": [
        "Finally, we can split into training, testing, and validation sets by using the split() method:"
      ]
    },
    {
      "cell_type": "code",
      "metadata": {
        "id": "Fu7F8QEr0hPI"
      },
      "source": [
        "(train_data, valid_data,test_data) = QnADataset.split(split_ratio=[0.80, 0.10,0.10], random_state=random.seed(seed_everything))"
      ],
      "execution_count": 20,
      "outputs": []
    },
    {
      "cell_type": "code",
      "metadata": {
        "id": "lPnEo75S0tt4",
        "colab": {
          "base_uri": "https://localhost:8080/"
        },
        "outputId": "38a58c31-0090-45b1-bf8d-517921e110c1"
      },
      "source": [
        "(len(train_data), len(valid_data),len(test_data))"
      ],
      "execution_count": 21,
      "outputs": [
        {
          "output_type": "execute_result",
          "data": {
            "text/plain": [
              "(2735, 342, 342)"
            ]
          },
          "metadata": {
            "tags": []
          },
          "execution_count": 21
        }
      ]
    },
    {
      "cell_type": "code",
      "metadata": {
        "id": "HmFSDM4S07xn",
        "colab": {
          "base_uri": "https://localhost:8080/"
        },
        "outputId": "0260d57f-923a-4493-bdcb-385e4cdad06d"
      },
      "source": [
        "print(vars(train_data.examples[0]))"
      ],
      "execution_count": 22,
      "outputs": [
        {
          "output_type": "stream",
          "text": [
            "{'Question': ['what', 'part', 'of', 'an', 'elephant', 'is', 'very', 'important', 'for', 'temperature', 'regulation', '?'], 'Answer': ['the', 'large', 'flapping', 'ears', 'of', 'an', 'elephant', 'are', 'also', 'very', 'important', 'for', 'temperature', 'regulation', '.']}\n"
          ],
          "name": "stdout"
        }
      ]
    },
    {
      "cell_type": "markdown",
      "metadata": {
        "id": "rxX5mgk2-8VB"
      },
      "source": [
        "Then create our vocabulary, converting all tokens appearing less than twice into <unk> tokens."
      ]
    },
    {
      "cell_type": "code",
      "metadata": {
        "id": "rpDtuN2p0-K-"
      },
      "source": [
        "SRC.build_vocab(train_data, min_freq = 2)\r\n",
        "TRG.build_vocab(train_data, min_freq = 2)"
      ],
      "execution_count": 23,
      "outputs": []
    },
    {
      "cell_type": "markdown",
      "metadata": {
        "id": "K8EUkcBO--z-"
      },
      "source": [
        "Finally, define the device and create our iterators."
      ]
    },
    {
      "cell_type": "code",
      "metadata": {
        "id": "_-UvpKXg1AkT"
      },
      "source": [
        "device = torch.device('cuda' if torch.cuda.is_available() else 'cpu')"
      ],
      "execution_count": 24,
      "outputs": []
    },
    {
      "cell_type": "code",
      "metadata": {
        "id": "A19rx2ur1DZ9"
      },
      "source": [
        "BATCH_SIZE = 32\r\n",
        "\r\n",
        "train_iterator, valid_iterator, test_iterator = BucketIterator.splits(\r\n",
        "    (train_data, valid_data, test_data), \r\n",
        "    batch_size = BATCH_SIZE,\r\n",
        "    sort_key=lambda x : len(x.Question),\r\n",
        "    sort_within_batch=False, \r\n",
        "    device = device)"
      ],
      "execution_count": 25,
      "outputs": []
    },
    {
      "cell_type": "markdown",
      "metadata": {
        "id": "YVKknZPIER7g"
      },
      "source": [
        "### Building the Seq2Seq Model\r\n",
        "\r\n",
        "\r\n",
        "This is the first model where we don't have to have the encoder RNN and decoder RNN have the same hidden dimensions, however the encoder has to be bidirectional. This requirement can be removed by changing all occurences of `enc_dim * 2` to `enc_dim * 2 if encoder_is_bidirectional else enc_dim`. \r\n",
        "\r\n",
        "This seq2seq encapsulator is similar to the last two. The only difference is that the `encoder` returns both the final hidden state (which is the final hidden state from both the forward and backward encoder RNNs passed through a linear layer) to be used as the initial hidden state for the decoder, as well as every hidden state (which are the forward and backward hidden states stacked on top of each other). We also need to ensure that `hidden` and `encoder_outputs` are passed to the decoder. \r\n",
        "\r\n",
        "Briefly going over all of the steps:\r\n",
        "- the `outputs` tensor is created to hold all predictions, $\\hat{Y}$\r\n",
        "- the source sequence, $X$, is fed into the encoder to receive $z$ and $H$\r\n",
        "- the initial decoder hidden state is set to be the `context` vector, $s_0 = z = h_T$\r\n",
        "- we use a batch of `<sos>` tokens as the first `input`, $y_1$\r\n",
        "- we then decode within a loop:\r\n",
        "  - inserting the input token $y_t$, previous hidden state, $s_{t-1}$, and all encoder outputs, $H$, into the decoder\r\n",
        "  - receiving a prediction, $\\hat{y}_{t+1}$, and a new hidden state, $s_t$\r\n",
        "  - we then decide if we are going to teacher force or not, setting the next input as **appropriate**"
      ]
    },
    {
      "cell_type": "code",
      "metadata": {
        "id": "hYeZdiaO1O5x"
      },
      "source": [
        "class Seq2Seq(nn.Module):\r\n",
        "    def __init__(self, encoder, decoder, device):\r\n",
        "        super().__init__()\r\n",
        "        \r\n",
        "        self.encoder = encoder\r\n",
        "        self.decoder = decoder\r\n",
        "        self.device = device\r\n",
        "        \r\n",
        "    def forward(self, src, trg, teacher_forcing_ratio = 0.5):\r\n",
        "        \r\n",
        "        #src = [src len, batch size]\r\n",
        "        #trg = [trg len, batch size]\r\n",
        "        #teacher_forcing_ratio is probability to use teacher forcing\r\n",
        "        #e.g. if teacher_forcing_ratio is 0.75 we use teacher forcing 75% of the time\r\n",
        "        \r\n",
        "        batch_size = src.shape[1]\r\n",
        "        trg_len = trg.shape[0]\r\n",
        "        trg_vocab_size = self.decoder.output_dim\r\n",
        "        \r\n",
        "        #tensor to store decoder outputs\r\n",
        "        outputs = torch.zeros(trg_len, batch_size, trg_vocab_size).to(self.device)\r\n",
        "        \r\n",
        "        #encoder_outputs is all hidden states of the input sequence, back and forwards\r\n",
        "        #hidden is the final forward and backward hidden states, passed through a linear layer\r\n",
        "        encoder_outputs, hidden = self.encoder(src)\r\n",
        "                \r\n",
        "        #first input to the decoder is the <sos> tokens\r\n",
        "        input = trg[0,:]\r\n",
        "        \r\n",
        "        for t in range(1, trg_len):\r\n",
        "            \r\n",
        "            #insert input token embedding, previous hidden state and all encoder hidden states\r\n",
        "            #receive output tensor (predictions) and new hidden state\r\n",
        "            output, hidden = self.decoder(input, hidden, encoder_outputs)\r\n",
        "            \r\n",
        "            #place predictions in a tensor holding predictions for each token\r\n",
        "            outputs[t] = output\r\n",
        "            \r\n",
        "            #decide if we are going to use teacher forcing or not\r\n",
        "            teacher_force = random.random() < teacher_forcing_ratio\r\n",
        "            \r\n",
        "            #get the highest predicted token from our predictions\r\n",
        "            top1 = output.argmax(1) \r\n",
        "            \r\n",
        "            #if teacher forcing, use actual next token as next input\r\n",
        "            #if not, use predicted token\r\n",
        "            input = trg[t] if teacher_force else top1\r\n",
        "\r\n",
        "        return outputs"
      ],
      "execution_count": 26,
      "outputs": []
    },
    {
      "cell_type": "markdown",
      "metadata": {
        "id": "vOk39y21_C_w"
      },
      "source": [
        "\r\n",
        "### Encoder\r\n",
        "\r\n",
        "First, we'll build the encoder. Similar to the previous model, we only use a single layer GRU, however we now use a *bidirectional RNN*. With a bidirectional RNN, we have two RNNs in each layer. A *forward RNN* going over the embedded sentence from left to right (shown below in green), and a *backward RNN* going over the embedded sentence from right to left (teal). All we need to do in code is set `bidirectional = True` and then pass the embedded sentence to the RNN as before. \r\n",
        "\r\n",
        "![](https://github.com/bentrevett/pytorch-seq2seq/blob/master/assets/seq2seq8.png?raw=1)\r\n",
        "\r\n",
        "We now have:\r\n",
        "\r\n",
        "$$\\begin{align*}\r\n",
        "h_t^\\rightarrow &= \\text{EncoderGRU}^\\rightarrow(e(x_t^\\rightarrow),h_{t-1}^\\rightarrow)\\\\\r\n",
        "h_t^\\leftarrow &= \\text{EncoderGRU}^\\leftarrow(e(x_t^\\leftarrow),h_{t-1}^\\leftarrow)\r\n",
        "\\end{align*}$$\r\n",
        "\r\n",
        "Where $x_0^\\rightarrow = \\text{<sos>}, x_1^\\rightarrow = \\text{guten}$ and $x_0^\\leftarrow = \\text{<eos>}, x_1^\\leftarrow = \\text{morgen}$.\r\n",
        "\r\n",
        "As before, we only pass an input (`embedded`) to the RNN, which tells PyTorch to initialize both the forward and backward initial hidden states ($h_0^\\rightarrow$ and $h_0^\\leftarrow$, respectively) to a tensor of all zeros. We'll also get two context vectors, one from the forward RNN after it has seen the final word in the sentence, $z^\\rightarrow=h_T^\\rightarrow$, and one from the backward RNN after it has seen the first word in the sentence, $z^\\leftarrow=h_T^\\leftarrow$.\r\n",
        "\r\n",
        "The RNN returns `outputs` and `hidden`. \r\n",
        "\r\n",
        "`outputs` is of size **[src len, batch size, hid dim * num directions]** where the first `hid_dim` elements in the third axis are the hidden states from the top layer forward RNN, and the last `hid_dim` elements are hidden states from the top layer backward RNN. We can think of the third axis as being the forward and backward hidden states concatenated together other, i.e. $h_1 = [h_1^\\rightarrow; h_{T}^\\leftarrow]$, $h_2 = [h_2^\\rightarrow; h_{T-1}^\\leftarrow]$ and we can denote all encoder hidden states (forward and backwards concatenated together) as $H=\\{ h_1, h_2, ..., h_T\\}$.\r\n",
        "\r\n",
        "`hidden` is of size **[n layers * num directions, batch size, hid dim]**, where **[-2, :, :]** gives the top layer forward RNN hidden state after the final time-step (i.e. after it has seen the last word in the sentence) and **[-1, :, :]** gives the top layer backward RNN hidden state after the final time-step (i.e. after it has seen the first word in the sentence).\r\n",
        "\r\n",
        "As the decoder is not bidirectional, it only needs a single context vector, $z$, to use as its initial hidden state, $s_0$, and we currently have two, a forward and a backward one ($z^\\rightarrow=h_T^\\rightarrow$ and $z^\\leftarrow=h_T^\\leftarrow$, respectively). We solve this by concatenating the two context vectors together, passing them through a linear layer, $g$, and applying the $\\tanh$ activation function. \r\n",
        "\r\n",
        "$$z=\\tanh(g(h_T^\\rightarrow, h_T^\\leftarrow)) = \\tanh(g(z^\\rightarrow, z^\\leftarrow)) = s_0$$\r\n",
        "\r\n",
        "**Note**: this is actually a deviation from the paper. Instead, they feed only the first backward RNN hidden state through a linear layer to get the context vector/decoder initial hidden state. This doesn't seem to make sense to me, so we have changed it.\r\n",
        "\r\n",
        "As we want our model to look back over the whole of the source sentence we return `outputs`, the stacked forward and backward hidden states for every token in the source sentence. We also return `hidden`, which acts as our initial hidden state in the decoder."
      ]
    },
    {
      "cell_type": "code",
      "metadata": {
        "id": "pMS-S2L61IHE"
      },
      "source": [
        "class Encoder(nn.Module):\r\n",
        "    def __init__(self, input_dim, emb_dim, enc_hid_dim, dec_hid_dim, dropout):\r\n",
        "        super().__init__()\r\n",
        "        \r\n",
        "        self.embedding = nn.Embedding(input_dim, emb_dim)\r\n",
        "        \r\n",
        "        self.rnn = nn.GRU(emb_dim, enc_hid_dim, bidirectional = True)\r\n",
        "        \r\n",
        "        self.fc = nn.Linear(enc_hid_dim * 2, dec_hid_dim)\r\n",
        "        \r\n",
        "        self.dropout = nn.Dropout(dropout)\r\n",
        "        \r\n",
        "    def forward(self, src):\r\n",
        "        \r\n",
        "        #src = [src len, batch size]\r\n",
        "        \r\n",
        "        embedded = self.dropout(self.embedding(src))\r\n",
        "        \r\n",
        "        #embedded = [src len, batch size, emb dim]\r\n",
        "        \r\n",
        "        outputs, hidden = self.rnn(embedded)\r\n",
        "                \r\n",
        "        #outputs = [src len, batch size, hid dim * num directions]\r\n",
        "        #hidden = [n layers * num directions, batch size, hid dim]\r\n",
        "        \r\n",
        "        #hidden is stacked [forward_1, backward_1, forward_2, backward_2, ...]\r\n",
        "        #outputs are always from the last layer\r\n",
        "        \r\n",
        "        #hidden [-2, :, : ] is the last of the forwards RNN \r\n",
        "        #hidden [-1, :, : ] is the last of the backwards RNN\r\n",
        "        \r\n",
        "        #initial decoder hidden is final hidden state of the forwards and backwards \r\n",
        "        #  encoder RNNs fed through a linear layer\r\n",
        "        hidden = torch.tanh(self.fc(torch.cat((hidden[-2,:,:], hidden[-1,:,:]), dim = 1)))\r\n",
        "        \r\n",
        "        #outputs = [src len, batch size, enc hid dim * 2]\r\n",
        "        #hidden = [batch size, dec hid dim]\r\n",
        "        \r\n",
        "        return outputs, hidden"
      ],
      "execution_count": 27,
      "outputs": []
    },
    {
      "cell_type": "markdown",
      "metadata": {
        "id": "OiPrXt98_Kqy"
      },
      "source": [
        "### Attention\r\n",
        "\r\n",
        "Next up is the attention layer. This will take in the previous hidden state of the decoder, $s_{t-1}$, and all of the stacked forward and backward hidden states from the encoder, $H$. The layer will output an attention vector, $a_t$, that is the length of the source sentence, each element is between 0 and 1 and the entire vector sums to 1.\r\n",
        "\r\n",
        "Intuitively, this layer takes what we have decoded so far, $s_{t-1}$, and all of what we have encoded, $H$, to produce a vector, $a_t$, that represents which words in the source sentence we should pay the most attention to in order to correctly predict the next word to decode, $\\hat{y}_{t+1}$. \r\n",
        "\r\n",
        "First, we calculate the *energy* between the previous decoder hidden state and the encoder hidden states. As our encoder hidden states are a sequence of $T$ tensors, and our previous decoder hidden state is a single tensor, the first thing we do is `repeat` the previous decoder hidden state $T$ times. We then calculate the energy, $E_t$, between them by concatenating them together and passing them through a linear layer (`attn`) and a $\\tanh$ activation function. \r\n",
        "\r\n",
        "$$E_t = \\tanh(\\text{attn}(s_{t-1}, H))$$ \r\n",
        "\r\n",
        "This can be thought of as calculating how well each encoder hidden state \"matches\" the previous decoder hidden state.\r\n",
        "\r\n",
        "We currently have a **[dec hid dim, src len]** tensor for each example in the batch. We want this to be **[src len]** for each example in the batch as the attention should be over the length of the source sentence. This is achieved by multiplying the `energy` by a **[1, dec hid dim]** tensor, $v$.\r\n",
        "\r\n",
        "$$\\hat{a}_t = v E_t$$\r\n",
        "\r\n",
        "We can think of $v$ as the weights for a weighted sum of the energy across all encoder hidden states. These weights tell us how much we should attend to each token in the source sequence. The parameters of $v$ are initialized randomly, but learned with the rest of the model via backpropagation. Note how $v$ is not dependent on time, and the same $v$ is used for each time-step of the decoding. We implement $v$ as a linear layer without a bias.\r\n",
        "\r\n",
        "Finally, we ensure the attention vector fits the constraints of having all elements between 0 and 1 and the vector summing to 1 by passing it through a $\\text{softmax}$ layer.\r\n",
        "\r\n",
        "$$a_t = \\text{softmax}(\\hat{a_t})$$\r\n",
        "\r\n",
        "This gives us the attention over the source sentence!\r\n",
        "\r\n",
        "Graphically, this looks something like below. This is for calculating the very first attention vector, where $s_{t-1} = s_0 = z$. The green/teal blocks represent the hidden states from both the forward and backward RNNs, and the attention computation is all done within the pink block.\r\n",
        "\r\n",
        "![](https://github.com/bentrevett/pytorch-seq2seq/blob/master/assets/seq2seq9.png?raw=1)"
      ]
    },
    {
      "cell_type": "code",
      "metadata": {
        "id": "suh4d6hiEG7H"
      },
      "source": [
        "import torch.nn.functional as F\r\n",
        "\r\n",
        "class Attention(nn.Module):\r\n",
        "    def __init__(self, enc_hid_dim, dec_hid_dim):\r\n",
        "        super().__init__()\r\n",
        "        \r\n",
        "        self.attn = nn.Linear((enc_hid_dim * 2) + dec_hid_dim, dec_hid_dim)\r\n",
        "        self.v = nn.Linear(dec_hid_dim, 1, bias = False)\r\n",
        "        \r\n",
        "    def forward(self, hidden, encoder_outputs):\r\n",
        "        \r\n",
        "        #hidden = [batch size, dec hid dim]\r\n",
        "        #encoder_outputs = [src len, batch size, enc hid dim * 2]\r\n",
        "        \r\n",
        "        batch_size = encoder_outputs.shape[1]\r\n",
        "        src_len = encoder_outputs.shape[0]\r\n",
        "        \r\n",
        "        #repeat decoder hidden state src_len times\r\n",
        "        hidden = hidden.unsqueeze(1).repeat(1, src_len, 1)\r\n",
        "        \r\n",
        "        encoder_outputs = encoder_outputs.permute(1, 0, 2)\r\n",
        "        \r\n",
        "        #hidden = [batch size, src len, dec hid dim]\r\n",
        "        #encoder_outputs = [batch size, src len, enc hid dim * 2]\r\n",
        "        \r\n",
        "        energy = torch.tanh(self.attn(torch.cat((hidden, encoder_outputs), dim = 2))) \r\n",
        "        \r\n",
        "        #energy = [batch size, src len, dec hid dim]\r\n",
        "\r\n",
        "        attention = self.v(energy).squeeze(2)\r\n",
        "        \r\n",
        "        #attention= [batch size, src len]\r\n",
        "        \r\n",
        "        return F.softmax(attention, dim=1)"
      ],
      "execution_count": 39,
      "outputs": []
    },
    {
      "cell_type": "markdown",
      "metadata": {
        "id": "MDA03_cM_QVp"
      },
      "source": [
        "### Decoder\r\n",
        "\r\n",
        "Next up is the decoder. \r\n",
        "\r\n",
        "The decoder contains the attention layer, `attention`, which takes the previous hidden state, $s_{t-1}$, all of the encoder hidden states, $H$, and returns the attention vector, $a_t$.\r\n",
        "\r\n",
        "We then use this attention vector to create a weighted source vector, $w_t$, denoted by `weighted`, which is a weighted sum of the encoder hidden states, $H$, using $a_t$ as the weights.\r\n",
        "\r\n",
        "$$w_t = a_t H$$\r\n",
        "\r\n",
        "The embedded input word, $d(y_t)$, the weighted source vector, $w_t$, and the previous decoder hidden state, $s_{t-1}$, are then all passed into the decoder RNN, with $d(y_t)$ and $w_t$ being concatenated together.\r\n",
        "\r\n",
        "$$s_t = \\text{DecoderGRU}(d(y_t), w_t, s_{t-1})$$\r\n",
        "\r\n",
        "We then pass $d(y_t)$, $w_t$ and $s_t$ through the linear layer, $f$, to make a prediction of the next word in the target sentence, $\\hat{y}_{t+1}$. This is done by concatenating them all together.\r\n",
        "\r\n",
        "$$\\hat{y}_{t+1} = f(d(y_t), w_t, s_t)$$\r\n",
        "\r\n",
        "The image below shows decoding the first word in an example translation.\r\n",
        "\r\n",
        "![](https://github.com/bentrevett/pytorch-seq2seq/blob/master/assets/seq2seq10.png?raw=1)\r\n",
        "\r\n",
        "The green/teal blocks show the forward/backward encoder RNNs which output $H$, the red block shows the context vector, $z = h_T = \\tanh(g(h^\\rightarrow_T,h^\\leftarrow_T)) = \\tanh(g(z^\\rightarrow, z^\\leftarrow)) = s_0$, the blue block shows the decoder RNN which outputs $s_t$, the purple block shows the linear layer, $f$, which outputs $\\hat{y}_{t+1}$ and the orange block shows the calculation of the weighted sum over $H$ by $a_t$ and outputs $w_t$. Not shown is the calculation of $a_t$."
      ]
    },
    {
      "cell_type": "code",
      "metadata": {
        "id": "Spy0krTg1NUo"
      },
      "source": [
        "class Decoder(nn.Module):\r\n",
        "    def __init__(self, output_dim, emb_dim, enc_hid_dim, dec_hid_dim, dropout, attention):\r\n",
        "        super().__init__()\r\n",
        "\r\n",
        "        self.output_dim = output_dim\r\n",
        "        self.attention = attention\r\n",
        "        \r\n",
        "        self.embedding = nn.Embedding(output_dim, emb_dim)\r\n",
        "        \r\n",
        "        self.rnn = nn.GRU((enc_hid_dim * 2) + emb_dim, dec_hid_dim)\r\n",
        "        \r\n",
        "        self.fc_out = nn.Linear((enc_hid_dim * 2) + dec_hid_dim + emb_dim, output_dim)\r\n",
        "        \r\n",
        "        self.dropout = nn.Dropout(dropout)\r\n",
        "        \r\n",
        "    def forward(self, input, hidden, encoder_outputs):\r\n",
        "             \r\n",
        "        #input = [batch size]\r\n",
        "        #hidden = [batch size, dec hid dim]\r\n",
        "        #encoder_outputs = [src len, batch size, enc hid dim * 2]\r\n",
        "        \r\n",
        "        input = input.unsqueeze(0)\r\n",
        "        \r\n",
        "        #input = [1, batch size]\r\n",
        "        \r\n",
        "        embedded = self.dropout(self.embedding(input))\r\n",
        "        \r\n",
        "        #embedded = [1, batch size, emb dim]\r\n",
        "        \r\n",
        "        a = self.attention(hidden, encoder_outputs)\r\n",
        "                \r\n",
        "        #a = [batch size, src len]\r\n",
        "        \r\n",
        "        a = a.unsqueeze(1)\r\n",
        "        \r\n",
        "        #a = [batch size, 1, src len]\r\n",
        "        \r\n",
        "        encoder_outputs = encoder_outputs.permute(1, 0, 2)\r\n",
        "        \r\n",
        "        #encoder_outputs = [batch size, src len, enc hid dim * 2]\r\n",
        "        \r\n",
        "        weighted = torch.bmm(a, encoder_outputs)\r\n",
        "        \r\n",
        "        #weighted = [batch size, 1, enc hid dim * 2]\r\n",
        "        \r\n",
        "        weighted = weighted.permute(1, 0, 2)\r\n",
        "        \r\n",
        "        #weighted = [1, batch size, enc hid dim * 2]\r\n",
        "        \r\n",
        "        rnn_input = torch.cat((embedded, weighted), dim = 2)\r\n",
        "        \r\n",
        "        #rnn_input = [1, batch size, (enc hid dim * 2) + emb dim]\r\n",
        "            \r\n",
        "        output, hidden = self.rnn(rnn_input, hidden.unsqueeze(0))\r\n",
        "        \r\n",
        "        #output = [seq len, batch size, dec hid dim * n directions]\r\n",
        "        #hidden = [n layers * n directions, batch size, dec hid dim]\r\n",
        "        \r\n",
        "        #seq len, n layers and n directions will always be 1 in this decoder, therefore:\r\n",
        "        #output = [1, batch size, dec hid dim]\r\n",
        "        #hidden = [1, batch size, dec hid dim]\r\n",
        "        #this also means that output == hidden\r\n",
        "        assert (output == hidden).all()\r\n",
        "        \r\n",
        "        embedded = embedded.squeeze(0)\r\n",
        "        output = output.squeeze(0)\r\n",
        "        weighted = weighted.squeeze(0)\r\n",
        "        \r\n",
        "        prediction = self.fc_out(torch.cat((output, weighted, embedded), dim = 1))\r\n",
        "        \r\n",
        "        #prediction = [batch size, output dim]\r\n",
        "        \r\n",
        "        return prediction, hidden.squeeze(0)"
      ],
      "execution_count": 40,
      "outputs": []
    },
    {
      "cell_type": "markdown",
      "metadata": {
        "id": "xMHSG524_WCr"
      },
      "source": [
        "# Training the Seq2Seq Model\r\n",
        "\r\n",
        "We initialise our encoder, decoder and seq2seq model (placing it on the GPU if we have one). The embedding dimensions and the amount of dropout used can be different between the encoder and the decoder, but the hidden dimensions must remain the same."
      ]
    },
    {
      "cell_type": "code",
      "metadata": {
        "id": "ftEpd_4a1QmF"
      },
      "source": [
        "INPUT_DIM = len(SRC.vocab)\r\n",
        "OUTPUT_DIM = len(TRG.vocab)\r\n",
        "ENC_EMB_DIM = 256\r\n",
        "DEC_EMB_DIM = 256\r\n",
        "ENC_HID_DIM = 512\r\n",
        "DEC_HID_DIM = 512\r\n",
        "ENC_DROPOUT = 0.5\r\n",
        "DEC_DROPOUT = 0.5\r\n",
        "\r\n",
        "attn = Attention(ENC_HID_DIM, DEC_HID_DIM)\r\n",
        "enc = Encoder(INPUT_DIM, ENC_EMB_DIM, ENC_HID_DIM, DEC_HID_DIM, ENC_DROPOUT)\r\n",
        "dec = Decoder(OUTPUT_DIM, DEC_EMB_DIM, ENC_HID_DIM, DEC_HID_DIM, DEC_DROPOUT, attn)\r\n",
        "\r\n",
        "model = Seq2Seq(enc, dec, device).to(device)"
      ],
      "execution_count": 41,
      "outputs": []
    },
    {
      "cell_type": "markdown",
      "metadata": {
        "id": "x8nTb43V_Zyo"
      },
      "source": [
        "We use a simplified version of the weight initialization scheme used in the paper. Here, we will initialize all biases to zero and all weights from  N(0,0.01) ."
      ]
    },
    {
      "cell_type": "code",
      "metadata": {
        "id": "bMp_2W9S1SVR",
        "colab": {
          "base_uri": "https://localhost:8080/"
        },
        "outputId": "391bf403-b7bd-42d4-a162-7cad21875b04"
      },
      "source": [
        "def init_weights(m):\r\n",
        "    for name, param in m.named_parameters():\r\n",
        "        nn.init.normal_(param.data, mean=0, std=0.01)\r\n",
        "        \r\n",
        "model.apply(init_weights)"
      ],
      "execution_count": 42,
      "outputs": [
        {
          "output_type": "execute_result",
          "data": {
            "text/plain": [
              "Seq2Seq(\n",
              "  (encoder): Encoder(\n",
              "    (embedding): Embedding(2273, 256)\n",
              "    (rnn): GRU(256, 512, bidirectional=True)\n",
              "    (fc): Linear(in_features=1024, out_features=512, bias=True)\n",
              "    (dropout): Dropout(p=0.5, inplace=False)\n",
              "  )\n",
              "  (decoder): Decoder(\n",
              "    (attention): Attention(\n",
              "      (attn): Linear(in_features=1536, out_features=512, bias=True)\n",
              "      (v): Linear(in_features=512, out_features=1, bias=False)\n",
              "    )\n",
              "    (embedding): Embedding(1517, 256)\n",
              "    (rnn): GRU(1280, 512)\n",
              "    (fc_out): Linear(in_features=1792, out_features=1517, bias=True)\n",
              "    (dropout): Dropout(p=0.5, inplace=False)\n",
              "  )\n",
              ")"
            ]
          },
          "metadata": {
            "tags": []
          },
          "execution_count": 42
        }
      ]
    },
    {
      "cell_type": "markdown",
      "metadata": {
        "id": "x5_2i7Dk_fdz"
      },
      "source": [
        "We print out the number of parameters.\r\n",
        "\r\n",
        "Calculate the number of parameters. We get an increase of almost 50% in the amount of parameters from the last model. "
      ]
    },
    {
      "cell_type": "code",
      "metadata": {
        "id": "Enkgnath1Tt3",
        "colab": {
          "base_uri": "https://localhost:8080/"
        },
        "outputId": "151f1231-bcd1-4d10-e841-b93a186140b8"
      },
      "source": [
        "def count_parameters(model):\r\n",
        "    return sum(p.numel() for p in model.parameters() if p.requires_grad)\r\n",
        "\r\n",
        "print(f'The model has {count_parameters(model):,} trainable parameters')"
      ],
      "execution_count": 43,
      "outputs": [
        {
          "output_type": "stream",
          "text": [
            "The model has 10,123,501 trainable parameters\n"
          ],
          "name": "stdout"
        }
      ]
    },
    {
      "cell_type": "markdown",
      "metadata": {
        "id": "VH3WH5Lh_mPO"
      },
      "source": [
        "We initiaize our optimizer."
      ]
    },
    {
      "cell_type": "code",
      "metadata": {
        "id": "CUoyH79C1W7L"
      },
      "source": [
        "optimizer = optim.Adam(model.parameters())"
      ],
      "execution_count": 44,
      "outputs": []
    },
    {
      "cell_type": "markdown",
      "metadata": {
        "id": "Khbcq7R4_p-w"
      },
      "source": [
        "We also initialize the loss function, making sure to ignore the loss on `<pad>` tokens."
      ]
    },
    {
      "cell_type": "code",
      "metadata": {
        "id": "XFiHkSJC1YWm"
      },
      "source": [
        "TRG_PAD_IDX = TRG.vocab.stoi[TRG.pad_token]\r\n",
        "\r\n",
        "criterion = nn.CrossEntropyLoss(ignore_index = TRG_PAD_IDX)"
      ],
      "execution_count": 45,
      "outputs": []
    },
    {
      "cell_type": "markdown",
      "metadata": {
        "id": "6tuZ-o3l_xKO"
      },
      "source": [
        "We then create the training loop..."
      ]
    },
    {
      "cell_type": "code",
      "metadata": {
        "id": "4GeuBp3t1ZiB"
      },
      "source": [
        "def train(model, iterator, optimizer, criterion, clip):\r\n",
        "    \r\n",
        "    model.train()\r\n",
        "    \r\n",
        "    epoch_loss = 0\r\n",
        "    \r\n",
        "    for i, batch in enumerate(iterator):\r\n",
        "        \r\n",
        "        src = batch.Question\r\n",
        "        trg = batch.Answer\r\n",
        "        \r\n",
        "        optimizer.zero_grad()\r\n",
        "        \r\n",
        "        output = model(src, trg)\r\n",
        "        \r\n",
        "        #trg = [trg len, batch size]\r\n",
        "        #output = [trg len, batch size, output dim]\r\n",
        "        \r\n",
        "        output_dim = output.shape[-1]\r\n",
        "        \r\n",
        "        output = output[1:].view(-1, output_dim)\r\n",
        "        trg = trg[1:].view(-1)\r\n",
        "        \r\n",
        "        #trg = [(trg len - 1) * batch size]\r\n",
        "        #output = [(trg len - 1) * batch size, output dim]\r\n",
        "        \r\n",
        "        loss = criterion(output, trg)\r\n",
        "        \r\n",
        "        loss.backward()\r\n",
        "        \r\n",
        "        torch.nn.utils.clip_grad_norm_(model.parameters(), clip)\r\n",
        "        \r\n",
        "        optimizer.step()\r\n",
        "        \r\n",
        "        epoch_loss += loss.item()\r\n",
        "        \r\n",
        "    return epoch_loss / len(iterator)"
      ],
      "execution_count": 46,
      "outputs": []
    },
    {
      "cell_type": "markdown",
      "metadata": {
        "id": "3OMTod0P_2I9"
      },
      "source": [
        "...and the evaluation loop, remembering to set the model to eval mode and turn off teaching forcing."
      ]
    },
    {
      "cell_type": "code",
      "metadata": {
        "id": "u3z3OEyq1byl"
      },
      "source": [
        "def evaluate(model, iterator, criterion):\r\n",
        "    \r\n",
        "    model.eval()\r\n",
        "    \r\n",
        "    epoch_loss = 0\r\n",
        "    \r\n",
        "    with torch.no_grad():\r\n",
        "    \r\n",
        "        for i, batch in enumerate(iterator):\r\n",
        "\r\n",
        "            src = batch.Question\r\n",
        "            trg = batch.Answer\r\n",
        "\r\n",
        "            output = model(src, trg, 0) #turn off teacher forcing\r\n",
        "\r\n",
        "            #trg = [trg len, batch size]\r\n",
        "            #output = [trg len, batch size, output dim]\r\n",
        "\r\n",
        "            output_dim = output.shape[-1]\r\n",
        "            \r\n",
        "            output = output[1:].view(-1, output_dim)\r\n",
        "            trg = trg[1:].view(-1)\r\n",
        "\r\n",
        "            #trg = [(trg len - 1) * batch size]\r\n",
        "            #output = [(trg len - 1) * batch size, output dim]\r\n",
        "\r\n",
        "            loss = criterion(output, trg)\r\n",
        "\r\n",
        "            epoch_loss += loss.item()\r\n",
        "        \r\n",
        "    return epoch_loss / len(iterator)"
      ],
      "execution_count": 47,
      "outputs": []
    },
    {
      "cell_type": "markdown",
      "metadata": {
        "id": "UjycjEXz_6h4"
      },
      "source": [
        "We'll also define the function that calculates how long an epoch takes."
      ]
    },
    {
      "cell_type": "code",
      "metadata": {
        "id": "GkH2vb6z1drm"
      },
      "source": [
        "def epoch_time(start_time, end_time):\r\n",
        "    elapsed_time = end_time - start_time\r\n",
        "    elapsed_mins = int(elapsed_time / 60)\r\n",
        "    elapsed_secs = int(elapsed_time - (elapsed_mins * 60))\r\n",
        "    return elapsed_mins, elapsed_secs"
      ],
      "execution_count": 48,
      "outputs": []
    },
    {
      "cell_type": "markdown",
      "metadata": {
        "id": "DuTL4wYQ_8-W"
      },
      "source": [
        "Then, we train our model, saving the parameters that give us the best validation loss."
      ]
    },
    {
      "cell_type": "code",
      "metadata": {
        "id": "fGldAX9N1e_8",
        "colab": {
          "base_uri": "https://localhost:8080/"
        },
        "outputId": "feac4806-6a15-45f2-e6ce-eb5f8007a25c"
      },
      "source": [
        "N_EPOCHS = 10\r\n",
        "CLIP = 1\r\n",
        "\r\n",
        "best_valid_loss = float('inf')\r\n",
        "\r\n",
        "for epoch in range(N_EPOCHS):\r\n",
        "    \r\n",
        "    start_time = time.time()\r\n",
        "    \r\n",
        "    train_loss = train(model, train_iterator, optimizer, criterion, CLIP)\r\n",
        "    valid_loss = evaluate(model, valid_iterator, criterion)\r\n",
        "    \r\n",
        "    end_time = time.time()\r\n",
        "    \r\n",
        "    epoch_mins, epoch_secs = epoch_time(start_time, end_time)\r\n",
        "    \r\n",
        "    if valid_loss < best_valid_loss:\r\n",
        "        best_valid_loss = valid_loss\r\n",
        "        torch.save(model.state_dict(), 'tut2-model.pt')\r\n",
        "    \r\n",
        "    print(f'Epoch: {epoch+1:02} | Time: {epoch_mins}m {epoch_secs}s')\r\n",
        "    print(f'\\tTrain Loss: {train_loss:.3f} | Train PPL: {math.exp(train_loss):7.3f}')\r\n",
        "    print(f'\\t Val. Loss: {valid_loss:.3f} |  Val. PPL: {math.exp(valid_loss):7.3f}')"
      ],
      "execution_count": 49,
      "outputs": [
        {
          "output_type": "stream",
          "text": [
            "Epoch: 01 | Time: 0m 7s\n",
            "\tTrain Loss: 5.062 | Train PPL: 157.856\n",
            "\t Val. Loss: 3.615 |  Val. PPL:  37.158\n",
            "Epoch: 02 | Time: 0m 7s\n",
            "\tTrain Loss: 4.358 | Train PPL:  78.126\n",
            "\t Val. Loss: 3.544 |  Val. PPL:  34.596\n",
            "Epoch: 03 | Time: 0m 7s\n",
            "\tTrain Loss: 4.133 | Train PPL:  62.354\n",
            "\t Val. Loss: 3.504 |  Val. PPL:  33.250\n",
            "Epoch: 04 | Time: 0m 7s\n",
            "\tTrain Loss: 3.944 | Train PPL:  51.645\n",
            "\t Val. Loss: 3.485 |  Val. PPL:  32.609\n",
            "Epoch: 05 | Time: 0m 7s\n",
            "\tTrain Loss: 3.713 | Train PPL:  40.976\n",
            "\t Val. Loss: 3.506 |  Val. PPL:  33.304\n",
            "Epoch: 06 | Time: 0m 7s\n",
            "\tTrain Loss: 3.470 | Train PPL:  32.123\n",
            "\t Val. Loss: 3.454 |  Val. PPL:  31.614\n",
            "Epoch: 07 | Time: 0m 7s\n",
            "\tTrain Loss: 3.142 | Train PPL:  23.147\n",
            "\t Val. Loss: 3.419 |  Val. PPL:  30.535\n",
            "Epoch: 08 | Time: 0m 7s\n",
            "\tTrain Loss: 2.828 | Train PPL:  16.917\n",
            "\t Val. Loss: 3.441 |  Val. PPL:  31.212\n",
            "Epoch: 09 | Time: 0m 7s\n",
            "\tTrain Loss: 2.533 | Train PPL:  12.592\n",
            "\t Val. Loss: 3.397 |  Val. PPL:  29.862\n",
            "Epoch: 10 | Time: 0m 7s\n",
            "\tTrain Loss: 2.272 | Train PPL:   9.696\n",
            "\t Val. Loss: 3.378 |  Val. PPL:  29.303\n"
          ],
          "name": "stdout"
        }
      ]
    },
    {
      "cell_type": "markdown",
      "metadata": {
        "id": "yTCrvQ3-ADUe"
      },
      "source": [
        "Finally, we test the model on the test set using these \"best\" parameters."
      ]
    },
    {
      "cell_type": "code",
      "metadata": {
        "id": "0wODowUY1hHo",
        "colab": {
          "base_uri": "https://localhost:8080/"
        },
        "outputId": "1d812f2c-7f44-4324-87e7-934a46d7ea52"
      },
      "source": [
        "model.load_state_dict(torch.load('tut2-model.pt'))\r\n",
        "\r\n",
        "test_loss = evaluate(model, test_iterator, criterion)\r\n",
        "\r\n",
        "print(f'| Test Loss: {test_loss:.3f} | Test PPL: {math.exp(test_loss):7.3f} |')"
      ],
      "execution_count": 50,
      "outputs": [
        {
          "output_type": "execute_result",
          "data": {
            "text/plain": [
              "<All keys matched successfully>"
            ]
          },
          "metadata": {
            "tags": []
          },
          "execution_count": 50
        },
        {
          "output_type": "stream",
          "text": [
            "| Test Loss: 3.376 | Test PPL:  29.240 |\n"
          ],
          "name": "stdout"
        }
      ]
    },
    {
      "cell_type": "markdown",
      "metadata": {
        "id": "2kZXSc5SAGiG"
      },
      "source": [
        "We've improved on the previous model, but this came at the cost of doubling the training time."
      ]
    }
  ]
}