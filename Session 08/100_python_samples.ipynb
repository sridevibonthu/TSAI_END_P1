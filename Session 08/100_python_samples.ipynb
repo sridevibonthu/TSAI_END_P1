{
  "nbformat": 4,
  "nbformat_minor": 0,
  "metadata": {
    "colab": {
      "name": "100 python samples.ipynb",
      "provenance": [],
      "collapsed_sections": [],
      "include_colab_link": true
    },
    "kernelspec": {
      "name": "python3",
      "display_name": "Python 3"
    }
  },
  "cells": [
    {
      "cell_type": "markdown",
      "metadata": {
        "id": "view-in-github",
        "colab_type": "text"
      },
      "source": [
        "<a href=\"https://colab.research.google.com/github/sridevibonthu/TSAI_END_P1/blob/main/Session%2008/100_python_samples.ipynb\" target=\"_parent\"><img src=\"https://colab.research.google.com/assets/colab-badge.svg\" alt=\"Open In Colab\"/></a>"
      ]
    },
    {
      "cell_type": "code",
      "metadata": {
        "colab": {
          "base_uri": "https://localhost:8080/"
        },
        "id": "SgfsPrFEXpyx",
        "outputId": "92778468-0774-4d2b-eafe-205e51b94e3e"
      },
      "source": [
        "# 1. Function to return area of a triangle when sides are given\r\n",
        "\r\n",
        "def areaOfTriangle(a, b, c):\r\n",
        "  s = (a+b+c)/2\r\n",
        "  return (s*(s-a)*(s-b)*(s-c)) ** 0.5\r\n",
        "\r\n",
        "areaOfTriangle(3, 6, 7)"
      ],
      "execution_count": null,
      "outputs": [
        {
          "output_type": "execute_result",
          "data": {
            "text/plain": [
              "8.94427190999916"
            ]
          },
          "metadata": {
            "tags": []
          },
          "execution_count": 1
        }
      ]
    },
    {
      "cell_type": "code",
      "metadata": {
        "id": "y9rUMeZ0YTsm",
        "colab": {
          "base_uri": "https://localhost:8080/"
        },
        "outputId": "a03a04fc-7a3b-4ddc-d196-20fcbba9d0c9"
      },
      "source": [
        "# 2. This program checks whether the given year is leap year or not.\r\n",
        "# A  leap year is exactly divisible by 4 except for century years (years ending with 00). \r\n",
        "# The century year is a leap year only if it is perfectly divisible by 400. \r\n",
        "\r\n",
        "year = int(input(\"Enter year : \"))\r\n",
        "\r\n",
        "if (year%4 == 0 and year%100 != 0) or year%400 == 0:\r\n",
        "  print(f'{year} is a leap year')\r\n",
        "else:\r\n",
        "  print(f'{year} is not a leap year')\r\n",
        "  \r\n"
      ],
      "execution_count": null,
      "outputs": [
        {
          "output_type": "stream",
          "text": [
            "Enter year : 2000\n",
            "2000 is a leap year\n"
          ],
          "name": "stdout"
        }
      ]
    },
    {
      "cell_type": "code",
      "metadata": {
        "colab": {
          "base_uri": "https://localhost:8080/"
        },
        "id": "pb-ORsjaYl8Q",
        "outputId": "996602b2-60fc-4e65-f1ec-e7b59421e2bc"
      },
      "source": [
        "# 3. Function to swap two numbers\r\n",
        "def swapNumbers(a, b):\r\n",
        "  return b, a\r\n",
        "\r\n",
        "swapNumbers(4, 5)"
      ],
      "execution_count": null,
      "outputs": [
        {
          "output_type": "execute_result",
          "data": {
            "text/plain": [
              "(5, 4)"
            ]
          },
          "metadata": {
            "tags": []
          },
          "execution_count": 3
        }
      ]
    },
    {
      "cell_type": "code",
      "metadata": {
        "id": "Atl4YseZYmXG",
        "colab": {
          "base_uri": "https://localhost:8080/"
        },
        "outputId": "79c17819-3563-44e1-e925-39a64b3990a1"
      },
      "source": [
        "# 4. Program to check the length of a string without using built-in function\r\n",
        "\r\n",
        "s = input(\"Enter string : \")\r\n",
        "l = 0\r\n",
        "for x in s:\r\n",
        "  l += 1\r\n",
        "print(f'length of {s} is {l}')"
      ],
      "execution_count": null,
      "outputs": [
        {
          "output_type": "stream",
          "text": [
            "Enter string : vamsika\n",
            "length of vamsika is 7\n"
          ],
          "name": "stdout"
        }
      ]
    },
    {
      "cell_type": "code",
      "metadata": {
        "colab": {
          "base_uri": "https://localhost:8080/"
        },
        "id": "arbcczvsYmt-",
        "outputId": "cab804eb-aaf0-4171-fd21-95fa1627c736"
      },
      "source": [
        "# 5. Finding square root without using math.sqrt\r\n",
        "x = int(input(\"Enter a number : \"))\r\n",
        "ans = x ** 0.5\r\n",
        "print(f'sqrt({x}) = {ans}')"
      ],
      "execution_count": null,
      "outputs": [
        {
          "output_type": "stream",
          "text": [
            "Enter a number : 81\n",
            "sqrt(81) = 9.0\n"
          ],
          "name": "stdout"
        }
      ]
    },
    {
      "cell_type": "code",
      "metadata": {
        "colab": {
          "base_uri": "https://localhost:8080/"
        },
        "id": "-Uwa-Boh8nLK",
        "outputId": "7ef619c6-4af0-4593-bb09-f14a8be41b67"
      },
      "source": [
        "# 6. Program to check whether the given number is divisible by seven or not\r\n",
        "num = int(input(\"Enter a number: \"))\r\n",
        "if (num % 7) == 0:\r\n",
        "   print(f'{num} is divisible by 7.')\r\n",
        "else:\r\n",
        "   print(f'{num} is not divisible by 7.')"
      ],
      "execution_count": null,
      "outputs": [
        {
          "output_type": "stream",
          "text": [
            "Enter a number: 67\n",
            "67 is not divisible by 7.\n"
          ],
          "name": "stdout"
        }
      ]
    },
    {
      "cell_type": "code",
      "metadata": {
        "id": "5qmeNzmUY14Z",
        "colab": {
          "base_uri": "https://localhost:8080/"
        },
        "outputId": "efeb856c-5ff8-41c8-b521-56ab3d7c0771"
      },
      "source": [
        "# 7. Generate a random number between 0 and 9\r\n",
        "import random\r\n",
        "print(random.randint(0, 9))"
      ],
      "execution_count": null,
      "outputs": [
        {
          "output_type": "stream",
          "text": [
            "6\n"
          ],
          "name": "stdout"
        }
      ]
    },
    {
      "cell_type": "code",
      "metadata": {
        "id": "AgrnnxB98fTB",
        "colab": {
          "base_uri": "https://localhost:8080/"
        },
        "outputId": "f7de3b8a-257f-4d19-9597-c739f18906f9"
      },
      "source": [
        "# 8. program to caluculate the factorial of a number\r\n",
        "n = int(input(\"Enter a number : \"))\r\n",
        "fact = 1\r\n",
        "for i in range(1, n+1):\r\n",
        "    fact = fact * i\r\n",
        "print(f'{n}! = {fact}')"
      ],
      "execution_count": null,
      "outputs": [
        {
          "output_type": "stream",
          "text": [
            "Enter a number : 5\n",
            "5! = 120\n"
          ],
          "name": "stdout"
        }
      ]
    },
    {
      "cell_type": "code",
      "metadata": {
        "colab": {
          "base_uri": "https://localhost:8080/"
        },
        "id": "q8NhZZkULRCS",
        "outputId": "0adb9e56-98cf-4787-bd22-337aa274355c"
      },
      "source": [
        "# 9. Python function to count the number of occurrences of characters (character frequency) in a string\r\n",
        "\r\n",
        "def char_frequency(str1):\r\n",
        "    dict = {}\r\n",
        "    for ch in str1:\r\n",
        "        if ch in dict.keys():\r\n",
        "            dict[ch] += 1\r\n",
        "        else:\r\n",
        "            dict[ch] = 1\r\n",
        "    return dict\r\n",
        "print(char_frequency('TheSchoolOfAI, Bangalore'))"
      ],
      "execution_count": null,
      "outputs": [
        {
          "output_type": "stream",
          "text": [
            "{'T': 1, 'h': 2, 'e': 2, 'S': 1, 'c': 1, 'o': 3, 'l': 2, 'O': 1, 'f': 1, 'A': 1, 'I': 1, ',': 1, ' ': 1, 'B': 1, 'a': 2, 'n': 1, 'g': 1, 'r': 1}\n"
          ],
          "name": "stdout"
        }
      ]
    },
    {
      "cell_type": "code",
      "metadata": {
        "colab": {
          "base_uri": "https://localhost:8080/"
        },
        "id": "X-LtxT4UNCqU",
        "outputId": "e5da7422-0769-434c-af53-af759c36a712"
      },
      "source": [
        "# 10. Python function to count the number of occurrrences of words in the text\r\n",
        "\r\n",
        "def word_frequency(str1):\r\n",
        "  dict = {}\r\n",
        "  for w in str1.split():\r\n",
        "    if w in dict.keys():\r\n",
        "      dict[w] += 1\r\n",
        "    else:\r\n",
        "      dict[w] = 1\r\n",
        "  return dict\r\n",
        "\r\n",
        "text = \"Look at this sample file: sample.py Preview the documentYou are to write such examples, where you describe the code to be written (starts with #), and the code it should generate. The file shows 3 examples of what text should generate what code. \"\r\n",
        "\r\n",
        "print(word_frequency(text))\r\n"
      ],
      "execution_count": null,
      "outputs": [
        {
          "output_type": "stream",
          "text": [
            "{'Look': 1, 'at': 1, 'this': 1, 'sample': 1, 'file:': 1, 'sample.py': 1, 'Preview': 1, 'the': 3, 'documentYou': 1, 'are': 1, 'to': 2, 'write': 1, 'such': 1, 'examples,': 1, 'where': 1, 'you': 1, 'describe': 1, 'code': 2, 'be': 1, 'written': 1, '(starts': 1, 'with': 1, '#),': 1, 'and': 1, 'it': 1, 'should': 2, 'generate.': 1, 'The': 1, 'file': 1, 'shows': 1, '3': 1, 'examples': 1, 'of': 1, 'what': 2, 'text': 1, 'generate': 1, 'code.': 1}\n"
          ],
          "name": "stdout"
        }
      ]
    },
    {
      "cell_type": "code",
      "metadata": {
        "colab": {
          "base_uri": "https://localhost:8080/"
        },
        "id": "RyA488J_PbS5",
        "outputId": "ec8f42e0-67f2-4630-8b98-80a94a7a22d0"
      },
      "source": [
        "# 11. Python function to return a string formed using first and last two characters.\r\n",
        "def FirstandLasttwo(str1):\r\n",
        "  if len(str1)<2:\r\n",
        "    return ''\r\n",
        "  return str1[:2]+str1[-2:]\r\n",
        "\r\n",
        "print(FirstandLasttwo('NLP'))\r\n",
        "print(FirstandLasttwo('Bhimavaram'))\r\n",
        "print(FirstandLasttwo('S'))"
      ],
      "execution_count": null,
      "outputs": [
        {
          "output_type": "stream",
          "text": [
            "NLLP\n",
            "Bham\n",
            "\n"
          ],
          "name": "stdout"
        }
      ]
    },
    {
      "cell_type": "code",
      "metadata": {
        "colab": {
          "base_uri": "https://localhost:8080/"
        },
        "id": "nVYG7mgaQvJu",
        "outputId": "a9106f98-0314-4dee-a221-d3dacf6e06bd"
      },
      "source": [
        "# 12. program to replace all occurrences of first character of a string with $\r\n",
        "\r\n",
        "str1 = 'ouagadougou'\r\n",
        "\r\n",
        "ch = str1[0]\r\n",
        "str1 = str1.replace(ch, '$')\r\n",
        "str1 = ch + str1[1:]\r\n",
        "\r\n",
        "print(str1)"
      ],
      "execution_count": null,
      "outputs": [
        {
          "output_type": "stream",
          "text": [
            "ouagad$ug$u\n"
          ],
          "name": "stdout"
        }
      ]
    },
    {
      "cell_type": "code",
      "metadata": {
        "colab": {
          "base_uri": "https://localhost:8080/"
        },
        "id": "9n7lJcb1RnLh",
        "outputId": "6ee61258-a9c8-43a0-b8cd-abfefc7dbef8"
      },
      "source": [
        "# 13. write a function to add 'ing' at the end of the string, if it doesnot end with 'ing'\r\n",
        "\r\n",
        "def addINGatend(str1):\r\n",
        "  if not str1.endswith('ing'):\r\n",
        "    str1 = str1 + 'ing'\r\n",
        "  return str1\r\n",
        "\r\n",
        "print(addINGatend('play'))\r\n",
        "print(addINGatend('running'))"
      ],
      "execution_count": null,
      "outputs": [
        {
          "output_type": "stream",
          "text": [
            "playing\n",
            "running\n"
          ],
          "name": "stdout"
        }
      ]
    },
    {
      "cell_type": "code",
      "metadata": {
        "colab": {
          "base_uri": "https://localhost:8080/"
        },
        "id": "uOHDNMV5SPgh",
        "outputId": "7ade298d-c953-4d4d-9391-9c262ea00e77"
      },
      "source": [
        "# 14. python program to find the longest word in the sentence\r\n",
        "sent = \"I am working as an Assistant Professor at Vishnu Institute of Technology - Bhimavaram\"\r\n",
        "longword = ''\r\n",
        "for x in sent.split():\r\n",
        "  if len(x) > len(longword):\r\n",
        "    longword = x\r\n",
        "\r\n",
        "print(f'Longest word = {longword}\\nLength = {len(longword)}')"
      ],
      "execution_count": null,
      "outputs": [
        {
          "output_type": "stream",
          "text": [
            "Longest word = Technology\n",
            "Length = 10\n"
          ],
          "name": "stdout"
        }
      ]
    },
    {
      "cell_type": "code",
      "metadata": {
        "colab": {
          "base_uri": "https://localhost:8080/"
        },
        "id": "VAG1KUc_UWlp",
        "outputId": "ad59622c-f863-4477-ee23-7c0f824950a3"
      },
      "source": [
        "# 15. program to exchange first and last characters in a given string\r\n",
        "str1 = \"SrithaN\"\r\n",
        "print(str1[-1] + str1[1:-1] + str1[0])"
      ],
      "execution_count": null,
      "outputs": [
        {
          "output_type": "stream",
          "text": [
            "NrithaS\n"
          ],
          "name": "stdout"
        }
      ]
    },
    {
      "cell_type": "code",
      "metadata": {
        "colab": {
          "base_uri": "https://localhost:8080/"
        },
        "id": "bGLtYByDVJqz",
        "outputId": "86305c7e-39a2-4626-dcf5-8f313e161916"
      },
      "source": [
        "# 16.  Function to remove the nth character in a given string\r\n",
        "def RemoveNth(str1, n):\r\n",
        "  return str1[:n] + str1[n+1:]\r\n",
        "\r\n",
        "print(RemoveNth('Bhimavaram', 3))"
      ],
      "execution_count": null,
      "outputs": [
        {
          "output_type": "stream",
          "text": [
            "Bhiavaram\n"
          ],
          "name": "stdout"
        }
      ]
    },
    {
      "cell_type": "code",
      "metadata": {
        "colab": {
          "base_uri": "https://localhost:8080/"
        },
        "id": "Wjsw2zZPVmWt",
        "outputId": "e8650533-9f27-4160-80a3-130e7da5ddb3"
      },
      "source": [
        "# 17. Function which removes the characters at odd index in a given string\r\n",
        "def RemoveOdd(str1):\r\n",
        "  res = ''\r\n",
        "  for i in range(len(str1)):\r\n",
        "    if i%2 == 0:\r\n",
        "      res += str1[i]\r\n",
        "  return res\r\n",
        "\r\n",
        "print(f'String \"Bhimavaram\" after removing odd index characters : {RemoveOdd(\"Bhimavaram\")}')"
      ],
      "execution_count": null,
      "outputs": [
        {
          "output_type": "stream",
          "text": [
            "String \"Bhimavaram\" after removing odd index characters : Biaaa\n"
          ],
          "name": "stdout"
        }
      ]
    },
    {
      "cell_type": "code",
      "metadata": {
        "colab": {
          "base_uri": "https://localhost:8080/"
        },
        "id": "wmTmtYivWSM6",
        "outputId": "a87f3b70-b20a-447c-be55-3fc607958586"
      },
      "source": [
        "# 18. Function which removes the characters at even index in a given string\r\n",
        "def RemoveEven(str1):\r\n",
        "  res = ''\r\n",
        "  for i in range(len(str1)):\r\n",
        "    if i%2 != 0:\r\n",
        "      res += str1[i]\r\n",
        "  return res\r\n",
        "\r\n",
        "print(f'String \"Bhimavaram\" after removing even index characters : {RemoveEven(\"Bhimavaram\")}')"
      ],
      "execution_count": null,
      "outputs": [
        {
          "output_type": "stream",
          "text": [
            "String \"Bhimavaram\" after removing even index characters : hmvrm\n"
          ],
          "name": "stdout"
        }
      ]
    },
    {
      "cell_type": "code",
      "metadata": {
        "colab": {
          "base_uri": "https://localhost:8080/"
        },
        "id": "Yx-xF77fWgYq",
        "outputId": "f76df826-73bc-4d9c-cef3-75745cebe6c1"
      },
      "source": [
        "# 19. Script to convert the given string into upper and lower case\r\n",
        "str1 = input(\"Enter any string : \")\r\n",
        "print(f'Upper case of {str1} is {str1.upper()}')\r\n",
        "print(f'Lower case of {str1} is {str1.lower()}')"
      ],
      "execution_count": null,
      "outputs": [
        {
          "output_type": "stream",
          "text": [
            "Enter any string : PyTorch\n",
            "Upper case of PyTorch is PYTORCH\n",
            "Lower case of PyTorch is pytorch\n"
          ],
          "name": "stdout"
        }
      ]
    },
    {
      "cell_type": "code",
      "metadata": {
        "colab": {
          "base_uri": "https://localhost:8080/"
        },
        "id": "oFLDdEOKXaUE",
        "outputId": "c7bc508f-d628-46f7-c52c-7f043239c64d"
      },
      "source": [
        "# 20. program to find number of unique words in a comma separated string\r\n",
        "L = input(\"Enter comma separated list : \").split(',')\r\n",
        "print(len(set(L)))"
      ],
      "execution_count": null,
      "outputs": [
        {
          "output_type": "stream",
          "text": [
            "Enter comma separated list : sai,divij,sai,sai,srithan,srithan,divij\n",
            "3\n"
          ],
          "name": "stdout"
        }
      ]
    },
    {
      "cell_type": "code",
      "metadata": {
        "colab": {
          "base_uri": "https://localhost:8080/"
        },
        "id": "zBrwYkDlYocO",
        "outputId": "6092693a-aa5c-4e19-86e8-02d004fbe463"
      },
      "source": [
        "# 21. Function to create HTML tags\r\n",
        "def add_tags(tag, word):\r\n",
        "\treturn \"<%s>%s</%s>\" % (tag, word, tag)\r\n",
        " \r\n",
        "print(add_tags('i', 'Python'))\r\n",
        "print(add_tags('b', 'PyTorch'))"
      ],
      "execution_count": null,
      "outputs": [
        {
          "output_type": "stream",
          "text": [
            "<i>Python</i>\n",
            "<b>PyTorch</b>\n"
          ],
          "name": "stdout"
        }
      ]
    },
    {
      "cell_type": "code",
      "metadata": {
        "colab": {
          "base_uri": "https://localhost:8080/"
        },
        "id": "QP7y-hM1ZDHf",
        "outputId": "eba7bbf1-d506-4386-c91c-e18346ffdc02"
      },
      "source": [
        "# 22. program to find the reverse of a given string\r\n",
        "str1 = input(\"Enter string : \")\r\n",
        "print(f'Reverse of {str1} is {str1[::-1]}')"
      ],
      "execution_count": null,
      "outputs": [
        {
          "output_type": "stream",
          "text": [
            "Enter string : vamsika\n",
            "Reverse of vamsika is akismav\n"
          ],
          "name": "stdout"
        }
      ]
    },
    {
      "cell_type": "code",
      "metadata": {
        "colab": {
          "base_uri": "https://localhost:8080/"
        },
        "id": "QHIVdNCOZfgK",
        "outputId": "1319ba3b-0a52-40f1-b143-828f4be8df85"
      },
      "source": [
        "# 23. program to reverse the given string if the string length is multiple of 3\r\n",
        "str1 = input(\"Enter string : \")\r\n",
        "if len(str1)%3 == 0:\r\n",
        "  str1 = str1[::-1]\r\n",
        "\r\n",
        "print(str1)"
      ],
      "execution_count": null,
      "outputs": [
        {
          "output_type": "stream",
          "text": [
            "Enter string : vamsika\n",
            "vamsika\n"
          ],
          "name": "stdout"
        }
      ]
    },
    {
      "cell_type": "code",
      "metadata": {
        "colab": {
          "base_uri": "https://localhost:8080/"
        },
        "id": "BHF4um0XZ6ky",
        "outputId": "31881764-9fc0-47c0-c574-675555aee044"
      },
      "source": [
        "# 24. Program to remove newline characers in a given string.\r\n",
        "str1 = \"Vamsika\\nSrithan\\nDivij\"\r\n",
        "print(f'Original string : {str1}')\r\n",
        "str1 = str1.replace('\\n','')\r\n",
        "print(f'After removing newlines : {str1}')"
      ],
      "execution_count": null,
      "outputs": [
        {
          "output_type": "stream",
          "text": [
            "Original string : Vamsika\n",
            "Srithan\n",
            "Divij\n",
            "After removing newlines : VamsikaSrithanDivij\n"
          ],
          "name": "stdout"
        }
      ]
    },
    {
      "cell_type": "code",
      "metadata": {
        "id": "TMlI9MpyaHDe",
        "colab": {
          "base_uri": "https://localhost:8080/"
        },
        "outputId": "d9bb5691-0033-482a-ae5f-510b09737825"
      },
      "source": [
        "# 25. Python program to find sum of all the elements in a list\r\n",
        "L = list(range(1,11))\r\n",
        "s = 0\r\n",
        "for x in L:\r\n",
        "  s += x\r\n",
        "print(f'Sum = {s}')\r\n"
      ],
      "execution_count": null,
      "outputs": [
        {
          "output_type": "stream",
          "text": [
            "Sum = 55\n"
          ],
          "name": "stdout"
        }
      ]
    },
    {
      "cell_type": "code",
      "metadata": {
        "colab": {
          "base_uri": "https://localhost:8080/"
        },
        "id": "e6VbwrqYDdZz",
        "outputId": "70b4cc16-94bf-4b2d-a647-f2f5bd03e368"
      },
      "source": [
        "# 26. Python program to find sum of all the even elements in a list\r\n",
        "L = list(range(1,11))\r\n",
        "s = 0\r\n",
        "for x in L:\r\n",
        "  if x%2 == 0:\r\n",
        "    s += x\r\n",
        "print(f'Sum = {s}')\r\n"
      ],
      "execution_count": null,
      "outputs": [
        {
          "output_type": "stream",
          "text": [
            "Sum = 30\n"
          ],
          "name": "stdout"
        }
      ]
    },
    {
      "cell_type": "code",
      "metadata": {
        "colab": {
          "base_uri": "https://localhost:8080/"
        },
        "id": "DhIWuVmbDn2Z",
        "outputId": "11c58bf3-7b40-4526-83ba-7a1a9e472d78"
      },
      "source": [
        "# 27. Python program to find sum of all the odd elements in a list\r\n",
        "L = list(range(1,11))\r\n",
        "s = 0\r\n",
        "for x in L:\r\n",
        "  if x%2 != 0:\r\n",
        "    s += x\r\n",
        "print(f'Sum = {s}')\r\n"
      ],
      "execution_count": null,
      "outputs": [
        {
          "output_type": "stream",
          "text": [
            "Sum = 25\n"
          ],
          "name": "stdout"
        }
      ]
    },
    {
      "cell_type": "code",
      "metadata": {
        "colab": {
          "base_uri": "https://localhost:8080/"
        },
        "id": "XvrybbQQDrHG",
        "outputId": "ecf1b323-20da-4d00-89cf-f6885afb23b2"
      },
      "source": [
        "# 28. Python program to find sum of all the elements which are divisible by 3 in a list\r\n",
        "L = list(range(1,11))\r\n",
        "s = 0\r\n",
        "for x in L:\r\n",
        "  if x%3 == 0:\r\n",
        "    s += x\r\n",
        "print(f'Sum = {s}')\r\n"
      ],
      "execution_count": null,
      "outputs": [
        {
          "output_type": "stream",
          "text": [
            "Sum = 18\n"
          ],
          "name": "stdout"
        }
      ]
    },
    {
      "cell_type": "code",
      "metadata": {
        "colab": {
          "base_uri": "https://localhost:8080/"
        },
        "id": "N0CTwZ0DDzxl",
        "outputId": "61cd1787-47ed-4cf9-bddc-9d6069c43846"
      },
      "source": [
        "# 29. Python program to find sum of all the elements at even index in a list\r\n",
        "L = list(range(1,11))\r\n",
        "s = 0\r\n",
        "for x in range(len(L)):\r\n",
        "  if x%2 == 0:\r\n",
        "    s += L[x]\r\n",
        "print(f'Sum = {s}')\r\n"
      ],
      "execution_count": null,
      "outputs": [
        {
          "output_type": "stream",
          "text": [
            "Sum = 25\n"
          ],
          "name": "stdout"
        }
      ]
    },
    {
      "cell_type": "code",
      "metadata": {
        "colab": {
          "base_uri": "https://localhost:8080/"
        },
        "id": "ZvtMtxGREGD7",
        "outputId": "d39e1f0f-1b0a-4932-e5d5-018b5d7e7da0"
      },
      "source": [
        "# 30. Python program to find sum of all the elements at odd index in a list\r\n",
        "L = list(range(1,11))\r\n",
        "s = 0\r\n",
        "for x in range(len(L)):\r\n",
        "  if x%2 != 0:\r\n",
        "    s += L[x]\r\n",
        "print(f'Sum = {s}')\r\n"
      ],
      "execution_count": null,
      "outputs": [
        {
          "output_type": "stream",
          "text": [
            "Sum = 30\n"
          ],
          "name": "stdout"
        }
      ]
    },
    {
      "cell_type": "code",
      "metadata": {
        "colab": {
          "base_uri": "https://localhost:8080/"
        },
        "id": "d2itH5GREKaH",
        "outputId": "b11b4485-a467-4980-b7cf-510fe6d4108c"
      },
      "source": [
        "#31. Write a function to multiply all the elements in a list.\r\n",
        "def multiply_list(items):\r\n",
        "    tot = 1\r\n",
        "    for x in items:\r\n",
        "        tot *= x\r\n",
        "    return tot\r\n",
        "print(multiply_list(list(range(1,20,3))))"
      ],
      "execution_count": null,
      "outputs": [
        {
          "output_type": "stream",
          "text": [
            "1106560\n"
          ],
          "name": "stdout"
        }
      ]
    },
    {
      "cell_type": "code",
      "metadata": {
        "colab": {
          "base_uri": "https://localhost:8080/"
        },
        "id": "I5bmI9QUEcxE",
        "outputId": "4f1dd1a8-f7c1-485e-da2f-525931ac5dde"
      },
      "source": [
        "#32. Write a function to multiply all the even elements in a list.\r\n",
        "def multiply_list(items):\r\n",
        "    tot = 1\r\n",
        "    for x in items:\r\n",
        "      if x%2 ==0:\r\n",
        "        tot *= x\r\n",
        "    return tot\r\n",
        "print(multiply_list(list(range(1,20,3))))"
      ],
      "execution_count": null,
      "outputs": [
        {
          "output_type": "stream",
          "text": [
            "640\n"
          ],
          "name": "stdout"
        }
      ]
    },
    {
      "cell_type": "code",
      "metadata": {
        "colab": {
          "base_uri": "https://localhost:8080/"
        },
        "id": "O3m8MuKzEpH5",
        "outputId": "b3c6d857-3cf3-4a03-c3b2-a3919d2c22c9"
      },
      "source": [
        "#33. Write a function to multiply all the odd elements in a list.\r\n",
        "def multiply_list(items):\r\n",
        "    tot = 1\r\n",
        "    for x in items:\r\n",
        "      if x%2 !=0:\r\n",
        "        tot *= x\r\n",
        "    return tot\r\n",
        "print(multiply_list(list(range(1,20,3))))"
      ],
      "execution_count": null,
      "outputs": [
        {
          "output_type": "stream",
          "text": [
            "1729\n"
          ],
          "name": "stdout"
        }
      ]
    },
    {
      "cell_type": "code",
      "metadata": {
        "colab": {
          "base_uri": "https://localhost:8080/"
        },
        "id": "IlSIPo-hEuLW",
        "outputId": "b4b4e870-c470-4f5f-a1ab-db0241740180"
      },
      "source": [
        "#34. Write a function to multiply all the even indexed elements in a list.\r\n",
        "def multiply_list(items):\r\n",
        "    tot = 1\r\n",
        "    for x in range(len(items)):\r\n",
        "      if x%2 ==0:\r\n",
        "        tot *= items[x]\r\n",
        "    return tot\r\n",
        "print(multiply_list(list(range(1,20,3))))"
      ],
      "execution_count": null,
      "outputs": [
        {
          "output_type": "stream",
          "text": [
            "1729\n"
          ],
          "name": "stdout"
        }
      ]
    },
    {
      "cell_type": "code",
      "metadata": {
        "colab": {
          "base_uri": "https://localhost:8080/"
        },
        "id": "gouEg3pQE35n",
        "outputId": "e5979a9f-59e2-45db-a44d-d7e2ef683160"
      },
      "source": [
        "#35. Write a function to multiply all the odd indexed elements in a list.\r\n",
        "def multiply_list(items):\r\n",
        "    tot = 1\r\n",
        "    for x in range(len(items)):\r\n",
        "      if x%2!=0:\r\n",
        "        tot *= items[x]\r\n",
        "    return tot\r\n",
        "print(multiply_list(list(range(1,20,3))))"
      ],
      "execution_count": null,
      "outputs": [
        {
          "output_type": "stream",
          "text": [
            "640\n"
          ],
          "name": "stdout"
        }
      ]
    },
    {
      "cell_type": "code",
      "metadata": {
        "colab": {
          "base_uri": "https://localhost:8080/"
        },
        "id": "OqG_2O8NFAUf",
        "outputId": "a88f78c1-1d47-4ff9-8827-9f40be28ce64"
      },
      "source": [
        "#36. Write a function to multiply all the elements which are not multiples of 3 in a list.\r\n",
        "def multiply_list(items):\r\n",
        "    tot = 1\r\n",
        "    for x in items:\r\n",
        "      if x%3 !=0:\r\n",
        "        tot *= x\r\n",
        "    return tot\r\n",
        "print(multiply_list(list(range(1,20,3))))"
      ],
      "execution_count": null,
      "outputs": [
        {
          "output_type": "stream",
          "text": [
            "1106560\n"
          ],
          "name": "stdout"
        }
      ]
    },
    {
      "cell_type": "code",
      "metadata": {
        "colab": {
          "base_uri": "https://localhost:8080/"
        },
        "id": "knO_xJCWFH5Q",
        "outputId": "349d29ca-737d-497b-e159-b72666ad5c0a"
      },
      "source": [
        "#37. Write a function to multiply all the elements which are multiples of 3 in a list.\r\n",
        "def multiply_list(items):\r\n",
        "    tot = 1\r\n",
        "    for x in items:\r\n",
        "      if x%3 ==0:\r\n",
        "        tot *= x\r\n",
        "    return tot\r\n",
        "print(multiply_list(list(range(1,20,3))))"
      ],
      "execution_count": null,
      "outputs": [
        {
          "output_type": "stream",
          "text": [
            "1\n"
          ],
          "name": "stdout"
        }
      ]
    },
    {
      "cell_type": "code",
      "metadata": {
        "colab": {
          "base_uri": "https://localhost:8080/"
        },
        "id": "CBuAjY5oFOZt",
        "outputId": "37d56612-f1d6-4418-dd7b-239dfca2c73e"
      },
      "source": [
        "# 38. Program to find largest number in a list\r\n",
        "L = list(range(1,20,3))\r\n",
        "ans = L[0]\r\n",
        "for i in range(len(L)):\r\n",
        "  if L[i] > ans:\r\n",
        "    ans = L[i]\r\n",
        "\r\n",
        "print(ans)"
      ],
      "execution_count": null,
      "outputs": [
        {
          "output_type": "stream",
          "text": [
            "19\n"
          ],
          "name": "stdout"
        }
      ]
    },
    {
      "cell_type": "code",
      "metadata": {
        "colab": {
          "base_uri": "https://localhost:8080/"
        },
        "id": "SDJLyUg9FoJV",
        "outputId": "c3480297-dee6-455c-b80d-8cef52dba84f"
      },
      "source": [
        "# 39. Program to find smallest number in a list\r\n",
        "L = list(range(1,20,3))\r\n",
        "ans = L[0]\r\n",
        "for i in range(len(L)):\r\n",
        "  if L[i] < ans:\r\n",
        "    ans = L[i]\r\n",
        "\r\n",
        "print(ans)"
      ],
      "execution_count": null,
      "outputs": [
        {
          "output_type": "stream",
          "text": [
            "1\n"
          ],
          "name": "stdout"
        }
      ]
    },
    {
      "cell_type": "code",
      "metadata": {
        "colab": {
          "base_uri": "https://localhost:8080/"
        },
        "id": "jOy-w6SkFtp9",
        "outputId": "2a98f443-7c29-4e23-d732-73b047080eab"
      },
      "source": [
        "# 40. Count the number of strings where the string length is 2 or more \r\n",
        "def match_words(words):\r\n",
        "  ctr = 0\r\n",
        "\r\n",
        "  for word in words:\r\n",
        "    if len(word) > 1:\r\n",
        "      ctr += 1\r\n",
        "  return ctr\r\n",
        "\r\n",
        "print(match_words(['abc', 'xyz', 'aba', '1221']))"
      ],
      "execution_count": null,
      "outputs": [
        {
          "output_type": "stream",
          "text": [
            "4\n"
          ],
          "name": "stdout"
        }
      ]
    },
    {
      "cell_type": "code",
      "metadata": {
        "colab": {
          "base_uri": "https://localhost:8080/"
        },
        "id": "dx9u4ClEF9r3",
        "outputId": "9cd70577-7178-433e-a65f-487451543092"
      },
      "source": [
        "#41. Count the number of strings where the string length is 2 or more and the first and last character are same from a given list of strings\r\n",
        "def match_words(words):\r\n",
        "  ctr = 0\r\n",
        "\r\n",
        "  for word in words:\r\n",
        "    if len(word) > 1 and word[0] == word[-1]:\r\n",
        "      ctr += 1\r\n",
        "  return ctr\r\n",
        "\r\n",
        "print(match_words(['abc', 'xyz', 'aba', '1221']))"
      ],
      "execution_count": null,
      "outputs": [
        {
          "output_type": "stream",
          "text": [
            "2\n"
          ],
          "name": "stdout"
        }
      ]
    },
    {
      "cell_type": "code",
      "metadata": {
        "colab": {
          "base_uri": "https://localhost:8080/"
        },
        "id": "6UmExo1gGEjA",
        "outputId": "adf729ce-e20e-4d6c-8cf0-ddc8f921a538"
      },
      "source": [
        "#42. Write a program to remove duplicates in a list\r\n",
        "a = [10,20,30,20,10,50,60,40,80,50,40]\r\n",
        "\r\n",
        "dup_items = set()\r\n",
        "uniq_items = []\r\n",
        "for x in a:\r\n",
        "    if x not in dup_items:\r\n",
        "        uniq_items.append(x)\r\n",
        "        dup_items.add(x)\r\n",
        "\r\n",
        "print(dup_items)"
      ],
      "execution_count": null,
      "outputs": [
        {
          "output_type": "stream",
          "text": [
            "{40, 10, 80, 50, 20, 60, 30}\n"
          ],
          "name": "stdout"
        }
      ]
    },
    {
      "cell_type": "code",
      "metadata": {
        "colab": {
          "base_uri": "https://localhost:8080/"
        },
        "id": "wFPVjG2bGP_o",
        "outputId": "4101c23f-289b-421a-978b-3e41b2fa1126"
      },
      "source": [
        "# 43. Write a program to remove duplicates in a list using sets\r\n",
        "a = [10,20,30,20,10,50,60,40,80,50,40]\r\n",
        "\r\n",
        "dup_items = list(set(a))\r\n",
        "print(dup_items)"
      ],
      "execution_count": null,
      "outputs": [
        {
          "output_type": "stream",
          "text": [
            "[40, 10, 80, 50, 20, 60, 30]\n"
          ],
          "name": "stdout"
        }
      ]
    },
    {
      "cell_type": "code",
      "metadata": {
        "colab": {
          "base_uri": "https://localhost:8080/"
        },
        "id": "w51OHGeHGZ9M",
        "outputId": "fe8602bb-73d2-43e3-f041-cb7eaf60c876"
      },
      "source": [
        "# 44. Write a function to check whether a list is empty or not\r\n",
        "def isEmpty(L):\r\n",
        "  if L:\r\n",
        "    print(f'{L} - List is not empty')\r\n",
        "  else:\r\n",
        "    print(f'{L} - List is empty')\r\n",
        "\r\n",
        "isEmpty([])\r\n",
        "isEmpty([2, 3, 4])"
      ],
      "execution_count": null,
      "outputs": [
        {
          "output_type": "stream",
          "text": [
            "[] - List is empty\n",
            "[2, 3, 4] - List is not empty\n"
          ],
          "name": "stdout"
        }
      ]
    },
    {
      "cell_type": "code",
      "metadata": {
        "id": "EXCE2sREG4GG",
        "colab": {
          "base_uri": "https://localhost:8080/"
        },
        "outputId": "dfab2d6b-0334-4eb2-d9f7-a578ee3232fd"
      },
      "source": [
        "#45. read numbers separated by commas and find their sum.\r\n",
        "input_string = input(\"Enter a list element separated by comma \")\r\n",
        "list  = input_string.split(\",\")\r\n",
        "print(\"Calculating sum of element of input list\")\r\n",
        "sum = 0\r\n",
        "for num in list:\r\n",
        "    sum += int (num)\r\n",
        "print(\"Sum = \",sum)"
      ],
      "execution_count": null,
      "outputs": [
        {
          "output_type": "stream",
          "text": [
            "Enter a list element separated by comma 1,2,3\n",
            "Calculating sum of element of input list\n",
            "Sum =  6\n"
          ],
          "name": "stdout"
        }
      ]
    },
    {
      "cell_type": "code",
      "metadata": {
        "colab": {
          "base_uri": "https://localhost:8080/"
        },
        "id": "eoGSQDujKwKe",
        "outputId": "12f5797d-efe9-4e93-8a5e-e7f740d18c0c"
      },
      "source": [
        "# 46. read input in the form [1,2,4] and find the sum.\r\n",
        "input_string = input(\"Enter a list element separated by comma \")\r\n",
        "input_string = input_string.strip('[').strip(']')\r\n",
        "list  = input_string.split(',')\r\n",
        "#print(list)\r\n",
        "print(\"Calculating sum of element of input list\")\r\n",
        "sum = 0\r\n",
        "for num in list:\r\n",
        "    sum += int (num)\r\n",
        "print(\"Sum = \",sum)"
      ],
      "execution_count": null,
      "outputs": [
        {
          "output_type": "stream",
          "text": [
            "Enter a list element separated by comma [1,2,3]\n",
            "Calculating sum of element of input list\n",
            "Sum =  6\n"
          ],
          "name": "stdout"
        }
      ]
    },
    {
      "cell_type": "code",
      "metadata": {
        "id": "qn953qaPK2VK",
        "colab": {
          "base_uri": "https://localhost:8080/"
        },
        "outputId": "60c0893a-eeb0-4ade-efeb-7a133ac0af7e"
      },
      "source": [
        "# 47. Function to randomly remove 25% of the words in a given string.\r\n",
        "import random\r\n",
        "def random_deletion(words, p=0.2): \r\n",
        "    if len(words) == 1: # return if single word\r\n",
        "        return words\r\n",
        "    remaining = list(filter(lambda x: random.uniform(0,1) > p,words)) \r\n",
        "    if len(remaining) == 0: # if not left, sample a random word\r\n",
        "        return [random.choice(words)] \r\n",
        "    else:\r\n",
        "        return ' '.join(remaining)\r\n",
        "\r\n",
        "str = 'Fruit is the sweet, fleshy, edible part of a plant. It generally contains seeds. '\r\n",
        "print(str)\r\n",
        "print(random_deletion(str.split()))\r\n",
        "print(random_deletion(str.split()))"
      ],
      "execution_count": null,
      "outputs": [
        {
          "output_type": "stream",
          "text": [
            "Fruit is the sweet, fleshy, edible part of a plant. It generally contains seeds. \n",
            "Fruit is the fleshy, edible part of a plant. It contains seeds.\n",
            "is the sweet, fleshy, edible part of a plant. It generally\n"
          ],
          "name": "stdout"
        }
      ]
    },
    {
      "cell_type": "code",
      "metadata": {
        "colab": {
          "base_uri": "https://localhost:8080/"
        },
        "id": "xVQPEe2PMtPA",
        "outputId": "790fd9fb-1431-442c-cd18-3e47fff83ee3"
      },
      "source": [
        "#48. Function to randomly swap the words in a sentence\r\n",
        "def random_swap(sentence, n=2): \r\n",
        "    sentence = sentence.split()\r\n",
        "    if len(sentence) > 4:\r\n",
        "\r\n",
        "      length = range(len(sentence)-1) \r\n",
        "      #print(sentence, length)\r\n",
        "      for _ in range(n):\r\n",
        "          idx1, idx2 = random.sample(length, 2)\r\n",
        "          sentence[idx1], sentence[idx2] = sentence[idx2], sentence[idx1] \r\n",
        "          #print(idx1, idx2, sentence)\r\n",
        "      return ' '.join(sentence)\r\n",
        "    return ' '.join(sentence)\r\n",
        "\r\n",
        "str = 'Rama killed Ravana, and made Vibhishana as king of Lanka'\r\n",
        "print(str)\r\n",
        "print(random_swap(str))\r\n",
        "print(random_swap(str, n=5))"
      ],
      "execution_count": null,
      "outputs": [
        {
          "output_type": "stream",
          "text": [
            "Rama killed Ravana, and made Vibhishana as king of Lanka\n",
            "Rama king made and Ravana, Vibhishana as killed of Lanka\n",
            "Vibhishana made Ravana, of killed as and king Rama Lanka\n"
          ],
          "name": "stdout"
        }
      ]
    },
    {
      "cell_type": "code",
      "metadata": {
        "id": "_EmyiX2g2p8e",
        "colab": {
          "base_uri": "https://localhost:8080/"
        },
        "outputId": "c6f3c80d-4c68-47c1-a6ce-a6c214a357b4"
      },
      "source": [
        "# 49. Program to display calendar of the given month and year\r\n",
        "import calendar\r\n",
        "\r\n",
        "year = int(input(\"Enter year: \"))\r\n",
        "month = int(input(\"Enter month: \"))\r\n",
        "print(calendar.month(year, month))"
      ],
      "execution_count": null,
      "outputs": [
        {
          "output_type": "stream",
          "text": [
            "Enter year: 2021\n",
            "Enter month: 2\n",
            "   February 2021\n",
            "Mo Tu We Th Fr Sa Su\n",
            " 1  2  3  4  5  6  7\n",
            " 8  9 10 11 12 13 14\n",
            "15 16 17 18 19 20 21\n",
            "22 23 24 25 26 27 28\n",
            "\n"
          ],
          "name": "stdout"
        }
      ]
    },
    {
      "cell_type": "code",
      "metadata": {
        "colab": {
          "base_uri": "https://localhost:8080/"
        },
        "id": "O7bt9PnlNODF",
        "outputId": "01967fa9-1ae3-410b-d6a1-5d27a82e5b2b"
      },
      "source": [
        "# 50. Function to make a simple calculator\r\n",
        "\r\n",
        "# This function adds two numbers\r\n",
        "def add(x, y):\r\n",
        "    return x + y\r\n",
        "# This function subtracts two numbers\r\n",
        "def subtract(x, y):\r\n",
        "    return x - y\r\n",
        "# This function multiplies two numbers\r\n",
        "def multiply(x, y):\r\n",
        "    return x * y\r\n",
        "# This function divides two numbers\r\n",
        "def divide(x, y):\r\n",
        "    return x / y\r\n",
        "\r\n",
        "print(\"Select operation.\")\r\n",
        "print(\"1.Add\")\r\n",
        "print(\"2.Subtract\")\r\n",
        "print(\"3.Multiply\")\r\n",
        "print(\"4.Divide\")\r\n",
        "\r\n",
        "while True:\r\n",
        "    choice = input(\"Enter choice(1/2/3/4): \")\r\n",
        "    if choice in ('1', '2', '3', '4'):\r\n",
        "        num1 = float(input(\"Enter first number: \"))\r\n",
        "        num2 = float(input(\"Enter second number: \"))\r\n",
        "\r\n",
        "        if choice == '1':\r\n",
        "            print(num1, \"+\", num2, \"=\", add(num1, num2))\r\n",
        "        elif choice == '2':\r\n",
        "            print(num1, \"-\", num2, \"=\", subtract(num1, num2))\r\n",
        "        elif choice == '3':\r\n",
        "            print(num1, \"*\", num2, \"=\", multiply(num1, num2))\r\n",
        "        elif choice == '4':\r\n",
        "            print(num1, \"/\", num2, \"=\", divide(num1, num2))\r\n",
        "        break\r\n",
        "    else:\r\n",
        "        print(\"Invalid Input\")"
      ],
      "execution_count": null,
      "outputs": [
        {
          "output_type": "stream",
          "text": [
            "Select operation.\n",
            "1.Add\n",
            "2.Subtract\n",
            "3.Multiply\n",
            "4.Divide\n",
            "Enter choice(1/2/3/4): 1\n",
            "Enter first number: 10\n",
            "Enter second number: 20\n",
            "10.0 + 20.0 = 30.0\n"
          ],
          "name": "stdout"
        }
      ]
    },
    {
      "cell_type": "code",
      "metadata": {
        "colab": {
          "base_uri": "https://localhost:8080/"
        },
        "id": "9h2Pn1S5O8ms",
        "outputId": "d0068ab0-eee0-41c7-e787-589c2290ab99"
      },
      "source": [
        "# 51. Counting no of vowels and consonants in a string\r\n",
        "\r\n",
        "str = input(\"Enter a string: \")\r\n",
        "vowels = 0\r\n",
        "consonants = 0\r\n",
        "for i in str:\r\n",
        "  if(i=='a' or i=='e' or i=='i' or i=='o' or i=='u' or i=='A' or i=='E' or i=='I' or i=='O' or i=='U'):\r\n",
        "    vowels+=1\r\n",
        "  else:\r\n",
        "    consonants+=1\r\n",
        "print(\"Number of vowels is: {}\".format(vowels))\r\n",
        "print(\"Number of consonants is: {}\".format(consonants))"
      ],
      "execution_count": null,
      "outputs": [
        {
          "output_type": "stream",
          "text": [
            "Enter a string: python\n",
            "Number of vowels is: 1\n",
            "Number of consonants is: 5\n"
          ],
          "name": "stdout"
        }
      ]
    },
    {
      "cell_type": "code",
      "metadata": {
        "colab": {
          "base_uri": "https://localhost:8080/"
        },
        "id": "POlh0Pq3RCLL",
        "outputId": "e8c37d66-7f8d-4dd2-d1cf-ff1e19b4b22f"
      },
      "source": [
        "# 52. To display current date\r\n",
        "\r\n",
        "import datetime\r\n",
        "now = datetime.datetime.now()\r\n",
        "print(\"current date:\")\r\n",
        "print(now.strftime(\"%d-%m-%y\"))"
      ],
      "execution_count": null,
      "outputs": [
        {
          "output_type": "stream",
          "text": [
            "current date:\n",
            "05-02-21\n"
          ],
          "name": "stdout"
        }
      ]
    },
    {
      "cell_type": "code",
      "metadata": {
        "colab": {
          "base_uri": "https://localhost:8080/"
        },
        "id": "8eRKH7TER_Nk",
        "outputId": "1c637c0b-20cd-4525-cdab-8d5db13f2ebc"
      },
      "source": [
        "# 53. To calculate the hypotenus of a right angled triangle\r\n",
        "import math\r\n",
        "side1 = int(input('Enter length of first side:'))\r\n",
        "side2 = int(input('Enter length of second side:'))\r\n",
        "hypo = math.sqrt((side1**2)+(side2**2))\r\n",
        "print(\"hypotenus of triangle is {}\".format(hypo))"
      ],
      "execution_count": null,
      "outputs": [
        {
          "output_type": "stream",
          "text": [
            "Enter length of first side:3\n",
            "Enter length of second side:4\n",
            "hypotenus of triangle is 5.0\n"
          ],
          "name": "stdout"
        }
      ]
    },
    {
      "cell_type": "code",
      "metadata": {
        "colab": {
          "base_uri": "https://localhost:8080/"
        },
        "id": "iceUPtINTfDy",
        "outputId": "b63f3ed3-461e-48fb-d8f2-ea052ada8ac8"
      },
      "source": [
        "# 54. Calculating the GCD of two numbers\r\n",
        "num1 = int(input(\"enter first number\"))\r\n",
        "num2 = int(input(\"enter second number\"))\r\n",
        "while num1%num2 != 0:\r\n",
        "  rem = num1%num2\r\n",
        "  num1 = num2\r\n",
        "  num2 = rem\r\n",
        "print(\"GCD of two numbers is: {}\".format(num2))"
      ],
      "execution_count": null,
      "outputs": [
        {
          "output_type": "stream",
          "text": [
            "enter first number64\n",
            "enter second number48\n",
            "GCD of two numbers is: 16\n"
          ],
          "name": "stdout"
        }
      ]
    },
    {
      "cell_type": "code",
      "metadata": {
        "id": "luPH_vU6Uxp9",
        "colab": {
          "base_uri": "https://localhost:8080/"
        },
        "outputId": "34505810-f9e0-46ed-ae22-e56188675a9c"
      },
      "source": [
        "# 55. To check armstrong number or not\r\n",
        "num = int(input(\"Enter a number: \"))\r\n",
        "sum = 0\r\n",
        "temp = num\r\n",
        "while temp > 0:\r\n",
        "   digit = temp % 10\r\n",
        "   sum += digit ** 3\r\n",
        "   temp //= 10\r\n",
        "if num == sum:\r\n",
        "   print(num,\"is an Armstrong number\")\r\n",
        "else:\r\n",
        "   print(num,\"is not an Armstrong number\")"
      ],
      "execution_count": null,
      "outputs": [
        {
          "output_type": "stream",
          "text": [
            "Enter a number: 121\n",
            "121 is not an Armstrong number\n"
          ],
          "name": "stdout"
        }
      ]
    },
    {
      "cell_type": "code",
      "metadata": {
        "colab": {
          "base_uri": "https://localhost:8080/"
        },
        "id": "H4fATYMG4KIM",
        "outputId": "4f561aed-1048-4879-bbd0-08be8a55f5c7"
      },
      "source": [
        "# 56. Random password generator of required length\r\n",
        "import random\r\n",
        "passlen = int(input(\"enter the length of password\"))\r\n",
        "s=\"abcdefghijklmnopqrstuvwxyz01234567890ABCDEFGHIJKLMNOPQRSTUVWXYZ!@#$%^&*()?\"\r\n",
        "p = \"\".join(random.sample(s,passlen ))\r\n",
        "print(p)"
      ],
      "execution_count": null,
      "outputs": [
        {
          "output_type": "stream",
          "text": [
            "enter the length of password10\n",
            "w8naHt&zIG\n"
          ],
          "name": "stdout"
        }
      ]
    },
    {
      "cell_type": "code",
      "metadata": {
        "colab": {
          "base_uri": "https://localhost:8080/"
        },
        "id": "F-NgnM2o5ANc",
        "outputId": "af839747-3f66-4abe-8a4a-69c1099c4b49"
      },
      "source": [
        "# 57. Function for fahrenheit to celsius conversion\r\n",
        "def convert(s):\r\n",
        "    f = float(s)\r\n",
        "    c = (f - 32) * 5/9\r\n",
        "    return c\r\n",
        "\r\n",
        "s = int(input(\"Enter fahrenheit temperature: \"))\r\n",
        "print(\"Temperature in celsius is {}\".format(convert(s)))"
      ],
      "execution_count": null,
      "outputs": [
        {
          "output_type": "stream",
          "text": [
            "Enter fahrenheit temperature: 46\n",
            "Temperature in celsius is 7.777777777777778\n"
          ],
          "name": "stdout"
        }
      ]
    },
    {
      "cell_type": "code",
      "metadata": {
        "colab": {
          "base_uri": "https://localhost:8080/"
        },
        "id": "EQWI5Wse6QFX",
        "outputId": "1da25909-4daa-481a-b781-2df3222c4483"
      },
      "source": [
        "# 58. username and domain from an email\r\n",
        "email = input(\"Enter Your Email: \").strip()\r\n",
        "username = email[:email.index(\"@\")]\r\n",
        "domain_name = email[email.index(\"@\")+1:]\r\n",
        "format_ = (f\"Your user name is '{username}' and your domain is '{domain_name}'\")\r\n",
        "print(format_)"
      ],
      "execution_count": null,
      "outputs": [
        {
          "output_type": "stream",
          "text": [
            "Enter Your Email: vcdhbdjb@gmail.com\n",
            "Your user name is 'vcdhbdjb' and your domain is 'gmail.com'\n"
          ],
          "name": "stdout"
        }
      ]
    },
    {
      "cell_type": "code",
      "metadata": {
        "id": "K1-c1VYo7B-W",
        "colab": {
          "base_uri": "https://localhost:8080/"
        },
        "outputId": "59806493-f952-4247-da26-0a7ce4d928b2"
      },
      "source": [
        "# 59. Convert Degree to Radian\r\n",
        "def convert_degree_to_radian(degree):\r\n",
        "  pi = 22/7\r\n",
        "  return degree * (pi/180)\r\n",
        "print(convert_degree_to_radian(90))"
      ],
      "execution_count": null,
      "outputs": [
        {
          "output_type": "stream",
          "text": [
            "1.5714285714285714\n"
          ],
          "name": "stdout"
        }
      ]
    },
    {
      "cell_type": "code",
      "metadata": {
        "colab": {
          "base_uri": "https://localhost:8080/"
        },
        "id": "5212eH-aQxV9",
        "outputId": "064c4512-f0e1-4202-fec2-d63dd8e9aeed"
      },
      "source": [
        "# 60. Area of Trapezoid\r\n",
        "def area_of_trapezoid(base1: float, base2: float, height: float):\r\n",
        "  return ((base1 + base2) / 2) * height\r\n",
        "print(area_of_trapezoid(10, 5, 6))"
      ],
      "execution_count": null,
      "outputs": [
        {
          "output_type": "stream",
          "text": [
            "45.0\n"
          ],
          "name": "stdout"
        }
      ]
    },
    {
      "cell_type": "code",
      "metadata": {
        "colab": {
          "base_uri": "https://localhost:8080/"
        },
        "id": "TvkQeCv4RleX",
        "outputId": "27bc1dd8-7184-49bb-9627-b9ccd83ff0dc"
      },
      "source": [
        "#61. Area of parallelogram\r\n",
        "def area_of_parallelogram(length: float, height: float):\r\n",
        "  return length * height\r\n",
        "print(area_of_parallelogram(5, 6))"
      ],
      "execution_count": null,
      "outputs": [
        {
          "output_type": "stream",
          "text": [
            "30\n"
          ],
          "name": "stdout"
        }
      ]
    },
    {
      "cell_type": "code",
      "metadata": {
        "colab": {
          "base_uri": "https://localhost:8080/"
        },
        "id": "0h60qGjBR-sn",
        "outputId": "db2850b2-f511-4901-faf8-9733fc737e74"
      },
      "source": [
        "# 62. Surface volume of Cylinder\r\n",
        "def surface_volume_of_cylinder(height: float, radius: float):\r\n",
        "  pi = 22/7\r\n",
        "  return  pi * radius * radius * height\r\n",
        "print(surface_volume_of_cylinder(4, 6))"
      ],
      "execution_count": null,
      "outputs": [
        {
          "output_type": "stream",
          "text": [
            "452.57142857142856\n"
          ],
          "name": "stdout"
        }
      ]
    },
    {
      "cell_type": "code",
      "metadata": {
        "colab": {
          "base_uri": "https://localhost:8080/",
          "height": 35
        },
        "id": "sbtJ2r3LSl2z",
        "outputId": "7cbab60b-2b6e-4a08-c982-3e1778bd1b1d"
      },
      "source": [
        "# 63. arc length of an angle\r\n",
        "def arc_length_of_angle(diameter: float, angle: float):\r\n",
        "  pi = 22/7\r\n",
        "  return \"Angle not possible\" if angle >= 360 else ((pi * diameter) * (angle / 360))\r\n",
        "print(arc_length_of_angle(9, 361))"
      ],
      "execution_count": null,
      "outputs": [
        {
          "output_type": "execute_result",
          "data": {
            "application/vnd.google.colaboratory.intrinsic+json": {
              "type": "string"
            },
            "text/plain": [
              "'Angle not possible'"
            ]
          },
          "metadata": {
            "tags": []
          },
          "execution_count": 14
        }
      ]
    },
    {
      "cell_type": "code",
      "metadata": {
        "colab": {
          "base_uri": "https://localhost:8080/"
        },
        "id": "ExvdkA6oTLgU",
        "outputId": "24b88a50-20b7-4348-fe7a-bf3e18df8db7"
      },
      "source": [
        "# 64. Area of a sector\r\n",
        "def area_of_sector(radius: float, angle: float):\r\n",
        "  pi = 22/7\r\n",
        "  return \"Angle not possible\" if angle >= 360 else ((pi * radius * radius) * (angle / 360))\r\n",
        "area_of_sector(4, 45)"
      ],
      "execution_count": null,
      "outputs": [
        {
          "output_type": "execute_result",
          "data": {
            "text/plain": [
              "6.285714285714286"
            ]
          },
          "metadata": {
            "tags": []
          },
          "execution_count": 17
        }
      ]
    },
    {
      "cell_type": "code",
      "metadata": {
        "colab": {
          "base_uri": "https://localhost:8080/",
          "height": 35
        },
        "id": "YKlc91vbTw0m",
        "outputId": "87842315-79fb-4d1d-9562-6a42d68606b7"
      },
      "source": [
        "# 65. discriminent value\r\n",
        "def discriminent(x: float, y: float, z: float):\r\n",
        "  discriminent = (y**2) - (4 * x*z)\r\n",
        "  if discriminent > 0:\r\n",
        "    return \"Two Solutions. Discriminent values are \" + str (discriminent)\r\n",
        "  elif discriminent == 0:\r\n",
        "    return \"One Solution. Discriminent value is \" + str (discriminent)\r\n",
        "  elif discriminent < 0:\r\n",
        "    return \"No real solution. Discriminent value is\" + str (discriminent)\r\n",
        "discriminent(4, 8, 2)"
      ],
      "execution_count": null,
      "outputs": [
        {
          "output_type": "execute_result",
          "data": {
            "application/vnd.google.colaboratory.intrinsic+json": {
              "type": "string"
            },
            "text/plain": [
              "'Two Solutions. Discriminent values are 32'"
            ]
          },
          "metadata": {
            "tags": []
          },
          "execution_count": 19
        }
      ]
    },
    {
      "cell_type": "code",
      "metadata": {
        "colab": {
          "base_uri": "https://localhost:8080/"
        },
        "id": "DmWyqPPVT0d1",
        "outputId": "4f22cf12-76c1-4502-eb88-78a462f6e28c"
      },
      "source": [
        "# 66. Last occurance of a letter in a word\r\n",
        "def last_occurence(word: str, letter: str):\r\n",
        "  return word.rfind(letter)\r\n",
        "last_occurence(\"Vishnu Institute of Technology\", \"o\")"
      ],
      "execution_count": null,
      "outputs": [
        {
          "output_type": "execute_result",
          "data": {
            "text/plain": [
              "27"
            ]
          },
          "metadata": {
            "tags": []
          },
          "execution_count": 21
        }
      ]
    },
    {
      "cell_type": "code",
      "metadata": {
        "colab": {
          "base_uri": "https://localhost:8080/"
        },
        "id": "HWq9TepkYYDC",
        "outputId": "65677147-4c08-4a21-a675-d6dabfada18f"
      },
      "source": [
        "# 67. number of elements greater than given number\r\n",
        "def greater(lst: list, max_element: int):\r\n",
        "  count = 0\r\n",
        "  for i in lst:\r\n",
        "    if i > max_element :\r\n",
        "      count += 1\r\n",
        "  return count\r\n",
        "greater([1, 2, 3, 4], 2)"
      ],
      "execution_count": null,
      "outputs": [
        {
          "output_type": "execute_result",
          "data": {
            "text/plain": [
              "2"
            ]
          },
          "metadata": {
            "tags": []
          },
          "execution_count": 26
        }
      ]
    },
    {
      "cell_type": "code",
      "metadata": {
        "colab": {
          "base_uri": "https://localhost:8080/"
        },
        "id": "WN6aGGt_Y7lx",
        "outputId": "1e02f642-e4f0-4506-9b0e-387c9d418e16"
      },
      "source": [
        "# 68. Swap max and min elements in list\r\n",
        "def swap_max_min(lst: list):\r\n",
        "  lst[lst.index(max(lst))], lst[lst.index(min(lst))] = lst[lst.index(min(lst))], lst[lst.index(max(lst))]\r\n",
        "  return lst\r\n",
        "swap_max_min([1, 2, 3, 5])"
      ],
      "execution_count": null,
      "outputs": [
        {
          "output_type": "execute_result",
          "data": {
            "text/plain": [
              "[5, 2, 3, 1]"
            ]
          },
          "metadata": {
            "tags": []
          },
          "execution_count": 31
        }
      ]
    },
    {
      "cell_type": "code",
      "metadata": {
        "id": "GWztjix2Z3DG",
        "colab": {
          "base_uri": "https://localhost:8080/"
        },
        "outputId": "ecf80920-6f48-4f3b-ffb1-bbdabcea9e65"
      },
      "source": [
        "# 69. Simple Number Triangle Pattern\r\n",
        "n = int(input())\r\n",
        "print(\"Triangular Pattern for the given number : \")\r\n",
        "for i in range(1,n+1):\r\n",
        "    for _ in range(i):\r\n",
        "        print(i,end=\"\")\r\n",
        "    print()"
      ],
      "execution_count": null,
      "outputs": [
        {
          "output_type": "stream",
          "text": [
            "6\n",
            "Triangular Pattern for the given number : \n",
            "1\n",
            "22\n",
            "333\n",
            "4444\n",
            "55555\n",
            "666666\n"
          ],
          "name": "stdout"
        }
      ]
    },
    {
      "cell_type": "code",
      "metadata": {
        "colab": {
          "base_uri": "https://localhost:8080/"
        },
        "id": "3dlLKObH8Z05",
        "outputId": "e1e7839e-f4da-4bce-c839-18f019e7f9e2"
      },
      "source": [
        "# 70. Inverted Pyramid of Number\r\n",
        "n = int(input(\"Enter the number :\"))\r\n",
        "print(\"Inverted pyramid for given number : \")\r\n",
        "for i in range(1,n+1):\r\n",
        "    for j in range(n-i+1):\r\n",
        "        print(i,end=\"\")\r\n",
        "    print()\r\n"
      ],
      "execution_count": null,
      "outputs": [
        {
          "output_type": "stream",
          "text": [
            "Enter the number :5\n",
            "Inverted pyramid for given number : \n",
            "11111\n",
            "2222\n",
            "333\n",
            "44\n",
            "5\n"
          ],
          "name": "stdout"
        }
      ]
    },
    {
      "cell_type": "code",
      "metadata": {
        "colab": {
          "base_uri": "https://localhost:8080/"
        },
        "id": "ehaZMeCTdes2",
        "outputId": "07430fac-1ed9-45f0-8463-65c0d14bed74"
      },
      "source": [
        "# 71. Sum of first n natural numbers\r\n",
        "def SumOfNaturalNumbers(n):\r\n",
        "  return (n*(n+1))//2\r\n",
        "num = int(input(\"Enter a number : \"))\r\n",
        "print(\"The sum of first {} natural numbers is : {}\".format(num,SumOfNaturalNumbers(num)))"
      ],
      "execution_count": null,
      "outputs": [
        {
          "output_type": "stream",
          "text": [
            "Enter a number : 5\n",
            "The sum of first 5 natural numbers is : 15\n"
          ],
          "name": "stdout"
        }
      ]
    },
    {
      "cell_type": "code",
      "metadata": {
        "colab": {
          "base_uri": "https://localhost:8080/"
        },
        "id": "GvYlOipgnEPG",
        "outputId": "ca676b75-dbaa-4351-f48d-f13a5a017c3e"
      },
      "source": [
        "# 72. Program To Find ASCII value of given input\r\n",
        "c = input(\"Enter a character: \")  \r\n",
        "print(\"The ASCII value of {} is {} \".format(c,ord(c)))"
      ],
      "execution_count": null,
      "outputs": [
        {
          "output_type": "stream",
          "text": [
            "Enter a character: )\n",
            "The ASCII value of ) is 41 \n"
          ],
          "name": "stdout"
        }
      ]
    },
    {
      "cell_type": "code",
      "metadata": {
        "colab": {
          "base_uri": "https://localhost:8080/"
        },
        "id": "XIrypYEjptx_",
        "outputId": "6a813eba-2187-4727-b9ad-1ae5a6745ea4"
      },
      "source": [
        "# 73. Program To Find value of given ASCII number\r\n",
        "c = int(input(\"Enter the ASCII value : \"))\r\n",
        "if c>=0 and c<=127:\r\n",
        "  print(\"The value of given ASCII value {} is {} \".format(c,chr(c)))\r\n",
        "else:\r\n",
        "  print(\"Please enter proper ASCII value\")"
      ],
      "execution_count": null,
      "outputs": [
        {
          "output_type": "stream",
          "text": [
            "Enter the ASCII value : 65\n",
            "The value of given ASCII value 65 is A \n"
          ],
          "name": "stdout"
        }
      ]
    },
    {
      "cell_type": "code",
      "metadata": {
        "colab": {
          "base_uri": "https://localhost:8080/"
        },
        "id": "8thlGO3qtAEY",
        "outputId": "713f52db-6a75-47e1-e327-d18eabbdd4d5"
      },
      "source": [
        "# 74. Program to Sort Words in Alphabetic Order\r\n",
        "string = input(\"Enter a string : \")  \r\n",
        "words = string.split()  \r\n",
        "words.sort()  \r\n",
        "print(\"The sorted order is : \",end=\"\")\r\n",
        "for word in words:  \r\n",
        "   print(word,end=\" \")  "
      ],
      "execution_count": null,
      "outputs": [
        {
          "output_type": "stream",
          "text": [
            "Enter a string : Hello this Is an Example With cased letters\n",
            "The sorted order is : Example Hello Is With an cased letters this "
          ],
          "name": "stdout"
        }
      ]
    },
    {
      "cell_type": "code",
      "metadata": {
        "colab": {
          "base_uri": "https://localhost:8080/"
        },
        "id": "R8oRGqEbtkwp",
        "outputId": "9253c4ef-723b-4ca0-a5e1-10459aa3eed7"
      },
      "source": [
        "# 75. program to check if the given number is a Disarium Number\r\n",
        "''' Disarium Number = A number is said to be the Disarium number when the sum of its digit raised to the power of their\r\n",
        " respective positions becomes equal to the number itself.'''\r\n",
        "num = int(input(\"Enter a number : \"))  \r\n",
        "sum = 0    \r\n",
        "n = num\r\n",
        "power = len(str(n))\r\n",
        "while num > 0 :    \r\n",
        "    r = num%10    \r\n",
        "    sum = sum + int(r**power)    \r\n",
        "    num = num//10    \r\n",
        "    power = power - 1    \r\n",
        "if sum == n :    \r\n",
        "    print(str(n) + \" is a disarium number\")    \r\n",
        "else:    \r\n",
        "    print(str(n) + \" is not a disarium number\")"
      ],
      "execution_count": null,
      "outputs": [
        {
          "output_type": "stream",
          "text": [
            "Enter a number : 89\n",
            "89 is a disarium number\n"
          ],
          "name": "stdout"
        }
      ]
    },
    {
      "cell_type": "code",
      "metadata": {
        "colab": {
          "base_uri": "https://localhost:8080/"
        },
        "id": "hMtbnitRwYUH",
        "outputId": "62490c5a-a955-4f66-b812-885e873e9239"
      },
      "source": [
        "# 76. Transpose of a matrix\r\n",
        "m = int(input(\"Enter number of rows : \"))\r\n",
        "n = int(input(\"Enter number of columns : \"))\r\n",
        "matrix = [[0]*n for i in range(m)]\r\n",
        "matrixtranspose = [[0]*m for i in range(n)]\r\n",
        "for i in range(m):\r\n",
        "    for j in range(n):\r\n",
        "        print(\"Enter the element a{}{} : \".format(i,j),end=\" \")\r\n",
        "        matrix[i][j] = int(input())\r\n",
        "    print()\r\n",
        "for i in range(m):\r\n",
        "    for j in range(n):\r\n",
        "        matrixtranspose[j][i] = matrix[i][j]\r\n",
        "print(\"Given matrix is : \")\r\n",
        "for i in range(m):\r\n",
        "    for j in range(n):\r\n",
        "        print(matrix[i][j],end=\" \")\r\n",
        "    print()\r\n",
        "print(\"Transposed matrix is : \")\r\n",
        "for i in range(n):\r\n",
        "    for j in range(m):\r\n",
        "        print(matrixtranspose[i][j],end=\" \")\r\n",
        "    print()"
      ],
      "execution_count": null,
      "outputs": [
        {
          "output_type": "stream",
          "text": [
            "Enter number of rows : 3\n",
            "Enter number of columns : 3\n",
            "Enter the element a00 :  1\n",
            "Enter the element a01 :  2\n",
            "Enter the element a02 :  3\n",
            "\n",
            "Enter the element a10 :  4\n",
            "Enter the element a11 :  5\n",
            "Enter the element a12 :  6\n",
            "\n",
            "Enter the element a20 :  7\n",
            "Enter the element a21 :  8\n",
            "Enter the element a22 :  9\n",
            "\n",
            "Input matrix is : \n",
            "1 2 3 \n",
            "4 5 6 \n",
            "7 8 9 \n",
            "Transposed matrix is : \n",
            "1 4 7 \n",
            "2 5 8 \n",
            "3 6 9 \n"
          ],
          "name": "stdout"
        }
      ]
    },
    {
      "cell_type": "code",
      "metadata": {
        "colab": {
          "base_uri": "https://localhost:8080/"
        },
        "id": "peHRSQONP-wW",
        "outputId": "dd6f326a-dde5-45e3-c293-e732d8510a89"
      },
      "source": [
        "# 77. Adding two matrices\r\n",
        "m = int(input(\"Enter number of rows : \"))\r\n",
        "n = int(input(\"Enter number of columns : \"))\r\n",
        "matrix1 = [[0]*n for i in range(m)]\r\n",
        "matrix2 = [[0]*n for i in range(m)]\r\n",
        "matrixsum = [[0]*n for i in range(m)]\r\n",
        "for i in range(m):\r\n",
        "    for j in range(n):\r\n",
        "        print(\"Enter the element a{}{} : \".format(i,j),end=\" \")\r\n",
        "        matrix1[i][j] = int(input())\r\n",
        "    print()\r\n",
        "for i in range(m):\r\n",
        "    for j in range(n):\r\n",
        "        print(\"Enter the element b{}{} : \".format(i,j),end=\" \")\r\n",
        "        matrix2[i][j] = int(input())\r\n",
        "    print()\r\n",
        "for i in range(m):\r\n",
        "  for j in range(n):\r\n",
        "    matrixsum[i][j] = matrix1[i][j]+matrix2[i][j]\r\n",
        "\r\n",
        "print(\"Given matrixes are : \")\r\n",
        "for i in range(m):\r\n",
        "    for j in range(n):\r\n",
        "        print(matrix1[i][j],end=\" \")\r\n",
        "    print()\r\n",
        "print()\r\n",
        "for i in range(m):\r\n",
        "    for j in range(n):\r\n",
        "        print(matrix2[i][j],end=\" \")\r\n",
        "    print()\r\n",
        "print()\r\n",
        "print(\"Addition of given matrixes is : \")\r\n",
        "for i in range(n):\r\n",
        "    for j in range(m):\r\n",
        "        print(matrixsum[i][j],end=\" \")\r\n",
        "    print()"
      ],
      "execution_count": null,
      "outputs": [
        {
          "output_type": "stream",
          "text": [
            "Enter number of rows : 3\n",
            "Enter number of columns : 3\n",
            "Enter the element a00 :  1\n",
            "Enter the element a01 :  2\n",
            "Enter the element a02 :  3\n",
            "\n",
            "Enter the element a10 :  4\n",
            "Enter the element a11 :  5\n",
            "Enter the element a12 :  6\n",
            "\n",
            "Enter the element a20 :  7\n",
            "Enter the element a21 :  8\n",
            "Enter the element a22 :  9\n",
            "\n",
            "Enter the element b00 :  1\n",
            "Enter the element b01 :  2\n",
            "Enter the element b02 :  3\n",
            "\n",
            "Enter the element b10 :  4\n",
            "Enter the element b11 :  5\n",
            "Enter the element b12 :  6\n",
            "\n",
            "Enter the element b20 :  7\n",
            "Enter the element b21 :  8\n",
            "Enter the element b22 :  9\n",
            "\n",
            "Given matrixes are : \n",
            "1 2 3 \n",
            "4 5 6 \n",
            "7 8 9 \n",
            "\n",
            "1 2 3 \n",
            "4 5 6 \n",
            "7 8 9 \n",
            "\n",
            "Addition of given matrixes is : \n",
            "2 4 6 \n",
            "8 10 12 \n",
            "14 16 18 \n"
          ],
          "name": "stdout"
        }
      ]
    },
    {
      "cell_type": "code",
      "metadata": {
        "colab": {
          "base_uri": "https://localhost:8080/"
        },
        "id": "5zmsfj6j7C2x",
        "outputId": "d4efcfdd-42b2-4599-b0e3-ffb504d97b9c"
      },
      "source": [
        "# 78. Program to print binary number using recursion\r\n",
        "def convertToBinary(n):\r\n",
        "   if n > 1:\r\n",
        "       convertToBinary(n//2)\r\n",
        "   print(n % 2,end = '')\r\n",
        "convertToBinary(int(input(\"Enter the decimal number : \")))"
      ],
      "execution_count": null,
      "outputs": [
        {
          "output_type": "stream",
          "text": [
            "Enter the decimal number : 34\n",
            "100010"
          ],
          "name": "stdout"
        }
      ]
    },
    {
      "cell_type": "code",
      "metadata": {
        "colab": {
          "base_uri": "https://localhost:8080/"
        },
        "id": "Pp3_kVM7-mdf",
        "outputId": "7cff0ca3-7e04-455f-e5fc-586f1174f264"
      },
      "source": [
        "# 79. Program to find wether given element is in list or not using Binary Search\r\n",
        "def BinarySearch(low,high,l):\r\n",
        "  while low<=high:\r\n",
        "    mid = (low+high)//2\r\n",
        "    if l[mid]==n:\r\n",
        "        return \"Element is present in the given list\"\r\n",
        "    elif l[mid]<n:\r\n",
        "        low = mid+1\r\n",
        "    elif l[mid]>n:\r\n",
        "        high = mid-1\r\n",
        "  return \"Element not Found in the given list\"\r\n",
        "l = list(map(int,input(\"Enter the elements in list : \").split(\" \")))\r\n",
        "n = int(input(\"Enter the number :\"))\r\n",
        "l.sort()\r\n",
        "low,high = 0,len(l)-1\r\n",
        "print(BinarySearch(low,high,l))\r\n"
      ],
      "execution_count": null,
      "outputs": [
        {
          "output_type": "stream",
          "text": [
            "Enter the elements in list : 1 5 3 2 4\n",
            "Enter the number :1\n",
            "Element is present in the given list\n"
          ],
          "name": "stdout"
        }
      ]
    }
  ]
}