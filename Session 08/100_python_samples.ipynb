{
  "nbformat": 4,
  "nbformat_minor": 0,
  "metadata": {
    "colab": {
      "name": "100 python samples.ipynb",
      "provenance": [],
      "authorship_tag": "ABX9TyMV3XmufxtEb+LNolb0Vy70",
      "include_colab_link": true
    },
    "kernelspec": {
      "name": "python3",
      "display_name": "Python 3"
    }
  },
  "cells": [
    {
      "cell_type": "markdown",
      "metadata": {
        "id": "view-in-github",
        "colab_type": "text"
      },
      "source": [
        "<a href=\"https://colab.research.google.com/github/sridevibonthu/TSAI_END_P1/blob/main/Session%2008/100_python_samples.ipynb\" target=\"_parent\"><img src=\"https://colab.research.google.com/assets/colab-badge.svg\" alt=\"Open In Colab\"/></a>"
      ]
    },
    {
      "cell_type": "code",
      "metadata": {
        "colab": {
          "base_uri": "https://localhost:8080/"
        },
        "id": "SgfsPrFEXpyx",
        "outputId": "92778468-0774-4d2b-eafe-205e51b94e3e"
      },
      "source": [
        "# 1. Function to return area of a triangle when sides are given\r\n",
        "def areaOfTriangle(a, b, c):\r\n",
        "  s = (a+b+c)/2\r\n",
        "  return (s*(s-a)*(s-b)*(s-c)) ** 0.5\r\n",
        "\r\n",
        "areaOfTriangle(3, 6, 7)"
      ],
      "execution_count": null,
      "outputs": [
        {
          "output_type": "execute_result",
          "data": {
            "text/plain": [
              "8.94427190999916"
            ]
          },
          "metadata": {
            "tags": []
          },
          "execution_count": 1
        }
      ]
    },
    {
      "cell_type": "code",
      "metadata": {
        "id": "y9rUMeZ0YTsm",
        "colab": {
          "base_uri": "https://localhost:8080/"
        },
        "outputId": "a03a04fc-7a3b-4ddc-d196-20fcbba9d0c9"
      },
      "source": [
        "# 2. This program checks whether the given year is leap year or not.\r\n",
        "# A  leap year is exactly divisible by 4 except for century years (years ending with 00). \r\n",
        "# The century year is a leap year only if it is perfectly divisible by 400. \r\n",
        "\r\n",
        "year = int(input(\"Enter year : \"))\r\n",
        "\r\n",
        "if (year%4 == 0 and year%100 != 0) or year%400 == 0:\r\n",
        "  print(f'{year} is a leap year')\r\n",
        "else:\r\n",
        "  print(f'{year} is not a leap year')\r\n",
        "  \r\n"
      ],
      "execution_count": null,
      "outputs": [
        {
          "output_type": "stream",
          "text": [
            "Enter year : 2000\n",
            "2000 is a leap year\n"
          ],
          "name": "stdout"
        }
      ]
    },
    {
      "cell_type": "code",
      "metadata": {
        "colab": {
          "base_uri": "https://localhost:8080/"
        },
        "id": "pb-ORsjaYl8Q",
        "outputId": "996602b2-60fc-4e65-f1ec-e7b59421e2bc"
      },
      "source": [
        "# 3. Function to swap two numbers\r\n",
        "def swapNumbers(a, b):\r\n",
        "  return b, a\r\n",
        "\r\n",
        "swapNumbers(4, 5)"
      ],
      "execution_count": null,
      "outputs": [
        {
          "output_type": "execute_result",
          "data": {
            "text/plain": [
              "(5, 4)"
            ]
          },
          "metadata": {
            "tags": []
          },
          "execution_count": 3
        }
      ]
    },
    {
      "cell_type": "code",
      "metadata": {
        "id": "Atl4YseZYmXG",
        "colab": {
          "base_uri": "https://localhost:8080/"
        },
        "outputId": "79c17819-3563-44e1-e925-39a64b3990a1"
      },
      "source": [
        "# 4. Program to check the length of a string without using built-in function\r\n",
        "\r\n",
        "s = input(\"Enter string : \")\r\n",
        "l = 0\r\n",
        "for x in s:\r\n",
        "  l += 1\r\n",
        "print(f'length of {s} is {l}')"
      ],
      "execution_count": null,
      "outputs": [
        {
          "output_type": "stream",
          "text": [
            "Enter string : vamsika\n",
            "length of vamsika is 7\n"
          ],
          "name": "stdout"
        }
      ]
    },
    {
      "cell_type": "code",
      "metadata": {
        "colab": {
          "base_uri": "https://localhost:8080/"
        },
        "id": "arbcczvsYmt-",
        "outputId": "cab804eb-aaf0-4171-fd21-95fa1627c736"
      },
      "source": [
        "# 5. Finding square root without using math.sqrt\r\n",
        "x = int(input(\"Enter a number : \"))\r\n",
        "ans = x ** 0.5\r\n",
        "print(f'sqrt({x}) = {ans}')"
      ],
      "execution_count": null,
      "outputs": [
        {
          "output_type": "stream",
          "text": [
            "Enter a number : 81\n",
            "sqrt(81) = 9.0\n"
          ],
          "name": "stdout"
        }
      ]
    },
    {
      "cell_type": "code",
      "metadata": {
        "colab": {
          "base_uri": "https://localhost:8080/"
        },
        "id": "-Uwa-Boh8nLK",
        "outputId": "7ef619c6-4af0-4593-bb09-f14a8be41b67"
      },
      "source": [
        "# 6. Program to check whether the given number is divisible by seven or not\r\n",
        "num = int(input(\"Enter a number: \"))\r\n",
        "if (num % 7) == 0:\r\n",
        "   print(f'{num} is divisible by 7.')\r\n",
        "else:\r\n",
        "   print(f'{num} is not divisible by 7.')"
      ],
      "execution_count": null,
      "outputs": [
        {
          "output_type": "stream",
          "text": [
            "Enter a number: 67\n",
            "67 is not divisible by 7.\n"
          ],
          "name": "stdout"
        }
      ]
    },
    {
      "cell_type": "code",
      "metadata": {
        "id": "5qmeNzmUY14Z",
        "colab": {
          "base_uri": "https://localhost:8080/"
        },
        "outputId": "efeb856c-5ff8-41c8-b521-56ab3d7c0771"
      },
      "source": [
        "# 7. Generate a random number between 0 and 9\r\n",
        "import random\r\n",
        "print(random.randint(0, 9))"
      ],
      "execution_count": null,
      "outputs": [
        {
          "output_type": "stream",
          "text": [
            "6\n"
          ],
          "name": "stdout"
        }
      ]
    },
    {
      "cell_type": "code",
      "metadata": {
        "id": "AgrnnxB98fTB",
        "colab": {
          "base_uri": "https://localhost:8080/"
        },
        "outputId": "46e4e4b0-2718-4fb9-f83c-3bce9f8e2100"
      },
      "source": [
        "# 8. program to caluculate the factorial of a number\r\n",
        "n = int(input(\"Enter a number : \"))\r\n",
        "if n==0:\r\n",
        "  fact = 0\r\n",
        "else:\r\n",
        "  fact = 1\r\n",
        "  for i in range(1, n+1):\r\n",
        "    fact = fact * i\r\n",
        "print(f'{n}! = {fact}')"
      ],
      "execution_count": null,
      "outputs": [
        {
          "output_type": "stream",
          "text": [
            "Enter a number : 5\n",
            "5! = 120\n"
          ],
          "name": "stdout"
        }
      ]
    },
    {
      "cell_type": "code",
      "metadata": {
        "colab": {
          "base_uri": "https://localhost:8080/"
        },
        "id": "q8NhZZkULRCS",
        "outputId": "0adb9e56-98cf-4787-bd22-337aa274355c"
      },
      "source": [
        "# 9. Python function to count the number of occurrences of characters (character frequency) in a string\r\n",
        "\r\n",
        "def char_frequency(str1):\r\n",
        "    dict = {}\r\n",
        "    for ch in str1:\r\n",
        "        if ch in dict.keys():\r\n",
        "            dict[ch] += 1\r\n",
        "        else:\r\n",
        "            dict[ch] = 1\r\n",
        "    return dict\r\n",
        "print(char_frequency('TheSchoolOfAI, Bangalore'))"
      ],
      "execution_count": null,
      "outputs": [
        {
          "output_type": "stream",
          "text": [
            "{'T': 1, 'h': 2, 'e': 2, 'S': 1, 'c': 1, 'o': 3, 'l': 2, 'O': 1, 'f': 1, 'A': 1, 'I': 1, ',': 1, ' ': 1, 'B': 1, 'a': 2, 'n': 1, 'g': 1, 'r': 1}\n"
          ],
          "name": "stdout"
        }
      ]
    },
    {
      "cell_type": "code",
      "metadata": {
        "colab": {
          "base_uri": "https://localhost:8080/"
        },
        "id": "X-LtxT4UNCqU",
        "outputId": "e5da7422-0769-434c-af53-af759c36a712"
      },
      "source": [
        "# 10. Python function to count the number of occurrrences of words in the text\r\n",
        "\r\n",
        "def word_frequency(str1):\r\n",
        "  dict = {}\r\n",
        "  for w in str1.split():\r\n",
        "    if w in dict.keys():\r\n",
        "      dict[w] += 1\r\n",
        "    else:\r\n",
        "      dict[w] = 1\r\n",
        "  return dict\r\n",
        "\r\n",
        "text = \"Look at this sample file: sample.py Preview the documentYou are to write such examples, where you describe the code to be written (starts with #), and the code it should generate. The file shows 3 examples of what text should generate what code. \"\r\n",
        "\r\n",
        "print(word_frequency(text))\r\n"
      ],
      "execution_count": null,
      "outputs": [
        {
          "output_type": "stream",
          "text": [
            "{'Look': 1, 'at': 1, 'this': 1, 'sample': 1, 'file:': 1, 'sample.py': 1, 'Preview': 1, 'the': 3, 'documentYou': 1, 'are': 1, 'to': 2, 'write': 1, 'such': 1, 'examples,': 1, 'where': 1, 'you': 1, 'describe': 1, 'code': 2, 'be': 1, 'written': 1, '(starts': 1, 'with': 1, '#),': 1, 'and': 1, 'it': 1, 'should': 2, 'generate.': 1, 'The': 1, 'file': 1, 'shows': 1, '3': 1, 'examples': 1, 'of': 1, 'what': 2, 'text': 1, 'generate': 1, 'code.': 1}\n"
          ],
          "name": "stdout"
        }
      ]
    },
    {
      "cell_type": "code",
      "metadata": {
        "colab": {
          "base_uri": "https://localhost:8080/"
        },
        "id": "RyA488J_PbS5",
        "outputId": "ec8f42e0-67f2-4630-8b98-80a94a7a22d0"
      },
      "source": [
        "# 11. Python function to return a string formed using first and last two characters.\r\n",
        "def FirstandLasttwo(str1):\r\n",
        "  if len(str1)<2:\r\n",
        "    return ''\r\n",
        "  return str1[:2]+str1[-2:]\r\n",
        "\r\n",
        "print(FirstandLasttwo('NLP'))\r\n",
        "print(FirstandLasttwo('Bhimavaram'))\r\n",
        "print(FirstandLasttwo('S'))"
      ],
      "execution_count": null,
      "outputs": [
        {
          "output_type": "stream",
          "text": [
            "NLLP\n",
            "Bham\n",
            "\n"
          ],
          "name": "stdout"
        }
      ]
    },
    {
      "cell_type": "code",
      "metadata": {
        "colab": {
          "base_uri": "https://localhost:8080/"
        },
        "id": "nVYG7mgaQvJu",
        "outputId": "a9106f98-0314-4dee-a221-d3dacf6e06bd"
      },
      "source": [
        "# 12. program to replace all occurrences of first character of a string with $\r\n",
        "\r\n",
        "str1 = 'ouagadougou'\r\n",
        "\r\n",
        "ch = str1[0]\r\n",
        "str1 = str1.replace(ch, '$')\r\n",
        "str1 = ch + str1[1:]\r\n",
        "\r\n",
        "print(str1)"
      ],
      "execution_count": null,
      "outputs": [
        {
          "output_type": "stream",
          "text": [
            "ouagad$ug$u\n"
          ],
          "name": "stdout"
        }
      ]
    },
    {
      "cell_type": "code",
      "metadata": {
        "colab": {
          "base_uri": "https://localhost:8080/"
        },
        "id": "9n7lJcb1RnLh",
        "outputId": "6ee61258-a9c8-43a0-b8cd-abfefc7dbef8"
      },
      "source": [
        "# 13. write a function to add 'ing' at the end of the string, if it doesnot end with 'ing'\r\n",
        "\r\n",
        "def addINGatend(str1):\r\n",
        "  if not str1.endswith('ing'):\r\n",
        "    str1 = str1 + 'ing'\r\n",
        "  return str1\r\n",
        "\r\n",
        "print(addINGatend('play'))\r\n",
        "print(addINGatend('running'))"
      ],
      "execution_count": null,
      "outputs": [
        {
          "output_type": "stream",
          "text": [
            "playing\n",
            "running\n"
          ],
          "name": "stdout"
        }
      ]
    },
    {
      "cell_type": "code",
      "metadata": {
        "colab": {
          "base_uri": "https://localhost:8080/"
        },
        "id": "uOHDNMV5SPgh",
        "outputId": "7ade298d-c953-4d4d-9391-9c262ea00e77"
      },
      "source": [
        "# 14. python program to find the longest word in the sentence\r\n",
        "sent = \"I am working as an Assistant Professor at Vishnu Institute of Technology - Bhimavaram\"\r\n",
        "longword = ''\r\n",
        "for x in sent.split():\r\n",
        "  if len(x) > len(longword):\r\n",
        "    longword = x\r\n",
        "\r\n",
        "print(f'Longest word = {longword}\\nLength = {len(longword)}')"
      ],
      "execution_count": null,
      "outputs": [
        {
          "output_type": "stream",
          "text": [
            "Longest word = Technology\n",
            "Length = 10\n"
          ],
          "name": "stdout"
        }
      ]
    },
    {
      "cell_type": "code",
      "metadata": {
        "colab": {
          "base_uri": "https://localhost:8080/"
        },
        "id": "VAG1KUc_UWlp",
        "outputId": "ad59622c-f863-4477-ee23-7c0f824950a3"
      },
      "source": [
        "# 15. program to exchange first and last characters in a given string\r\n",
        "str1 = \"SrithaN\"\r\n",
        "print(str1[-1] + str1[1:-1] + str1[0])"
      ],
      "execution_count": null,
      "outputs": [
        {
          "output_type": "stream",
          "text": [
            "NrithaS\n"
          ],
          "name": "stdout"
        }
      ]
    },
    {
      "cell_type": "code",
      "metadata": {
        "colab": {
          "base_uri": "https://localhost:8080/"
        },
        "id": "bGLtYByDVJqz",
        "outputId": "86305c7e-39a2-4626-dcf5-8f313e161916"
      },
      "source": [
        "# 16.  Function to remove the nth character in a given string\r\n",
        "def RemoveNth(str1, n):\r\n",
        "  return str1[:n] + str1[n+1:]\r\n",
        "\r\n",
        "print(RemoveNth('Bhimavaram', 3))"
      ],
      "execution_count": null,
      "outputs": [
        {
          "output_type": "stream",
          "text": [
            "Bhiavaram\n"
          ],
          "name": "stdout"
        }
      ]
    },
    {
      "cell_type": "code",
      "metadata": {
        "colab": {
          "base_uri": "https://localhost:8080/"
        },
        "id": "Wjsw2zZPVmWt",
        "outputId": "e8650533-9f27-4160-80a3-130e7da5ddb3"
      },
      "source": [
        "# 17. Function which removes the characters at odd index in a given string\r\n",
        "def RemoveOdd(str1):\r\n",
        "  res = ''\r\n",
        "  for i in range(len(str1)):\r\n",
        "    if i%2 == 0:\r\n",
        "      res += str1[i]\r\n",
        "  return res\r\n",
        "\r\n",
        "print(f'String \"Bhimavaram\" after removing odd index characters : {RemoveOdd(\"Bhimavaram\")}')"
      ],
      "execution_count": null,
      "outputs": [
        {
          "output_type": "stream",
          "text": [
            "String \"Bhimavaram\" after removing odd index characters : Biaaa\n"
          ],
          "name": "stdout"
        }
      ]
    },
    {
      "cell_type": "code",
      "metadata": {
        "colab": {
          "base_uri": "https://localhost:8080/"
        },
        "id": "wmTmtYivWSM6",
        "outputId": "a87f3b70-b20a-447c-be55-3fc607958586"
      },
      "source": [
        "# 18. Function which removes the characters at even index in a given string\r\n",
        "def RemoveEven(str1):\r\n",
        "  res = ''\r\n",
        "  for i in range(len(str1)):\r\n",
        "    if i%2 != 0:\r\n",
        "      res += str1[i]\r\n",
        "  return res\r\n",
        "\r\n",
        "print(f'String \"Bhimavaram\" after removing even index characters : {RemoveEven(\"Bhimavaram\")}')"
      ],
      "execution_count": null,
      "outputs": [
        {
          "output_type": "stream",
          "text": [
            "String \"Bhimavaram\" after removing even index characters : hmvrm\n"
          ],
          "name": "stdout"
        }
      ]
    },
    {
      "cell_type": "code",
      "metadata": {
        "colab": {
          "base_uri": "https://localhost:8080/"
        },
        "id": "Yx-xF77fWgYq",
        "outputId": "f76df826-73bc-4d9c-cef3-75745cebe6c1"
      },
      "source": [
        "# 19. Script to convert the given string into upper and lower case\r\n",
        "str1 = input(\"Enter any string : \")\r\n",
        "print(f'Upper case of {str1} is {str1.upper()}')\r\n",
        "print(f'Lower case of {str1} is {str1.lower()}')"
      ],
      "execution_count": null,
      "outputs": [
        {
          "output_type": "stream",
          "text": [
            "Enter any string : PyTorch\n",
            "Upper case of PyTorch is PYTORCH\n",
            "Lower case of PyTorch is pytorch\n"
          ],
          "name": "stdout"
        }
      ]
    },
    {
      "cell_type": "code",
      "metadata": {
        "colab": {
          "base_uri": "https://localhost:8080/"
        },
        "id": "oFLDdEOKXaUE",
        "outputId": "c7bc508f-d628-46f7-c52c-7f043239c64d"
      },
      "source": [
        "# 20. program to find number of unique words in a comma separated string\r\n",
        "L = input(\"Enter comma separated list : \").split(',')\r\n",
        "print(len(set(L)))"
      ],
      "execution_count": null,
      "outputs": [
        {
          "output_type": "stream",
          "text": [
            "Enter comma separated list : sai,divij,sai,sai,srithan,srithan,divij\n",
            "3\n"
          ],
          "name": "stdout"
        }
      ]
    },
    {
      "cell_type": "code",
      "metadata": {
        "colab": {
          "base_uri": "https://localhost:8080/"
        },
        "id": "zBrwYkDlYocO",
        "outputId": "6092693a-aa5c-4e19-86e8-02d004fbe463"
      },
      "source": [
        "# 21. Function to create HTML tags\r\n",
        "def add_tags(tag, word):\r\n",
        "\treturn \"<%s>%s</%s>\" % (tag, word, tag)\r\n",
        " \r\n",
        "print(add_tags('i', 'Python'))\r\n",
        "print(add_tags('b', 'PyTorch'))"
      ],
      "execution_count": null,
      "outputs": [
        {
          "output_type": "stream",
          "text": [
            "<i>Python</i>\n",
            "<b>PyTorch</b>\n"
          ],
          "name": "stdout"
        }
      ]
    },
    {
      "cell_type": "code",
      "metadata": {
        "colab": {
          "base_uri": "https://localhost:8080/"
        },
        "id": "QP7y-hM1ZDHf",
        "outputId": "eba7bbf1-d506-4386-c91c-e18346ffdc02"
      },
      "source": [
        "# 22. program to find the reverse of a given string\r\n",
        "str1 = input(\"Enter string : \")\r\n",
        "print(f'Reverse of {str1} is {str1[::-1]}')"
      ],
      "execution_count": null,
      "outputs": [
        {
          "output_type": "stream",
          "text": [
            "Enter string : vamsika\n",
            "Reverse of vamsika is akismav\n"
          ],
          "name": "stdout"
        }
      ]
    },
    {
      "cell_type": "code",
      "metadata": {
        "colab": {
          "base_uri": "https://localhost:8080/"
        },
        "id": "QHIVdNCOZfgK",
        "outputId": "1319ba3b-0a52-40f1-b143-828f4be8df85"
      },
      "source": [
        "# 23. program to reverse the given string if the string length is multiple of 3\r\n",
        "str1 = input(\"Enter string : \")\r\n",
        "if len(str1)%3 == 0:\r\n",
        "  str1 = str1[::-1]\r\n",
        "\r\n",
        "print(str1)"
      ],
      "execution_count": null,
      "outputs": [
        {
          "output_type": "stream",
          "text": [
            "Enter string : vamsika\n",
            "vamsika\n"
          ],
          "name": "stdout"
        }
      ]
    },
    {
      "cell_type": "code",
      "metadata": {
        "colab": {
          "base_uri": "https://localhost:8080/"
        },
        "id": "BHF4um0XZ6ky",
        "outputId": "31881764-9fc0-47c0-c574-675555aee044"
      },
      "source": [
        "# 24. Program to remove newline characers in a given string.\r\n",
        "str1 = \"Vamsika\\nSrithan\\nDivij\"\r\n",
        "print(f'Original string : {str1}')\r\n",
        "str1 = str1.replace('\\n','')\r\n",
        "print(f'After removing newlines : {str1}')"
      ],
      "execution_count": null,
      "outputs": [
        {
          "output_type": "stream",
          "text": [
            "Original string : Vamsika\n",
            "Srithan\n",
            "Divij\n",
            "After removing newlines : VamsikaSrithanDivij\n"
          ],
          "name": "stdout"
        }
      ]
    },
    {
      "cell_type": "code",
      "metadata": {
        "id": "TMlI9MpyaHDe",
        "colab": {
          "base_uri": "https://localhost:8080/"
        },
        "outputId": "d9bb5691-0033-482a-ae5f-510b09737825"
      },
      "source": [
        "# 25. Python program to find sum of all the elements in a list\r\n",
        "L = list(range(1,11))\r\n",
        "s = 0\r\n",
        "for x in L:\r\n",
        "  s += x\r\n",
        "print(f'Sum = {s}')\r\n"
      ],
      "execution_count": 1,
      "outputs": [
        {
          "output_type": "stream",
          "text": [
            "Sum = 55\n"
          ],
          "name": "stdout"
        }
      ]
    },
    {
      "cell_type": "code",
      "metadata": {
        "colab": {
          "base_uri": "https://localhost:8080/"
        },
        "id": "e6VbwrqYDdZz",
        "outputId": "70b4cc16-94bf-4b2d-a647-f2f5bd03e368"
      },
      "source": [
        "# 26. Python program to find sum of all the even elements in a list\r\n",
        "L = list(range(1,11))\r\n",
        "s = 0\r\n",
        "for x in L:\r\n",
        "  if x%2 == 0:\r\n",
        "    s += x\r\n",
        "print(f'Sum = {s}')\r\n"
      ],
      "execution_count": 2,
      "outputs": [
        {
          "output_type": "stream",
          "text": [
            "Sum = 30\n"
          ],
          "name": "stdout"
        }
      ]
    },
    {
      "cell_type": "code",
      "metadata": {
        "colab": {
          "base_uri": "https://localhost:8080/"
        },
        "id": "DhIWuVmbDn2Z",
        "outputId": "11c58bf3-7b40-4526-83ba-7a1a9e472d78"
      },
      "source": [
        "# 27. Python program to find sum of all the odd elements in a list\r\n",
        "L = list(range(1,11))\r\n",
        "s = 0\r\n",
        "for x in L:\r\n",
        "  if x%2 != 0:\r\n",
        "    s += x\r\n",
        "print(f'Sum = {s}')\r\n"
      ],
      "execution_count": 3,
      "outputs": [
        {
          "output_type": "stream",
          "text": [
            "Sum = 25\n"
          ],
          "name": "stdout"
        }
      ]
    },
    {
      "cell_type": "code",
      "metadata": {
        "colab": {
          "base_uri": "https://localhost:8080/"
        },
        "id": "XvrybbQQDrHG",
        "outputId": "ecf1b323-20da-4d00-89cf-f6885afb23b2"
      },
      "source": [
        "# 28. Python program to find sum of all the elements which are divisible by 3 in a list\r\n",
        "L = list(range(1,11))\r\n",
        "s = 0\r\n",
        "for x in L:\r\n",
        "  if x%3 == 0:\r\n",
        "    s += x\r\n",
        "print(f'Sum = {s}')\r\n"
      ],
      "execution_count": 4,
      "outputs": [
        {
          "output_type": "stream",
          "text": [
            "Sum = 18\n"
          ],
          "name": "stdout"
        }
      ]
    },
    {
      "cell_type": "code",
      "metadata": {
        "colab": {
          "base_uri": "https://localhost:8080/"
        },
        "id": "N0CTwZ0DDzxl",
        "outputId": "61cd1787-47ed-4cf9-bddc-9d6069c43846"
      },
      "source": [
        "# 29. Python program to find sum of all the elements at even index in a list\r\n",
        "L = list(range(1,11))\r\n",
        "s = 0\r\n",
        "for x in range(len(L)):\r\n",
        "  if x%2 == 0:\r\n",
        "    s += L[x]\r\n",
        "print(f'Sum = {s}')\r\n"
      ],
      "execution_count": 5,
      "outputs": [
        {
          "output_type": "stream",
          "text": [
            "Sum = 25\n"
          ],
          "name": "stdout"
        }
      ]
    },
    {
      "cell_type": "code",
      "metadata": {
        "colab": {
          "base_uri": "https://localhost:8080/"
        },
        "id": "ZvtMtxGREGD7",
        "outputId": "d39e1f0f-1b0a-4932-e5d5-018b5d7e7da0"
      },
      "source": [
        "# 30. Python program to find sum of all the elements at odd index in a list\r\n",
        "L = list(range(1,11))\r\n",
        "s = 0\r\n",
        "for x in range(len(L)):\r\n",
        "  if x%2 != 0:\r\n",
        "    s += L[x]\r\n",
        "print(f'Sum = {s}')\r\n"
      ],
      "execution_count": 6,
      "outputs": [
        {
          "output_type": "stream",
          "text": [
            "Sum = 30\n"
          ],
          "name": "stdout"
        }
      ]
    },
    {
      "cell_type": "code",
      "metadata": {
        "colab": {
          "base_uri": "https://localhost:8080/"
        },
        "id": "d2itH5GREKaH",
        "outputId": "b11b4485-a467-4980-b7cf-510fe6d4108c"
      },
      "source": [
        "#31. Write a function to multiply all the elements in a list.\r\n",
        "def multiply_list(items):\r\n",
        "    tot = 1\r\n",
        "    for x in items:\r\n",
        "        tot *= x\r\n",
        "    return tot\r\n",
        "print(multiply_list(list(range(1,20,3))))"
      ],
      "execution_count": 8,
      "outputs": [
        {
          "output_type": "stream",
          "text": [
            "1106560\n"
          ],
          "name": "stdout"
        }
      ]
    },
    {
      "cell_type": "code",
      "metadata": {
        "colab": {
          "base_uri": "https://localhost:8080/"
        },
        "id": "I5bmI9QUEcxE",
        "outputId": "4f1dd1a8-f7c1-485e-da2f-525931ac5dde"
      },
      "source": [
        "#32. Write a function to multiply all the even elements in a list.\r\n",
        "def multiply_list(items):\r\n",
        "    tot = 1\r\n",
        "    for x in items:\r\n",
        "      if x%2 ==0:\r\n",
        "        tot *= x\r\n",
        "    return tot\r\n",
        "print(multiply_list(list(range(1,20,3))))"
      ],
      "execution_count": 9,
      "outputs": [
        {
          "output_type": "stream",
          "text": [
            "640\n"
          ],
          "name": "stdout"
        }
      ]
    },
    {
      "cell_type": "code",
      "metadata": {
        "colab": {
          "base_uri": "https://localhost:8080/"
        },
        "id": "O3m8MuKzEpH5",
        "outputId": "b3c6d857-3cf3-4a03-c3b2-a3919d2c22c9"
      },
      "source": [
        "#33. Write a function to multiply all the odd elements in a list.\r\n",
        "def multiply_list(items):\r\n",
        "    tot = 1\r\n",
        "    for x in items:\r\n",
        "      if x%2 !=0:\r\n",
        "        tot *= x\r\n",
        "    return tot\r\n",
        "print(multiply_list(list(range(1,20,3))))"
      ],
      "execution_count": 10,
      "outputs": [
        {
          "output_type": "stream",
          "text": [
            "1729\n"
          ],
          "name": "stdout"
        }
      ]
    },
    {
      "cell_type": "code",
      "metadata": {
        "colab": {
          "base_uri": "https://localhost:8080/"
        },
        "id": "IlSIPo-hEuLW",
        "outputId": "b4b4e870-c470-4f5f-a1ab-db0241740180"
      },
      "source": [
        "#34. Write a function to multiply all the even indexed elements in a list.\r\n",
        "def multiply_list(items):\r\n",
        "    tot = 1\r\n",
        "    for x in range(len(items)):\r\n",
        "      if x%2 ==0:\r\n",
        "        tot *= items[x]\r\n",
        "    return tot\r\n",
        "print(multiply_list(list(range(1,20,3))))"
      ],
      "execution_count": 12,
      "outputs": [
        {
          "output_type": "stream",
          "text": [
            "1729\n"
          ],
          "name": "stdout"
        }
      ]
    },
    {
      "cell_type": "code",
      "metadata": {
        "colab": {
          "base_uri": "https://localhost:8080/"
        },
        "id": "gouEg3pQE35n",
        "outputId": "e5979a9f-59e2-45db-a44d-d7e2ef683160"
      },
      "source": [
        "#35. Write a function to multiply all the odd indexed elements in a list.\r\n",
        "def multiply_list(items):\r\n",
        "    tot = 1\r\n",
        "    for x in range(len(items)):\r\n",
        "      if x%2!=0:\r\n",
        "        tot *= items[x]\r\n",
        "    return tot\r\n",
        "print(multiply_list(list(range(1,20,3))))"
      ],
      "execution_count": 13,
      "outputs": [
        {
          "output_type": "stream",
          "text": [
            "640\n"
          ],
          "name": "stdout"
        }
      ]
    },
    {
      "cell_type": "code",
      "metadata": {
        "colab": {
          "base_uri": "https://localhost:8080/"
        },
        "id": "OqG_2O8NFAUf",
        "outputId": "a88f78c1-1d47-4ff9-8827-9f40be28ce64"
      },
      "source": [
        "#36. Write a function to multiply all the elements which are not multiples of 3 in a list.\r\n",
        "def multiply_list(items):\r\n",
        "    tot = 1\r\n",
        "    for x in items:\r\n",
        "      if x%3 !=0:\r\n",
        "        tot *= x\r\n",
        "    return tot\r\n",
        "print(multiply_list(list(range(1,20,3))))"
      ],
      "execution_count": 14,
      "outputs": [
        {
          "output_type": "stream",
          "text": [
            "1106560\n"
          ],
          "name": "stdout"
        }
      ]
    },
    {
      "cell_type": "code",
      "metadata": {
        "colab": {
          "base_uri": "https://localhost:8080/"
        },
        "id": "knO_xJCWFH5Q",
        "outputId": "349d29ca-737d-497b-e159-b72666ad5c0a"
      },
      "source": [
        "#37. Write a function to multiply all the elements which are multiples of 3 in a list.\r\n",
        "def multiply_list(items):\r\n",
        "    tot = 1\r\n",
        "    for x in items:\r\n",
        "      if x%3 ==0:\r\n",
        "        tot *= x\r\n",
        "    return tot\r\n",
        "print(multiply_list(list(range(1,20,3))))"
      ],
      "execution_count": 15,
      "outputs": [
        {
          "output_type": "stream",
          "text": [
            "1\n"
          ],
          "name": "stdout"
        }
      ]
    },
    {
      "cell_type": "code",
      "metadata": {
        "colab": {
          "base_uri": "https://localhost:8080/"
        },
        "id": "CBuAjY5oFOZt",
        "outputId": "37d56612-f1d6-4418-dd7b-239dfca2c73e"
      },
      "source": [
        "# 38. Program to find largest number in a list\r\n",
        "L = list(range(1,20,3))\r\n",
        "ans = L[0]\r\n",
        "for i in range(len(L)):\r\n",
        "  if L[i] > ans:\r\n",
        "    ans = L[i]\r\n",
        "\r\n",
        "print(ans)"
      ],
      "execution_count": 16,
      "outputs": [
        {
          "output_type": "stream",
          "text": [
            "19\n"
          ],
          "name": "stdout"
        }
      ]
    },
    {
      "cell_type": "code",
      "metadata": {
        "colab": {
          "base_uri": "https://localhost:8080/"
        },
        "id": "SDJLyUg9FoJV",
        "outputId": "c3480297-dee6-455c-b80d-8cef52dba84f"
      },
      "source": [
        "# 39. Program to find smallest number in a list\r\n",
        "L = list(range(1,20,3))\r\n",
        "ans = L[0]\r\n",
        "for i in range(len(L)):\r\n",
        "  if L[i] < ans:\r\n",
        "    ans = L[i]\r\n",
        "\r\n",
        "print(ans)"
      ],
      "execution_count": 17,
      "outputs": [
        {
          "output_type": "stream",
          "text": [
            "1\n"
          ],
          "name": "stdout"
        }
      ]
    },
    {
      "cell_type": "code",
      "metadata": {
        "colab": {
          "base_uri": "https://localhost:8080/"
        },
        "id": "jOy-w6SkFtp9",
        "outputId": "2a98f443-7c29-4e23-d732-73b047080eab"
      },
      "source": [
        "# 40. Count the number of strings where the string length is 2 or more \r\n",
        "def match_words(words):\r\n",
        "  ctr = 0\r\n",
        "\r\n",
        "  for word in words:\r\n",
        "    if len(word) > 1:\r\n",
        "      ctr += 1\r\n",
        "  return ctr\r\n",
        "\r\n",
        "print(match_words(['abc', 'xyz', 'aba', '1221']))"
      ],
      "execution_count": 18,
      "outputs": [
        {
          "output_type": "stream",
          "text": [
            "4\n"
          ],
          "name": "stdout"
        }
      ]
    },
    {
      "cell_type": "code",
      "metadata": {
        "colab": {
          "base_uri": "https://localhost:8080/"
        },
        "id": "dx9u4ClEF9r3",
        "outputId": "9cd70577-7178-433e-a65f-487451543092"
      },
      "source": [
        "#41. Count the number of strings where the string length is 2 or more and the first and last character are same from a given list of strings\r\n",
        "def match_words(words):\r\n",
        "  ctr = 0\r\n",
        "\r\n",
        "  for word in words:\r\n",
        "    if len(word) > 1 and word[0] == word[-1]:\r\n",
        "      ctr += 1\r\n",
        "  return ctr\r\n",
        "\r\n",
        "print(match_words(['abc', 'xyz', 'aba', '1221']))"
      ],
      "execution_count": 19,
      "outputs": [
        {
          "output_type": "stream",
          "text": [
            "2\n"
          ],
          "name": "stdout"
        }
      ]
    },
    {
      "cell_type": "code",
      "metadata": {
        "colab": {
          "base_uri": "https://localhost:8080/"
        },
        "id": "6UmExo1gGEjA",
        "outputId": "adf729ce-e20e-4d6c-8cf0-ddc8f921a538"
      },
      "source": [
        "#42. Write a program to remove duplicates in a list\r\n",
        "a = [10,20,30,20,10,50,60,40,80,50,40]\r\n",
        "\r\n",
        "dup_items = set()\r\n",
        "uniq_items = []\r\n",
        "for x in a:\r\n",
        "    if x not in dup_items:\r\n",
        "        uniq_items.append(x)\r\n",
        "        dup_items.add(x)\r\n",
        "\r\n",
        "print(dup_items)"
      ],
      "execution_count": 20,
      "outputs": [
        {
          "output_type": "stream",
          "text": [
            "{40, 10, 80, 50, 20, 60, 30}\n"
          ],
          "name": "stdout"
        }
      ]
    },
    {
      "cell_type": "code",
      "metadata": {
        "colab": {
          "base_uri": "https://localhost:8080/"
        },
        "id": "wFPVjG2bGP_o",
        "outputId": "4101c23f-289b-421a-978b-3e41b2fa1126"
      },
      "source": [
        "# 43. Write a program to remove duplicates in a list using sets\r\n",
        "a = [10,20,30,20,10,50,60,40,80,50,40]\r\n",
        "\r\n",
        "dup_items = list(set(a))\r\n",
        "print(dup_items)"
      ],
      "execution_count": 22,
      "outputs": [
        {
          "output_type": "stream",
          "text": [
            "[40, 10, 80, 50, 20, 60, 30]\n"
          ],
          "name": "stdout"
        }
      ]
    },
    {
      "cell_type": "code",
      "metadata": {
        "colab": {
          "base_uri": "https://localhost:8080/"
        },
        "id": "w51OHGeHGZ9M",
        "outputId": "8cedc3e6-d3ca-462d-f58f-cbc606e9d6d4"
      },
      "source": [
        "# 44. Write a function to check whether a list is empty or not\r\n",
        "def isEmpty(L):\r\n",
        "  if L:\r\n",
        "    print(f'{L} - List is empty')\r\n",
        "  else:\r\n",
        "    print(f'{L} - List is not empty')\r\n",
        "\r\n",
        "isEmpty([])\r\n",
        "isEmpty([2, 3, 4])"
      ],
      "execution_count": 23,
      "outputs": [
        {
          "output_type": "stream",
          "text": [
            "[] - List is not empty\n",
            "[2, 3, 4] - List is empty\n"
          ],
          "name": "stdout"
        }
      ]
    },
    {
      "cell_type": "code",
      "metadata": {
        "id": "EXCE2sREG4GG"
      },
      "source": [
        ""
      ],
      "execution_count": null,
      "outputs": []
    }
  ]
}