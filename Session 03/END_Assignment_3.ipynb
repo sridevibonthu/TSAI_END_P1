{
  "nbformat": 4,
  "nbformat_minor": 0,
  "metadata": {
    "colab": {
      "name": "END_Assignment 3.ipynb",
      "provenance": [],
      "collapsed_sections": [],
      "authorship_tag": "ABX9TyNTb9KZ5/f30PGeOxj+NbzR"
    },
    "kernelspec": {
      "name": "python3",
      "display_name": "Python 3"
    }
  },
  "cells": [
    {
      "cell_type": "markdown",
      "metadata": {
        "id": "UlbiyML6O3vx"
      },
      "source": [
        "#### import the required libraries"
      ]
    },
    {
      "cell_type": "code",
      "metadata": {
        "id": "nIgIvD8hgs4D"
      },
      "source": [
        "import math\n",
        "from functools import reduce\n",
        "import random\n"
      ],
      "execution_count": 12,
      "outputs": []
    },
    {
      "cell_type": "markdown",
      "metadata": {
        "id": "iR9CQbAJSyow"
      },
      "source": [
        "## Task 1\n",
        "\n",
        "Write a function using only list filter lambda that can tell whether a number is a Fibonacci number or not. You can use a pre-calculated list/dict to store fab numbers till 10000"
      ]
    },
    {
      "cell_type": "code",
      "metadata": {
        "id": "0pEUXAozT_UU"
      },
      "source": [
        " #precomputed list of fibonacci numbers upto 10000\n",
        " import functools\n",
        " fib = (lambda n: functools.reduce(lambda x, _: x+[x[-1]+x[-2]], range(n-2), [0, 1]))(21)"
      ],
      "execution_count": 13,
      "outputs": []
    },
    {
      "cell_type": "code",
      "metadata": {
        "id": "4erGbqzmLo4s"
      },
      "source": [
        "#lambda to check whether the given number is fibonacci number or not\n",
        "fib_test = lambda x : f'{x} is a Fibonacci number' if x in fib else f'{x} is not a Fibonacci number'"
      ],
      "execution_count": 14,
      "outputs": []
    },
    {
      "cell_type": "code",
      "metadata": {
        "id": "xvTvWQDIVlvn",
        "outputId": "17ee9be1-ecd2-4df8-f829-987f86ccdbb0",
        "colab": {
          "base_uri": "https://localhost:8080/",
          "height": 35
        }
      },
      "source": [
        "fib_test(13)"
      ],
      "execution_count": 15,
      "outputs": [
        {
          "output_type": "execute_result",
          "data": {
            "application/vnd.google.colaboratory.intrinsic+json": {
              "type": "string"
            },
            "text/plain": [
              "'13 is a Fibonacci number'"
            ]
          },
          "metadata": {
            "tags": []
          },
          "execution_count": 15
        }
      ]
    },
    {
      "cell_type": "code",
      "metadata": {
        "id": "kcW1U3E9LGX1",
        "outputId": "d25b0ba3-e34f-465e-e840-112bec78a2c6",
        "colab": {
          "base_uri": "https://localhost:8080/",
          "height": 35
        }
      },
      "source": [
        "fib_test(500)"
      ],
      "execution_count": 16,
      "outputs": [
        {
          "output_type": "execute_result",
          "data": {
            "application/vnd.google.colaboratory.intrinsic+json": {
              "type": "string"
            },
            "text/plain": [
              "'500 is not a Fibonacci number'"
            ]
          },
          "metadata": {
            "tags": []
          },
          "execution_count": 16
        }
      ]
    },
    {
      "cell_type": "markdown",
      "metadata": {
        "id": "LJ2d3FINNQa8"
      },
      "source": [
        "## Task 2\n",
        "\n",
        "Using list comprehension (and zip/lambda/etc if required) write five different expressions that: \n",
        "* add 2 iterables a and b such that a is even and b is odd\n",
        "* strips every vowel from a string provided (tsai>>t s)\n",
        "* acts like a ReLU function for a 1D array\n",
        "* acts like a sigmoid function for a 1D array\n",
        "* takes a small character string and shifts all characters by 5 (handle boundary conditions) tsai>>yxfn"
      ]
    },
    {
      "cell_type": "code",
      "metadata": {
        "id": "oGtJRPiNNOi2",
        "outputId": "034d36d7-abd2-4e40-86c6-0c32d7f3ec4e",
        "colab": {
          "base_uri": "https://localhost:8080/"
        }
      },
      "source": [
        "#2. 1\n",
        "#Creating two iterables a and b such that a is even and b is odd\n",
        "# using List Comprehensions\n",
        "even, odd = [x for x in range(50) if x%2==0], [x for x in range(50) if x%2!=0]\n",
        "print(even, odd, sep='\\n')"
      ],
      "execution_count": 17,
      "outputs": [
        {
          "output_type": "stream",
          "text": [
            "[0, 2, 4, 6, 8, 10, 12, 14, 16, 18, 20, 22, 24, 26, 28, 30, 32, 34, 36, 38, 40, 42, 44, 46, 48]\n",
            "[1, 3, 5, 7, 9, 11, 13, 15, 17, 19, 21, 23, 25, 27, 29, 31, 33, 35, 37, 39, 41, 43, 45, 47, 49]\n"
          ],
          "name": "stdout"
        }
      ]
    },
    {
      "cell_type": "code",
      "metadata": {
        "id": "l1HNY2hZ7oGu",
        "outputId": "da8f1381-7860-40f3-e3e2-b03312b53b3a",
        "colab": {
          "base_uri": "https://localhost:8080/"
        }
      },
      "source": [
        "\n",
        "addevenodd = lambda L1, L2 : [L1[i] + L2[i] for i in range(min(len(L1), len(L2)))]\n",
        "print(addevenodd(even,odd))"
      ],
      "execution_count": 18,
      "outputs": [
        {
          "output_type": "stream",
          "text": [
            "[1, 5, 9, 13, 17, 21, 25, 29, 33, 37, 41, 45, 49, 53, 57, 61, 65, 69, 73, 77, 81, 85, 89, 93, 97]\n"
          ],
          "name": "stdout"
        }
      ]
    },
    {
      "cell_type": "code",
      "metadata": {
        "id": "4zGDCIcq8i4w",
        "outputId": "dec7319c-66bc-4648-95a8-6095e55800a5",
        "colab": {
          "base_uri": "https://localhost:8080/"
        }
      },
      "source": [
        "#even and odd are two iterables - following code zips them\n",
        "print(list(zip(even, odd)))"
      ],
      "execution_count": 20,
      "outputs": [
        {
          "output_type": "stream",
          "text": [
            "[(0, 1), (2, 3), (4, 5), (6, 7), (8, 9), (10, 11), (12, 13), (14, 15), (16, 17), (18, 19), (20, 21), (22, 23), (24, 25), (26, 27), (28, 29), (30, 31), (32, 33), (34, 35), (36, 37), (38, 39), (40, 41), (42, 43), (44, 45), (46, 47), (48, 49)]\n"
          ],
          "name": "stdout"
        }
      ]
    },
    {
      "cell_type": "code",
      "metadata": {
        "id": "Go4reRKJPRDv",
        "outputId": "c58d9ee8-c059-4c0e-fe66-a5b9b275792d",
        "colab": {
          "base_uri": "https://localhost:8080/"
        }
      },
      "source": [
        "#Creating two iterables a and b such that a is even and b is odd\n",
        "# using lambda and filter\n",
        "even, odd = list(filter(lambda x: x%2==0, range(50))), list(filter(lambda x: x%2!=0, range(50)))\n",
        "print(even, odd, sep='\\n')"
      ],
      "execution_count": null,
      "outputs": [
        {
          "output_type": "stream",
          "text": [
            "[0, 2, 4, 6, 8, 10, 12, 14, 16, 18, 20, 22, 24, 26, 28, 30, 32, 34, 36, 38, 40, 42, 44, 46, 48]\n",
            "[1, 3, 5, 7, 9, 11, 13, 15, 17, 19, 21, 23, 25, 27, 29, 31, 33, 35, 37, 39, 41, 43, 45, 47, 49]\n"
          ],
          "name": "stdout"
        }
      ]
    },
    {
      "cell_type": "code",
      "metadata": {
        "id": "UIIedIPpP3i0"
      },
      "source": [
        "#2.2\n",
        "#Strips vowel from a string\n",
        "stripvowel = lambda str : ''.join(filter(lambda x: x not in 'aeiou', str))"
      ],
      "execution_count": null,
      "outputs": []
    },
    {
      "cell_type": "code",
      "metadata": {
        "id": "9i7zs8AuQUpw",
        "outputId": "73741133-33bf-4ac2-ffd2-ed4413425a6d",
        "colab": {
          "base_uri": "https://localhost:8080/",
          "height": 35
        }
      },
      "source": [
        "stripvowel('tsai')"
      ],
      "execution_count": null,
      "outputs": [
        {
          "output_type": "execute_result",
          "data": {
            "application/vnd.google.colaboratory.intrinsic+json": {
              "type": "string"
            },
            "text/plain": [
              "'ts'"
            ]
          },
          "metadata": {
            "tags": []
          },
          "execution_count": 30
        }
      ]
    },
    {
      "cell_type": "code",
      "metadata": {
        "id": "gWML2UvfRNZO",
        "outputId": "af58cd05-61cf-4988-c329-50aefcd2e604",
        "colab": {
          "base_uri": "https://localhost:8080/",
          "height": 35
        }
      },
      "source": [
        "stripvowel('Chellaboina Sai Vamsika')"
      ],
      "execution_count": null,
      "outputs": [
        {
          "output_type": "execute_result",
          "data": {
            "application/vnd.google.colaboratory.intrinsic+json": {
              "type": "string"
            },
            "text/plain": [
              "'Chllbn S Vmsk'"
            ]
          },
          "metadata": {
            "tags": []
          },
          "execution_count": 31
        }
      ]
    },
    {
      "cell_type": "code",
      "metadata": {
        "id": "V8swua9jRRvm",
        "outputId": "96f7ab21-883d-4441-b1ca-96b3ceca3c50",
        "colab": {
          "base_uri": "https://localhost:8080/"
        }
      },
      "source": [
        "#2.3\n",
        "#ReLU function for a 1D array\n",
        "myRelu = lambda l : [x if x>0 else 0 for x in l]\n",
        "myRelu([-2, 1, 0, 4, 5, 800])"
      ],
      "execution_count": null,
      "outputs": [
        {
          "output_type": "execute_result",
          "data": {
            "text/plain": [
              "[0, 1, 0, 4, 5, 800]"
            ]
          },
          "metadata": {
            "tags": []
          },
          "execution_count": 32
        }
      ]
    },
    {
      "cell_type": "code",
      "metadata": {
        "id": "XIupAr8ER_nI",
        "outputId": "5876d981-ae7a-40f7-f9ea-26b5ecea5ab9",
        "colab": {
          "base_uri": "https://localhost:8080/"
        }
      },
      "source": [
        "#using zip\n",
        "myRelu = lambda l : zip(l, [x if x>0 else 0 for x in l])\n",
        "print(list(myRelu([-2, 1, 0, 4, 5, 800])))"
      ],
      "execution_count": null,
      "outputs": [
        {
          "output_type": "stream",
          "text": [
            "[(-2, 0), (1, 1), (0, 0), (4, 4), (5, 5), (800, 800)]\n"
          ],
          "name": "stdout"
        }
      ]
    },
    {
      "cell_type": "code",
      "metadata": {
        "id": "OxO_sBMsSVVa",
        "outputId": "d8c6017a-fb99-44d5-dc35-7e7405f974dc",
        "colab": {
          "base_uri": "https://localhost:8080/"
        }
      },
      "source": [
        "#2.4\n",
        "# acts like a sigmoid function for a 1D array\n",
        "mySig = lambda l : [1 / (1 + math.exp(-x)) for x in l]\n",
        "mySig(range(-6,6,2))"
      ],
      "execution_count": null,
      "outputs": [
        {
          "output_type": "execute_result",
          "data": {
            "text/plain": [
              "[0.0024726231566347743,\n",
              " 0.01798620996209156,\n",
              " 0.11920292202211755,\n",
              " 0.5,\n",
              " 0.8807970779778823,\n",
              " 0.9820137900379085]"
            ]
          },
          "metadata": {
            "tags": []
          },
          "execution_count": 34
        }
      ]
    },
    {
      "cell_type": "code",
      "metadata": {
        "id": "qzcW5EHegphh",
        "outputId": "dfb4711a-72cb-4ebb-e8b1-e7e99d517673",
        "colab": {
          "base_uri": "https://localhost:8080/"
        }
      },
      "source": [
        "mySig = lambda l : zip(l, [1 / (1 + math.exp(-x)) for x in l])\n",
        "list(mySig(range(-6, 6, 2)))"
      ],
      "execution_count": null,
      "outputs": [
        {
          "output_type": "execute_result",
          "data": {
            "text/plain": [
              "[(-6, 0.0024726231566347743),\n",
              " (-4, 0.01798620996209156),\n",
              " (-2, 0.11920292202211755),\n",
              " (0, 0.5),\n",
              " (2, 0.8807970779778823),\n",
              " (4, 0.9820137900379085)]"
            ]
          },
          "metadata": {
            "tags": []
          },
          "execution_count": 35
        }
      ]
    },
    {
      "cell_type": "code",
      "metadata": {
        "id": "lVyocW-oj2Qc",
        "outputId": "966970d0-8245-472a-b8eb-92348144e7a1",
        "colab": {
          "base_uri": "https://localhost:8080/"
        }
      },
      "source": [
        "#2.5\n",
        "# takes a small character string and shifts all characters by 5 (handle boundary conditions) tsai>>yxfn\n",
        "shiftby5 = lambda s : ''.join([chr((ord(x) - ord('a') + 5) % 26 + ord('a')) for x in s])\n",
        "\n",
        "\n",
        "print(f'tsai >> 5 = {shiftby5(\"tsai\")}')\n",
        "print(f'sridevi >> 5 = {shiftby5(\"sridevi\")}')"
      ],
      "execution_count": null,
      "outputs": [
        {
          "output_type": "stream",
          "text": [
            "tsai >> 5 = yxfn\n",
            "sridevi >> 5 = xwnijan\n"
          ],
          "name": "stdout"
        }
      ]
    },
    {
      "cell_type": "markdown",
      "metadata": {
        "id": "o5w0LCf7qFrF"
      },
      "source": [
        "## Task 3 \n",
        "A list comprehension expression that takes a ~200 word paragraph (write your own paragraph to check), and checks whether it has any of the swear words mentioned in https://github.com/RobertJGabriel/Google-profanity-words/blob/master/list.txt PTS:200\n"
      ]
    },
    {
      "cell_type": "code",
      "metadata": {
        "id": "jSQyXaHuod_X",
        "outputId": "2892cb11-7c91-41b8-810b-80de72767b4c",
        "colab": {
          "base_uri": "https://localhost:8080/"
        }
      },
      "source": [
        "!git clone https://github.com/RobertJGabriel/Google-profanity-words ./data"
      ],
      "execution_count": null,
      "outputs": [
        {
          "output_type": "stream",
          "text": [
            "Cloning into './data'...\n",
            "remote: Enumerating objects: 9, done.\u001b[K\n",
            "remote: Counting objects: 100% (9/9), done.\u001b[K\n",
            "remote: Compressing objects: 100% (9/9), done.\u001b[K\n",
            "remote: Total 25 (delta 2), reused 0 (delta 0), pack-reused 16\u001b[K\n",
            "Unpacking objects: 100% (25/25), done.\n"
          ],
          "name": "stdout"
        }
      ]
    },
    {
      "cell_type": "code",
      "metadata": {
        "id": "bQQtbsMOq7XB"
      },
      "source": [
        "f = open(\"./data/list.txt\", \"r\")\n",
        "swearwords = [x.strip() for x in f.readlines()]"
      ],
      "execution_count": null,
      "outputs": []
    },
    {
      "cell_type": "code",
      "metadata": {
        "id": "rpfDXI7mskl0"
      },
      "source": [
        "mytext = \"Every trade has their tools and software developement is no different. There are certain \\\n",
        "tools every python and ML developer should know and this part of the session is all about such tools.\\\n",
        "You may use more number of tools in your further courses. Lets discuss the most essential tools we need for \\\n",
        "our journey. You might be surprised why I am suggesting you all to install Python? Well, there is a reason for it. \\\n",
        "Python is one of the greatest creation by humans like how God has created us... :-) \\\n",
        "Python is a powerful high-level, object-oriented programming language which is very versatile. \\\n",
        "You can not only create big applications but also you can use Python to create useful scripts to automate stuff.\\\n",
        "It also has numerous modules which make almost anything possible, starting from accessing the file system, developing web applications \\\n",
        "to machine learning. I can’t say more but to show you this picture which clearly explains why every programmer should learn Python. \\\n",
        "It also has simple easy-to-use syntax, making it the perfect language for someone trying to learn computer programming for the first time \\\n",
        "Every programmer should know one text editor pretty well. Software developer do a lot of text processing job and knowing a text editor will always help.\"\n"
      ],
      "execution_count": null,
      "outputs": []
    },
    {
      "cell_type": "code",
      "metadata": {
        "id": "DmgKthaG8sAj",
        "outputId": "d629f49c-540d-4da4-a66d-08de9c73b9e3",
        "colab": {
          "base_uri": "https://localhost:8080/"
        }
      },
      "source": [
        "[x for x in mytext.split() if x in swearwords ]"
      ],
      "execution_count": null,
      "outputs": [
        {
          "output_type": "execute_result",
          "data": {
            "text/plain": [
              "['God']"
            ]
          },
          "metadata": {
            "tags": []
          },
          "execution_count": 40
        }
      ]
    },
    {
      "cell_type": "markdown",
      "metadata": {
        "id": "fSfEgw5q9pww"
      },
      "source": [
        "## Task 4\n",
        "Using reduce functions: PTS:100\n",
        "* add only even numbers in a list\n",
        "* find the biggest character in a string (printable ascii characters)\n",
        "* adds every 3rd number in a list"
      ]
    },
    {
      "cell_type": "code",
      "metadata": {
        "id": "zsMrtSyt_TFs",
        "outputId": "75ca2981-57b6-491f-caa8-664d4f6eb2cd",
        "colab": {
          "base_uri": "https://localhost:8080/"
        }
      },
      "source": [
        "#Add only even numbers in a list\n",
        "evensum = lambda L : reduce(lambda a, b : a+b, [x for x in L if x%2==0])\n",
        "evensum(range(10))"
      ],
      "execution_count": null,
      "outputs": [
        {
          "output_type": "execute_result",
          "data": {
            "text/plain": [
              "20"
            ]
          },
          "metadata": {
            "tags": []
          },
          "execution_count": 41
        }
      ]
    },
    {
      "cell_type": "code",
      "metadata": {
        "id": "YBIjuUJz_R3N",
        "outputId": "bc63ece9-83c8-49be-fe0c-b93227e44100",
        "colab": {
          "base_uri": "https://localhost:8080/",
          "height": 35
        }
      },
      "source": [
        "#Find the biggest character in a string\n",
        "bigchar = lambda S : reduce(lambda a, b : a if a>b else b, [x for x in S if x.isprintable()])\n",
        "bigchar('Bhimavaram$')"
      ],
      "execution_count": null,
      "outputs": [
        {
          "output_type": "execute_result",
          "data": {
            "application/vnd.google.colaboratory.intrinsic+json": {
              "type": "string"
            },
            "text/plain": [
              "'v'"
            ]
          },
          "metadata": {
            "tags": []
          },
          "execution_count": 42
        }
      ]
    },
    {
      "cell_type": "code",
      "metadata": {
        "id": "EKABqu4AtG5-",
        "outputId": "cd667cc8-a038-49cd-df07-8797d39c4f95",
        "colab": {
          "base_uri": "https://localhost:8080/"
        }
      },
      "source": [
        "#Adds every third number in a list\n",
        "thirdnosum = lambda L : reduce(lambda a, b : a+b, [L[i] for i in range(2, len(L), 3)])\n",
        "thirdnosum([1,2,3,1,2,3,1,2,3])"
      ],
      "execution_count": null,
      "outputs": [
        {
          "output_type": "execute_result",
          "data": {
            "text/plain": [
              "9"
            ]
          },
          "metadata": {
            "tags": []
          },
          "execution_count": 43
        }
      ]
    },
    {
      "cell_type": "markdown",
      "metadata": {
        "id": "Re0wXEYCCRxf"
      },
      "source": [
        "## Task 5\n",
        "Using randint, random.choice and list comprehensions, write an expression that generates 15 random KADDAADDDD number plates, where KA is fixed, D stands for a digit, and A stands for Capital alphabets. 10<<DD<<99 & 1000<<DDDD<<9999 PTS:100"
      ]
    },
    {
      "cell_type": "code",
      "metadata": {
        "id": "KURT9p39KX3b",
        "outputId": "2308c0a1-2aad-48fe-ea69-0ecbb7656b9f",
        "colab": {
          "base_uri": "https://localhost:8080/"
        }
      },
      "source": [
        "['KA' + str(random.randint(10,99)) + chr(random.randint(65,90)) + chr(random.randint(65,90)) + str(random.randint(1000,9999)) for x in range(15)]"
      ],
      "execution_count": null,
      "outputs": [
        {
          "output_type": "execute_result",
          "data": {
            "text/plain": [
              "['KA17HD7897',\n",
              " 'KA27LN3457',\n",
              " 'KA75RI7759',\n",
              " 'KA53UY2064',\n",
              " 'KA79DP5797',\n",
              " 'KA57ZS3439',\n",
              " 'KA86KJ6706',\n",
              " 'KA28BY2632',\n",
              " 'KA57OJ4979',\n",
              " 'KA97PS6726',\n",
              " 'KA91JI8066',\n",
              " 'KA86ZE3526',\n",
              " 'KA15RX1314',\n",
              " 'KA10PI8069',\n",
              " 'KA32IE4308']"
            ]
          },
          "metadata": {
            "tags": []
          },
          "execution_count": 44
        }
      ]
    },
    {
      "cell_type": "code",
      "metadata": {
        "id": "QEt9GelYRR7s",
        "outputId": "fba62996-140c-43e9-d62b-e69bd17e6f0c",
        "colab": {
          "base_uri": "https://localhost:8080/"
        }
      },
      "source": [
        "#above functionality by incorporating random.choice and making it as a function.\n",
        "cap = [chr(x) for x in range(65,91)]   #generates list of capitals.  \n",
        "numberplate = lambda state : [state + str(random.randint(10,99)) + random.choice(cap) + random.choice(cap) + str(random.randint(1000,9999)) for x in range(15)]\n",
        "numberplate('KA')"
      ],
      "execution_count": null,
      "outputs": [
        {
          "output_type": "execute_result",
          "data": {
            "text/plain": [
              "['KA46BK1303',\n",
              " 'KA39WT5706',\n",
              " 'KA68ER2435',\n",
              " 'KA98YQ9479',\n",
              " 'KA18DI2474',\n",
              " 'KA15TA6700',\n",
              " 'KA41YA2403',\n",
              " 'KA19YN4972',\n",
              " 'KA82SO8150',\n",
              " 'KA19BA5159',\n",
              " 'KA24CE8351',\n",
              " 'KA29AT5265',\n",
              " 'KA78OV1043',\n",
              " 'KA46ON4327',\n",
              " 'KA52XE1164']"
            ]
          },
          "metadata": {
            "tags": []
          },
          "execution_count": 45
        }
      ]
    },
    {
      "cell_type": "markdown",
      "metadata": {
        "id": "ea95orzTCUI0"
      },
      "source": [
        "## Task 6\n",
        "\n",
        "Write the above again from scratch where KA can be changed to DL, and 1000/9999 ranges can be provided.  PTS:100"
      ]
    },
    {
      "cell_type": "code",
      "metadata": {
        "id": "W9GIN5W-tgta",
        "outputId": "82e4529c-f68e-4b99-c4fd-3e53058d3e98",
        "colab": {
          "base_uri": "https://localhost:8080/"
        }
      },
      "source": [
        "cap = [chr(x) for x in range(65,91)]   #generates list of capitals.  \n",
        "numberplate = lambda state, start, end : [state + str(random.randint(10,99)) + ''.join([random.choice(cap) for _ in range(2)]) + str(random.randint(start,end)) for x in range(15)]\n",
        "numberplate('DL', 2000, 5000)"
      ],
      "execution_count": null,
      "outputs": [
        {
          "output_type": "execute_result",
          "data": {
            "text/plain": [
              "['DL21UA2441',\n",
              " 'DL49EK2782',\n",
              " 'DL31PK2371',\n",
              " 'DL52OR4552',\n",
              " 'DL95ZD4483',\n",
              " 'DL31GM4905',\n",
              " 'DL16KM4674',\n",
              " 'DL46GW4816',\n",
              " 'DL15GS3032',\n",
              " 'DL78JC4568',\n",
              " 'DL18BJ3884',\n",
              " 'DL90HI2723',\n",
              " 'DL93VB4620',\n",
              " 'DL86NI3231',\n",
              " 'DL36RH2310']"
            ]
          },
          "metadata": {
            "tags": []
          },
          "execution_count": 46
        }
      ]
    },
    {
      "cell_type": "code",
      "metadata": {
        "id": "TQc7g7FmTLVF"
      },
      "source": [
        ""
      ],
      "execution_count": null,
      "outputs": []
    }
  ]
}