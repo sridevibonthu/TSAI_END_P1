{
  "nbformat": 4,
  "nbformat_minor": 0,
  "metadata": {
    "colab": {
      "name": "TexttoCode.ipynb",
      "provenance": [],
      "collapsed_sections": [],
      "include_colab_link": true
    },
    "kernelspec": {
      "name": "python3",
      "display_name": "Python 3"
    },
    "accelerator": "GPU",
    "widgets": {
      "application/vnd.jupyter.widget-state+json": {
        "2340d79935ad4368af745f201d0c7626": {
          "model_module": "@jupyter-widgets/controls",
          "model_name": "HBoxModel",
          "state": {
            "_view_name": "HBoxView",
            "_dom_classes": [],
            "_model_name": "HBoxModel",
            "_view_module": "@jupyter-widgets/controls",
            "_model_module_version": "1.5.0",
            "_view_count": null,
            "_view_module_version": "1.5.0",
            "box_style": "",
            "layout": "IPY_MODEL_dd74c294061f45e99928e7f400e87181",
            "_model_module": "@jupyter-widgets/controls",
            "children": [
              "IPY_MODEL_2e165cec22744b69bfd394a640e64863",
              "IPY_MODEL_c5db6d6c8c9b42f2a96888c4b52bcec5"
            ]
          }
        },
        "dd74c294061f45e99928e7f400e87181": {
          "model_module": "@jupyter-widgets/base",
          "model_name": "LayoutModel",
          "state": {
            "_view_name": "LayoutView",
            "grid_template_rows": null,
            "right": null,
            "justify_content": null,
            "_view_module": "@jupyter-widgets/base",
            "overflow": null,
            "_model_module_version": "1.2.0",
            "_view_count": null,
            "flex_flow": null,
            "width": null,
            "min_width": null,
            "border": null,
            "align_items": null,
            "bottom": null,
            "_model_module": "@jupyter-widgets/base",
            "top": null,
            "grid_column": null,
            "overflow_y": null,
            "overflow_x": null,
            "grid_auto_flow": null,
            "grid_area": null,
            "grid_template_columns": null,
            "flex": null,
            "_model_name": "LayoutModel",
            "justify_items": null,
            "grid_row": null,
            "max_height": null,
            "align_content": null,
            "visibility": null,
            "align_self": null,
            "height": null,
            "min_height": null,
            "padding": null,
            "grid_auto_rows": null,
            "grid_gap": null,
            "max_width": null,
            "order": null,
            "_view_module_version": "1.2.0",
            "grid_template_areas": null,
            "object_position": null,
            "object_fit": null,
            "grid_auto_columns": null,
            "margin": null,
            "display": null,
            "left": null
          }
        },
        "2e165cec22744b69bfd394a640e64863": {
          "model_module": "@jupyter-widgets/controls",
          "model_name": "FloatProgressModel",
          "state": {
            "_view_name": "ProgressView",
            "style": "IPY_MODEL_720035b1cffc4044aae7adef29543804",
            "_dom_classes": [],
            "description": "100%",
            "_model_name": "FloatProgressModel",
            "bar_style": "success",
            "max": 5373,
            "_view_module": "@jupyter-widgets/controls",
            "_model_module_version": "1.5.0",
            "value": 5373,
            "_view_count": null,
            "_view_module_version": "1.5.0",
            "orientation": "horizontal",
            "min": 0,
            "description_tooltip": null,
            "_model_module": "@jupyter-widgets/controls",
            "layout": "IPY_MODEL_82d07b08a8c6453c8814f30082eb3502"
          }
        },
        "c5db6d6c8c9b42f2a96888c4b52bcec5": {
          "model_module": "@jupyter-widgets/controls",
          "model_name": "HTMLModel",
          "state": {
            "_view_name": "HTMLView",
            "style": "IPY_MODEL_58508da5b8064e559eba0a40478db033",
            "_dom_classes": [],
            "description": "",
            "_model_name": "HTMLModel",
            "placeholder": "​",
            "_view_module": "@jupyter-widgets/controls",
            "_model_module_version": "1.5.0",
            "value": " 5373/5373 [16:23&lt;00:00,  5.46it/s]",
            "_view_count": null,
            "_view_module_version": "1.5.0",
            "description_tooltip": null,
            "_model_module": "@jupyter-widgets/controls",
            "layout": "IPY_MODEL_6d637e162d814e4cbe1cc3cf6e132957"
          }
        },
        "720035b1cffc4044aae7adef29543804": {
          "model_module": "@jupyter-widgets/controls",
          "model_name": "ProgressStyleModel",
          "state": {
            "_view_name": "StyleView",
            "_model_name": "ProgressStyleModel",
            "description_width": "initial",
            "_view_module": "@jupyter-widgets/base",
            "_model_module_version": "1.5.0",
            "_view_count": null,
            "_view_module_version": "1.2.0",
            "bar_color": null,
            "_model_module": "@jupyter-widgets/controls"
          }
        },
        "82d07b08a8c6453c8814f30082eb3502": {
          "model_module": "@jupyter-widgets/base",
          "model_name": "LayoutModel",
          "state": {
            "_view_name": "LayoutView",
            "grid_template_rows": null,
            "right": null,
            "justify_content": null,
            "_view_module": "@jupyter-widgets/base",
            "overflow": null,
            "_model_module_version": "1.2.0",
            "_view_count": null,
            "flex_flow": null,
            "width": null,
            "min_width": null,
            "border": null,
            "align_items": null,
            "bottom": null,
            "_model_module": "@jupyter-widgets/base",
            "top": null,
            "grid_column": null,
            "overflow_y": null,
            "overflow_x": null,
            "grid_auto_flow": null,
            "grid_area": null,
            "grid_template_columns": null,
            "flex": null,
            "_model_name": "LayoutModel",
            "justify_items": null,
            "grid_row": null,
            "max_height": null,
            "align_content": null,
            "visibility": null,
            "align_self": null,
            "height": null,
            "min_height": null,
            "padding": null,
            "grid_auto_rows": null,
            "grid_gap": null,
            "max_width": null,
            "order": null,
            "_view_module_version": "1.2.0",
            "grid_template_areas": null,
            "object_position": null,
            "object_fit": null,
            "grid_auto_columns": null,
            "margin": null,
            "display": null,
            "left": null
          }
        },
        "58508da5b8064e559eba0a40478db033": {
          "model_module": "@jupyter-widgets/controls",
          "model_name": "DescriptionStyleModel",
          "state": {
            "_view_name": "StyleView",
            "_model_name": "DescriptionStyleModel",
            "description_width": "",
            "_view_module": "@jupyter-widgets/base",
            "_model_module_version": "1.5.0",
            "_view_count": null,
            "_view_module_version": "1.2.0",
            "_model_module": "@jupyter-widgets/controls"
          }
        },
        "6d637e162d814e4cbe1cc3cf6e132957": {
          "model_module": "@jupyter-widgets/base",
          "model_name": "LayoutModel",
          "state": {
            "_view_name": "LayoutView",
            "grid_template_rows": null,
            "right": null,
            "justify_content": null,
            "_view_module": "@jupyter-widgets/base",
            "overflow": null,
            "_model_module_version": "1.2.0",
            "_view_count": null,
            "flex_flow": null,
            "width": null,
            "min_width": null,
            "border": null,
            "align_items": null,
            "bottom": null,
            "_model_module": "@jupyter-widgets/base",
            "top": null,
            "grid_column": null,
            "overflow_y": null,
            "overflow_x": null,
            "grid_auto_flow": null,
            "grid_area": null,
            "grid_template_columns": null,
            "flex": null,
            "_model_name": "LayoutModel",
            "justify_items": null,
            "grid_row": null,
            "max_height": null,
            "align_content": null,
            "visibility": null,
            "align_self": null,
            "height": null,
            "min_height": null,
            "padding": null,
            "grid_auto_rows": null,
            "grid_gap": null,
            "max_width": null,
            "order": null,
            "_view_module_version": "1.2.0",
            "grid_template_areas": null,
            "object_position": null,
            "object_fit": null,
            "grid_auto_columns": null,
            "margin": null,
            "display": null,
            "left": null
          }
        }
      }
    }
  },
  "cells": [
    {
      "cell_type": "markdown",
      "metadata": {
        "id": "view-in-github",
        "colab_type": "text"
      },
      "source": [
        "<a href=\"https://colab.research.google.com/github/sridevibonthu/TSAI_END_P1/blob/main/Capstone/TexttoCode.ipynb\" target=\"_parent\"><img src=\"https://colab.research.google.com/assets/colab-badge.svg\" alt=\"Open In Colab\"/></a>"
      ]
    },
    {
      "cell_type": "markdown",
      "metadata": {
        "id": "Yuh5BPAtButa"
      },
      "source": [
        "![](https://raw.githubusercontent.com/bentrevett/pytorch-seq2seq/9479fcb532214ad26fd4bda9fcf081a05e1aaf4e/assets/transformer1.png)"
      ]
    },
    {
      "cell_type": "code",
      "metadata": {
        "id": "cgTxHeAvl3Er"
      },
      "source": [
        "import torch\n",
        "import torch.nn as nn\n",
        "import torch.optim as optim\n",
        "\n",
        "import torchtext\n",
        "from torchtext import data \n",
        "\n",
        "from torchtext.legacy.data import Field, BucketIterator\n",
        "\n",
        "import matplotlib.pyplot as plt\n",
        "import matplotlib.ticker as ticker\n",
        "\n",
        "import spacy\n",
        "import numpy as np\n",
        "\n",
        "import random\n",
        "import math\n",
        "import time"
      ],
      "execution_count": null,
      "outputs": []
    },
    {
      "cell_type": "code",
      "metadata": {
        "id": "KwMMe5CQCU5g"
      },
      "source": [
        "SEED = 1234\n",
        "\n",
        "random.seed(SEED)\n",
        "np.random.seed(SEED)\n",
        "torch.manual_seed(SEED)\n",
        "torch.cuda.manual_seed(SEED)\n",
        "torch.backends.cudnn.deterministic = True"
      ],
      "execution_count": null,
      "outputs": []
    },
    {
      "cell_type": "code",
      "metadata": {
        "colab": {
          "base_uri": "https://localhost:8080/"
        },
        "id": "xpNTE2GhCY2V",
        "outputId": "cf462afb-b398-4683-a6a0-0a3a5c4e7775"
      },
      "source": [
        "!python -m spacy download en"
      ],
      "execution_count": null,
      "outputs": [
        {
          "output_type": "stream",
          "text": [
            "Requirement already satisfied: en_core_web_sm==2.2.5 from https://github.com/explosion/spacy-models/releases/download/en_core_web_sm-2.2.5/en_core_web_sm-2.2.5.tar.gz#egg=en_core_web_sm==2.2.5 in /usr/local/lib/python3.7/dist-packages (2.2.5)\n",
            "Requirement already satisfied: spacy>=2.2.2 in /usr/local/lib/python3.7/dist-packages (from en_core_web_sm==2.2.5) (2.2.4)\n",
            "Requirement already satisfied: tqdm<5.0.0,>=4.38.0 in /usr/local/lib/python3.7/dist-packages (from spacy>=2.2.2->en_core_web_sm==2.2.5) (4.41.1)\n",
            "Requirement already satisfied: requests<3.0.0,>=2.13.0 in /usr/local/lib/python3.7/dist-packages (from spacy>=2.2.2->en_core_web_sm==2.2.5) (2.23.0)\n",
            "Requirement already satisfied: cymem<2.1.0,>=2.0.2 in /usr/local/lib/python3.7/dist-packages (from spacy>=2.2.2->en_core_web_sm==2.2.5) (2.0.5)\n",
            "Requirement already satisfied: preshed<3.1.0,>=3.0.2 in /usr/local/lib/python3.7/dist-packages (from spacy>=2.2.2->en_core_web_sm==2.2.5) (3.0.5)\n",
            "Requirement already satisfied: murmurhash<1.1.0,>=0.28.0 in /usr/local/lib/python3.7/dist-packages (from spacy>=2.2.2->en_core_web_sm==2.2.5) (1.0.5)\n",
            "Requirement already satisfied: srsly<1.1.0,>=1.0.2 in /usr/local/lib/python3.7/dist-packages (from spacy>=2.2.2->en_core_web_sm==2.2.5) (1.0.5)\n",
            "Requirement already satisfied: numpy>=1.15.0 in /usr/local/lib/python3.7/dist-packages (from spacy>=2.2.2->en_core_web_sm==2.2.5) (1.19.5)\n",
            "Requirement already satisfied: plac<1.2.0,>=0.9.6 in /usr/local/lib/python3.7/dist-packages (from spacy>=2.2.2->en_core_web_sm==2.2.5) (1.1.3)\n",
            "Requirement already satisfied: wasabi<1.1.0,>=0.4.0 in /usr/local/lib/python3.7/dist-packages (from spacy>=2.2.2->en_core_web_sm==2.2.5) (0.8.2)\n",
            "Requirement already satisfied: catalogue<1.1.0,>=0.0.7 in /usr/local/lib/python3.7/dist-packages (from spacy>=2.2.2->en_core_web_sm==2.2.5) (1.0.0)\n",
            "Requirement already satisfied: setuptools in /usr/local/lib/python3.7/dist-packages (from spacy>=2.2.2->en_core_web_sm==2.2.5) (54.1.2)\n",
            "Requirement already satisfied: blis<0.5.0,>=0.4.0 in /usr/local/lib/python3.7/dist-packages (from spacy>=2.2.2->en_core_web_sm==2.2.5) (0.4.1)\n",
            "Requirement already satisfied: thinc==7.4.0 in /usr/local/lib/python3.7/dist-packages (from spacy>=2.2.2->en_core_web_sm==2.2.5) (7.4.0)\n",
            "Requirement already satisfied: certifi>=2017.4.17 in /usr/local/lib/python3.7/dist-packages (from requests<3.0.0,>=2.13.0->spacy>=2.2.2->en_core_web_sm==2.2.5) (2020.12.5)\n",
            "Requirement already satisfied: urllib3!=1.25.0,!=1.25.1,<1.26,>=1.21.1 in /usr/local/lib/python3.7/dist-packages (from requests<3.0.0,>=2.13.0->spacy>=2.2.2->en_core_web_sm==2.2.5) (1.24.3)\n",
            "Requirement already satisfied: chardet<4,>=3.0.2 in /usr/local/lib/python3.7/dist-packages (from requests<3.0.0,>=2.13.0->spacy>=2.2.2->en_core_web_sm==2.2.5) (3.0.4)\n",
            "Requirement already satisfied: idna<3,>=2.5 in /usr/local/lib/python3.7/dist-packages (from requests<3.0.0,>=2.13.0->spacy>=2.2.2->en_core_web_sm==2.2.5) (2.10)\n",
            "Requirement already satisfied: importlib-metadata>=0.20; python_version < \"3.8\" in /usr/local/lib/python3.7/dist-packages (from catalogue<1.1.0,>=0.0.7->spacy>=2.2.2->en_core_web_sm==2.2.5) (3.7.2)\n",
            "Requirement already satisfied: zipp>=0.5 in /usr/local/lib/python3.7/dist-packages (from importlib-metadata>=0.20; python_version < \"3.8\"->catalogue<1.1.0,>=0.0.7->spacy>=2.2.2->en_core_web_sm==2.2.5) (3.4.1)\n",
            "Requirement already satisfied: typing-extensions>=3.6.4; python_version < \"3.8\" in /usr/local/lib/python3.7/dist-packages (from importlib-metadata>=0.20; python_version < \"3.8\"->catalogue<1.1.0,>=0.0.7->spacy>=2.2.2->en_core_web_sm==2.2.5) (3.7.4.3)\n",
            "\u001b[38;5;2m✔ Download and installation successful\u001b[0m\n",
            "You can now load the model via spacy.load('en_core_web_sm')\n",
            "\u001b[38;5;2m✔ Linking successful\u001b[0m\n",
            "/usr/local/lib/python3.7/dist-packages/en_core_web_sm -->\n",
            "/usr/local/lib/python3.7/dist-packages/spacy/data/en\n",
            "You can now load the model via spacy.load('en')\n"
          ],
          "name": "stdout"
        }
      ]
    },
    {
      "cell_type": "code",
      "metadata": {
        "id": "j37U6a5OCi_M"
      },
      "source": [
        "spacy_text = spacy.load('en')"
      ],
      "execution_count": null,
      "outputs": []
    },
    {
      "cell_type": "code",
      "metadata": {
        "id": "15wydnnsCpH0"
      },
      "source": [
        "def tokenize_code(text):\n",
        "    \"\"\"\n",
        "    Tokenizes German text from a string into a list of strings\n",
        "    \"\"\"\n",
        "    return [tok.text for tok in spacy_text.tokenizer(text)]\n",
        "\n",
        "def tokenize_text(text):\n",
        "    \"\"\"\n",
        "    Tokenizes English text from a string into a list of strings\n",
        "    \"\"\"\n",
        "    return [tok.text for tok in spacy_text.tokenizer(text)]"
      ],
      "execution_count": null,
      "outputs": []
    },
    {
      "cell_type": "code",
      "metadata": {
        "id": "60O0YZ8eCrLd"
      },
      "source": [
        "SRC = Field(tokenize = tokenize_text, \n",
        "            init_token = '<sos>', \n",
        "            eos_token = '<eos>', \n",
        "            lower = True, \n",
        "            batch_first = True)\n",
        "\n",
        "TRG = Field(tokenize = tokenize_code, \n",
        "            init_token = '<sos>', \n",
        "            eos_token = '<eos>', \n",
        "            lower = True, \n",
        "            batch_first = True)"
      ],
      "execution_count": null,
      "outputs": []
    },
    {
      "cell_type": "code",
      "metadata": {
        "id": "Tg0jsgHfVJQx"
      },
      "source": [
        "fields = [('src', SRC),('trg',TRG)]"
      ],
      "execution_count": null,
      "outputs": []
    },
    {
      "cell_type": "code",
      "metadata": {
        "colab": {
          "base_uri": "https://localhost:8080/"
        },
        "id": "XWNr1RWoUPF7",
        "outputId": "dc49cbce-82f6-4dc2-c9bf-d0b73c6b5758"
      },
      "source": [
        "from google.colab import drive\n",
        "drive.mount('/content/drive')"
      ],
      "execution_count": null,
      "outputs": [
        {
          "output_type": "stream",
          "text": [
            "Drive already mounted at /content/drive; to attempt to forcibly remount, call drive.mount(\"/content/drive\", force_remount=True).\n"
          ],
          "name": "stdout"
        }
      ]
    },
    {
      "cell_type": "code",
      "metadata": {
        "id": "RLC9YkXLUdTr"
      },
      "source": [
        ""
      ],
      "execution_count": null,
      "outputs": []
    },
    {
      "cell_type": "code",
      "metadata": {
        "id": "79h2k6L-UMkK"
      },
      "source": [
        "import pandas as pd"
      ],
      "execution_count": null,
      "outputs": []
    },
    {
      "cell_type": "code",
      "metadata": {
        "colab": {
          "base_uri": "https://localhost:8080/",
          "height": 284
        },
        "id": "1k0cSFFyUf_6",
        "outputId": "5edc00c3-9da8-428a-c818-f3e52d069801"
      },
      "source": [
        "df = pd.read_csv('/content/drive/MyDrive/END/TexttoPython2.csv')\n",
        "#df = pd.read_csv('TexttoPython2.csv')\n",
        "df.head()"
      ],
      "execution_count": null,
      "outputs": [
        {
          "output_type": "execute_result",
          "data": {
            "text/html": [
              "<div>\n",
              "<style scoped>\n",
              "    .dataframe tbody tr th:only-of-type {\n",
              "        vertical-align: middle;\n",
              "    }\n",
              "\n",
              "    .dataframe tbody tr th {\n",
              "        vertical-align: top;\n",
              "    }\n",
              "\n",
              "    .dataframe thead th {\n",
              "        text-align: right;\n",
              "    }\n",
              "</style>\n",
              "<table border=\"1\" class=\"dataframe\">\n",
              "  <thead>\n",
              "    <tr style=\"text-align: right;\">\n",
              "      <th></th>\n",
              "      <th>text</th>\n",
              "      <th>sourcecode</th>\n",
              "      <th>text_length</th>\n",
              "      <th>code_length</th>\n",
              "    </tr>\n",
              "  </thead>\n",
              "  <tbody>\n",
              "    <tr>\n",
              "      <th>0</th>\n",
              "      <td>write a python program to add two numbers</td>\n",
              "      <td>num1 = 1.5\\nnum2 = 6.3\\nsum = num1 + num2\\npri...</td>\n",
              "      <td>41</td>\n",
              "      <td>61</td>\n",
              "    </tr>\n",
              "    <tr>\n",
              "      <th>1</th>\n",
              "      <td>write a python function to add two user provid...</td>\n",
              "      <td>def add_two_numbers(num1, num2):\\n    sum = nu...</td>\n",
              "      <td>75</td>\n",
              "      <td>70</td>\n",
              "    </tr>\n",
              "    <tr>\n",
              "      <th>2</th>\n",
              "      <td>write a program to find and print the largest ...</td>\n",
              "      <td>num1 = 10\\nnum2 = 12\\nnum3 = 14\\nif (num1 &gt;= n...</td>\n",
              "      <td>65</td>\n",
              "      <td>196</td>\n",
              "    </tr>\n",
              "    <tr>\n",
              "      <th>3</th>\n",
              "      <td>write a program to find and print the smallest...</td>\n",
              "      <td>num1 = 10\\nnum2 = 12\\nnum3 = 14\\nif (num1 &lt;= n...</td>\n",
              "      <td>66</td>\n",
              "      <td>201</td>\n",
              "    </tr>\n",
              "    <tr>\n",
              "      <th>4</th>\n",
              "      <td>Write a python function to merge two given lis...</td>\n",
              "      <td>def merge_lists(l1, l2):\\n    return l1 + l2\\n</td>\n",
              "      <td>57</td>\n",
              "      <td>44</td>\n",
              "    </tr>\n",
              "  </tbody>\n",
              "</table>\n",
              "</div>"
            ],
            "text/plain": [
              "                                                text  ... code_length\n",
              "0          write a python program to add two numbers  ...          61\n",
              "1  write a python function to add two user provid...  ...          70\n",
              "2  write a program to find and print the largest ...  ...         196\n",
              "3  write a program to find and print the smallest...  ...         201\n",
              "4  Write a python function to merge two given lis...  ...          44\n",
              "\n",
              "[5 rows x 4 columns]"
            ]
          },
          "metadata": {
            "tags": []
          },
          "execution_count": 10
        }
      ]
    },
    {
      "cell_type": "code",
      "metadata": {
        "colab": {
          "base_uri": "https://localhost:8080/"
        },
        "id": "RV0wg6c5X8cS",
        "outputId": "5c53046e-dd40-4e88-f330-f1c171c9b810"
      },
      "source": [
        "df.shape"
      ],
      "execution_count": null,
      "outputs": [
        {
          "output_type": "execute_result",
          "data": {
            "text/plain": [
              "(4299, 4)"
            ]
          },
          "metadata": {
            "tags": []
          },
          "execution_count": 11
        }
      ]
    },
    {
      "cell_type": "code",
      "metadata": {
        "colab": {
          "base_uri": "https://localhost:8080/",
          "height": 290
        },
        "id": "YjcdmExTB99I",
        "outputId": "9761d08f-c0ab-4b7f-bd4f-0015558cd689"
      },
      "source": [
        "df.describe()"
      ],
      "execution_count": null,
      "outputs": [
        {
          "output_type": "execute_result",
          "data": {
            "text/html": [
              "<div>\n",
              "<style scoped>\n",
              "    .dataframe tbody tr th:only-of-type {\n",
              "        vertical-align: middle;\n",
              "    }\n",
              "\n",
              "    .dataframe tbody tr th {\n",
              "        vertical-align: top;\n",
              "    }\n",
              "\n",
              "    .dataframe thead th {\n",
              "        text-align: right;\n",
              "    }\n",
              "</style>\n",
              "<table border=\"1\" class=\"dataframe\">\n",
              "  <thead>\n",
              "    <tr style=\"text-align: right;\">\n",
              "      <th></th>\n",
              "      <th>text_length</th>\n",
              "      <th>code_length</th>\n",
              "    </tr>\n",
              "  </thead>\n",
              "  <tbody>\n",
              "    <tr>\n",
              "      <th>count</th>\n",
              "      <td>4299.000000</td>\n",
              "      <td>4299.000000</td>\n",
              "    </tr>\n",
              "    <tr>\n",
              "      <th>mean</th>\n",
              "      <td>74.481042</td>\n",
              "      <td>167.029542</td>\n",
              "    </tr>\n",
              "    <tr>\n",
              "      <th>std</th>\n",
              "      <td>31.772111</td>\n",
              "      <td>131.600297</td>\n",
              "    </tr>\n",
              "    <tr>\n",
              "      <th>min</th>\n",
              "      <td>23.000000</td>\n",
              "      <td>10.000000</td>\n",
              "    </tr>\n",
              "    <tr>\n",
              "      <th>25%</th>\n",
              "      <td>54.000000</td>\n",
              "      <td>78.000000</td>\n",
              "    </tr>\n",
              "    <tr>\n",
              "      <th>50%</th>\n",
              "      <td>68.000000</td>\n",
              "      <td>128.000000</td>\n",
              "    </tr>\n",
              "    <tr>\n",
              "      <th>75%</th>\n",
              "      <td>87.000000</td>\n",
              "      <td>213.500000</td>\n",
              "    </tr>\n",
              "    <tr>\n",
              "      <th>max</th>\n",
              "      <td>309.000000</td>\n",
              "      <td>963.000000</td>\n",
              "    </tr>\n",
              "  </tbody>\n",
              "</table>\n",
              "</div>"
            ],
            "text/plain": [
              "       text_length  code_length\n",
              "count  4299.000000  4299.000000\n",
              "mean     74.481042   167.029542\n",
              "std      31.772111   131.600297\n",
              "min      23.000000    10.000000\n",
              "25%      54.000000    78.000000\n",
              "50%      68.000000   128.000000\n",
              "75%      87.000000   213.500000\n",
              "max     309.000000   963.000000"
            ]
          },
          "metadata": {
            "tags": []
          },
          "execution_count": 12
        }
      ]
    },
    {
      "cell_type": "code",
      "metadata": {
        "colab": {
          "base_uri": "https://localhost:8080/"
        },
        "id": "4QzxwsnqGrzq",
        "outputId": "4cd09b9c-a802-4ff7-be16-a6997abc5383"
      },
      "source": [
        "df.columns"
      ],
      "execution_count": null,
      "outputs": [
        {
          "output_type": "execute_result",
          "data": {
            "text/plain": [
              "Index(['text', 'sourcecode', 'text_length', 'code_length'], dtype='object')"
            ]
          },
          "metadata": {
            "tags": []
          },
          "execution_count": 13
        }
      ]
    },
    {
      "cell_type": "code",
      "metadata": {
        "colab": {
          "base_uri": "https://localhost:8080/",
          "height": 35
        },
        "id": "49zYThr7HHRZ",
        "outputId": "41d09ce9-64c7-4d9c-d988-9f96e06bec8a"
      },
      "source": [
        "df['text'][10]"
      ],
      "execution_count": null,
      "outputs": [
        {
          "output_type": "execute_result",
          "data": {
            "application/vnd.google.colaboratory.intrinsic+json": {
              "type": "string"
            },
            "text/plain": [
              "'Write a python function to print powers of 2, for given number of terms'"
            ]
          },
          "metadata": {
            "tags": []
          },
          "execution_count": 14
        }
      ]
    },
    {
      "cell_type": "code",
      "metadata": {
        "id": "f_TwsKwwU7VX"
      },
      "source": [
        "example = [torchtext.legacy.data.Example.fromlist([df.text[i], df.sourcecode[i]], fields) for i in range(df.shape[0])]"
      ],
      "execution_count": null,
      "outputs": []
    },
    {
      "cell_type": "code",
      "metadata": {
        "id": "ArpPZ75iWA75"
      },
      "source": [
        "Dataset = torchtext.legacy.data.Dataset(example, fields)"
      ],
      "execution_count": null,
      "outputs": []
    },
    {
      "cell_type": "code",
      "metadata": {
        "colab": {
          "base_uri": "https://localhost:8080/"
        },
        "id": "JMz52XRCWON5",
        "outputId": "0c1d1600-f6d2-4beb-fbc3-c6d667056a29"
      },
      "source": [
        "(train_data, valid_data) = Dataset.split(split_ratio= [0.85, 0.15], random_state = random.seed(SEED))\n",
        "len(train_data), len(valid_data)"
      ],
      "execution_count": null,
      "outputs": [
        {
          "output_type": "execute_result",
          "data": {
            "text/plain": [
              "(3654, 645)"
            ]
          },
          "metadata": {
            "tags": []
          },
          "execution_count": 17
        }
      ]
    },
    {
      "cell_type": "code",
      "metadata": {
        "colab": {
          "base_uri": "https://localhost:8080/"
        },
        "id": "HX3TosKOZSKU",
        "outputId": "d10a96b9-6070-40c0-87fc-d8a34da6876d"
      },
      "source": [
        "vars(train_data.examples[2])"
      ],
      "execution_count": null,
      "outputs": [
        {
          "output_type": "execute_result",
          "data": {
            "text/plain": [
              "{'src': ['write',\n",
              "  'a',\n",
              "  'program',\n",
              "  'to',\n",
              "  'print',\n",
              "  'all',\n",
              "  'the',\n",
              "  'even',\n",
              "  'numbers',\n",
              "  'in',\n",
              "  'a',\n",
              "  'range'],\n",
              " 'trg': ['r1',\n",
              "  ',',\n",
              "  'r2',\n",
              "  '=',\n",
              "  '1',\n",
              "  ',',\n",
              "  '28',\n",
              "  '\\n',\n",
              "  'for',\n",
              "  '_',\n",
              "  'in',\n",
              "  'range(r1',\n",
              "  ',',\n",
              "  'r2',\n",
              "  '+',\n",
              "  '1',\n",
              "  ')',\n",
              "  ':',\n",
              "  '\\n  ',\n",
              "  'if',\n",
              "  '_',\n",
              "  '%',\n",
              "  '2',\n",
              "  '=',\n",
              "  '=',\n",
              "  '0',\n",
              "  ':',\n",
              "  '\\n    ',\n",
              "  'print',\n",
              "  '(',\n",
              "  '_',\n",
              "  ')']}"
            ]
          },
          "metadata": {
            "tags": []
          },
          "execution_count": 18
        }
      ]
    },
    {
      "cell_type": "code",
      "metadata": {
        "id": "tRkEQKW1XvJs"
      },
      "source": [
        "from tqdm import tqdm_notebook"
      ],
      "execution_count": null,
      "outputs": []
    },
    {
      "cell_type": "code",
      "metadata": {
        "id": "fETHzIIyCu7p"
      },
      "source": [
        "SRC.build_vocab(train_data, min_freq = 2)\n",
        "TRG.build_vocab(train_data, min_freq = 2)"
      ],
      "execution_count": null,
      "outputs": []
    },
    {
      "cell_type": "code",
      "metadata": {
        "id": "NGsbqz2yY7ZZ"
      },
      "source": [
        "from gensim.models import KeyedVectors"
      ],
      "execution_count": null,
      "outputs": []
    },
    {
      "cell_type": "code",
      "metadata": {
        "id": "ghsXw0twYfot"
      },
      "source": [
        "temp_vec = KeyedVectors.load('vectors.kv')"
      ],
      "execution_count": null,
      "outputs": []
    },
    {
      "cell_type": "code",
      "metadata": {
        "colab": {
          "base_uri": "https://localhost:8080/"
        },
        "id": "yz8AhfJocDz-",
        "outputId": "4aefa6b4-da76-4f78-a0ae-87c98519ab90"
      },
      "source": [
        "temp_vec.get_vector('for')"
      ],
      "execution_count": null,
      "outputs": [
        {
          "output_type": "execute_result",
          "data": {
            "text/plain": [
              "array([-2.2212107 , -3.2716973 ,  0.08596397,  1.0600432 ,  1.569161  ,\n",
              "        2.6471703 ,  3.9394183 ,  1.6362194 , -1.4283733 ,  0.8181455 ,\n",
              "       -0.40948525,  0.79383725, -0.20749182, -0.6079804 ,  0.67397064,\n",
              "       -0.9775447 ,  0.20821586, -0.26805055, -1.3640004 ,  6.870676  ,\n",
              "        1.8757685 ,  4.8799257 , -0.77709275,  2.5054526 ,  1.1443208 ,\n",
              "        2.3336983 , -2.3346663 ,  0.35804844, -4.5044103 , -1.7924329 ,\n",
              "       -0.78196406,  1.212055  ,  2.8979034 ,  3.057321  ,  2.6749594 ,\n",
              "        4.093399  ,  1.1332434 , -0.66972274, -4.2216635 ,  3.6693451 ,\n",
              "       -3.2459188 ,  1.9979509 , -2.7410555 , -1.763092  ,  3.60696   ,\n",
              "        2.7205794 , -1.0839537 , -2.7054164 , -1.8759485 ,  4.9015856 ,\n",
              "        1.2094648 , -0.81035155,  0.62556684, -3.4928925 , -1.5139366 ,\n",
              "       -2.3137531 ,  3.1062942 , -3.185933  , -0.7376263 ,  1.6052458 ,\n",
              "        2.7609344 ,  0.6255045 , -1.845184  ,  3.0349295 ,  0.27142432,\n",
              "       -2.362853  , -2.560822  , -2.1509025 , -1.2535785 , -0.17445536,\n",
              "       -1.9748359 ,  0.13634776,  2.8430192 , -4.3504815 ,  2.530394  ,\n",
              "        0.6075757 ,  3.461263  ,  0.917853  , -1.5209956 , -0.5183875 ,\n",
              "       -0.02319751, -0.9546636 , -6.0778255 , -1.5832005 , -2.8705883 ,\n",
              "       -1.853907  ,  0.39963856, -0.46578497, -0.18559575,  4.987865  ,\n",
              "        4.6213045 , -0.37101898,  1.5358361 ,  1.0063963 ,  0.43719783,\n",
              "       -2.5645726 , -1.3790889 , -2.2454596 , -1.1495795 , -2.3592176 ],\n",
              "      dtype=float32)"
            ]
          },
          "metadata": {
            "tags": []
          },
          "execution_count": 23
        }
      ]
    },
    {
      "cell_type": "code",
      "metadata": {
        "colab": {
          "base_uri": "https://localhost:8080/",
          "height": 174,
          "referenced_widgets": [
            "2340d79935ad4368af745f201d0c7626",
            "dd74c294061f45e99928e7f400e87181",
            "2e165cec22744b69bfd394a640e64863",
            "c5db6d6c8c9b42f2a96888c4b52bcec5",
            "720035b1cffc4044aae7adef29543804",
            "82d07b08a8c6453c8814f30082eb3502",
            "58508da5b8064e559eba0a40478db033",
            "6d637e162d814e4cbe1cc3cf6e132957"
          ]
        },
        "id": "moQuhAtEazwy",
        "outputId": "e87cf24c-97a3-4001-ffa1-8b8647b397f4"
      },
      "source": [
        "trg_word2vec_vectors = []\n",
        "for token, idx in tqdm_notebook(TRG.vocab.stoi.items()):\n",
        "    if token in temp_vec.vocab.keys():\n",
        "        trg_word2vec_vectors.append(torch.FloatTensor(temp_vec.get_vector(token)))\n",
        "    else:\n",
        "        trg_word2vec_vectors.append(torch.zeros(100))"
      ],
      "execution_count": null,
      "outputs": [
        {
          "output_type": "stream",
          "text": [
            "/usr/local/lib/python3.7/dist-packages/ipykernel_launcher.py:2: TqdmDeprecationWarning: This function will be removed in tqdm==5.0.0\n",
            "Please use `tqdm.notebook.tqdm` instead of `tqdm.tqdm_notebook`\n",
            "  \n"
          ],
          "name": "stderr"
        },
        {
          "output_type": "display_data",
          "data": {
            "application/vnd.jupyter.widget-view+json": {
              "model_id": "2340d79935ad4368af745f201d0c7626",
              "version_minor": 0,
              "version_major": 2
            },
            "text/plain": [
              "HBox(children=(FloatProgress(value=0.0, max=5373.0), HTML(value='')))"
            ]
          },
          "metadata": {
            "tags": []
          }
        },
        {
          "output_type": "stream",
          "text": [
            "\n"
          ],
          "name": "stdout"
        },
        {
          "output_type": "stream",
          "text": [
            "/usr/local/lib/python3.7/dist-packages/ipykernel_launcher.py:4: UserWarning: The given NumPy array is not writeable, and PyTorch does not support non-writeable tensors. This means you can write to the underlying (supposedly non-writeable) NumPy array using the tensor. You may want to copy the array to protect its data or make it writeable before converting it to a tensor. This type of warning will be suppressed for the rest of this program. (Triggered internally at  /pytorch/torch/csrc/utils/tensor_numpy.cpp:143.)\n",
            "  after removing the cwd from sys.path.\n"
          ],
          "name": "stderr"
        }
      ]
    },
    {
      "cell_type": "code",
      "metadata": {
        "id": "l2K7EGTFb294"
      },
      "source": [
        "TRG.vocab.set_vectors(TRG.vocab.stoi, trg_word2vec_vectors, 100)"
      ],
      "execution_count": null,
      "outputs": []
    },
    {
      "cell_type": "code",
      "metadata": {
        "colab": {
          "base_uri": "https://localhost:8080/"
        },
        "id": "-RYfQUbrYh1t",
        "outputId": "e580e533-9b88-42e0-b4e2-02b32a2a8e30"
      },
      "source": [
        "len(SRC.vocab), len(TRG.vocab)"
      ],
      "execution_count": null,
      "outputs": [
        {
          "output_type": "execute_result",
          "data": {
            "text/plain": [
              "(1449, 5373)"
            ]
          },
          "metadata": {
            "tags": []
          },
          "execution_count": 26
        }
      ]
    },
    {
      "cell_type": "code",
      "metadata": {
        "colab": {
          "base_uri": "https://localhost:8080/"
        },
        "id": "bku1snPJY5Am",
        "outputId": "a32e1f4e-1ead-48f8-bb4b-08a009837066"
      },
      "source": [
        "list(SRC.vocab.freqs.most_common(10)), list(TRG.vocab.freqs.most_common(10))"
      ],
      "execution_count": null,
      "outputs": [
        {
          "output_type": "execute_result",
          "data": {
            "text/plain": [
              "([('a', 5148),\n",
              "  ('to', 3066),\n",
              "  ('write', 3023),\n",
              "  ('python', 2238),\n",
              "  ('the', 2076),\n",
              "  ('of', 1759),\n",
              "  ('program', 1648),\n",
              "  ('function', 1582),\n",
              "  ('and', 1152),\n",
              "  ('list', 1085)],\n",
              " [(')', 13657),\n",
              "  ('=', 9076),\n",
              "  (',', 8896),\n",
              "  (':', 8680),\n",
              "  ('\\n', 5964),\n",
              "  ('\\n    ', 4745),\n",
              "  ('\"', 4683),\n",
              "  (\"'\", 4310),\n",
              "  (']', 4056),\n",
              "  ('(', 2787)])"
            ]
          },
          "metadata": {
            "tags": []
          },
          "execution_count": 27
        }
      ]
    },
    {
      "cell_type": "code",
      "metadata": {
        "colab": {
          "base_uri": "https://localhost:8080/"
        },
        "id": "2XONz6UrCwuh",
        "outputId": "41bed08e-d9f9-487d-f2db-53e8f2680f22"
      },
      "source": [
        "device = torch.device('cuda' if torch.cuda.is_available() else 'cpu')\n",
        "device"
      ],
      "execution_count": null,
      "outputs": [
        {
          "output_type": "execute_result",
          "data": {
            "text/plain": [
              "device(type='cuda')"
            ]
          },
          "metadata": {
            "tags": []
          },
          "execution_count": 28
        }
      ]
    },
    {
      "cell_type": "code",
      "metadata": {
        "id": "aBtCv6sACyZ8"
      },
      "source": [
        "BATCH_SIZE = 32\n",
        "\n",
        "train_iterator, valid_iterator = BucketIterator.splits(\n",
        "    (train_data, valid_data), \n",
        "     batch_size = BATCH_SIZE,\n",
        "     sort_key = lambda x: len(x.trg),\n",
        "     device = device)"
      ],
      "execution_count": null,
      "outputs": []
    },
    {
      "cell_type": "markdown",
      "metadata": {
        "id": "HgvD_MpkC2OS"
      },
      "source": [
        "![](https://raw.githubusercontent.com/bentrevett/pytorch-seq2seq/9479fcb532214ad26fd4bda9fcf081a05e1aaf4e/assets/transformer-encoder.png)"
      ]
    },
    {
      "cell_type": "code",
      "metadata": {
        "id": "NE6JimgOCz-w"
      },
      "source": [
        "class Encoder(nn.Module):\n",
        "    def __init__(self, \n",
        "                 input_dim, \n",
        "                 hid_dim, \n",
        "                 n_layers, \n",
        "                 n_heads, \n",
        "                 pf_dim,\n",
        "                 dropout, \n",
        "                 device,\n",
        "                 max_length = 1024):\n",
        "        super().__init__()\n",
        "\n",
        "        self.device = device\n",
        "        \n",
        "        self.tok_embedding = nn.Embedding(input_dim, hid_dim)\n",
        "        self.pos_embedding = nn.Embedding(max_length, hid_dim)\n",
        "        \n",
        "        self.layers = nn.ModuleList([EncoderLayer(hid_dim, \n",
        "                                                  n_heads, \n",
        "                                                  pf_dim,\n",
        "                                                  dropout, \n",
        "                                                  device) \n",
        "                                     for _ in range(n_layers)])\n",
        "        \n",
        "        self.dropout = nn.Dropout(dropout)\n",
        "        \n",
        "        self.scale = torch.sqrt(torch.FloatTensor([hid_dim])).to(device)\n",
        "        \n",
        "    def forward(self, src, src_mask):\n",
        "        \n",
        "        #src = [batch size, src len]\n",
        "        #src_mask = [batch size, 1, 1, src len]\n",
        "        \n",
        "        batch_size = src.shape[0]\n",
        "        src_len = src.shape[1]\n",
        "        \n",
        "        pos = torch.arange(0, src_len).unsqueeze(0).repeat(batch_size, 1).to(self.device)\n",
        "        \n",
        "        #pos = [batch size, src len]\n",
        "        \n",
        "        src = self.dropout((self.tok_embedding(src) * self.scale) + self.pos_embedding(pos))\n",
        "        \n",
        "        #src = [batch size, src len, hid dim]\n",
        "        \n",
        "        for layer in self.layers:\n",
        "            src = layer(src, src_mask)\n",
        "            \n",
        "        #src = [batch size, src len, hid dim]\n",
        "            \n",
        "        return src"
      ],
      "execution_count": null,
      "outputs": []
    },
    {
      "cell_type": "code",
      "metadata": {
        "id": "2LheiXWVFDEg"
      },
      "source": [
        "class EncoderLayer(nn.Module):\n",
        "    def __init__(self, \n",
        "                 hid_dim, \n",
        "                 n_heads, \n",
        "                 pf_dim,  \n",
        "                 dropout, \n",
        "                 device):\n",
        "        super().__init__()\n",
        "        \n",
        "        self.self_attn_layer_norm = nn.LayerNorm(hid_dim)\n",
        "        self.ff_layer_norm = nn.LayerNorm(hid_dim)\n",
        "        self.self_attention = MultiHeadAttentionLayer(hid_dim, n_heads, dropout, device)\n",
        "        self.positionwise_feedforward = PositionwiseFeedforwardLayer(hid_dim, \n",
        "                                                                     pf_dim, \n",
        "                                                                     dropout)\n",
        "        self.dropout = nn.Dropout(dropout)\n",
        "        \n",
        "    def forward(self, src, src_mask):\n",
        "        \n",
        "        #src = [batch size, src len, hid dim]\n",
        "        #src_mask = [batch size, 1, 1, src len] \n",
        "                \n",
        "        #self attention\n",
        "        _src, _ = self.self_attention(src, src, src, src_mask)\n",
        "        \n",
        "        #dropout, residual connection and layer norm\n",
        "        src = self.self_attn_layer_norm(src + self.dropout(_src))\n",
        "        \n",
        "        #src = [batch size, src len, hid dim]\n",
        "        \n",
        "        #positionwise feedforward\n",
        "        _src = self.positionwise_feedforward(src)\n",
        "        \n",
        "        #dropout, residual and layer norm\n",
        "        src = self.ff_layer_norm(src + self.dropout(_src))\n",
        "        \n",
        "        #src = [batch size, src len, hid dim]\n",
        "        \n",
        "        return src"
      ],
      "execution_count": null,
      "outputs": []
    },
    {
      "cell_type": "markdown",
      "metadata": {
        "id": "6h_Iqnk4Jg5k"
      },
      "source": [
        "![](https://raw.githubusercontent.com/bentrevett/pytorch-seq2seq/9479fcb532214ad26fd4bda9fcf081a05e1aaf4e/assets/transformer-attention.png)"
      ]
    },
    {
      "cell_type": "code",
      "metadata": {
        "id": "ZZmeHfGhGzkN"
      },
      "source": [
        "class MultiHeadAttentionLayer(nn.Module):\n",
        "    def __init__(self, hid_dim, n_heads, dropout, device):\n",
        "        super().__init__()\n",
        "        \n",
        "        assert hid_dim % n_heads == 0\n",
        "        \n",
        "        self.hid_dim = hid_dim\n",
        "        self.n_heads = n_heads\n",
        "        self.head_dim = hid_dim // n_heads\n",
        "        \n",
        "        self.fc_q = nn.Linear(hid_dim, hid_dim)\n",
        "        self.fc_k = nn.Linear(hid_dim, hid_dim)\n",
        "        self.fc_v = nn.Linear(hid_dim, hid_dim)\n",
        "        \n",
        "        self.fc_o = nn.Linear(hid_dim, hid_dim)\n",
        "        \n",
        "        self.dropout = nn.Dropout(dropout)\n",
        "        \n",
        "        self.scale = torch.sqrt(torch.FloatTensor([self.head_dim])).to(device)\n",
        "        \n",
        "    def forward(self, query, key, value, mask = None):\n",
        "        \n",
        "        batch_size = query.shape[0]\n",
        "        \n",
        "        #query = [batch size, query len, hid dim]\n",
        "        #key = [batch size, key len, hid dim]\n",
        "        #value = [batch size, value len, hid dim]\n",
        "                \n",
        "        Q = self.fc_q(query)\n",
        "        K = self.fc_k(key)\n",
        "        V = self.fc_v(value)\n",
        "        \n",
        "        #Q = [batch size, query len, hid dim]\n",
        "        #K = [batch size, key len, hid dim]\n",
        "        #V = [batch size, value len, hid dim]\n",
        "                \n",
        "        Q = Q.view(batch_size, -1, self.n_heads, self.head_dim).permute(0, 2, 1, 3)\n",
        "        K = K.view(batch_size, -1, self.n_heads, self.head_dim).permute(0, 2, 1, 3)\n",
        "        V = V.view(batch_size, -1, self.n_heads, self.head_dim).permute(0, 2, 1, 3)\n",
        "        \n",
        "        #Q = [batch size, n heads, query len, head dim]\n",
        "        #K = [batch size, n heads, key len, head dim]\n",
        "        #V = [batch size, n heads, value len, head dim]\n",
        "                \n",
        "        energy = torch.matmul(Q, K.permute(0, 1, 3, 2)) / self.scale\n",
        "        \n",
        "        #energy = [batch size, n heads, query len, key len]\n",
        "        \n",
        "        if mask is not None:\n",
        "            energy = energy.masked_fill(mask == 0, -1e10)\n",
        "        \n",
        "        attention = torch.softmax(energy, dim = -1)\n",
        "                \n",
        "        #attention = [batch size, n heads, query len, key len]\n",
        "                \n",
        "        x = torch.matmul(self.dropout(attention), V)\n",
        "        \n",
        "        #x = [batch size, n heads, query len, head dim]\n",
        "        \n",
        "        x = x.permute(0, 2, 1, 3).contiguous()\n",
        "        \n",
        "        #x = [batch size, query len, n heads, head dim]\n",
        "        \n",
        "        x = x.view(batch_size, -1, self.hid_dim)\n",
        "        \n",
        "        #x = [batch size, query len, hid dim]\n",
        "        \n",
        "        x = self.fc_o(x)\n",
        "        \n",
        "        #x = [batch size, query len, hid dim]\n",
        "        \n",
        "        return x, attention"
      ],
      "execution_count": null,
      "outputs": []
    },
    {
      "cell_type": "code",
      "metadata": {
        "id": "R9w9xDUKL7LU"
      },
      "source": [
        "class PositionwiseFeedforwardLayer(nn.Module):\n",
        "    def __init__(self, hid_dim, pf_dim, dropout):\n",
        "        super().__init__()\n",
        "        \n",
        "        self.fc_1 = nn.Linear(hid_dim, pf_dim)\n",
        "        self.fc_2 = nn.Linear(pf_dim, hid_dim)\n",
        "        \n",
        "        self.dropout = nn.Dropout(dropout)\n",
        "        \n",
        "    def forward(self, x):\n",
        "        \n",
        "        #x = [batch size, seq len, hid dim]\n",
        "        \n",
        "        x = self.dropout(torch.relu(self.fc_1(x)))\n",
        "        \n",
        "        #x = [batch size, seq len, pf dim]\n",
        "        \n",
        "        x = self.fc_2(x)\n",
        "        \n",
        "        #x = [batch size, seq len, hid dim]\n",
        "        \n",
        "        return x"
      ],
      "execution_count": null,
      "outputs": []
    },
    {
      "cell_type": "markdown",
      "metadata": {
        "id": "YbTr7YPSMRpC"
      },
      "source": [
        "![](https://raw.githubusercontent.com/bentrevett/pytorch-seq2seq/9479fcb532214ad26fd4bda9fcf081a05e1aaf4e/assets/transformer-decoder.png)"
      ]
    },
    {
      "cell_type": "code",
      "metadata": {
        "id": "iWBMMF45MMNS"
      },
      "source": [
        "class Decoder(nn.Module):\n",
        "    def __init__(self, \n",
        "                 output_dim, \n",
        "                 hid_dim, \n",
        "                 n_layers, \n",
        "                 n_heads, \n",
        "                 pf_dim, \n",
        "                 dropout, \n",
        "                 device,\n",
        "                 max_length = 1024):\n",
        "        super().__init__()\n",
        "        \n",
        "        self.device = device\n",
        "        \n",
        "        self.tok_embedding = nn.Embedding(output_dim, hid_dim)\n",
        "        self.pos_embedding = nn.Embedding(max_length, hid_dim)\n",
        "        \n",
        "        self.layers = nn.ModuleList([DecoderLayer(hid_dim, \n",
        "                                                  n_heads, \n",
        "                                                  pf_dim, \n",
        "                                                  dropout, \n",
        "                                                  device)\n",
        "                                     for _ in range(n_layers)])\n",
        "        \n",
        "        self.fc_out = nn.Linear(hid_dim, output_dim)\n",
        "        \n",
        "        self.dropout = nn.Dropout(dropout)\n",
        "        \n",
        "        self.scale = torch.sqrt(torch.FloatTensor([hid_dim])).to(device)\n",
        "        \n",
        "    def forward(self, trg, enc_src, trg_mask, src_mask):\n",
        "        \n",
        "        #trg = [batch size, trg len]\n",
        "        #enc_src = [batch size, src len, hid dim]\n",
        "        #trg_mask = [batch size, 1, trg len, trg len]\n",
        "        #src_mask = [batch size, 1, 1, src len]\n",
        "                \n",
        "        batch_size = trg.shape[0]\n",
        "        trg_len = trg.shape[1]\n",
        "        \n",
        "        pos = torch.arange(0, trg_len).unsqueeze(0).repeat(batch_size, 1).to(self.device)\n",
        "                            \n",
        "        #pos = [batch size, trg len]\n",
        "            \n",
        "        trg = self.dropout((self.tok_embedding(trg) * self.scale) + self.pos_embedding(pos))\n",
        "                \n",
        "        #trg = [batch size, trg len, hid dim]\n",
        "        \n",
        "        for layer in self.layers:\n",
        "            trg, attention = layer(trg, enc_src, trg_mask, src_mask)\n",
        "        \n",
        "        #trg = [batch size, trg len, hid dim]\n",
        "        #attention = [batch size, n heads, trg len, src len]\n",
        "        \n",
        "        output = self.fc_out(trg)\n",
        "        \n",
        "        #output = [batch size, trg len, output dim]\n",
        "            \n",
        "        return output, attention"
      ],
      "execution_count": null,
      "outputs": []
    },
    {
      "cell_type": "code",
      "metadata": {
        "id": "CMEr1IFUMxco"
      },
      "source": [
        "class DecoderLayer(nn.Module):\n",
        "    def __init__(self, \n",
        "                 hid_dim, \n",
        "                 n_heads, \n",
        "                 pf_dim, \n",
        "                 dropout, \n",
        "                 device):\n",
        "        super().__init__()\n",
        "        \n",
        "        self.self_attn_layer_norm = nn.LayerNorm(hid_dim)\n",
        "        self.enc_attn_layer_norm = nn.LayerNorm(hid_dim)\n",
        "        self.ff_layer_norm = nn.LayerNorm(hid_dim)\n",
        "        self.self_attention = MultiHeadAttentionLayer(hid_dim, n_heads, dropout, device)\n",
        "        self.encoder_attention = MultiHeadAttentionLayer(hid_dim, n_heads, dropout, device)\n",
        "        self.positionwise_feedforward = PositionwiseFeedforwardLayer(hid_dim, \n",
        "                                                                     pf_dim, \n",
        "                                                                     dropout)\n",
        "        self.dropout = nn.Dropout(dropout)\n",
        "        \n",
        "    def forward(self, trg, enc_src, trg_mask, src_mask):\n",
        "        \n",
        "        #trg = [batch size, trg len, hid dim]\n",
        "        #enc_src = [batch size, src len, hid dim]\n",
        "        #trg_mask = [batch size, 1, trg len, trg len]\n",
        "        #src_mask = [batch size, 1, 1, src len]\n",
        "        \n",
        "        #self attention\n",
        "        _trg, _ = self.self_attention(trg, trg, trg, trg_mask)\n",
        "        \n",
        "        #dropout, residual connection and layer norm\n",
        "        trg = self.self_attn_layer_norm(trg + self.dropout(_trg))\n",
        "            \n",
        "        #trg = [batch size, trg len, hid dim]\n",
        "            \n",
        "        #encoder attention\n",
        "        _trg, attention = self.encoder_attention(trg, enc_src, enc_src, src_mask)\n",
        "        # query, key, value\n",
        "        \n",
        "        #dropout, residual connection and layer norm\n",
        "        trg = self.enc_attn_layer_norm(trg + self.dropout(_trg))\n",
        "                    \n",
        "        #trg = [batch size, trg len, hid dim]\n",
        "        \n",
        "        #positionwise feedforward\n",
        "        _trg = self.positionwise_feedforward(trg)\n",
        "        \n",
        "        #dropout, residual and layer norm\n",
        "        trg = self.ff_layer_norm(trg + self.dropout(_trg))\n",
        "        \n",
        "        #trg = [batch size, trg len, hid dim]\n",
        "        #attention = [batch size, n heads, trg len, src len]\n",
        "        \n",
        "        return trg, attention"
      ],
      "execution_count": null,
      "outputs": []
    },
    {
      "cell_type": "markdown",
      "metadata": {
        "id": "udpPhQ2UN8oQ"
      },
      "source": [
        "10000\n",
        "11000\n",
        "11100\n",
        "11100\n",
        "11100"
      ]
    },
    {
      "cell_type": "code",
      "metadata": {
        "id": "Dr3Mg8OGN6ul"
      },
      "source": [
        "class Seq2Seq(nn.Module):\n",
        "    def __init__(self, \n",
        "                 encoder, \n",
        "                 decoder, \n",
        "                 src_pad_idx, \n",
        "                 trg_pad_idx, \n",
        "                 device):\n",
        "        super().__init__()\n",
        "        \n",
        "        self.encoder = encoder\n",
        "        self.decoder = decoder\n",
        "        self.src_pad_idx = src_pad_idx\n",
        "        self.trg_pad_idx = trg_pad_idx\n",
        "        self.device = device\n",
        "        \n",
        "    def make_src_mask(self, src):\n",
        "        \n",
        "        #src = [batch size, src len]\n",
        "        \n",
        "        src_mask = (src != self.src_pad_idx).unsqueeze(1).unsqueeze(2)\n",
        "\n",
        "        #src_mask = [batch size, 1, 1, src len]\n",
        "\n",
        "        return src_mask\n",
        "    \n",
        "    def make_trg_mask(self, trg):\n",
        "        \n",
        "        #trg = [batch size, trg len]\n",
        "        \n",
        "        trg_pad_mask = (trg != self.trg_pad_idx).unsqueeze(1).unsqueeze(2)\n",
        "        \n",
        "        #trg_pad_mask = [batch size, 1, 1, trg len]\n",
        "        \n",
        "        trg_len = trg.shape[1]\n",
        "        \n",
        "        trg_sub_mask = torch.tril(torch.ones((trg_len, trg_len), device = self.device)).bool()\n",
        "        \n",
        "        #trg_sub_mask = [trg len, trg len]\n",
        "            \n",
        "        trg_mask = trg_pad_mask & trg_sub_mask\n",
        "        \n",
        "        #trg_mask = [batch size, 1, trg len, trg len]\n",
        "        \n",
        "        return trg_mask\n",
        "\n",
        "    def forward(self, src, trg):\n",
        "        \n",
        "        #src = [batch size, src len]\n",
        "        #trg = [batch size, trg len]\n",
        "                \n",
        "        src_mask = self.make_src_mask(src)\n",
        "        trg_mask = self.make_trg_mask(trg)\n",
        "        \n",
        "        #src_mask = [batch size, 1, 1, src len]\n",
        "        #trg_mask = [batch size, 1, trg len, trg len]\n",
        "        \n",
        "        enc_src = self.encoder(src, src_mask)\n",
        "        \n",
        "        #enc_src = [batch size, src len, hid dim]\n",
        "                \n",
        "        output, attention = self.decoder(trg, enc_src, trg_mask, src_mask)\n",
        "        \n",
        "        #output = [batch size, trg len, output dim]\n",
        "        #attention = [batch size, n heads, trg len, src len]\n",
        "        \n",
        "        return output, attention"
      ],
      "execution_count": null,
      "outputs": []
    },
    {
      "cell_type": "code",
      "metadata": {
        "id": "4zsZjSSWOSHc"
      },
      "source": [
        "INPUT_DIM = len(SRC.vocab)\n",
        "OUTPUT_DIM = len(TRG.vocab)\n",
        "HID_DIM = 256\n",
        "ENC_LAYERS = 3\n",
        "DEC_LAYERS = 3\n",
        "ENC_HEADS = 8\n",
        "DEC_HEADS = 8\n",
        "ENC_PF_DIM = 512\n",
        "DEC_PF_DIM = 512\n",
        "ENC_DROPOUT = 0.1\n",
        "DEC_DROPOUT = 0.1\n",
        "\n",
        "enc = Encoder(INPUT_DIM, \n",
        "              HID_DIM, \n",
        "              ENC_LAYERS, \n",
        "              ENC_HEADS, \n",
        "              ENC_PF_DIM, \n",
        "              ENC_DROPOUT, \n",
        "              device)\n",
        "\n",
        "dec = Decoder(OUTPUT_DIM, \n",
        "              HID_DIM, \n",
        "              DEC_LAYERS, \n",
        "              DEC_HEADS, \n",
        "              DEC_PF_DIM, \n",
        "              DEC_DROPOUT, \n",
        "              device)"
      ],
      "execution_count": null,
      "outputs": []
    },
    {
      "cell_type": "code",
      "metadata": {
        "id": "iYVZYDVcOUGK"
      },
      "source": [
        "SRC_PAD_IDX = SRC.vocab.stoi[SRC.pad_token]\n",
        "TRG_PAD_IDX = TRG.vocab.stoi[TRG.pad_token]\n",
        "\n",
        "model = Seq2Seq(enc, dec, SRC_PAD_IDX, TRG_PAD_IDX, device).to(device)"
      ],
      "execution_count": null,
      "outputs": []
    },
    {
      "cell_type": "code",
      "metadata": {
        "id": "Qd0ePzj0OzLa",
        "colab": {
          "base_uri": "https://localhost:8080/"
        },
        "outputId": "2227fbb0-1652-45c7-e3f3-ac488ce2f4b1"
      },
      "source": [
        "def count_parameters(model):\n",
        "    return sum(p.numel() for p in model.parameters() if p.requires_grad)\n",
        "\n",
        "print(f'The model has {count_parameters(model):,} trainable parameters')"
      ],
      "execution_count": null,
      "outputs": [
        {
          "output_type": "stream",
          "text": [
            "The model has 7,605,245 trainable parameters\n"
          ],
          "name": "stdout"
        }
      ]
    },
    {
      "cell_type": "code",
      "metadata": {
        "id": "fmZ0hyo8O0vE"
      },
      "source": [
        "def initialize_weights(m):\n",
        "    if hasattr(m, 'weight') and m.weight.dim() > 1:\n",
        "        nn.init.xavier_uniform_(m.weight.data)"
      ],
      "execution_count": null,
      "outputs": []
    },
    {
      "cell_type": "code",
      "metadata": {
        "id": "NRtAM9Y4O2N2"
      },
      "source": [
        "model.apply(initialize_weights);"
      ],
      "execution_count": null,
      "outputs": []
    },
    {
      "cell_type": "code",
      "metadata": {
        "id": "NEpApG3YO3ZE"
      },
      "source": [
        "LEARNING_RATE = 0.0005\n",
        "\n",
        "optimizer = torch.optim.Adam(model.parameters(), lr = LEARNING_RATE)"
      ],
      "execution_count": null,
      "outputs": []
    },
    {
      "cell_type": "code",
      "metadata": {
        "id": "n9Dy_wWrO46l"
      },
      "source": [
        "criterion = nn.CrossEntropyLoss(ignore_index = TRG_PAD_IDX)\n"
      ],
      "execution_count": null,
      "outputs": []
    },
    {
      "cell_type": "code",
      "metadata": {
        "id": "ycBBiEpuO6cG"
      },
      "source": [
        "def train(model, iterator, optimizer, criterion, clip):\n",
        "    \n",
        "    model.train()\n",
        "    \n",
        "    epoch_loss = 0\n",
        "    \n",
        "    for i, batch in enumerate(iterator):\n",
        "        \n",
        "        src = batch.src\n",
        "        trg = batch.trg\n",
        "        \n",
        "        optimizer.zero_grad()\n",
        "        \n",
        "        output, _ = model(src, trg[:,:-1])\n",
        "                \n",
        "        #output = [batch size, trg len - 1, output dim]\n",
        "        #trg = [batch size, trg len]\n",
        "            \n",
        "        output_dim = output.shape[-1]\n",
        "            \n",
        "        output = output.contiguous().view(-1, output_dim)\n",
        "        trg = trg[:,1:].contiguous().view(-1)\n",
        "                \n",
        "        #output = [batch size * trg len - 1, output dim]\n",
        "        #trg = [batch size * trg len - 1]\n",
        "            \n",
        "        loss = criterion(output, trg)\n",
        "        \n",
        "        loss.backward()\n",
        "        \n",
        "        torch.nn.utils.clip_grad_norm_(model.parameters(), clip)\n",
        "        \n",
        "        optimizer.step()\n",
        "        \n",
        "        epoch_loss += loss.item()\n",
        "        \n",
        "    return epoch_loss / len(iterator)"
      ],
      "execution_count": null,
      "outputs": []
    },
    {
      "cell_type": "code",
      "metadata": {
        "id": "zi3Ev8gaO79_"
      },
      "source": [
        "def evaluate(model, iterator, criterion):\n",
        "    \n",
        "    model.eval()\n",
        "    \n",
        "    epoch_loss = 0\n",
        "    \n",
        "    with torch.no_grad():\n",
        "    \n",
        "        for i, batch in enumerate(iterator):\n",
        "\n",
        "            src = batch.src\n",
        "            trg = batch.trg\n",
        "\n",
        "            output, _ = model(src, trg[:,:-1])\n",
        "            \n",
        "            #output = [batch size, trg len - 1, output dim]\n",
        "            #trg = [batch size, trg len]\n",
        "            \n",
        "            output_dim = output.shape[-1]\n",
        "            \n",
        "            output = output.contiguous().view(-1, output_dim)\n",
        "            trg = trg[:,1:].contiguous().view(-1)\n",
        "            \n",
        "            #output = [batch size * trg len - 1, output dim]\n",
        "            #trg = [batch size * trg len - 1]\n",
        "            \n",
        "            loss = criterion(output, trg)\n",
        "\n",
        "            epoch_loss += loss.item()\n",
        "        \n",
        "    return epoch_loss / len(iterator)"
      ],
      "execution_count": null,
      "outputs": []
    },
    {
      "cell_type": "code",
      "metadata": {
        "id": "JuB4JqQRO9Wg"
      },
      "source": [
        "def epoch_time(start_time, end_time):\n",
        "    elapsed_time = end_time - start_time\n",
        "    elapsed_mins = int(elapsed_time / 60)\n",
        "    elapsed_secs = int(elapsed_time - (elapsed_mins * 60))\n",
        "    return elapsed_mins, elapsed_secs"
      ],
      "execution_count": null,
      "outputs": []
    },
    {
      "cell_type": "code",
      "metadata": {
        "id": "aax76Ie4O_Cr",
        "colab": {
          "base_uri": "https://localhost:8080/"
        },
        "outputId": "45e7b99c-5e03-4e91-d487-092c02f4bb75"
      },
      "source": [
        "N_EPOCHS = 50\n",
        "CLIP = 1\n",
        "tloss = []\n",
        "vloss = []\n",
        "\n",
        "best_valid_loss = float('inf')\n",
        "\n",
        "for epoch in range(N_EPOCHS):\n",
        "    \n",
        "    start_time = time.time()\n",
        "    \n",
        "    train_loss = train(model, train_iterator, optimizer, criterion, CLIP)\n",
        "    valid_loss = evaluate(model, valid_iterator, criterion)\n",
        "    \n",
        "    end_time = time.time()\n",
        "    \n",
        "    epoch_mins, epoch_secs = epoch_time(start_time, end_time)\n",
        "    \n",
        "    if valid_loss < best_valid_loss:\n",
        "        best_valid_loss = valid_loss\n",
        "        torch.save(model.state_dict(), 'code-model.pt')\n",
        "        print(\".... Validation loss is decreased....Model saved ....\")\n",
        "    \n",
        "    print(f'Epoch: {epoch+1:02} | Time: {epoch_mins}m {epoch_secs}s')\n",
        "    print(f'\\tTrain Loss: {train_loss:.3f} | Train PPL: {math.exp(train_loss):7.3f}')\n",
        "    print(f'\\t Val. Loss: {valid_loss:.3f} |  Val. PPL: {math.exp(valid_loss):7.3f}')\n",
        "    tloss.append(train_loss)\n",
        "    vloss.append(valid_loss)"
      ],
      "execution_count": null,
      "outputs": [
        {
          "output_type": "stream",
          "text": [
            ".... Validation loss is decreased....Model saved ....\n",
            "Epoch: 01 | Time: 0m 19s\n",
            "\tTrain Loss: 4.970 | Train PPL: 144.016\n",
            "\t Val. Loss: 3.365 |  Val. PPL:  28.922\n",
            ".... Validation loss is decreased....Model saved ....\n",
            "Epoch: 02 | Time: 0m 19s\n",
            "\tTrain Loss: 3.381 | Train PPL:  29.404\n",
            "\t Val. Loss: 2.783 |  Val. PPL:  16.162\n",
            ".... Validation loss is decreased....Model saved ....\n",
            "Epoch: 03 | Time: 0m 19s\n",
            "\tTrain Loss: 2.858 | Train PPL:  17.430\n",
            "\t Val. Loss: 2.446 |  Val. PPL:  11.537\n",
            ".... Validation loss is decreased....Model saved ....\n",
            "Epoch: 04 | Time: 0m 19s\n",
            "\tTrain Loss: 2.480 | Train PPL:  11.947\n",
            "\t Val. Loss: 2.217 |  Val. PPL:   9.179\n",
            ".... Validation loss is decreased....Model saved ....\n",
            "Epoch: 05 | Time: 0m 19s\n",
            "\tTrain Loss: 2.173 | Train PPL:   8.783\n",
            "\t Val. Loss: 2.059 |  Val. PPL:   7.838\n",
            ".... Validation loss is decreased....Model saved ....\n",
            "Epoch: 06 | Time: 0m 19s\n",
            "\tTrain Loss: 1.919 | Train PPL:   6.812\n",
            "\t Val. Loss: 1.886 |  Val. PPL:   6.590\n",
            ".... Validation loss is decreased....Model saved ....\n",
            "Epoch: 07 | Time: 0m 19s\n",
            "\tTrain Loss: 1.691 | Train PPL:   5.427\n",
            "\t Val. Loss: 1.803 |  Val. PPL:   6.065\n",
            ".... Validation loss is decreased....Model saved ....\n",
            "Epoch: 08 | Time: 0m 19s\n",
            "\tTrain Loss: 1.510 | Train PPL:   4.529\n",
            "\t Val. Loss: 1.689 |  Val. PPL:   5.415\n",
            ".... Validation loss is decreased....Model saved ....\n",
            "Epoch: 09 | Time: 0m 19s\n",
            "\tTrain Loss: 1.348 | Train PPL:   3.850\n",
            "\t Val. Loss: 1.600 |  Val. PPL:   4.954\n",
            ".... Validation loss is decreased....Model saved ....\n",
            "Epoch: 10 | Time: 0m 19s\n",
            "\tTrain Loss: 1.209 | Train PPL:   3.351\n",
            "\t Val. Loss: 1.580 |  Val. PPL:   4.853\n",
            ".... Validation loss is decreased....Model saved ....\n",
            "Epoch: 11 | Time: 0m 19s\n",
            "\tTrain Loss: 1.087 | Train PPL:   2.965\n",
            "\t Val. Loss: 1.507 |  Val. PPL:   4.513\n",
            ".... Validation loss is decreased....Model saved ....\n",
            "Epoch: 12 | Time: 0m 19s\n",
            "\tTrain Loss: 0.985 | Train PPL:   2.678\n",
            "\t Val. Loss: 1.480 |  Val. PPL:   4.392\n",
            ".... Validation loss is decreased....Model saved ....\n",
            "Epoch: 13 | Time: 0m 19s\n",
            "\tTrain Loss: 0.905 | Train PPL:   2.471\n",
            "\t Val. Loss: 1.434 |  Val. PPL:   4.196\n",
            ".... Validation loss is decreased....Model saved ....\n",
            "Epoch: 14 | Time: 0m 19s\n",
            "\tTrain Loss: 0.830 | Train PPL:   2.293\n",
            "\t Val. Loss: 1.402 |  Val. PPL:   4.062\n",
            "Epoch: 15 | Time: 0m 19s\n",
            "\tTrain Loss: 0.772 | Train PPL:   2.164\n",
            "\t Val. Loss: 1.409 |  Val. PPL:   4.091\n",
            "Epoch: 16 | Time: 0m 19s\n",
            "\tTrain Loss: 0.715 | Train PPL:   2.043\n",
            "\t Val. Loss: 1.402 |  Val. PPL:   4.064\n",
            ".... Validation loss is decreased....Model saved ....\n",
            "Epoch: 17 | Time: 0m 19s\n",
            "\tTrain Loss: 0.664 | Train PPL:   1.942\n",
            "\t Val. Loss: 1.382 |  Val. PPL:   3.982\n",
            ".... Validation loss is decreased....Model saved ....\n",
            "Epoch: 18 | Time: 0m 19s\n",
            "\tTrain Loss: 0.617 | Train PPL:   1.853\n",
            "\t Val. Loss: 1.358 |  Val. PPL:   3.890\n",
            "Epoch: 19 | Time: 0m 19s\n",
            "\tTrain Loss: 0.583 | Train PPL:   1.791\n",
            "\t Val. Loss: 1.366 |  Val. PPL:   3.921\n",
            "Epoch: 20 | Time: 0m 19s\n",
            "\tTrain Loss: 0.551 | Train PPL:   1.736\n",
            "\t Val. Loss: 1.380 |  Val. PPL:   3.976\n",
            ".... Validation loss is decreased....Model saved ....\n",
            "Epoch: 21 | Time: 0m 19s\n",
            "\tTrain Loss: 0.522 | Train PPL:   1.686\n",
            "\t Val. Loss: 1.358 |  Val. PPL:   3.888\n",
            "Epoch: 22 | Time: 0m 19s\n",
            "\tTrain Loss: 0.494 | Train PPL:   1.639\n",
            "\t Val. Loss: 1.370 |  Val. PPL:   3.935\n",
            "Epoch: 23 | Time: 0m 19s\n",
            "\tTrain Loss: 0.470 | Train PPL:   1.600\n",
            "\t Val. Loss: 1.384 |  Val. PPL:   3.990\n",
            "Epoch: 24 | Time: 0m 19s\n",
            "\tTrain Loss: 0.443 | Train PPL:   1.558\n",
            "\t Val. Loss: 1.383 |  Val. PPL:   3.986\n",
            "Epoch: 25 | Time: 0m 19s\n",
            "\tTrain Loss: 0.430 | Train PPL:   1.537\n",
            "\t Val. Loss: 1.401 |  Val. PPL:   4.058\n",
            "Epoch: 26 | Time: 0m 19s\n",
            "\tTrain Loss: 0.405 | Train PPL:   1.499\n",
            "\t Val. Loss: 1.399 |  Val. PPL:   4.050\n",
            "Epoch: 27 | Time: 0m 18s\n",
            "\tTrain Loss: 0.386 | Train PPL:   1.471\n",
            "\t Val. Loss: 1.403 |  Val. PPL:   4.066\n",
            "Epoch: 28 | Time: 0m 20s\n",
            "\tTrain Loss: 0.371 | Train PPL:   1.450\n",
            "\t Val. Loss: 1.399 |  Val. PPL:   4.051\n",
            "Epoch: 29 | Time: 0m 19s\n",
            "\tTrain Loss: 0.359 | Train PPL:   1.432\n",
            "\t Val. Loss: 1.409 |  Val. PPL:   4.093\n",
            "Epoch: 30 | Time: 0m 19s\n",
            "\tTrain Loss: 0.342 | Train PPL:   1.407\n",
            "\t Val. Loss: 1.420 |  Val. PPL:   4.136\n",
            "Epoch: 31 | Time: 0m 19s\n",
            "\tTrain Loss: 0.330 | Train PPL:   1.392\n",
            "\t Val. Loss: 1.466 |  Val. PPL:   4.330\n",
            "Epoch: 32 | Time: 0m 19s\n",
            "\tTrain Loss: 0.318 | Train PPL:   1.375\n",
            "\t Val. Loss: 1.441 |  Val. PPL:   4.225\n",
            "Epoch: 33 | Time: 0m 19s\n",
            "\tTrain Loss: 0.309 | Train PPL:   1.362\n",
            "\t Val. Loss: 1.514 |  Val. PPL:   4.544\n",
            "Epoch: 34 | Time: 0m 19s\n",
            "\tTrain Loss: 0.295 | Train PPL:   1.343\n",
            "\t Val. Loss: 1.478 |  Val. PPL:   4.384\n",
            "Epoch: 35 | Time: 0m 19s\n",
            "\tTrain Loss: 0.286 | Train PPL:   1.332\n",
            "\t Val. Loss: 1.481 |  Val. PPL:   4.398\n",
            "Epoch: 36 | Time: 0m 19s\n",
            "\tTrain Loss: 0.275 | Train PPL:   1.317\n",
            "\t Val. Loss: 1.507 |  Val. PPL:   4.513\n",
            "Epoch: 37 | Time: 0m 19s\n",
            "\tTrain Loss: 0.266 | Train PPL:   1.305\n",
            "\t Val. Loss: 1.459 |  Val. PPL:   4.303\n",
            "Epoch: 38 | Time: 0m 19s\n",
            "\tTrain Loss: 0.258 | Train PPL:   1.295\n",
            "\t Val. Loss: 1.518 |  Val. PPL:   4.565\n",
            "Epoch: 39 | Time: 0m 19s\n",
            "\tTrain Loss: 0.252 | Train PPL:   1.287\n",
            "\t Val. Loss: 1.485 |  Val. PPL:   4.417\n",
            "Epoch: 40 | Time: 0m 19s\n",
            "\tTrain Loss: 0.241 | Train PPL:   1.273\n",
            "\t Val. Loss: 1.502 |  Val. PPL:   4.489\n",
            "Epoch: 41 | Time: 0m 19s\n",
            "\tTrain Loss: 0.235 | Train PPL:   1.264\n",
            "\t Val. Loss: 1.517 |  Val. PPL:   4.560\n",
            "Epoch: 42 | Time: 0m 19s\n",
            "\tTrain Loss: 0.231 | Train PPL:   1.260\n",
            "\t Val. Loss: 1.526 |  Val. PPL:   4.598\n",
            "Epoch: 43 | Time: 0m 19s\n",
            "\tTrain Loss: 0.221 | Train PPL:   1.247\n",
            "\t Val. Loss: 1.537 |  Val. PPL:   4.649\n",
            "Epoch: 44 | Time: 0m 19s\n",
            "\tTrain Loss: 0.218 | Train PPL:   1.244\n",
            "\t Val. Loss: 1.533 |  Val. PPL:   4.633\n",
            "Epoch: 45 | Time: 0m 19s\n",
            "\tTrain Loss: 0.214 | Train PPL:   1.238\n",
            "\t Val. Loss: 1.596 |  Val. PPL:   4.931\n",
            "Epoch: 46 | Time: 0m 19s\n",
            "\tTrain Loss: 0.205 | Train PPL:   1.228\n",
            "\t Val. Loss: 1.617 |  Val. PPL:   5.037\n",
            "Epoch: 47 | Time: 0m 19s\n",
            "\tTrain Loss: 0.203 | Train PPL:   1.225\n",
            "\t Val. Loss: 1.538 |  Val. PPL:   4.654\n",
            "Epoch: 48 | Time: 0m 19s\n",
            "\tTrain Loss: 0.197 | Train PPL:   1.218\n",
            "\t Val. Loss: 1.579 |  Val. PPL:   4.849\n",
            "Epoch: 49 | Time: 0m 19s\n",
            "\tTrain Loss: 0.193 | Train PPL:   1.213\n",
            "\t Val. Loss: 1.593 |  Val. PPL:   4.918\n",
            "Epoch: 50 | Time: 0m 19s\n",
            "\tTrain Loss: 0.191 | Train PPL:   1.210\n",
            "\t Val. Loss: 1.615 |  Val. PPL:   5.029\n"
          ],
          "name": "stdout"
        }
      ]
    },
    {
      "cell_type": "code",
      "metadata": {
        "id": "ieIjql9uPKH1"
      },
      "source": [
        "def translate_sentence(sentence, src_field, trg_field, model, device, max_len = 50):\n",
        "    \n",
        "    model.eval()\n",
        "        \n",
        "    if isinstance(sentence, type(str)):\n",
        "        nlp = spacy.load('en')\n",
        "        tokens = [token.text.lower() for token in nlp(sentence)]\n",
        "    else:\n",
        "        tokens = [token.lower() for token in sentence]\n",
        "\n",
        "    tokens = [src_field.init_token] + tokens + [src_field.eos_token]\n",
        "        \n",
        "    src_indexes = [src_field.vocab.stoi[token] for token in tokens]\n",
        "\n",
        "    src_tensor = torch.LongTensor(src_indexes).unsqueeze(0).to(device)\n",
        "    \n",
        "    src_mask = model.make_src_mask(src_tensor)\n",
        "    \n",
        "    with torch.no_grad():\n",
        "        enc_src = model.encoder(src_tensor, src_mask)\n",
        "\n",
        "    trg_indexes = [trg_field.vocab.stoi[trg_field.init_token]]\n",
        "\n",
        "    for i in range(max_len):\n",
        "\n",
        "        trg_tensor = torch.LongTensor(trg_indexes).unsqueeze(0).to(device)\n",
        "\n",
        "        trg_mask = model.make_trg_mask(trg_tensor)\n",
        "        \n",
        "        with torch.no_grad():\n",
        "            output, attention = model.decoder(trg_tensor, enc_src, trg_mask, src_mask)\n",
        "        \n",
        "        pred_token = output.argmax(2)[:,-1].item()\n",
        "        \n",
        "        trg_indexes.append(pred_token)\n",
        "\n",
        "        if pred_token == trg_field.vocab.stoi[trg_field.eos_token]:\n",
        "            break\n",
        "    \n",
        "    trg_tokens = [trg_field.vocab.itos[i] for i in trg_indexes]\n",
        "    \n",
        "    return trg_tokens[1:], attention"
      ],
      "execution_count": null,
      "outputs": []
    },
    {
      "cell_type": "code",
      "metadata": {
        "id": "WTBipndfPOlX"
      },
      "source": [
        "def display_attention(sentence, translation, attention, n_heads = 8, n_rows = 4, n_cols = 2):\n",
        "    \n",
        "    assert n_rows * n_cols == n_heads\n",
        "    \n",
        "    fig = plt.figure(figsize=(15,25))\n",
        "    \n",
        "    for i in range(n_heads):\n",
        "        \n",
        "        ax = fig.add_subplot(n_rows, n_cols, i+1)\n",
        "        \n",
        "        _attention = attention.squeeze(0)[i].cpu().detach().numpy()\n",
        "\n",
        "        cax = ax.matshow(_attention, cmap='bone')\n",
        "\n",
        "        ax.tick_params(labelsize=12)\n",
        "        ax.set_xticklabels(['']+['<sos>']+[t.lower() for t in sentence]+['<eos>'], \n",
        "                           rotation=45)\n",
        "        ax.set_yticklabels(['']+translation)\n",
        "\n",
        "        ax.xaxis.set_major_locator(ticker.MultipleLocator(1))\n",
        "        ax.yaxis.set_major_locator(ticker.MultipleLocator(1))\n",
        "\n",
        "    plt.show()"
      ],
      "execution_count": null,
      "outputs": []
    },
    {
      "cell_type": "code",
      "metadata": {
        "id": "TJHNiBOoPQhG",
        "colab": {
          "base_uri": "https://localhost:8080/"
        },
        "outputId": "936319c2-ebf1-4725-c053-6c51f599c6bb"
      },
      "source": [
        "example_idx = 8\n",
        "\n",
        "src = vars(train_data.examples[example_idx])['src']\n",
        "trg = vars(train_data.examples[example_idx])['trg']\n",
        "\n",
        "src = ' '.join(src)\n",
        "trg = ' '.join(trg)\n",
        "\n",
        "print(f'src = {src}')\n",
        "print(f'trg = {trg}')"
      ],
      "execution_count": null,
      "outputs": [
        {
          "output_type": "stream",
          "text": [
            "src = write a python program to convert each list element to key - value pair . print the final dictionary\n",
            "trg =   \n",
            " test_list = [ 2323 , 82 , 129388 , 234 , 95 ] \n",
            "  \n",
            " print(\"the original list is : \" + str(test_list ) ) \n",
            "  \n",
            " res = dict ( ) \n",
            " for ele in test_list : \n",
            "  \n",
            "     mid_idx = len(str(ele ) ) // 2 \n",
            "     key = int(str(ele)[:mid_idx ] ) \n",
            "     val = int(str(ele)[mid_idx : ] ) \n",
            "  \n",
            "     res[key ] = val \n",
            "  \n",
            " print(\"constructed dictionary : \" + str(res ) )\n"
          ],
          "name": "stdout"
        }
      ]
    },
    {
      "cell_type": "code",
      "metadata": {
        "id": "dZSai6VDPR3o",
        "colab": {
          "base_uri": "https://localhost:8080/"
        },
        "outputId": "7c4b2dba-4199-4a58-976d-41773623ce09"
      },
      "source": [
        "translation, attention = translate_sentence(src, SRC, TRG, model, device)\n",
        "\n",
        "print(f'predicted trg = {translation}')\n",
        "str = ' '.join(translation)\n",
        "print(\"The predicted target in code form : \\n\", str)"
      ],
      "execution_count": null,
      "outputs": [
        {
          "output_type": "stream",
          "text": [
            "predicted trg = ['  \\n', 'test_list', '=', '[', '2323', ',', '82', ',', '129388', ',', '234', ',', '95', ']', '\\n  \\n', 'print(\"the', 'original', 'list', 'is', ':', '\"', '+', 'str(test_list', ')', ')', '\\n  \\n', 'res', '=', 'dict', '(', ')', '\\n', 'for', 'ele', 'in', 'test_list', ':', '\\n  \\n    ', 'mid_idx', '=', 'len(str(ele', ')', ')', '//', '2', '\\n    ', 'key', '=', 'int(str(ele)[:mid_idx', ']']\n",
            "The predicted target in code form : \n",
            "   \n",
            " test_list = [ 2323 , 82 , 129388 , 234 , 95 ] \n",
            "  \n",
            " print(\"the original list is : \" + str(test_list ) ) \n",
            "  \n",
            " res = dict ( ) \n",
            " for ele in test_list : \n",
            "  \n",
            "     mid_idx = len(str(ele ) ) // 2 \n",
            "     key = int(str(ele)[:mid_idx ]\n"
          ],
          "name": "stdout"
        }
      ]
    },
    {
      "cell_type": "code",
      "metadata": {
        "colab": {
          "base_uri": "https://localhost:8080/"
        },
        "id": "ypIO52UZzj4-",
        "outputId": "78557671-20c3-4a81-cb4f-c7cf3daf1e53"
      },
      "source": [
        "str = ' '.join(translation)\n",
        "print(\"The predicted target in code form : \\n\", str)"
      ],
      "execution_count": null,
      "outputs": [
        {
          "output_type": "stream",
          "text": [
            "The predicted target in code form : \n",
            "   \n",
            " test_list = [ 2323 , 82 , 129388 , 234 , 95 ] \n",
            "  \n",
            " print(\"the original list is : \" + str(test_list ) ) \n",
            "  \n",
            " res = dict ( ) \n",
            " for ele in test_list : \n",
            "  \n",
            "     mid_idx = len(str(ele ) ) // 2 \n",
            "     key = int(str(ele)[:mid_idx ]\n"
          ],
          "name": "stdout"
        }
      ]
    },
    {
      "cell_type": "code",
      "metadata": {
        "id": "CHWqhmvtPTJv",
        "colab": {
          "base_uri": "https://localhost:8080/",
          "height": 1000
        },
        "outputId": "8e5dc607-7eb6-4bea-c02f-ffa75bd9fd41"
      },
      "source": [
        "display_attention(src, translation, attention)\n"
      ],
      "execution_count": null,
      "outputs": [
        {
          "output_type": "display_data",
          "data": {
            "image/png": "[encoded data removed]",
            "text/plain": [
              "<Figure size 1080x1800 with 8 Axes>"
            ]
          },
          "metadata": {
            "tags": [],
            "needs_background": "light"
          }
        }
      ]
    },
    {
      "cell_type": "code",
      "metadata": {
        "id": "0YyJFiJXPVjr",
        "colab": {
          "base_uri": "https://localhost:8080/"
        },
        "outputId": "86dfb9d0-6f6e-4f8e-c456-031516c2bb5e"
      },
      "source": [
        "example_idx = 6\n",
        "\n",
        "src = vars(valid_data.examples[example_idx])['src']\n",
        "trg = vars(valid_data.examples[example_idx])['trg']\n",
        "src = ' '.join(src)\n",
        "trg = ' '.join(trg)\n",
        "print(f'src = {src}')\n",
        "print(f'trg = {trg}')"
      ],
      "execution_count": null,
      "outputs": [
        {
          "output_type": "stream",
          "text": [
            "src = write a function to create all possible permutations from a given collection of distinct numbers\n",
            "trg = def permute(nums ) : \n",
            "   result_perms = [ [ ] ] \n",
            "   for n in nums : \n",
            "     new_perms = [ ] \n",
            "     for perm in result_perms : \n",
            "       for i in range(len(perm)+1 ) : \n",
            "         new_perms.append(perm[:i ] + [ n ] + perm[i : ] ) \n",
            "         result_perms = new_perms \n",
            "   return result_perms\n"
          ],
          "name": "stdout"
        }
      ]
    },
    {
      "cell_type": "code",
      "metadata": {
        "id": "LDmsvAhoPWze",
        "colab": {
          "base_uri": "https://localhost:8080/"
        },
        "outputId": "6472753a-3c61-440a-960a-fccdf00884b4"
      },
      "source": [
        "\n",
        "translation, attention = translate_sentence(src, SRC, TRG, model, device)\n",
        "\n",
        "print(f'predicted trg = {translation}')\n",
        "str = ' '.join(translation)\n",
        "print(\"The predicted target in code form : \\n\", str)"
      ],
      "execution_count": null,
      "outputs": [
        {
          "output_type": "stream",
          "text": [
            "predicted trg = ['def', 'permute(nums', ')', ':', '\\n  ', 'result_perms', '=', '[', '[', ']', ']', '\\n  ', 'for', 'n', 'in', 'nums', ':', '\\n    ', 'new_perms', '=', '[', ']', '\\n    ', 'for', 'perm', 'in', 'result_perms', ':', '\\n      ', 'for', 'i', 'in', 'range(len(perm)+1', ')', ':', '\\n        ', 'new_perms.append(perm[:i', ']', '+', 'perm[i', ':', ']', ')', '\\n        ', 'result_perms', '=', 'new_perms', '\\n  ', 'return', 'result_perms']\n",
            "The predicted target in code form : \n",
            " def permute(nums ) : \n",
            "   result_perms = [ [ ] ] \n",
            "   for n in nums : \n",
            "     new_perms = [ ] \n",
            "     for perm in result_perms : \n",
            "       for i in range(len(perm)+1 ) : \n",
            "         new_perms.append(perm[:i ] + perm[i : ] ) \n",
            "         result_perms = new_perms \n",
            "   return result_perms\n"
          ],
          "name": "stdout"
        }
      ]
    },
    {
      "cell_type": "code",
      "metadata": {
        "colab": {
          "base_uri": "https://localhost:8080/"
        },
        "id": "bJkJ-0wl9y_2",
        "outputId": "dfdf8548-15e6-40eb-c9d8-0b7f40277300"
      },
      "source": [
        "example_idx = 36\n",
        "\n",
        "src = vars(valid_data.examples[example_idx])['src']\n",
        "trg = vars(valid_data.examples[example_idx])['trg']\n",
        "src = ' '.join(src)\n",
        "trg = ' '.join(trg)\n",
        "print(f'src = {src}')\n",
        "print(f'Original code = {trg}')\n",
        "\n",
        "\n",
        "translation, attention = translate_sentence(src, SRC, TRG, model, device)\n",
        "\n",
        "print(f'----\\n\\npredicted trg = {translation}')\n",
        "str = ' '.join(translation)\n",
        "print(\"The predicted target in code form : \\n\", str)\n"
      ],
      "execution_count": null,
      "outputs": [
        {
          "output_type": "stream",
          "text": [
            "src = 50 write a program to display the multiplication table of a number\n",
            "Original code = num = int(input(\"show the multiplication table of ? \") )  \n",
            "----\n",
            "\n",
            "predicted trg = ['num', '=', '12', '\\n', 'for', 'i', 'in', 'range(1', ',', '11', ')', ':', '\\n   ', 'print(num', ',', \"'\", 'x', \"'\", ',', 'i', ',', \"'\", '=', \"'\", ',', 'num*i', ')', '<eos>']\n",
            "The predicted target in code form : \n",
            " num = 12 \n",
            " for i in range(1 , 11 ) : \n",
            "    print(num , ' x ' , i , ' = ' , num*i ) <eos>\n"
          ],
          "name": "stdout"
        }
      ]
    },
    {
      "cell_type": "code",
      "metadata": {
        "colab": {
          "base_uri": "https://localhost:8080/"
        },
        "id": "hf6k4RFJ-SYK",
        "outputId": "bcc8496e-6296-477b-fb0c-f61168051f04"
      },
      "source": [
        "example_idx = 101\n",
        "\n",
        "src = vars(valid_data.examples[example_idx])['src']\n",
        "trg = vars(valid_data.examples[example_idx])['trg']\n",
        "src = ' '.join(src)\n",
        "trg = ' '.join(trg)\n",
        "print(f'src = {src}')\n",
        "print(f'Original code = {trg}')\n",
        "\n",
        "\n",
        "translation, attention = translate_sentence(src, SRC, TRG, model, device)\n",
        "\n",
        "print(f'----\\n\\npredicted trg = {translation}')\n",
        "str = ' '.join(translation)\n",
        "print(\"The predicted target in code form : \\n\", str)\n"
      ],
      "execution_count": null,
      "outputs": [
        {
          "output_type": "stream",
          "text": [
            "src = write a python program to generate gray codes using recursion\n",
            "Original code = def get_gray_codes(n ) : \n",
            "     \" \" \" return n - bit gray code in a list . \" \" \" \n",
            "     if n = = 0 : \n",
            "         return [ '' ] \n",
            "     first_half = get_gray_codes(n - 1 ) \n",
            "     second_half = first_half.copy ( ) \n",
            " \n",
            "     first_half = [ ' 0 ' + code for code in first_half ] \n",
            "     second_half = [ ' 1 ' + code for code in reversed(second_half ) ] \n",
            " \n",
            "     return first_half + second_half\n",
            "----\n",
            "\n",
            "predicted trg = ['def', 'get_gray_codes(n', ')', ':', '\\n    ', 'if', 'n', '=', '=', '0', ':', '\\n        ', 'return', '[', \"''\", ']', '\\n    ', 'first_half', '=', 'get_gray_codes(n', '-', '1', ')', '\\n    ', 'second_half', '=', '<unk>', '(', ')', '\\n \\n    ', 'first_half', '=', '[', \"'\", '0', \"'\", '+', 'code', 'for', 'code', 'in', 'first_half', ']', '\\n    ', 'second_half', '=', '[', \"'\", '1', \"'\"]\n",
            "The predicted target in code form : \n",
            " def get_gray_codes(n ) : \n",
            "     if n = = 0 : \n",
            "         return [ '' ] \n",
            "     first_half = get_gray_codes(n - 1 ) \n",
            "     second_half = <unk> ( ) \n",
            " \n",
            "     first_half = [ ' 0 ' + code for code in first_half ] \n",
            "     second_half = [ ' 1 '\n"
          ],
          "name": "stdout"
        }
      ]
    },
    {
      "cell_type": "code",
      "metadata": {
        "id": "9k_YvNBPPX02",
        "colab": {
          "base_uri": "https://localhost:8080/",
          "height": 1000
        },
        "outputId": "27c92e56-8f36-493b-b1bd-8e9cea7090ea"
      },
      "source": [
        "display_attention(src, translation, attention)\n"
      ],
      "execution_count": null,
      "outputs": [
        {
          "output_type": "display_data",
          "data": {
            "image/png": "[encoded data removed]",
            "text/plain": [
              "<Figure size 1080x1800 with 8 Axes>"
            ]
          },
          "metadata": {
            "tags": [],
            "needs_background": "light"
          }
        }
      ]
    },
    {
      "cell_type": "code",
      "metadata": {
        "colab": {
          "base_uri": "https://localhost:8080/",
          "height": 295
        },
        "id": "KC2LzC51_JIm",
        "outputId": "49ec1aab-6b81-4c96-f579-f8e775cd9647"
      },
      "source": [
        "import matplotlib.pyplot as plt\n",
        "\n",
        "plt.plot(tloss, 'g', label='Training loss')\n",
        "plt.plot(vloss, 'b', label='validation loss')\n",
        "plt.title('Training and Validation loss')\n",
        "plt.xlabel('Epochs')\n",
        "plt.ylabel('Loss')\n",
        "plt.legend()\n",
        "plt.show()"
      ],
      "execution_count": null,
      "outputs": [
        {
          "output_type": "display_data",
          "data": {
            "image/png": "[encoded data removed]",
            "text/plain": [
              "<Figure size 432x288 with 1 Axes>"
            ]
          },
          "metadata": {
            "tags": [],
            "needs_background": "light"
          }
        }
      ]
    },
    {
      "cell_type": "code",
      "metadata": {
        "id": "ksrj1V2YPeCa"
      },
      "source": [
        "from torchtext.data.metrics import bleu_score\n",
        "\n",
        "def calculate_bleu(data, src_field, trg_field, model, device, max_len = 50):\n",
        "    \n",
        "    trgs = []\n",
        "    pred_trgs = []\n",
        "    \n",
        "    for datum in data:\n",
        "        \n",
        "        src = vars(datum)['src']\n",
        "        trg = vars(datum)['trg']\n",
        "        \n",
        "        pred_trg, _ = translate_sentence(src, src_field, trg_field, model, device, max_len)\n",
        "        \n",
        "        #cut off <eos> token\n",
        "        pred_trg = pred_trg[:-1]\n",
        "        \n",
        "        pred_trgs.append(pred_trg)\n",
        "        trgs.append(trg)\n",
        "\n",
        "        \n",
        "    #print(pred_trg.shape, trgs.shape)\n",
        "    return bleu_score(pred_trgs, trgs)"
      ],
      "execution_count": null,
      "outputs": []
    },
    {
      "cell_type": "code",
      "metadata": {
        "id": "uWnMnm_UPfNp"
      },
      "source": [
        "bleu_score = calculate_bleu(valid_data[:100], SRC, TRG, model, device)\n",
        "\n",
        "print(f'BLEU score = {bleu_score*100:.2f}')"
      ],
      "execution_count": null,
      "outputs": []
    },
    {
      "cell_type": "code",
      "metadata": {
        "id": "tBp2QYMzQM4F"
      },
      "source": [
        ""
      ],
      "execution_count": null,
      "outputs": []
    }
  ]
}