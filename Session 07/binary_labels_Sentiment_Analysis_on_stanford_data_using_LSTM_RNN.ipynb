{
  "nbformat": 4,
  "nbformat_minor": 0,
  "metadata": {
    "colab": {
      "name": "binary labels Sentiment Analysis on stanford data using LSTM RNN.ipynb",
      "provenance": [],
      "collapsed_sections": [],
      "include_colab_link": true
    },
    "kernelspec": {
      "name": "python3",
      "display_name": "Python 3"
    },
    "accelerator": "GPU"
  },
  "cells": [
    {
      "cell_type": "markdown",
      "metadata": {
        "id": "view-in-github",
        "colab_type": "text"
      },
      "source": [
        "<a href=\"https://colab.research.google.com/github/sridevibonthu/TSAI_END_P1/blob/main/Session%2007/binary_labels_Sentiment_Analysis_on_stanford_data_using_LSTM_RNN.ipynb\" target=\"_parent\"><img src=\"https://colab.research.google.com/assets/colab-badge.svg\" alt=\"Open In Colab\"/></a>"
      ]
    },
    {
      "cell_type": "markdown",
      "metadata": {
        "id": "GYiRsFGD6iUC"
      },
      "source": [
        "# 0 TorchText"
      ]
    },
    {
      "cell_type": "markdown",
      "metadata": {
        "id": "tp5IzBGsPGHs"
      },
      "source": [
        "## Dataset Preview\n",
        "\n",
        "Your first step to deep learning in NLP. We will be mostly using PyTorch. Just like torchvision, PyTorch provides an official library, torchtext, for handling text-processing pipelines. \n",
        "\n",
        "We will be using previous session tweet dataset. Let's just preview the dataset."
      ]
    },
    {
      "cell_type": "code",
      "metadata": {
        "id": "wcNJ74n0dWId"
      },
      "source": [
        "import sqlite3\r\n",
        "import csv\r\n",
        "import sys\r\n",
        "\r\n",
        "with open('datasetSentences.txt') as infile:\r\n",
        "    infile.readline()\r\n",
        "    sentences = dict(line.strip().split('\\t') for line in infile if len(line) > 0)\r\n",
        "\r\n",
        "with open('dictionary.txt') as infile:\r\n",
        "    infile.readline()\r\n",
        "    dictionary = dict(line.strip().split('|')[::-1] for line in infile if len(line) > 0)\r\n",
        "\r\n",
        "with open('sentiment_labels.txt') as infile:\r\n",
        "    infile.readline()\r\n",
        "    sentiments = dict(line.strip().strip('!').split('|') for line in infile if len(line) > 0)"
      ],
      "execution_count": 1,
      "outputs": []
    },
    {
      "cell_type": "code",
      "metadata": {
        "id": "GB_mPwipdZT2"
      },
      "source": [
        "\r\n",
        "\r\n",
        "conn = sqlite3.connect(':memory:')\r\n",
        "conn.execute('CREATE TABLE sentences (id LONG PRIMARY KEY, sentence TEXT)')\r\n",
        "conn.execute('CREATE TABLE dictionary (id LONG PRIMARY KEY, phrase TEXT)')\r\n",
        "conn.execute('CREATE TABLE sentiments (phrase_id LONG PRIMARY KEY, sentiment {})'.format('FLOAT'))\r\n",
        "conn.execute('CREATE INDEX sentences_sentence_idx ON sentences (sentence);')\r\n",
        "conn.execute('CREATE INDEX dictionary_phrase_idx ON dictionary (phrase);')\r\n",
        "\r\n",
        "conn.executemany('INSERT INTO sentences VALUES (?, ?)', sentences.items())\r\n",
        "conn.executemany('INSERT INTO dictionary VALUES (?, ?)', dictionary.items())\r\n",
        "conn.executemany('INSERT INTO sentiments VALUES (?, ?)', sentiments.items())\r\n",
        "\r\n",
        "\r\n",
        "conn.commit()\r\n",
        "crs = conn.cursor()\r\n"
      ],
      "execution_count": 2,
      "outputs": []
    },
    {
      "cell_type": "code",
      "metadata": {
        "id": "ru6qlX26bE1W"
      },
      "source": [
        "\r\n",
        "crs.execute('''\r\n",
        "        SELECT\r\n",
        "            sentence,\r\n",
        "            sentiment\r\n",
        "        FROM sentences \r\n",
        "            JOIN dictionary ON sentence = phrase\r\n",
        "            JOIN sentiments ON dictionary.id = sentiments.phrase_id\r\n",
        "        ''')\r\n",
        "\r\n",
        "\r\n",
        "dataset = crs.fetchall()\r\n",
        "\r\n",
        "with open('data.csv', 'w') as outfile:\r\n",
        "  writer = csv.writer(outfile)\r\n",
        "  writer.writerow(['sentence', 'sentiment'])\r\n",
        "  for row in dataset:\r\n",
        "    writer.writerow(row[:])\r\n"
      ],
      "execution_count": 3,
      "outputs": []
    },
    {
      "cell_type": "code",
      "metadata": {
        "colab": {
          "base_uri": "https://localhost:8080/",
          "height": 202
        },
        "id": "SZ_l1jI-cFN3",
        "outputId": "44875f89-81ed-4115-b7b7-23ed6873beed"
      },
      "source": [
        "import pandas as pd\r\n",
        "df = pd.read_csv('data.csv')\r\n",
        "df.head()"
      ],
      "execution_count": 4,
      "outputs": [
        {
          "output_type": "execute_result",
          "data": {
            "text/html": [
              "<div>\n",
              "<style scoped>\n",
              "    .dataframe tbody tr th:only-of-type {\n",
              "        vertical-align: middle;\n",
              "    }\n",
              "\n",
              "    .dataframe tbody tr th {\n",
              "        vertical-align: top;\n",
              "    }\n",
              "\n",
              "    .dataframe thead th {\n",
              "        text-align: right;\n",
              "    }\n",
              "</style>\n",
              "<table border=\"1\" class=\"dataframe\">\n",
              "  <thead>\n",
              "    <tr style=\"text-align: right;\">\n",
              "      <th></th>\n",
              "      <th>sentence</th>\n",
              "      <th>sentiment</th>\n",
              "    </tr>\n",
              "  </thead>\n",
              "  <tbody>\n",
              "    <tr>\n",
              "      <th>0</th>\n",
              "      <td>... a bland murder-on-campus yawner .</td>\n",
              "      <td>0.013889</td>\n",
              "    </tr>\n",
              "    <tr>\n",
              "      <th>1</th>\n",
              "      <td>... a hollow joke told by a cinematic gymnast ...</td>\n",
              "      <td>0.263890</td>\n",
              "    </tr>\n",
              "    <tr>\n",
              "      <th>2</th>\n",
              "      <td>... the picture 's cleverness is ironically mu...</td>\n",
              "      <td>0.472220</td>\n",
              "    </tr>\n",
              "    <tr>\n",
              "      <th>3</th>\n",
              "      <td>classic cinema served up with heart and humor</td>\n",
              "      <td>0.875000</td>\n",
              "    </tr>\n",
              "    <tr>\n",
              "      <th>4</th>\n",
              "      <td>entertaining enough , but nothing new</td>\n",
              "      <td>0.319440</td>\n",
              "    </tr>\n",
              "  </tbody>\n",
              "</table>\n",
              "</div>"
            ],
            "text/plain": [
              "                                            sentence  sentiment\n",
              "0              ... a bland murder-on-campus yawner .   0.013889\n",
              "1  ... a hollow joke told by a cinematic gymnast ...   0.263890\n",
              "2  ... the picture 's cleverness is ironically mu...   0.472220\n",
              "3      classic cinema served up with heart and humor   0.875000\n",
              "4              entertaining enough , but nothing new   0.319440"
            ]
          },
          "metadata": {
            "tags": []
          },
          "execution_count": 4
        }
      ]
    },
    {
      "cell_type": "code",
      "metadata": {
        "colab": {
          "base_uri": "https://localhost:8080/",
          "height": 202
        },
        "id": "HKexh2_5cZC2",
        "outputId": "4c6d1727-d776-4910-f223-bc42367b5b17"
      },
      "source": [
        "def score_to_label(score):\r\n",
        "  if score <= 0.5:\r\n",
        "    return 0\r\n",
        "  else:\r\n",
        "    return 1\r\n",
        "\r\n",
        "df['label'] = df.apply(lambda row: score_to_label(row['sentiment']), axis=1)\r\n",
        "df.head()\r\n"
      ],
      "execution_count": 5,
      "outputs": [
        {
          "output_type": "execute_result",
          "data": {
            "text/html": [
              "<div>\n",
              "<style scoped>\n",
              "    .dataframe tbody tr th:only-of-type {\n",
              "        vertical-align: middle;\n",
              "    }\n",
              "\n",
              "    .dataframe tbody tr th {\n",
              "        vertical-align: top;\n",
              "    }\n",
              "\n",
              "    .dataframe thead th {\n",
              "        text-align: right;\n",
              "    }\n",
              "</style>\n",
              "<table border=\"1\" class=\"dataframe\">\n",
              "  <thead>\n",
              "    <tr style=\"text-align: right;\">\n",
              "      <th></th>\n",
              "      <th>sentence</th>\n",
              "      <th>sentiment</th>\n",
              "      <th>label</th>\n",
              "    </tr>\n",
              "  </thead>\n",
              "  <tbody>\n",
              "    <tr>\n",
              "      <th>0</th>\n",
              "      <td>... a bland murder-on-campus yawner .</td>\n",
              "      <td>0.013889</td>\n",
              "      <td>0</td>\n",
              "    </tr>\n",
              "    <tr>\n",
              "      <th>1</th>\n",
              "      <td>... a hollow joke told by a cinematic gymnast ...</td>\n",
              "      <td>0.263890</td>\n",
              "      <td>0</td>\n",
              "    </tr>\n",
              "    <tr>\n",
              "      <th>2</th>\n",
              "      <td>... the picture 's cleverness is ironically mu...</td>\n",
              "      <td>0.472220</td>\n",
              "      <td>0</td>\n",
              "    </tr>\n",
              "    <tr>\n",
              "      <th>3</th>\n",
              "      <td>classic cinema served up with heart and humor</td>\n",
              "      <td>0.875000</td>\n",
              "      <td>1</td>\n",
              "    </tr>\n",
              "    <tr>\n",
              "      <th>4</th>\n",
              "      <td>entertaining enough , but nothing new</td>\n",
              "      <td>0.319440</td>\n",
              "      <td>0</td>\n",
              "    </tr>\n",
              "  </tbody>\n",
              "</table>\n",
              "</div>"
            ],
            "text/plain": [
              "                                            sentence  sentiment  label\n",
              "0              ... a bland murder-on-campus yawner .   0.013889      0\n",
              "1  ... a hollow joke told by a cinematic gymnast ...   0.263890      0\n",
              "2  ... the picture 's cleverness is ironically mu...   0.472220      0\n",
              "3      classic cinema served up with heart and humor   0.875000      1\n",
              "4              entertaining enough , but nothing new   0.319440      0"
            ]
          },
          "metadata": {
            "tags": []
          },
          "execution_count": 5
        }
      ]
    },
    {
      "cell_type": "code",
      "metadata": {
        "id": "R7JdpCW-YbAG",
        "colab": {
          "base_uri": "https://localhost:8080/"
        },
        "outputId": "a6daa4da-b760-4492-d81d-4c2960e0f455"
      },
      "source": [
        "print(df.shape)"
      ],
      "execution_count": 6,
      "outputs": [
        {
          "output_type": "stream",
          "text": [
            "(11286, 3)\n"
          ],
          "name": "stdout"
        }
      ]
    },
    {
      "cell_type": "code",
      "metadata": {
        "id": "zqRsoF6xYdgl",
        "colab": {
          "base_uri": "https://localhost:8080/"
        },
        "outputId": "225b0b2f-9038-45f5-ba3d-92c27db6732a"
      },
      "source": [
        "df.label.value_counts()"
      ],
      "execution_count": 7,
      "outputs": [
        {
          "output_type": "execute_result",
          "data": {
            "text/plain": [
              "0    5644\n",
              "1    5642\n",
              "Name: label, dtype: int64"
            ]
          },
          "metadata": {
            "tags": []
          },
          "execution_count": 7
        }
      ]
    },
    {
      "cell_type": "markdown",
      "metadata": {
        "id": "qjSlS2Lj0nmJ"
      },
      "source": [
        "#### is the dataset balanced?\r\n",
        "yes"
      ]
    },
    {
      "cell_type": "code",
      "metadata": {
        "colab": {
          "base_uri": "https://localhost:8080/",
          "height": 297
        },
        "id": "4-mlIh1Y0OzJ",
        "outputId": "aca5fec7-d34f-4c30-a3e7-eb47ca8d1085"
      },
      "source": [
        "import matplotlib.pyplot as plt\r\n",
        "ax = df['label'].value_counts(sort=False).plot(kind='barh')\r\n",
        "ax.set_xlabel(\"Number of Samples in Data Set\")\r\n",
        "ax.set_ylabel(\"Label\")"
      ],
      "execution_count": 8,
      "outputs": [
        {
          "output_type": "execute_result",
          "data": {
            "text/plain": [
              "Text(0, 0.5, 'Label')"
            ]
          },
          "metadata": {
            "tags": []
          },
          "execution_count": 8
        },
        {
          "output_type": "display_data",
          "data": {
            "image/png": "[encoded data removed]",
            "text/plain": [
              "<Figure size 432x288 with 1 Axes>"
            ]
          },
          "metadata": {
            "tags": [],
            "needs_background": "light"
          }
        }
      ]
    },
    {
      "cell_type": "markdown",
      "metadata": {
        "id": "XJ6o_79ISSVb"
      },
      "source": [
        "## Defining Fields"
      ]
    },
    {
      "cell_type": "markdown",
      "metadata": {
        "id": "e63g08ijOrf7"
      },
      "source": [
        "Now we shall be defining LABEL as a LabelField, which is a subclass of Field that sets sequen tial to False (as it’s our numerical category class). TWEET is a standard Field object, where we have decided to use the spaCy tokenizer and convert all the text to lower‐ case."
      ]
    },
    {
      "cell_type": "code",
      "metadata": {
        "id": "qk8IP4SK1Lrp",
        "colab": {
          "base_uri": "https://localhost:8080/"
        },
        "outputId": "68c1899a-75af-44fd-90bf-ea90fc4c7a12"
      },
      "source": [
        "# Import Library\n",
        "import random\n",
        "import torch, torchtext\n",
        "from torchtext import data \n",
        "\n",
        "# Manual Seed\n",
        "SEED = 43\n",
        "torch.manual_seed(SEED)"
      ],
      "execution_count": 9,
      "outputs": [
        {
          "output_type": "execute_result",
          "data": {
            "text/plain": [
              "<torch._C.Generator at 0x7f31b9599978>"
            ]
          },
          "metadata": {
            "tags": []
          },
          "execution_count": 9
        }
      ]
    },
    {
      "cell_type": "code",
      "metadata": {
        "id": "u6bKQax2Mf_U"
      },
      "source": [
        "Sentence = data.Field(sequential = True, tokenize = 'spacy', batch_first =True, include_lengths=True)\n",
        "Label = data.LabelField(tokenize ='spacy', is_target=True, batch_first =True, sequential =False)"
      ],
      "execution_count": 10,
      "outputs": []
    },
    {
      "cell_type": "markdown",
      "metadata": {
        "id": "mX-lYIe_O7Vy"
      },
      "source": [
        "Having defined those fields, we now need to produce a list that maps them onto the list of rows that are in the CSV:"
      ]
    },
    {
      "cell_type": "code",
      "metadata": {
        "id": "VawdWq36O6td"
      },
      "source": [
        "fields = [('sentence', Sentence),('label',Label)]"
      ],
      "execution_count": 11,
      "outputs": []
    },
    {
      "cell_type": "markdown",
      "metadata": {
        "id": "ZbtZ-Ph2P1xL"
      },
      "source": [
        "Armed with our declared fields, lets convert from pandas to list to torchtext. We could also use TabularDataset to apply that definition to the CSV directly but showing an alternative approach too."
      ]
    },
    {
      "cell_type": "code",
      "metadata": {
        "colab": {
          "base_uri": "https://localhost:8080/"
        },
        "id": "D2rCNuAkFscM",
        "outputId": "ed4d6430-189b-42a3-e92b-2bb2cb7cd692"
      },
      "source": [
        "!pip install google_trans_new\r\n"
      ],
      "execution_count": 12,
      "outputs": [
        {
          "output_type": "stream",
          "text": [
            "Collecting google_trans_new\n",
            "  Downloading https://files.pythonhosted.org/packages/f9/7b/9f136106dc5824dc98185c97991d3cd9b53e70a197154dd49f7b899128f6/google_trans_new-1.1.9-py3-none-any.whl\n",
            "Installing collected packages: google-trans-new\n",
            "Successfully installed google-trans-new-1.1.9\n"
          ],
          "name": "stdout"
        }
      ]
    },
    {
      "cell_type": "code",
      "metadata": {
        "id": "0HAo1iKRB9QZ"
      },
      "source": [
        "# Augmentation\r\n",
        "\r\n",
        "import random\r\n",
        "import google_trans_new\r\n",
        "\r\n",
        "from google_trans_new import google_translator\r\n",
        "\r\n",
        "translator = google_translator()\r\n",
        "\r\n",
        "\r\n",
        "\r\n",
        "def random_insertion(sentence, n): \r\n",
        "    words = remove_stopwords(sentence) \r\n",
        "    for _ in range(n):\r\n",
        "        new_synonym = get_synonyms(random.choice(words))\r\n",
        "        sentence.insert(randrange(len(sentence)+1), new_synonym) \r\n",
        "    return sentence\r\n",
        "\r\n",
        "def random_deletion(words, p=0.5): \r\n",
        "    if len(words) == 1: # return if single word\r\n",
        "        return words\r\n",
        "    remaining = list(filter(lambda x: random.uniform(0,1) > p,words)) \r\n",
        "    if len(remaining) == 0: # if not left, sample a random word\r\n",
        "        return [random.choice(words)] \r\n",
        "    else:\r\n",
        "        return remaining\r\n",
        "\r\n",
        "def random_swap(sentence, n=5): \r\n",
        "    length = range(len(sentence)) \r\n",
        "    for _ in range(n):\r\n",
        "        idx1, idx2 = random.sample(length, 2)\r\n",
        "        sentence[idx1], sentence[idx2] = sentence[idx2], sentence[idx1] \r\n",
        "    return sentence\r\n",
        "\r\n",
        "def googletranslate(text):\r\n",
        "  tempfr = translator.translate(text, lang_tgt='fr')\r\n",
        "  return translator.translate(tempfr, lang_src='fr', lang_tgt='en')"
      ],
      "execution_count": 13,
      "outputs": []
    },
    {
      "cell_type": "code",
      "metadata": {
        "id": "y7if3us0CX3o"
      },
      "source": [
        "def augment(text):\r\n",
        "  rate = random.random()\r\n",
        "  #print(rate, end=' ')\r\n",
        "  if rate<0.2:\r\n",
        "    text = random_deletion(text)\r\n",
        "  elif rate<0.45:\r\n",
        "    text = random_swap(text)\r\n",
        "  elif rate<0.5:\r\n",
        "    text = list(googletranslate(text).split(' '))\r\n",
        "  return text"
      ],
      "execution_count": 14,
      "outputs": []
    },
    {
      "cell_type": "code",
      "metadata": {
        "id": "L3OLcJ5B7rHz"
      },
      "source": [
        "example = [data.Example.fromlist([df.sentence[i],df.label[i]], fields) for i in range(df.shape[0])] "
      ],
      "execution_count": 15,
      "outputs": []
    },
    {
      "cell_type": "code",
      "metadata": {
        "id": "nT-flpH-P1cd"
      },
      "source": [
        "# Creating dataset\n",
        "#twitterDataset = data.TabularDataset(path=\"tweets.csv\", format=\"CSV\", fields=fields, skip_header=True)\n",
        "\n",
        "SSTDataset = data.Dataset(example, fields)"
      ],
      "execution_count": 16,
      "outputs": []
    },
    {
      "cell_type": "markdown",
      "metadata": {
        "id": "g6ZnyCPaR08F"
      },
      "source": [
        "Finally, we can split into training, testing, and validation sets by using the split() method:"
      ]
    },
    {
      "cell_type": "code",
      "metadata": {
        "id": "uPYXyuKhRpBk"
      },
      "source": [
        "(train, valid) = SSTDataset.split(split_ratio=[0.85, 0.15], random_state=random.seed(SEED))"
      ],
      "execution_count": 17,
      "outputs": []
    },
    {
      "cell_type": "code",
      "metadata": {
        "id": "ykvsCGQMR6UD",
        "colab": {
          "base_uri": "https://localhost:8080/"
        },
        "outputId": "dd5c18de-9f73-464f-b6b0-a845e9063091"
      },
      "source": [
        "(len(train), len(valid))"
      ],
      "execution_count": 18,
      "outputs": [
        {
          "output_type": "execute_result",
          "data": {
            "text/plain": [
              "(9593, 1693)"
            ]
          },
          "metadata": {
            "tags": []
          },
          "execution_count": 18
        }
      ]
    },
    {
      "cell_type": "markdown",
      "metadata": {
        "id": "kix8P2IKSBaV"
      },
      "source": [
        "### Applying Augmentations on train data"
      ]
    },
    {
      "cell_type": "code",
      "metadata": {
        "id": "EO_KbmejPpFL"
      },
      "source": [
        "for i in range(len(train)):\r\n",
        "  train.examples[i].sentence = augment(train.examples[i].sentence)"
      ],
      "execution_count": 19,
      "outputs": []
    },
    {
      "cell_type": "code",
      "metadata": {
        "id": "dUpEOQruR9JL",
        "colab": {
          "base_uri": "https://localhost:8080/"
        },
        "outputId": "7b6ab3b9-e359-4da0-cae9-a8b74a1bfe45"
      },
      "source": [
        "vars(train.examples[12])"
      ],
      "execution_count": 20,
      "outputs": [
        {
          "output_type": "execute_result",
          "data": {
            "text/plain": [
              "{'label': 0,\n",
              " 'sentence': ['The',\n",
              "  'attempt',\n",
              "  'to',\n",
              "  'build',\n",
              "  'up',\n",
              "  'a',\n",
              "  'pressure',\n",
              "  'cooker',\n",
              "  'of',\n",
              "  'horrified',\n",
              "  'awe',\n",
              "  'emerges',\n",
              "  'from',\n",
              "  'the',\n",
              "  'simple',\n",
              "  'fact',\n",
              "  'that',\n",
              "  'the',\n",
              "  'movie',\n",
              "  'has',\n",
              "  'virtually',\n",
              "  'nothing',\n",
              "  'to',\n",
              "  'show',\n",
              "  '.']}"
            ]
          },
          "metadata": {
            "tags": []
          },
          "execution_count": 20
        }
      ]
    },
    {
      "cell_type": "markdown",
      "metadata": {
        "id": "AKdllP3FST4N"
      },
      "source": [
        "## Building Vocabulary"
      ]
    },
    {
      "cell_type": "markdown",
      "metadata": {
        "id": "SuvWQ-SpSmSz"
      },
      "source": [
        "At this point we would have built a one-hot encoding of each word that is present in the dataset—a rather tedious process. Thankfully, torchtext will do this for us, and will also allow a max_size parameter to be passed in to limit the vocabu‐ lary to the most common words. This is normally done to prevent the construction of a huge, memory-hungry model. We don’t want our GPUs too overwhelmed, after all. \n",
        "\n",
        "Let’s limit the vocabulary to a maximum of 5000 words in our training set:\n"
      ]
    },
    {
      "cell_type": "code",
      "metadata": {
        "id": "mx955u93SGeY"
      },
      "source": [
        "Sentence.build_vocab(train)\n",
        "Label.build_vocab(train)"
      ],
      "execution_count": 21,
      "outputs": []
    },
    {
      "cell_type": "markdown",
      "metadata": {
        "id": "xvyEeEjXTGhX"
      },
      "source": [
        "By default, torchtext will add two more special tokens, <unk> for unknown words and <pad>, a padding token that will be used to pad all our text to roughly the same size to help with efficient batching on the GPU."
      ]
    },
    {
      "cell_type": "code",
      "metadata": {
        "id": "rA3tIESdcJdN",
        "colab": {
          "base_uri": "https://localhost:8080/"
        },
        "outputId": "e18d52f2-0b64-4680-b8dc-9c0b860284a8"
      },
      "source": [
        "print('Size of input vocab : ', len(Sentence.vocab))\n",
        "print('Size of label vocab : ', len(Label.vocab))\n",
        "print('Top 10 words appreared repeatedly :', list(Sentence.vocab.freqs.most_common(10)))\n",
        "print('Labels : ', Label.vocab.stoi)"
      ],
      "execution_count": 22,
      "outputs": [
        {
          "output_type": "stream",
          "text": [
            "Size of input vocab :  19426\n",
            "Size of label vocab :  2\n",
            "Top 10 words appreared repeatedly : [('.', 7734), (',', 6930), ('the', 5890), ('of', 4354), ('a', 4350), ('and', 4241), ('to', 2988), ('-', 2659), ('is', 2482), (\"','\", 2445)]\n",
            "Labels :  defaultdict(<function _default_unk_index at 0x7f316c59d9d8>, {0: 0, 1: 1})\n"
          ],
          "name": "stdout"
        }
      ]
    },
    {
      "cell_type": "markdown",
      "metadata": {
        "id": "rwjD2-ebTeUX"
      },
      "source": [
        "**Lots of stopwords!!**"
      ]
    },
    {
      "cell_type": "markdown",
      "metadata": {
        "id": "sLWW221gTpNs"
      },
      "source": [
        "Now we need to create a data loader to feed into our training loop. Torchtext provides the BucketIterator method that will produce what it calls a Batch, which is almost, but not quite, like the data loader we used on images."
      ]
    },
    {
      "cell_type": "markdown",
      "metadata": {
        "id": "EQqMhMoDUDmn"
      },
      "source": [
        "But at first declare the device we are using."
      ]
    },
    {
      "cell_type": "code",
      "metadata": {
        "id": "Zfo2QhGJUK4l",
        "colab": {
          "base_uri": "https://localhost:8080/"
        },
        "outputId": "9a40d079-7368-48f5-eac6-855a5810e055"
      },
      "source": [
        "device = torch.device(\"cuda\" if torch.cuda.is_available() else \"cpu\")\r\n",
        "device"
      ],
      "execution_count": 23,
      "outputs": [
        {
          "output_type": "execute_result",
          "data": {
            "text/plain": [
              "device(type='cuda')"
            ]
          },
          "metadata": {
            "tags": []
          },
          "execution_count": 23
        }
      ]
    },
    {
      "cell_type": "code",
      "metadata": {
        "id": "zK2ORoqdTNsM"
      },
      "source": [
        "train_iterator, valid_iterator = data.BucketIterator.splits((train, valid), batch_size = 32, \n",
        "                                                            sort_key = lambda x: len(x.sentence),\n",
        "                                                            sort_within_batch=True, device = device)"
      ],
      "execution_count": 24,
      "outputs": []
    },
    {
      "cell_type": "markdown",
      "metadata": {
        "id": "Gg7gTFQO4fby"
      },
      "source": [
        "Save the vocabulary for later use"
      ]
    },
    {
      "cell_type": "code",
      "metadata": {
        "id": "niE9Cc6-2bD_"
      },
      "source": [
        "import os, pickle\n",
        "with open('tokenizer.pkl', 'wb') as tokens: \n",
        "    pickle.dump(Sentence.vocab.stoi, tokens)"
      ],
      "execution_count": 25,
      "outputs": []
    },
    {
      "cell_type": "markdown",
      "metadata": {
        "id": "1AbsQwqkVyAy"
      },
      "source": [
        "## Defining Our Model"
      ]
    },
    {
      "cell_type": "markdown",
      "metadata": {
        "id": "E4PED4HJWH4t"
      },
      "source": [
        "We use the Embedding and LSTM modules in PyTorch to build a simple model for classifying tweets.\n",
        "\n",
        "In this model we create three layers. \n",
        "1. First, the words in our tweets are pushed into an Embedding layer, which we have established as a 300-dimensional vector embedding. \n",
        "2. That’s then fed into a 2 stacked-LSTMs with 100 hidden features (again, we’re compressing down from the 300-dimensional input like we did with images). We are using 2 LSTMs for using the dropout.\n",
        "3. Finally, the output of the LSTM (the final hidden state after processing the incoming tweet) is pushed through a standard fully connected layer with three outputs to correspond to our three possible classes (negative, positive, or neutral)."
      ]
    },
    {
      "cell_type": "code",
      "metadata": {
        "id": "43pVRccMT0bT"
      },
      "source": [
        "import torch.nn as nn\n",
        "import torch.nn.functional as F\n",
        "\n",
        "class classifier(nn.Module):\n",
        "    \n",
        "    # Define all the layers used in model\n",
        "    def __init__(self, vocab_size, embedding_dim, hidden_dim, output_dim, n_layers, dropout):\n",
        "        \n",
        "        super().__init__()          \n",
        "        \n",
        "        # Embedding layer\n",
        "        self.embedding = nn.Embedding(vocab_size, embedding_dim)\n",
        "        \n",
        "        # LSTM layer\n",
        "        self.encoder = nn.LSTM(embedding_dim, \n",
        "                           hidden_dim, \n",
        "                           num_layers=n_layers, \n",
        "                           dropout=dropout,\n",
        "                           batch_first=True, bidirectional = True\n",
        "                           )\n",
        "        # try using nn.GRU or nn.RNN here and compare their performances\n",
        "        # try bidirectional and compare their performances\n",
        "        \n",
        "        # Dense layer\n",
        "        self.fc = nn.Linear(hidden_dim, output_dim)\n",
        "        \n",
        "    def forward(self, text, text_lengths):\n",
        "        \n",
        "        # text = [batch size, sent_length]\n",
        "        embedded = self.embedding(text)\n",
        "        # embedded = [batch size, sent_len, emb dim]\n",
        "      \n",
        "        # packed sequence\n",
        "        packed_embedded = nn.utils.rnn.pack_padded_sequence(embedded, text_lengths.cpu(), batch_first=True)\n",
        "        \n",
        "        packed_output, (hidden, cell) = self.encoder(packed_embedded)\n",
        "        #hidden = [batch size, num layers * num directions,hid dim]\n",
        "        #cell = [batch size, num layers * num directions,hid dim]\n",
        "    \n",
        "        # Hidden = [batch size, hid dim * num directions]\n",
        "        dense_outputs = self.fc(hidden)   \n",
        "        \n",
        "        # Final activation function softmax\n",
        "        output = F.softmax(dense_outputs[0], dim=1)\n",
        "            \n",
        "        return output"
      ],
      "execution_count": 26,
      "outputs": []
    },
    {
      "cell_type": "code",
      "metadata": {
        "id": "rwBoGE_X_Fl8"
      },
      "source": [
        "# Define hyperparameters\n",
        "size_of_vocab = len(Sentence.vocab)\n",
        "embedding_dim = 300\n",
        "num_hidden_nodes = 100\n",
        "num_output_nodes = 5\n",
        "num_layers = 2\n",
        "dropout = 0.2\n",
        "\n",
        "# Instantiate the model\n",
        "model = classifier(size_of_vocab, embedding_dim, num_hidden_nodes, num_output_nodes, num_layers, dropout = dropout)"
      ],
      "execution_count": 27,
      "outputs": []
    },
    {
      "cell_type": "code",
      "metadata": {
        "id": "O-pOMqzJ3eTv",
        "colab": {
          "base_uri": "https://localhost:8080/"
        },
        "outputId": "947c0920-18be-4669-dd3c-07b6a576a9ff"
      },
      "source": [
        "print(model)\n",
        "\n",
        "#No. of trianable parameters\n",
        "def count_parameters(model):\n",
        "    return sum(p.numel() for p in model.parameters() if p.requires_grad)\n",
        "    \n",
        "print(f'The model has {count_parameters(model):,} trainable parameters')"
      ],
      "execution_count": 28,
      "outputs": [
        {
          "output_type": "stream",
          "text": [
            "classifier(\n",
            "  (embedding): Embedding(19426, 300)\n",
            "  (encoder): LSTM(300, 100, num_layers=2, batch_first=True, dropout=0.2, bidirectional=True)\n",
            "  (fc): Linear(in_features=100, out_features=5, bias=True)\n",
            ")\n",
            "The model has 6,391,505 trainable parameters\n"
          ],
          "name": "stdout"
        }
      ]
    },
    {
      "cell_type": "markdown",
      "metadata": {
        "id": "eXajorf5Xz7t"
      },
      "source": [
        "\r\n",
        "## Model Training and Evaluation"
      ]
    },
    {
      "cell_type": "markdown",
      "metadata": {
        "id": "PrE9RpMtZ1Vs"
      },
      "source": [
        "First define the optimizer and loss functions"
      ]
    },
    {
      "cell_type": "code",
      "metadata": {
        "id": "-u86JWdlXvu5"
      },
      "source": [
        "import torch.optim as optim\n",
        "\n",
        "# define optimizer and loss\n",
        "optimizer = optim.Adam(model.parameters(), lr=0.01)\n",
        "criterion = nn.CrossEntropyLoss()\n",
        "\n",
        "# define metric\n",
        "def binary_accuracy(preds, y):\n",
        "    #round predictions to the closest integer\n",
        "    _, predictions = torch.max(preds, 1)\n",
        "    \n",
        "    correct = (predictions == y).float() \n",
        "    acc = correct.sum() / len(correct)\n",
        "    return acc\n",
        "    \n",
        "# push to cuda if available\n",
        "model = model.to(device)\n",
        "criterion = criterion.to(device)"
      ],
      "execution_count": 29,
      "outputs": []
    },
    {
      "cell_type": "markdown",
      "metadata": {
        "id": "3VCJtNb3Zt8w"
      },
      "source": [
        "The main thing to be aware of in this new training loop is that we have to reference `batch.tweets` and `batch.labels` to get the particular fields we’re interested in; they don’t fall out quite as nicely from the enumerator as they do in torchvision."
      ]
    },
    {
      "cell_type": "markdown",
      "metadata": {
        "id": "2WjEPLKsAiS_"
      },
      "source": [
        "**Training Loop**"
      ]
    },
    {
      "cell_type": "code",
      "metadata": {
        "id": "HDWNnGK3Y5oJ"
      },
      "source": [
        "def train(model, iterator, optimizer, criterion):\n",
        "    \n",
        "    # initialize every epoch \n",
        "    epoch_loss = 0\n",
        "    epoch_acc = 0\n",
        "    \n",
        "    # set the model in training phase\n",
        "    model.train()  \n",
        "    \n",
        "    for batch in iterator:\n",
        "        \n",
        "        # resets the gradients after every batch\n",
        "        optimizer.zero_grad()   \n",
        "        \n",
        "        # retrieve text and no. of words\n",
        "        sentence, sentence_lengths = batch.sentence   \n",
        "        \n",
        "        # convert to 1D tensor\n",
        "        predictions = model(sentence, sentence_lengths).squeeze()  \n",
        "        \n",
        "        # compute the loss\n",
        "        loss = criterion(predictions, batch.label)        \n",
        "        \n",
        "        # compute the binary accuracy\n",
        "        acc = binary_accuracy(predictions, batch.label)   \n",
        "        \n",
        "        # backpropage the loss and compute the gradients\n",
        "        loss.backward()       \n",
        "        \n",
        "        # update the weights\n",
        "        optimizer.step()      \n",
        "        \n",
        "        # loss and accuracy\n",
        "        epoch_loss += loss.item()  \n",
        "        epoch_acc += acc.item()    \n",
        "        \n",
        "    return epoch_loss / len(iterator), epoch_acc / len(iterator)"
      ],
      "execution_count": 30,
      "outputs": []
    },
    {
      "cell_type": "markdown",
      "metadata": {
        "id": "CZcHhkkvAsCt"
      },
      "source": [
        "**Evaluation Loop**"
      ]
    },
    {
      "cell_type": "code",
      "metadata": {
        "id": "zHEe-zSVAriL"
      },
      "source": [
        "def evaluate(model, iterator, criterion):\n",
        "    \n",
        "    # initialize every epoch\n",
        "    epoch_loss = 0\n",
        "    epoch_acc = 0\n",
        "\n",
        "    # deactivating dropout layers\n",
        "    model.eval()\n",
        "    \n",
        "    # deactivates autograd\n",
        "    with torch.no_grad():\n",
        "    \n",
        "        for batch in iterator:\n",
        "        \n",
        "            # retrieve text and no. of words\n",
        "            sentence, sentence_lengths = batch.sentence\n",
        "            \n",
        "            \n",
        "            # convert to 1d tensor\n",
        "            predictions = model(sentence, sentence_lengths).squeeze()\n",
        "            \n",
        "            # compute loss and accuracy\n",
        "            loss = criterion(predictions, batch.label)\n",
        "            acc = binary_accuracy(predictions, batch.label)\n",
        "            \n",
        "            # keep track of loss and accuracy\n",
        "            epoch_loss += loss.item()\n",
        "            epoch_acc += acc.item()\n",
        "        \n",
        "    return epoch_loss / len(iterator), epoch_acc / len(iterator)"
      ],
      "execution_count": 31,
      "outputs": []
    },
    {
      "cell_type": "markdown",
      "metadata": {
        "id": "L6LJFW7HaJoV"
      },
      "source": [
        "**Let's Train and Evaluate**"
      ]
    },
    {
      "cell_type": "code",
      "metadata": {
        "id": "tq330XlnaEU9",
        "colab": {
          "base_uri": "https://localhost:8080/"
        },
        "outputId": "52d9307f-7223-4440-dcae-7c9c3b57e03b"
      },
      "source": [
        "acc_values = {'train' : [], 'valid' : []}\n",
        "loss_values = {'train' : [], 'valid' : []}\n",
        "\n",
        "N_EPOCHS = 50\n",
        "best_valid_loss = float('inf')\n",
        "\n",
        "for epoch in range(N_EPOCHS):\n",
        "     \n",
        "    # train the model\n",
        "    train_loss, train_acc = train(model, train_iterator, optimizer, criterion)\n",
        "    acc_values['train'].append(train_acc)\n",
        "    loss_values['train'].append(train_loss)\n",
        "    \n",
        "    # evaluate the model\n",
        "    valid_loss, valid_acc = evaluate(model, valid_iterator, criterion)\n",
        "    acc_values['valid'].append(valid_acc)\n",
        "    loss_values['valid'].append(valid_loss)\n",
        "\n",
        "    # save the best model\n",
        "    if valid_loss < best_valid_loss:\n",
        "        best_valid_loss = valid_loss\n",
        "        torch.save(model.state_dict(), 'saved_weights.pt')\n",
        "    \n",
        "    print(f'Epoch: {epoch}\\n\\tTrain Loss: {train_loss:.3f} | Train Acc: {train_acc*100:.2f}%')\n",
        "    print(f'\\t Val. Loss: {valid_loss:.3f} |  Val. Acc: {valid_acc*100:.2f}% \\n')"
      ],
      "execution_count": 32,
      "outputs": [
        {
          "output_type": "stream",
          "text": [
            "Epoch: 0\n",
            "\tTrain Loss: 1.294 | Train Acc: 59.71%\n",
            "\t Val. Loss: 1.256 |  Val. Acc: 64.43% \n",
            "\n",
            "Epoch: 1\n",
            "\tTrain Loss: 1.119 | Train Acc: 78.28%\n",
            "\t Val. Loss: 1.211 |  Val. Acc: 68.85% \n",
            "\n",
            "Epoch: 2\n",
            "\tTrain Loss: 1.035 | Train Acc: 87.23%\n",
            "\t Val. Loss: 1.189 |  Val. Acc: 71.44% \n",
            "\n",
            "Epoch: 3\n",
            "\tTrain Loss: 0.999 | Train Acc: 90.82%\n",
            "\t Val. Loss: 1.196 |  Val. Acc: 70.26% \n",
            "\n",
            "Epoch: 4\n",
            "\tTrain Loss: 0.976 | Train Acc: 93.20%\n",
            "\t Val. Loss: 1.201 |  Val. Acc: 69.90% \n",
            "\n",
            "Epoch: 5\n",
            "\tTrain Loss: 0.970 | Train Acc: 93.56%\n",
            "\t Val. Loss: 1.193 |  Val. Acc: 70.66% \n",
            "\n",
            "Epoch: 6\n",
            "\tTrain Loss: 0.966 | Train Acc: 93.95%\n",
            "\t Val. Loss: 1.196 |  Val. Acc: 70.81% \n",
            "\n",
            "Epoch: 7\n",
            "\tTrain Loss: 0.958 | Train Acc: 94.79%\n",
            "\t Val. Loss: 1.219 |  Val. Acc: 67.85% \n",
            "\n",
            "Epoch: 8\n",
            "\tTrain Loss: 0.955 | Train Acc: 95.05%\n",
            "\t Val. Loss: 1.201 |  Val. Acc: 69.99% \n",
            "\n",
            "Epoch: 9\n",
            "\tTrain Loss: 0.951 | Train Acc: 95.55%\n",
            "\t Val. Loss: 1.205 |  Val. Acc: 69.57% \n",
            "\n",
            "Epoch: 10\n",
            "\tTrain Loss: 0.951 | Train Acc: 95.52%\n",
            "\t Val. Loss: 1.199 |  Val. Acc: 70.26% \n",
            "\n",
            "Epoch: 11\n",
            "\tTrain Loss: 0.946 | Train Acc: 95.89%\n",
            "\t Val. Loss: 1.206 |  Val. Acc: 69.21% \n",
            "\n",
            "Epoch: 12\n",
            "\tTrain Loss: 0.945 | Train Acc: 96.09%\n",
            "\t Val. Loss: 1.191 |  Val. Acc: 70.86% \n",
            "\n",
            "Epoch: 13\n",
            "\tTrain Loss: 0.942 | Train Acc: 96.43%\n",
            "\t Val. Loss: 1.185 |  Val. Acc: 71.50% \n",
            "\n",
            "Epoch: 14\n",
            "\tTrain Loss: 0.940 | Train Acc: 96.54%\n",
            "\t Val. Loss: 1.202 |  Val. Acc: 70.07% \n",
            "\n",
            "Epoch: 15\n",
            "\tTrain Loss: 0.940 | Train Acc: 96.60%\n",
            "\t Val. Loss: 1.208 |  Val. Acc: 69.50% \n",
            "\n",
            "Epoch: 16\n",
            "\tTrain Loss: 0.940 | Train Acc: 96.49%\n",
            "\t Val. Loss: 1.202 |  Val. Acc: 70.22% \n",
            "\n",
            "Epoch: 17\n",
            "\tTrain Loss: 0.939 | Train Acc: 96.63%\n",
            "\t Val. Loss: 1.199 |  Val. Acc: 70.45% \n",
            "\n",
            "Epoch: 18\n",
            "\tTrain Loss: 0.937 | Train Acc: 96.86%\n",
            "\t Val. Loss: 1.209 |  Val. Acc: 69.31% \n",
            "\n",
            "Epoch: 19\n",
            "\tTrain Loss: 0.941 | Train Acc: 96.41%\n",
            "\t Val. Loss: 1.214 |  Val. Acc: 68.91% \n",
            "\n",
            "Epoch: 20\n",
            "\tTrain Loss: 0.945 | Train Acc: 96.07%\n",
            "\t Val. Loss: 1.221 |  Val. Acc: 68.02% \n",
            "\n",
            "Epoch: 21\n",
            "\tTrain Loss: 0.941 | Train Acc: 96.47%\n",
            "\t Val. Loss: 1.212 |  Val. Acc: 68.86% \n",
            "\n",
            "Epoch: 22\n",
            "\tTrain Loss: 0.938 | Train Acc: 96.76%\n",
            "\t Val. Loss: 1.221 |  Val. Acc: 67.95% \n",
            "\n",
            "Epoch: 23\n",
            "\tTrain Loss: 0.939 | Train Acc: 96.66%\n",
            "\t Val. Loss: 1.215 |  Val. Acc: 68.72% \n",
            "\n",
            "Epoch: 24\n",
            "\tTrain Loss: 0.936 | Train Acc: 96.89%\n",
            "\t Val. Loss: 1.222 |  Val. Acc: 67.83% \n",
            "\n",
            "Epoch: 25\n",
            "\tTrain Loss: 0.938 | Train Acc: 96.79%\n",
            "\t Val. Loss: 1.229 |  Val. Acc: 67.43% \n",
            "\n",
            "Epoch: 26\n",
            "\tTrain Loss: 0.937 | Train Acc: 96.80%\n",
            "\t Val. Loss: 1.232 |  Val. Acc: 66.84% \n",
            "\n",
            "Epoch: 27\n",
            "\tTrain Loss: 0.935 | Train Acc: 97.03%\n",
            "\t Val. Loss: 1.207 |  Val. Acc: 69.44% \n",
            "\n",
            "Epoch: 28\n",
            "\tTrain Loss: 0.935 | Train Acc: 97.06%\n",
            "\t Val. Loss: 1.219 |  Val. Acc: 68.25% \n",
            "\n",
            "Epoch: 29\n",
            "\tTrain Loss: 0.935 | Train Acc: 97.07%\n",
            "\t Val. Loss: 1.220 |  Val. Acc: 68.13% \n",
            "\n",
            "Epoch: 30\n",
            "\tTrain Loss: 0.937 | Train Acc: 96.85%\n",
            "\t Val. Loss: 1.219 |  Val. Acc: 68.13% \n",
            "\n",
            "Epoch: 31\n",
            "\tTrain Loss: 0.937 | Train Acc: 96.71%\n",
            "\t Val. Loss: 1.222 |  Val. Acc: 68.26% \n",
            "\n",
            "Epoch: 32\n",
            "\tTrain Loss: 0.939 | Train Acc: 96.70%\n",
            "\t Val. Loss: 1.225 |  Val. Acc: 68.02% \n",
            "\n",
            "Epoch: 33\n",
            "\tTrain Loss: 0.935 | Train Acc: 97.00%\n",
            "\t Val. Loss: 1.219 |  Val. Acc: 68.30% \n",
            "\n",
            "Epoch: 34\n",
            "\tTrain Loss: 0.934 | Train Acc: 97.10%\n",
            "\t Val. Loss: 1.220 |  Val. Acc: 68.37% \n",
            "\n",
            "Epoch: 35\n",
            "\tTrain Loss: 0.933 | Train Acc: 97.24%\n",
            "\t Val. Loss: 1.225 |  Val. Acc: 68.09% \n",
            "\n",
            "Epoch: 36\n",
            "\tTrain Loss: 0.931 | Train Acc: 97.47%\n",
            "\t Val. Loss: 1.236 |  Val. Acc: 66.60% \n",
            "\n",
            "Epoch: 37\n",
            "\tTrain Loss: 0.936 | Train Acc: 96.94%\n",
            "\t Val. Loss: 1.214 |  Val. Acc: 69.08% \n",
            "\n",
            "Epoch: 38\n",
            "\tTrain Loss: 0.936 | Train Acc: 96.92%\n",
            "\t Val. Loss: 1.222 |  Val. Acc: 67.90% \n",
            "\n",
            "Epoch: 39\n",
            "\tTrain Loss: 0.935 | Train Acc: 97.02%\n",
            "\t Val. Loss: 1.220 |  Val. Acc: 67.96% \n",
            "\n",
            "Epoch: 40\n",
            "\tTrain Loss: 0.934 | Train Acc: 97.09%\n",
            "\t Val. Loss: 1.221 |  Val. Acc: 67.89% \n",
            "\n",
            "Epoch: 41\n",
            "\tTrain Loss: 0.933 | Train Acc: 97.21%\n",
            "\t Val. Loss: 1.219 |  Val. Acc: 68.42% \n",
            "\n",
            "Epoch: 42\n",
            "\tTrain Loss: 0.931 | Train Acc: 97.39%\n",
            "\t Val. Loss: 1.217 |  Val. Acc: 68.43% \n",
            "\n",
            "Epoch: 43\n",
            "\tTrain Loss: 0.933 | Train Acc: 97.22%\n",
            "\t Val. Loss: 1.214 |  Val. Acc: 68.77% \n",
            "\n",
            "Epoch: 44\n",
            "\tTrain Loss: 0.933 | Train Acc: 97.20%\n",
            "\t Val. Loss: 1.224 |  Val. Acc: 67.73% \n",
            "\n",
            "Epoch: 45\n",
            "\tTrain Loss: 0.935 | Train Acc: 97.07%\n",
            "\t Val. Loss: 1.213 |  Val. Acc: 68.61% \n",
            "\n",
            "Epoch: 46\n",
            "\tTrain Loss: 0.931 | Train Acc: 97.29%\n",
            "\t Val. Loss: 1.212 |  Val. Acc: 69.03% \n",
            "\n",
            "Epoch: 47\n",
            "\tTrain Loss: 0.933 | Train Acc: 97.21%\n",
            "\t Val. Loss: 1.211 |  Val. Acc: 69.20% \n",
            "\n",
            "Epoch: 48\n",
            "\tTrain Loss: 0.931 | Train Acc: 97.39%\n",
            "\t Val. Loss: 1.217 |  Val. Acc: 68.44% \n",
            "\n",
            "Epoch: 49\n",
            "\tTrain Loss: 0.929 | Train Acc: 97.62%\n",
            "\t Val. Loss: 1.211 |  Val. Acc: 68.97% \n",
            "\n"
          ],
          "name": "stdout"
        }
      ]
    },
    {
      "cell_type": "code",
      "metadata": {
        "colab": {
          "base_uri": "https://localhost:8080/"
        },
        "id": "aC-MuYRg7VsA",
        "outputId": "5eb3ab1b-d05f-4903-a9ac-ecb19a0923e2"
      },
      "source": [
        "max(acc_values['valid'])"
      ],
      "execution_count": 43,
      "outputs": [
        {
          "output_type": "execute_result",
          "data": {
            "text/plain": [
              "0.7150089459599189"
            ]
          },
          "metadata": {
            "tags": []
          },
          "execution_count": 43
        }
      ]
    },
    {
      "cell_type": "code",
      "metadata": {
        "colab": {
          "base_uri": "https://localhost:8080/",
          "height": 295
        },
        "id": "9jLlOIy75-Co",
        "outputId": "45989fa5-79f8-4d14-c2ae-a7cd5e92603e"
      },
      "source": [
        "#plotting accuracy\r\n",
        "plt.plot(acc_values['train'])\r\n",
        "plt.plot(acc_values['valid'])\r\n",
        "plt.title('model accuracy')\r\n",
        "plt.ylabel('accuracy')\r\n",
        "plt.xlabel('epoch')\r\n",
        "plt.legend(['train', 'valid'], loc='upper left')\r\n",
        "plt.show()"
      ],
      "execution_count": 33,
      "outputs": [
        {
          "output_type": "display_data",
          "data": {
            "image/png": "[encoded data removed]",
            "text/plain": [
              "<Figure size 432x288 with 1 Axes>"
            ]
          },
          "metadata": {
            "tags": [],
            "needs_background": "light"
          }
        }
      ]
    },
    {
      "cell_type": "code",
      "metadata": {
        "colab": {
          "base_uri": "https://localhost:8080/",
          "height": 295
        },
        "id": "QpOI3LPl6gG0",
        "outputId": "f0bbaf0d-d30d-455c-f3d5-c56fd535c24e"
      },
      "source": [
        "#Plot loss values\r\n",
        "plt.plot(loss_values['train'])\r\n",
        "plt.plot(loss_values['valid'])\r\n",
        "plt.title('model loss')\r\n",
        "plt.ylabel('loss')\r\n",
        "plt.xlabel('epoch')\r\n",
        "plt.legend(['train', 'valid'], loc='upper left')\r\n",
        "plt.show()"
      ],
      "execution_count": 34,
      "outputs": [
        {
          "output_type": "display_data",
          "data": {
            "image/png": "[encoded data removed]",
            "text/plain": [
              "<Figure size 432x288 with 1 Axes>"
            ]
          },
          "metadata": {
            "tags": [],
            "needs_background": "light"
          }
        }
      ]
    },
    {
      "cell_type": "markdown",
      "metadata": {
        "id": "LZgzB0ZkHVTI"
      },
      "source": [
        "## Model Testing"
      ]
    },
    {
      "cell_type": "code",
      "metadata": {
        "id": "aZZfnWo0abRx"
      },
      "source": [
        "#load weights and tokenizer\n",
        "\n",
        "path='./saved_weights.pt'\n",
        "model.load_state_dict(torch.load(path));\n",
        "model.eval();\n",
        "tokenizer_file = open('./tokenizer.pkl', 'rb')\n",
        "tokenizer = pickle.load(tokenizer_file)\n",
        "\n",
        "#inference \n",
        "\n",
        "import spacy\n",
        "nlp = spacy.load('en')\n",
        "\n",
        "def classify_tweet(tweet):\n",
        "    \n",
        "    categories = { 0: \"Negative\",\n",
        "        1: \"Positive\" }\n",
        "    \n",
        "    # tokenize the tweet \n",
        "    tokenized = [tok.text for tok in nlp.tokenizer(tweet)] \n",
        "    # convert to integer sequence using predefined tokenizer dictionary\n",
        "    indexed = [tokenizer[t] for t in tokenized]        \n",
        "    # compute no. of words        \n",
        "    length = [len(indexed)]\n",
        "    # convert to tensor                                    \n",
        "    tensor = torch.LongTensor(indexed).to(device)   \n",
        "    # reshape in form of batch, no. of words           \n",
        "    tensor = tensor.unsqueeze(1).T  \n",
        "    # convert to tensor                          \n",
        "    length_tensor = torch.LongTensor(length)\n",
        "    # Get the model prediction                  \n",
        "    prediction = model(tensor, length_tensor)\n",
        "\n",
        "    _, pred = torch.max(prediction, 1) \n",
        "    \n",
        "    return categories[pred.item()]"
      ],
      "execution_count": 35,
      "outputs": []
    },
    {
      "cell_type": "code",
      "metadata": {
        "id": "yTkHLEipIlM9",
        "colab": {
          "base_uri": "https://localhost:8080/",
          "height": 35
        },
        "outputId": "94bcf715-8d99-483f-eb44-0688e1b92142"
      },
      "source": [
        "classify_tweet(\"I'll probably have to watch it again to understand what happens.\")"
      ],
      "execution_count": 36,
      "outputs": [
        {
          "output_type": "execute_result",
          "data": {
            "application/vnd.google.colaboratory.intrinsic+json": {
              "type": "string"
            },
            "text/plain": [
              "'Positive'"
            ]
          },
          "metadata": {
            "tags": []
          },
          "execution_count": 36
        }
      ]
    },
    {
      "cell_type": "markdown",
      "metadata": {
        "id": "WVjCuKK_LVEF"
      },
      "source": [
        "## Discussion on Data Augmentation Techniques \n",
        "\n",
        "You might wonder exactly how you can augment text data. After all, you can’t really flip it horizontally as you can an image! :D \n",
        "\n",
        "In contrast to data augmentation in images, augmentation techniques on data is very specific to final product you are building. As its general usage on any type of textual data doesn't provides a significant performance boost, that's why unlike torchvision, torchtext doesn’t offer a augmentation pipeline. Due to powerful models as transformers, augmentation tecnhiques are not so preferred now-a-days. But its better to know about some techniques with text that will provide your model with a little more information for training. \n",
        "\n",
        "### Synonym Replacement\n",
        "\n",
        "First, you could replace words in the sentence with synonyms, like so:\n",
        "\n",
        "    The dog slept on the mat\n",
        "\n",
        "could become\n",
        "\n",
        "    The dog slept on the rug\n",
        "\n",
        "Aside from the dog's insistence that a rug is much softer than a mat, the meaning of the sentence hasn’t changed. But mat and rug will be mapped to different indices in the vocabulary, so the model will learn that the two sentences map to the same label, and hopefully that there’s a connection between those two words, as everything else in the sentences is the same."
      ]
    },
    {
      "cell_type": "markdown",
      "metadata": {
        "id": "T_uEfWJpL6Nq"
      },
      "source": [
        "### Random Insertion\n",
        "A random insertion technique looks at a sentence and then randomly inserts synonyms of existing non-stopwords into the sentence n times. Assuming you have a way of getting a synonym of a word and a way of eliminating stopwords (common words such as and, it, the, etc.), shown, but not implemented, in this function via get_synonyms() and get_stopwords(), an implementation of this would be as follows:\n"
      ]
    },
    {
      "cell_type": "code",
      "metadata": {
        "id": "7Alm5D7WIvAC"
      },
      "source": [
        "def random_insertion(sentence, n): \n",
        "    words = remove_stopwords(sentence) \n",
        "    for _ in range(n):\n",
        "        new_synonym = get_synonyms(random.choice(words))\n",
        "        sentence.insert(randrange(len(sentence)+1), new_synonym) \n",
        "    return sentence"
      ],
      "execution_count": 37,
      "outputs": []
    },
    {
      "cell_type": "markdown",
      "metadata": {
        "id": "gqLWzwJ3Mm8h"
      },
      "source": [
        "## Random Deletion\n",
        "As the name suggests, random deletion deletes words from a sentence. Given a probability parameter p, it will go through the sentence and decide whether to delete a word or not based on that random probability. Consider of it as pixel dropouts while treating images."
      ]
    },
    {
      "cell_type": "code",
      "metadata": {
        "id": "-7Dz7JJfMqyC"
      },
      "source": [
        "def random_deletion(words, p=0.5): \n",
        "    if len(words) == 1: # return if single word\n",
        "        return words\n",
        "    remaining = list(filter(lambda x: random.uniform(0,1) > p,words)) \n",
        "    if len(remaining) == 0: # if not left, sample a random word\n",
        "        return [random.choice(words)] \n",
        "    else:\n",
        "        return remaining"
      ],
      "execution_count": 38,
      "outputs": []
    },
    {
      "cell_type": "markdown",
      "metadata": {
        "id": "zOIbi5WzO5OU"
      },
      "source": [
        "### Random Swap\n",
        "The random swap augmentation takes a sentence and then swaps words within it n times, with each iteration working on the previously swapped sentence. Here we sample two random numbers based on the length of the sentence, and then just keep swapping until we hit n."
      ]
    },
    {
      "cell_type": "code",
      "metadata": {
        "id": "LnkbG15HO3Yj"
      },
      "source": [
        "def random_swap(sentence, n=5): \n",
        "    length = range(len(sentence)) \n",
        "    for _ in range(n):\n",
        "        idx1, idx2 = random.sample(length, 2)\n",
        "        sentence[idx1], sentence[idx2] = sentence[idx2], sentence[idx1] \n",
        "    return sentence"
      ],
      "execution_count": 39,
      "outputs": []
    },
    {
      "cell_type": "markdown",
      "metadata": {
        "id": "599NpwfMR5Vm"
      },
      "source": [
        "For more on this please go through this [paper](https://arxiv.org/pdf/1901.11196.pdf)."
      ]
    },
    {
      "cell_type": "markdown",
      "metadata": {
        "id": "a5aeKuNCRGip"
      },
      "source": [
        "### Back Translation\n",
        "\n",
        "Another popular approach for augmenting text datasets is back translation. This involves translating a sentence from our target language into one or more other languages and then translating all of them back to the original language. We can use the Python library googletrans for this purpose. "
      ]
    },
    {
      "cell_type": "code",
      "metadata": {
        "id": "tkQ26i_3qzqe",
        "colab": {
          "base_uri": "https://localhost:8080/"
        },
        "outputId": "cc7b9297-8643-4881-95af-a72eb0929dbd"
      },
      "source": [
        "!pip install google_trans_new\r\n"
      ],
      "execution_count": 40,
      "outputs": [
        {
          "output_type": "stream",
          "text": [
            "Requirement already satisfied: google_trans_new in /usr/local/lib/python3.6/dist-packages (1.1.9)\n"
          ],
          "name": "stdout"
        }
      ]
    },
    {
      "cell_type": "code",
      "metadata": {
        "id": "pHhNBbYrRXNy",
        "colab": {
          "base_uri": "https://localhost:8080/"
        },
        "outputId": "1b7d4e28-159a-4b93-9f7f-23adbbb7b029"
      },
      "source": [
        "import random\n",
        "import google_trans_new\n",
        "\n",
        "from google_trans_new import google_translator\n",
        "\n",
        "translator = google_translator()\n",
        "sentence = ['The dog slept on the rug', 'This is good coffee']\n",
        "\n",
        "result = translator.translate(sentence,lang_tgt='fr')\n",
        "print(result)\n",
        "translations_en_random = translator.translate(result, lang_src='fr', lang_tgt='en') \n",
        "print(translations_en_random)\n",
        "# en_text = [t for t in translations_en_random]\n",
        "# print(en_text)"
      ],
      "execution_count": 41,
      "outputs": [
        {
          "output_type": "stream",
          "text": [
            "[«Le chien a dormi sur le tapis», «C'est du bon café»] \n",
            "[\"The dog slept on the carpet\", \"It's good coffee\"] \n"
          ],
          "name": "stdout"
        }
      ]
    },
    {
      "cell_type": "code",
      "metadata": {
        "id": "ojjMj7bUTGyQ"
      },
      "source": [
        ""
      ],
      "execution_count": 41,
      "outputs": []
    },
    {
      "cell_type": "code",
      "metadata": {
        "id": "u3ILs_pTLIGH",
        "colab": {
          "base_uri": "https://localhost:8080/",
          "height": 35
        },
        "outputId": "e7193569-ef04-4cbb-d002-b31d92283cd5"
      },
      "source": [
        "googletranslate(\"The cat slept on the rug\")"
      ],
      "execution_count": 42,
      "outputs": [
        {
          "output_type": "execute_result",
          "data": {
            "application/vnd.google.colaboratory.intrinsic+json": {
              "type": "string"
            },
            "text/plain": [
              "'The cat was sleeping on the carpet '"
            ]
          },
          "metadata": {
            "tags": []
          },
          "execution_count": 42
        }
      ]
    },
    {
      "cell_type": "code",
      "metadata": {
        "id": "Lcia5-kxLLun"
      },
      "source": [
        ""
      ],
      "execution_count": 42,
      "outputs": []
    }
  ]
}