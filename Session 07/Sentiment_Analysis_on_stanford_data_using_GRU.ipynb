{
  "nbformat": 4,
  "nbformat_minor": 0,
  "metadata": {
    "colab": {
      "name": "Sentiment Analysis on stanford data using GRU.ipynb",
      "provenance": [],
      "collapsed_sections": [],
      "include_colab_link": true
    },
    "kernelspec": {
      "name": "python3",
      "display_name": "Python 3"
    },
    "accelerator": "GPU"
  },
  "cells": [
    {
      "cell_type": "markdown",
      "metadata": {
        "id": "view-in-github",
        "colab_type": "text"
      },
      "source": [
        "<a href=\"https://colab.research.google.com/github/sridevibonthu/TSAI_END_P1/blob/main/Session%2007/Sentiment_Analysis_on_stanford_data_using_GRU.ipynb\" target=\"_parent\"><img src=\"https://colab.research.google.com/assets/colab-badge.svg\" alt=\"Open In Colab\"/></a>"
      ]
    },
    {
      "cell_type": "markdown",
      "metadata": {
        "id": "GYiRsFGD6iUC"
      },
      "source": [
        "# 0 TorchText"
      ]
    },
    {
      "cell_type": "markdown",
      "metadata": {
        "id": "tp5IzBGsPGHs"
      },
      "source": [
        "## Dataset Preview\n",
        "\n",
        "Your first step to deep learning in NLP. We will be mostly using PyTorch. Just like torchvision, PyTorch provides an official library, torchtext, for handling text-processing pipelines. \n",
        "\n",
        "We will be using previous session tweet dataset. Let's just preview the dataset."
      ]
    },
    {
      "cell_type": "code",
      "metadata": {
        "id": "wcNJ74n0dWId"
      },
      "source": [
        "import sqlite3\r\n",
        "import csv\r\n",
        "import sys\r\n",
        "\r\n",
        "with open('datasetSentences.txt') as infile:\r\n",
        "    infile.readline()\r\n",
        "    sentences = dict(line.strip().split('\\t') for line in infile if len(line) > 0)\r\n",
        "\r\n",
        "with open('dictionary.txt') as infile:\r\n",
        "    infile.readline()\r\n",
        "    dictionary = dict(line.strip().split('|')[::-1] for line in infile if len(line) > 0)\r\n",
        "\r\n",
        "with open('sentiment_labels.txt') as infile:\r\n",
        "    infile.readline()\r\n",
        "    sentiments = dict(line.strip().strip('!').split('|') for line in infile if len(line) > 0)"
      ],
      "execution_count": 1,
      "outputs": []
    },
    {
      "cell_type": "code",
      "metadata": {
        "id": "GB_mPwipdZT2"
      },
      "source": [
        "\r\n",
        "\r\n",
        "conn = sqlite3.connect(':memory:')\r\n",
        "conn.execute('CREATE TABLE sentences (id LONG PRIMARY KEY, sentence TEXT)')\r\n",
        "conn.execute('CREATE TABLE dictionary (id LONG PRIMARY KEY, phrase TEXT)')\r\n",
        "conn.execute('CREATE TABLE sentiments (phrase_id LONG PRIMARY KEY, sentiment {})'.format('FLOAT'))\r\n",
        "conn.execute('CREATE INDEX sentences_sentence_idx ON sentences (sentence);')\r\n",
        "conn.execute('CREATE INDEX dictionary_phrase_idx ON dictionary (phrase);')\r\n",
        "\r\n",
        "conn.executemany('INSERT INTO sentences VALUES (?, ?)', sentences.items())\r\n",
        "conn.executemany('INSERT INTO dictionary VALUES (?, ?)', dictionary.items())\r\n",
        "conn.executemany('INSERT INTO sentiments VALUES (?, ?)', sentiments.items())\r\n",
        "\r\n",
        "\r\n",
        "conn.commit()\r\n",
        "crs = conn.cursor()\r\n"
      ],
      "execution_count": 2,
      "outputs": []
    },
    {
      "cell_type": "code",
      "metadata": {
        "id": "ru6qlX26bE1W"
      },
      "source": [
        "\r\n",
        "crs.execute('''\r\n",
        "        SELECT\r\n",
        "            sentence,\r\n",
        "            sentiment\r\n",
        "        FROM sentences \r\n",
        "            JOIN dictionary ON sentence = phrase\r\n",
        "            JOIN sentiments ON dictionary.id = sentiments.phrase_id\r\n",
        "        ''')\r\n",
        "\r\n",
        "\r\n",
        "dataset = crs.fetchall()\r\n",
        "\r\n",
        "with open('data.csv', 'w') as outfile:\r\n",
        "  writer = csv.writer(outfile)\r\n",
        "  writer.writerow(['sentence', 'sentiment'])\r\n",
        "  for row in dataset:\r\n",
        "    writer.writerow(row[:])\r\n"
      ],
      "execution_count": 3,
      "outputs": []
    },
    {
      "cell_type": "code",
      "metadata": {
        "colab": {
          "base_uri": "https://localhost:8080/",
          "height": 202
        },
        "id": "SZ_l1jI-cFN3",
        "outputId": "2606cb9c-a979-4046-c1f5-479d73db1daa"
      },
      "source": [
        "import pandas as pd\r\n",
        "df = pd.read_csv('data.csv')\r\n",
        "df.head()"
      ],
      "execution_count": 4,
      "outputs": [
        {
          "output_type": "execute_result",
          "data": {
            "text/html": [
              "<div>\n",
              "<style scoped>\n",
              "    .dataframe tbody tr th:only-of-type {\n",
              "        vertical-align: middle;\n",
              "    }\n",
              "\n",
              "    .dataframe tbody tr th {\n",
              "        vertical-align: top;\n",
              "    }\n",
              "\n",
              "    .dataframe thead th {\n",
              "        text-align: right;\n",
              "    }\n",
              "</style>\n",
              "<table border=\"1\" class=\"dataframe\">\n",
              "  <thead>\n",
              "    <tr style=\"text-align: right;\">\n",
              "      <th></th>\n",
              "      <th>sentence</th>\n",
              "      <th>sentiment</th>\n",
              "    </tr>\n",
              "  </thead>\n",
              "  <tbody>\n",
              "    <tr>\n",
              "      <th>0</th>\n",
              "      <td>... a bland murder-on-campus yawner .</td>\n",
              "      <td>0.013889</td>\n",
              "    </tr>\n",
              "    <tr>\n",
              "      <th>1</th>\n",
              "      <td>... a hollow joke told by a cinematic gymnast ...</td>\n",
              "      <td>0.263890</td>\n",
              "    </tr>\n",
              "    <tr>\n",
              "      <th>2</th>\n",
              "      <td>... the picture 's cleverness is ironically mu...</td>\n",
              "      <td>0.472220</td>\n",
              "    </tr>\n",
              "    <tr>\n",
              "      <th>3</th>\n",
              "      <td>classic cinema served up with heart and humor</td>\n",
              "      <td>0.875000</td>\n",
              "    </tr>\n",
              "    <tr>\n",
              "      <th>4</th>\n",
              "      <td>entertaining enough , but nothing new</td>\n",
              "      <td>0.319440</td>\n",
              "    </tr>\n",
              "  </tbody>\n",
              "</table>\n",
              "</div>"
            ],
            "text/plain": [
              "                                            sentence  sentiment\n",
              "0              ... a bland murder-on-campus yawner .   0.013889\n",
              "1  ... a hollow joke told by a cinematic gymnast ...   0.263890\n",
              "2  ... the picture 's cleverness is ironically mu...   0.472220\n",
              "3      classic cinema served up with heart and humor   0.875000\n",
              "4              entertaining enough , but nothing new   0.319440"
            ]
          },
          "metadata": {
            "tags": []
          },
          "execution_count": 4
        }
      ]
    },
    {
      "cell_type": "code",
      "metadata": {
        "colab": {
          "base_uri": "https://localhost:8080/",
          "height": 202
        },
        "id": "HKexh2_5cZC2",
        "outputId": "cabcafca-19f5-4d25-dcae-7dea4f5e58c3"
      },
      "source": [
        "def score_to_label(score):\r\n",
        "  if score <= 0.2:\r\n",
        "    return 0\r\n",
        "  elif score <= 0.4:\r\n",
        "    return 1\r\n",
        "  elif score <= 0.6:\r\n",
        "    return 2\r\n",
        "  elif score <= 0.8:\r\n",
        "    return 3\r\n",
        "  else:\r\n",
        "    return 4\r\n",
        "\r\n",
        "df['label'] = df.apply(lambda row: score_to_label(row['sentiment']), axis=1)\r\n",
        "df.head()\r\n"
      ],
      "execution_count": 5,
      "outputs": [
        {
          "output_type": "execute_result",
          "data": {
            "text/html": [
              "<div>\n",
              "<style scoped>\n",
              "    .dataframe tbody tr th:only-of-type {\n",
              "        vertical-align: middle;\n",
              "    }\n",
              "\n",
              "    .dataframe tbody tr th {\n",
              "        vertical-align: top;\n",
              "    }\n",
              "\n",
              "    .dataframe thead th {\n",
              "        text-align: right;\n",
              "    }\n",
              "</style>\n",
              "<table border=\"1\" class=\"dataframe\">\n",
              "  <thead>\n",
              "    <tr style=\"text-align: right;\">\n",
              "      <th></th>\n",
              "      <th>sentence</th>\n",
              "      <th>sentiment</th>\n",
              "      <th>label</th>\n",
              "    </tr>\n",
              "  </thead>\n",
              "  <tbody>\n",
              "    <tr>\n",
              "      <th>0</th>\n",
              "      <td>... a bland murder-on-campus yawner .</td>\n",
              "      <td>0.013889</td>\n",
              "      <td>0</td>\n",
              "    </tr>\n",
              "    <tr>\n",
              "      <th>1</th>\n",
              "      <td>... a hollow joke told by a cinematic gymnast ...</td>\n",
              "      <td>0.263890</td>\n",
              "      <td>1</td>\n",
              "    </tr>\n",
              "    <tr>\n",
              "      <th>2</th>\n",
              "      <td>... the picture 's cleverness is ironically mu...</td>\n",
              "      <td>0.472220</td>\n",
              "      <td>2</td>\n",
              "    </tr>\n",
              "    <tr>\n",
              "      <th>3</th>\n",
              "      <td>classic cinema served up with heart and humor</td>\n",
              "      <td>0.875000</td>\n",
              "      <td>4</td>\n",
              "    </tr>\n",
              "    <tr>\n",
              "      <th>4</th>\n",
              "      <td>entertaining enough , but nothing new</td>\n",
              "      <td>0.319440</td>\n",
              "      <td>1</td>\n",
              "    </tr>\n",
              "  </tbody>\n",
              "</table>\n",
              "</div>"
            ],
            "text/plain": [
              "                                            sentence  sentiment  label\n",
              "0              ... a bland murder-on-campus yawner .   0.013889      0\n",
              "1  ... a hollow joke told by a cinematic gymnast ...   0.263890      1\n",
              "2  ... the picture 's cleverness is ironically mu...   0.472220      2\n",
              "3      classic cinema served up with heart and humor   0.875000      4\n",
              "4              entertaining enough , but nothing new   0.319440      1"
            ]
          },
          "metadata": {
            "tags": []
          },
          "execution_count": 5
        }
      ]
    },
    {
      "cell_type": "code",
      "metadata": {
        "id": "R7JdpCW-YbAG",
        "colab": {
          "base_uri": "https://localhost:8080/"
        },
        "outputId": "38c2fa46-efa5-47d9-9a9e-5e427d91e0d4"
      },
      "source": [
        "print(df.shape)"
      ],
      "execution_count": 6,
      "outputs": [
        {
          "output_type": "stream",
          "text": [
            "(11286, 3)\n"
          ],
          "name": "stdout"
        }
      ]
    },
    {
      "cell_type": "code",
      "metadata": {
        "id": "zqRsoF6xYdgl",
        "colab": {
          "base_uri": "https://localhost:8080/"
        },
        "outputId": "db5fe1c2-cf81-48d7-9826-c6cb11568f11"
      },
      "source": [
        "df.label.value_counts()"
      ],
      "execution_count": 7,
      "outputs": [
        {
          "output_type": "execute_result",
          "data": {
            "text/plain": [
              "1    2971\n",
              "3    2966\n",
              "2    2144\n",
              "4    1773\n",
              "0    1432\n",
              "Name: label, dtype: int64"
            ]
          },
          "metadata": {
            "tags": []
          },
          "execution_count": 7
        }
      ]
    },
    {
      "cell_type": "markdown",
      "metadata": {
        "id": "XJ6o_79ISSVb"
      },
      "source": [
        "## Defining Fields"
      ]
    },
    {
      "cell_type": "markdown",
      "metadata": {
        "id": "e63g08ijOrf7"
      },
      "source": [
        "Now we shall be defining LABEL as a LabelField, which is a subclass of Field that sets sequen tial to False (as it’s our numerical category class). TWEET is a standard Field object, where we have decided to use the spaCy tokenizer and convert all the text to lower‐ case."
      ]
    },
    {
      "cell_type": "code",
      "metadata": {
        "id": "qk8IP4SK1Lrp",
        "colab": {
          "base_uri": "https://localhost:8080/"
        },
        "outputId": "86e57610-eb38-4cf7-9559-96ab98bf3d7a"
      },
      "source": [
        "# Import Library\n",
        "import random\n",
        "import torch, torchtext\n",
        "from torchtext import data \n",
        "\n",
        "# Manual Seed\n",
        "SEED = 43\n",
        "torch.manual_seed(SEED)"
      ],
      "execution_count": 8,
      "outputs": [
        {
          "output_type": "execute_result",
          "data": {
            "text/plain": [
              "<torch._C.Generator at 0x7ff9f21ea9f0>"
            ]
          },
          "metadata": {
            "tags": []
          },
          "execution_count": 8
        }
      ]
    },
    {
      "cell_type": "code",
      "metadata": {
        "colab": {
          "base_uri": "https://localhost:8080/"
        },
        "id": "OxAykKWc-qtQ",
        "outputId": "56279cca-aff7-4c52-e863-7ffc5c607313"
      },
      "source": [
        "!pip install google_trans_new\r\n"
      ],
      "execution_count": 9,
      "outputs": [
        {
          "output_type": "stream",
          "text": [
            "Requirement already satisfied: google_trans_new in /usr/local/lib/python3.6/dist-packages (1.1.9)\n"
          ],
          "name": "stdout"
        }
      ]
    },
    {
      "cell_type": "code",
      "metadata": {
        "id": "0HAo1iKRB9QZ"
      },
      "source": [
        "# Augmentation\r\n",
        "\r\n",
        "import random\r\n",
        "import google_trans_new\r\n",
        "\r\n",
        "from google_trans_new import google_translator\r\n",
        "\r\n",
        "translator = google_translator()\r\n",
        "\r\n",
        "\r\n",
        "\r\n",
        "def random_insertion(sentence, n): \r\n",
        "    words = remove_stopwords(sentence) \r\n",
        "    for _ in range(n):\r\n",
        "        new_synonym = get_synonyms(random.choice(words))\r\n",
        "        sentence.insert(randrange(len(sentence)+1), new_synonym) \r\n",
        "    return sentence\r\n",
        "\r\n",
        "def random_deletion(words, p=0.5): \r\n",
        "    if len(words) == 1: # return if single word\r\n",
        "        return words\r\n",
        "    remaining = list(filter(lambda x: random.uniform(0,1) > p,words)) \r\n",
        "    if len(remaining) == 0: # if not left, sample a random word\r\n",
        "        return [random.choice(words)] \r\n",
        "    else:\r\n",
        "        return remaining\r\n",
        "\r\n",
        "def random_swap(sentence, n=5): \r\n",
        "    length = range(len(sentence)) \r\n",
        "    for _ in range(n):\r\n",
        "        idx1, idx2 = random.sample(length, 2)\r\n",
        "        sentence[idx1], sentence[idx2] = sentence[idx2], sentence[idx1] \r\n",
        "    return sentence\r\n",
        "\r\n",
        "def googletranslate(text):\r\n",
        "  tempfr = translator.translate(text, lang_tgt='fr')\r\n",
        "  return translator.translate(tempfr, lang_src='fr', lang_tgt='en')\r\n",
        "\r\n",
        "def reverse_text(text):\r\n",
        "  return text[::-1]"
      ],
      "execution_count": 10,
      "outputs": []
    },
    {
      "cell_type": "code",
      "metadata": {
        "id": "GkjXFiEwK1RF"
      },
      "source": [
        "def postaugment(text):\r\n",
        "  rate = random.random()\r\n",
        "  if rate < 0.25:\r\n",
        "    reverse_text(text)\r\n",
        "  elif rate<0.5:\r\n",
        "    random_swap(text)\r\n",
        "  return text"
      ],
      "execution_count": 11,
      "outputs": []
    },
    {
      "cell_type": "code",
      "metadata": {
        "id": "y7if3us0CX3o"
      },
      "source": [
        "def preaugment(text):\r\n",
        "  rate = random.random()\r\n",
        "  #print(\"..............\",rate,\"............\", text,\"................\")\r\n",
        "  #print(rate, end=' ')\r\n",
        "  if rate<0.1:\r\n",
        "    text = random_deletion(text)\r\n",
        "  elif rate<0.2:\r\n",
        "    text = list(googletranslate(text).split(' '))\r\n",
        "  \r\n",
        "  return text"
      ],
      "execution_count": 12,
      "outputs": []
    },
    {
      "cell_type": "code",
      "metadata": {
        "id": "u6bKQax2Mf_U"
      },
      "source": [
        "Sentence = data.Field(sequential = True, tokenize = 'spacy', batch_first =True, preprocessing = preaugment, postprocessing = lambda x, _:postaugment(x), include_lengths=True)\n",
        "Label = data.LabelField(tokenize ='spacy', is_target=True, batch_first =True, sequential =False)"
      ],
      "execution_count": 13,
      "outputs": []
    },
    {
      "cell_type": "markdown",
      "metadata": {
        "id": "mX-lYIe_O7Vy"
      },
      "source": [
        "Having defined those fields, we now need to produce a list that maps them onto the list of rows that are in the CSV:"
      ]
    },
    {
      "cell_type": "code",
      "metadata": {
        "id": "VawdWq36O6td"
      },
      "source": [
        "fields = [('sentence', Sentence),('label',Label)]"
      ],
      "execution_count": 14,
      "outputs": []
    },
    {
      "cell_type": "markdown",
      "metadata": {
        "id": "ZbtZ-Ph2P1xL"
      },
      "source": [
        "Armed with our declared fields, lets convert from pandas to list to torchtext. We could also use TabularDataset to apply that definition to the CSV directly but showing an alternative approach too."
      ]
    },
    {
      "cell_type": "code",
      "metadata": {
        "colab": {
          "base_uri": "https://localhost:8080/"
        },
        "id": "D2rCNuAkFscM",
        "outputId": "a6527c48-1cfb-4579-d32c-9c18bfc3cff2"
      },
      "source": [
        "!pip install google_trans_new\r\n"
      ],
      "execution_count": 15,
      "outputs": [
        {
          "output_type": "stream",
          "text": [
            "Requirement already satisfied: google_trans_new in /usr/local/lib/python3.6/dist-packages (1.1.9)\n"
          ],
          "name": "stdout"
        }
      ]
    },
    {
      "cell_type": "code",
      "metadata": {
        "id": "L3OLcJ5B7rHz"
      },
      "source": [
        "example = [data.Example.fromlist([df.sentence[i],df.label[i]], fields) for i in range(df.shape[0])] "
      ],
      "execution_count": 16,
      "outputs": []
    },
    {
      "cell_type": "code",
      "metadata": {
        "id": "nT-flpH-P1cd"
      },
      "source": [
        "# Creating dataset\n",
        "#twitterDataset = data.TabularDataset(path=\"tweets.csv\", format=\"CSV\", fields=fields, skip_header=True)\n",
        "\n",
        "SSTDataset = data.Dataset(example, fields)"
      ],
      "execution_count": 17,
      "outputs": []
    },
    {
      "cell_type": "markdown",
      "metadata": {
        "id": "g6ZnyCPaR08F"
      },
      "source": [
        "Finally, we can split into training, testing, and validation sets by using the split() method:"
      ]
    },
    {
      "cell_type": "code",
      "metadata": {
        "id": "uPYXyuKhRpBk"
      },
      "source": [
        "(train, valid) = SSTDataset.split(split_ratio=[0.85, 0.15], random_state=random.seed(SEED))"
      ],
      "execution_count": 18,
      "outputs": []
    },
    {
      "cell_type": "code",
      "metadata": {
        "id": "ykvsCGQMR6UD",
        "colab": {
          "base_uri": "https://localhost:8080/"
        },
        "outputId": "bbc7b541-9cc1-48f3-9ab4-2e6726f9c8c6"
      },
      "source": [
        "(len(train), len(valid))"
      ],
      "execution_count": 19,
      "outputs": [
        {
          "output_type": "execute_result",
          "data": {
            "text/plain": [
              "(9593, 1693)"
            ]
          },
          "metadata": {
            "tags": []
          },
          "execution_count": 19
        }
      ]
    },
    {
      "cell_type": "markdown",
      "metadata": {
        "id": "kix8P2IKSBaV"
      },
      "source": [
        "### Applying Augmentations on train data"
      ]
    },
    {
      "cell_type": "code",
      "metadata": {
        "id": "dUpEOQruR9JL",
        "colab": {
          "base_uri": "https://localhost:8080/"
        },
        "outputId": "8c8276b7-9223-4ff7-bfb5-daa6be013c39"
      },
      "source": [
        "vars(train.examples[13])"
      ],
      "execution_count": 20,
      "outputs": [
        {
          "output_type": "execute_result",
          "data": {
            "text/plain": [
              "{'label': 1,\n",
              " 'sentence': [\"[''\",\n",
              "  \"','\",\n",
              "  'CQ',\n",
              "  \"','\",\n",
              "  'may',\n",
              "  \"','\",\n",
              "  'a',\n",
              "  \"','\",\n",
              "  'day',\n",
              "  \"','\",\n",
              "  'be',\n",
              "  \"','\",\n",
              "  'lovingly',\n",
              "  \"','\",\n",
              "  'remembered',\n",
              "  \"','\",\n",
              "  'like',\n",
              "  \"','\",\n",
              "  'Roman',\n",
              "  \"','\",\n",
              "  'Coppola',\n",
              "  \"',\",\n",
              "  '\"\\'',\n",
              "  's\",',\n",
              "  '\"Short\",',\n",
              "  '\"pretentious\",',\n",
              "  '\"period\",',\n",
              "  '\"before\",',\n",
              "  '\"go\",',\n",
              "  '\"on\",',\n",
              "  '\"to\",',\n",
              "  '\"other\",',\n",
              "  '\"films\",',\n",
              "  '\"that\",',\n",
              "  '\"in',\n",
              "  'fact\",',\n",
              "  '\"say\",',\n",
              "  '\"',\n",
              "  'a',\n",
              "  \"','\",\n",
              "  'history',\n",
              "  \"','\",\n",
              "  'worth',\n",
              "  \"','\",\n",
              "  'caring',\n",
              "  \"','\",\n",
              "  'about',\n",
              "  \"']\",\n",
              "  '']}"
            ]
          },
          "metadata": {
            "tags": []
          },
          "execution_count": 20
        }
      ]
    },
    {
      "cell_type": "markdown",
      "metadata": {
        "id": "AKdllP3FST4N"
      },
      "source": [
        "## Building Vocabulary"
      ]
    },
    {
      "cell_type": "markdown",
      "metadata": {
        "id": "SuvWQ-SpSmSz"
      },
      "source": [
        "At this point we would have built a one-hot encoding of each word that is present in the dataset—a rather tedious process. Thankfully, torchtext will do this for us, and will also allow a max_size parameter to be passed in to limit the vocabu‐ lary to the most common words. This is normally done to prevent the construction of a huge, memory-hungry model. We don’t want our GPUs too overwhelmed, after all. \n",
        "\n",
        "Let’s limit the vocabulary to a maximum of 5000 words in our training set:\n"
      ]
    },
    {
      "cell_type": "code",
      "metadata": {
        "id": "mx955u93SGeY"
      },
      "source": [
        "Sentence.build_vocab(train)\n",
        "Label.build_vocab(train)"
      ],
      "execution_count": 21,
      "outputs": []
    },
    {
      "cell_type": "markdown",
      "metadata": {
        "id": "xvyEeEjXTGhX"
      },
      "source": [
        "By default, torchtext will add two more special tokens, <unk> for unknown words and <pad>, a padding token that will be used to pad all our text to roughly the same size to help with efficient batching on the GPU."
      ]
    },
    {
      "cell_type": "code",
      "metadata": {
        "id": "rA3tIESdcJdN",
        "colab": {
          "base_uri": "https://localhost:8080/"
        },
        "outputId": "6991ec50-5bc6-4732-a3a2-35eed5f447c8"
      },
      "source": [
        "print('Size of input vocab : ', len(Sentence.vocab))\n",
        "print('Size of label vocab : ', len(Label.vocab))\n",
        "print('Top 10 words appreared repeatedly :', list(Sentence.vocab.freqs.most_common(10)))\n",
        "print('Labels : ', Label.vocab.stoi)"
      ],
      "execution_count": 22,
      "outputs": [
        {
          "output_type": "stream",
          "text": [
            "Size of input vocab :  21358\n",
            "Size of label vocab :  5\n",
            "Top 10 words appreared repeatedly : [('.', 7693), (',', 7023), ('the', 5996), (\"','\", 4917), ('a', 4507), ('of', 4401), ('and', 4338), ('to', 3068), ('-', 2749), ('is', 2505)]\n",
            "Labels :  defaultdict(<function _default_unk_index at 0x7ff9a57aba60>, {1: 0, 3: 1, 2: 2, 4: 3, 0: 4})\n"
          ],
          "name": "stdout"
        }
      ]
    },
    {
      "cell_type": "markdown",
      "metadata": {
        "id": "rwjD2-ebTeUX"
      },
      "source": [
        "**Lots of stopwords!!**"
      ]
    },
    {
      "cell_type": "markdown",
      "metadata": {
        "id": "sLWW221gTpNs"
      },
      "source": [
        "Now we need to create a data loader to feed into our training loop. Torchtext provides the BucketIterator method that will produce what it calls a Batch, which is almost, but not quite, like the data loader we used on images."
      ]
    },
    {
      "cell_type": "markdown",
      "metadata": {
        "id": "EQqMhMoDUDmn"
      },
      "source": [
        "But at first declare the device we are using."
      ]
    },
    {
      "cell_type": "code",
      "metadata": {
        "id": "Zfo2QhGJUK4l",
        "colab": {
          "base_uri": "https://localhost:8080/"
        },
        "outputId": "4d50af81-8cf0-43f2-8c02-969f6efac92f"
      },
      "source": [
        "device = torch.device(\"cuda\" if torch.cuda.is_available() else \"cpu\")\r\n",
        "device"
      ],
      "execution_count": 23,
      "outputs": [
        {
          "output_type": "execute_result",
          "data": {
            "text/plain": [
              "device(type='cuda')"
            ]
          },
          "metadata": {
            "tags": []
          },
          "execution_count": 23
        }
      ]
    },
    {
      "cell_type": "code",
      "metadata": {
        "id": "zK2ORoqdTNsM"
      },
      "source": [
        "train_iterator, valid_iterator = data.BucketIterator.splits((train, valid), batch_size = 64, \n",
        "                                                            sort_key = lambda x: len(x.sentence),\n",
        "                                                            sort_within_batch=True, device = device)"
      ],
      "execution_count": 24,
      "outputs": []
    },
    {
      "cell_type": "code",
      "metadata": {
        "colab": {
          "base_uri": "https://localhost:8080/"
        },
        "id": "qiFpByviNofn",
        "outputId": "bc282628-6fa2-487a-ef41-2cfd5f570278"
      },
      "source": [
        "preaugment(train_iterator.data()[0].sentence)"
      ],
      "execution_count": 25,
      "outputs": [
        {
          "output_type": "execute_result",
          "data": {
            "text/plain": [
              "['When', 'on', 'dry', 'surfer', '-', 'girl', 'gasping', 'like', 'grouper']"
            ]
          },
          "metadata": {
            "tags": []
          },
          "execution_count": 25
        }
      ]
    },
    {
      "cell_type": "markdown",
      "metadata": {
        "id": "Gg7gTFQO4fby"
      },
      "source": [
        "Save the vocabulary for later use"
      ]
    },
    {
      "cell_type": "code",
      "metadata": {
        "id": "niE9Cc6-2bD_"
      },
      "source": [
        "import os, pickle\n",
        "with open('tokenizer.pkl', 'wb') as tokens: \n",
        "    pickle.dump(Sentence.vocab.stoi, tokens)"
      ],
      "execution_count": 26,
      "outputs": []
    },
    {
      "cell_type": "markdown",
      "metadata": {
        "id": "1AbsQwqkVyAy"
      },
      "source": [
        "## Defining Our Model"
      ]
    },
    {
      "cell_type": "markdown",
      "metadata": {
        "id": "E4PED4HJWH4t"
      },
      "source": [
        "We use the Embedding and LSTM modules in PyTorch to build a simple model for classifying tweets.\n",
        "\n",
        "In this model we create three layers. \n",
        "1. First, the words in our tweets are pushed into an Embedding layer, which we have established as a 300-dimensional vector embedding. \n",
        "2. That’s then fed into a 2 stacked-LSTMs with 100 hidden features (again, we’re compressing down from the 300-dimensional input like we did with images). We are using 2 LSTMs for using the dropout.\n",
        "3. Finally, the output of the LSTM (the final hidden state after processing the incoming tweet) is pushed through a standard fully connected layer with three outputs to correspond to our three possible classes (negative, positive, or neutral)."
      ]
    },
    {
      "cell_type": "code",
      "metadata": {
        "id": "43pVRccMT0bT"
      },
      "source": [
        "import torch.nn as nn\n",
        "import torch.nn.functional as F\n",
        "\n",
        "class classifier(nn.Module):\n",
        "    \n",
        "    # Define all the layers used in model\n",
        "    def __init__(self, vocab_size, embedding_dim, hidden_dim, output_dim, n_layers, dropout):\n",
        "        \n",
        "        super().__init__()          \n",
        "        \n",
        "        # Embedding layer\n",
        "        self.embedding = nn.Embedding(vocab_size, embedding_dim)\n",
        "        \n",
        "        # LSTM layer\n",
        "        \n",
        "        self.encoder = nn.GRU(embedding_dim, \n",
        "                           hidden_dim, \n",
        "                           num_layers=n_layers, \n",
        "                           dropout=dropout,\n",
        "                           batch_first=True, bidirectional = True\n",
        "                           )\n",
        "        # try using nn.GRU or nn.RNN here and compare their performances\n",
        "        # try bidirectional and compare their performances\n",
        "        \n",
        "        # Dense layer\n",
        "        self.fc = nn.Linear(hidden_dim, output_dim)\n",
        "        \n",
        "    def forward(self, text, text_lengths):\n",
        "        \n",
        "        # text = [batch size, sent_length]\n",
        "        embedded = self.embedding(text)\n",
        "        # embedded = [batch size, sent_len, emb dim]\n",
        "      \n",
        "        # packed sequence\n",
        "        packed_embedded = nn.utils.rnn.pack_padded_sequence(embedded, text_lengths.cpu(), batch_first=True)\n",
        "        \n",
        "        packed_output, hidden = self.encoder(packed_embedded)\n",
        "        #hidden = [batch size, num layers * num directions,hid dim]\n",
        "        #cell = [batch size, num layers * num directions,hid dim]\n",
        "    \n",
        "        # Hidden = [batch size, hid dim * num directions]\n",
        "        dense_outputs = self.fc(hidden)   \n",
        "        \n",
        "        # Final activation function softmax\n",
        "        output = F.softmax(dense_outputs[0], dim=1)\n",
        "            \n",
        "        return output"
      ],
      "execution_count": 27,
      "outputs": []
    },
    {
      "cell_type": "code",
      "metadata": {
        "id": "rwBoGE_X_Fl8"
      },
      "source": [
        "# Define hyperparameters\n",
        "size_of_vocab = len(Sentence.vocab)\n",
        "embedding_dim = 300\n",
        "num_hidden_nodes = 100\n",
        "num_output_nodes = 5\n",
        "num_layers = 3\n",
        "dropout = 0.4\n",
        "\n",
        "# Instantiate the model\n",
        "model = classifier(size_of_vocab, embedding_dim, num_hidden_nodes, num_output_nodes, num_layers, dropout = dropout)"
      ],
      "execution_count": 28,
      "outputs": []
    },
    {
      "cell_type": "code",
      "metadata": {
        "id": "O-pOMqzJ3eTv",
        "colab": {
          "base_uri": "https://localhost:8080/"
        },
        "outputId": "c9fa638c-0e50-491b-c422-c0f7bc69ab79"
      },
      "source": [
        "print(model)\n",
        "\n",
        "#No. of trianable parameters\n",
        "def count_parameters(model):\n",
        "    return sum(p.numel() for p in model.parameters() if p.requires_grad)\n",
        "    \n",
        "print(f'The model has {count_parameters(model):,} trainable parameters')"
      ],
      "execution_count": 29,
      "outputs": [
        {
          "output_type": "stream",
          "text": [
            "classifier(\n",
            "  (embedding): Embedding(21358, 300)\n",
            "  (encoder): GRU(300, 100, num_layers=3, batch_first=True, dropout=0.4, bidirectional=True)\n",
            "  (fc): Linear(in_features=100, out_features=5, bias=True)\n",
            ")\n",
            "The model has 7,011,505 trainable parameters\n"
          ],
          "name": "stdout"
        }
      ]
    },
    {
      "cell_type": "markdown",
      "metadata": {
        "id": "eXajorf5Xz7t"
      },
      "source": [
        "\r\n",
        "## Model Training and Evaluation"
      ]
    },
    {
      "cell_type": "markdown",
      "metadata": {
        "id": "PrE9RpMtZ1Vs"
      },
      "source": [
        "First define the optimizer and loss functions"
      ]
    },
    {
      "cell_type": "code",
      "metadata": {
        "id": "-u86JWdlXvu5"
      },
      "source": [
        "import torch.optim as optim\n",
        "\n",
        "# define optimizer and loss\n",
        "optimizer = optim.Adam(model.parameters(), lr=0.01)\n",
        "criterion = nn.CrossEntropyLoss()\n",
        "\n",
        "# define metric\n",
        "def binary_accuracy(preds, y):\n",
        "    #round predictions to the closest integer\n",
        "    _, predictions = torch.max(preds, 1)\n",
        "    \n",
        "    correct = (predictions == y).float() \n",
        "    acc = correct.sum() / len(correct)\n",
        "    return acc\n",
        "    \n",
        "# push to cuda if available\n",
        "model = model.to(device)\n",
        "criterion = criterion.to(device)"
      ],
      "execution_count": 30,
      "outputs": []
    },
    {
      "cell_type": "markdown",
      "metadata": {
        "id": "3VCJtNb3Zt8w"
      },
      "source": [
        "The main thing to be aware of in this new training loop is that we have to reference `batch.tweets` and `batch.labels` to get the particular fields we’re interested in; they don’t fall out quite as nicely from the enumerator as they do in torchvision."
      ]
    },
    {
      "cell_type": "markdown",
      "metadata": {
        "id": "2WjEPLKsAiS_"
      },
      "source": [
        "**Training Loop**"
      ]
    },
    {
      "cell_type": "code",
      "metadata": {
        "id": "HDWNnGK3Y5oJ"
      },
      "source": [
        "def train(model, iterator, optimizer, criterion):\n",
        "    \n",
        "    # initialize every epoch \n",
        "    epoch_loss = 0\n",
        "    epoch_acc = 0\n",
        "    \n",
        "    # set the model in training phase\n",
        "    model.train()  \n",
        "    \n",
        "    for batch in iterator:\n",
        "        \n",
        "        # resets the gradients after every batch\n",
        "        optimizer.zero_grad()   \n",
        "        \n",
        "        # retrieve text and no. of words\n",
        "        sentence, sentence_lengths = batch.sentence   \n",
        "        #print(sentence, sentence_lengths)\n",
        "        \n",
        "        # convert to 1D tensor\n",
        "        predictions = model(sentence, sentence_lengths).squeeze()  \n",
        "        \n",
        "        # compute the loss\n",
        "        loss = criterion(predictions, batch.label)        \n",
        "        \n",
        "        # compute the binary accuracy\n",
        "        acc = binary_accuracy(predictions, batch.label)   \n",
        "        \n",
        "        # backpropage the loss and compute the gradients\n",
        "        loss.backward()       \n",
        "        \n",
        "        # update the weights\n",
        "        optimizer.step()      \n",
        "        \n",
        "        # loss and accuracy\n",
        "        epoch_loss += loss.item()  \n",
        "        epoch_acc += acc.item()    \n",
        "        \n",
        "    return epoch_loss / len(iterator), epoch_acc / len(iterator)"
      ],
      "execution_count": 31,
      "outputs": []
    },
    {
      "cell_type": "markdown",
      "metadata": {
        "id": "CZcHhkkvAsCt"
      },
      "source": [
        "**Evaluation Loop**"
      ]
    },
    {
      "cell_type": "code",
      "metadata": {
        "id": "zHEe-zSVAriL"
      },
      "source": [
        "def evaluate(model, iterator, criterion):\n",
        "    \n",
        "    # initialize every epoch\n",
        "    epoch_loss = 0\n",
        "    epoch_acc = 0\n",
        "\n",
        "    # deactivating dropout layers\n",
        "    model.eval()\n",
        "    \n",
        "    # deactivates autograd\n",
        "    with torch.no_grad():\n",
        "    \n",
        "        for batch in iterator:\n",
        "        \n",
        "            # retrieve text and no. of words\n",
        "            sentence, sentence_lengths = batch.sentence\n",
        "            \n",
        "            \n",
        "            # convert to 1d tensor\n",
        "            predictions = model(sentence, sentence_lengths).squeeze()\n",
        "            \n",
        "            # compute loss and accuracy\n",
        "            loss = criterion(predictions, batch.label)\n",
        "            acc = binary_accuracy(predictions, batch.label)\n",
        "            \n",
        "            # keep track of loss and accuracy\n",
        "            epoch_loss += loss.item()\n",
        "            epoch_acc += acc.item()\n",
        "        \n",
        "    return epoch_loss / len(iterator), epoch_acc / len(iterator)"
      ],
      "execution_count": 32,
      "outputs": []
    },
    {
      "cell_type": "markdown",
      "metadata": {
        "id": "L6LJFW7HaJoV"
      },
      "source": [
        "**Let's Train and Evaluate**"
      ]
    },
    {
      "cell_type": "code",
      "metadata": {
        "id": "tq330XlnaEU9",
        "colab": {
          "base_uri": "https://localhost:8080/"
        },
        "outputId": "f0fff691-b3b6-4f5c-ebec-06cb9e8d144e"
      },
      "source": [
        "N_EPOCHS = 50\n",
        "best_valid_loss = float('inf')\n",
        "\n",
        "for epoch in range(N_EPOCHS):\n",
        "     \n",
        "    # train the model\n",
        "    train_loss, train_acc = train(model, train_iterator, optimizer, criterion)\n",
        "    \n",
        "    # evaluate the model\n",
        "    valid_loss, valid_acc = evaluate(model, valid_iterator, criterion)\n",
        "    \n",
        "    # save the best model\n",
        "    if valid_loss < best_valid_loss:\n",
        "        best_valid_loss = valid_loss\n",
        "        torch.save(model.state_dict(), 'saved_weights.pt')\n",
        "    \n",
        "    print(f'Epoch: {epoch}\\n\\tTrain Loss: {train_loss:.3f} | Train Acc: {train_acc*100:.2f}%')\n",
        "    print(f'\\t Val. Loss: {valid_loss:.3f} |  Val. Acc: {valid_acc*100:.2f}% \\n')"
      ],
      "execution_count": 33,
      "outputs": [
        {
          "output_type": "stream",
          "text": [
            "Epoch: 0\n",
            "\tTrain Loss: 1.569 | Train Acc: 29.65%\n",
            "\t Val. Loss: 1.553 |  Val. Acc: 31.90% \n",
            "\n",
            "Epoch: 1\n",
            "\tTrain Loss: 1.467 | Train Acc: 42.50%\n",
            "\t Val. Loss: 1.548 |  Val. Acc: 34.00% \n",
            "\n",
            "Epoch: 2\n",
            "\tTrain Loss: 1.374 | Train Acc: 52.45%\n",
            "\t Val. Loss: 1.551 |  Val. Acc: 33.53% \n",
            "\n",
            "Epoch: 3\n",
            "\tTrain Loss: 1.302 | Train Acc: 60.06%\n",
            "\t Val. Loss: 1.557 |  Val. Acc: 33.16% \n",
            "\n",
            "Epoch: 4\n",
            "\tTrain Loss: 1.259 | Train Acc: 64.35%\n",
            "\t Val. Loss: 1.578 |  Val. Acc: 30.14% \n",
            "\n",
            "Epoch: 5\n",
            "\tTrain Loss: 1.215 | Train Acc: 68.87%\n",
            "\t Val. Loss: 1.568 |  Val. Acc: 31.99% \n",
            "\n",
            "Epoch: 6\n",
            "\tTrain Loss: 1.190 | Train Acc: 71.52%\n",
            "\t Val. Loss: 1.565 |  Val. Acc: 31.91% \n",
            "\n",
            "Epoch: 7\n",
            "\tTrain Loss: 1.181 | Train Acc: 72.36%\n",
            "\t Val. Loss: 1.580 |  Val. Acc: 30.44% \n",
            "\n",
            "Epoch: 8\n",
            "\tTrain Loss: 1.174 | Train Acc: 73.01%\n",
            "\t Val. Loss: 1.580 |  Val. Acc: 30.92% \n",
            "\n",
            "Epoch: 9\n",
            "\tTrain Loss: 1.158 | Train Acc: 74.62%\n",
            "\t Val. Loss: 1.583 |  Val. Acc: 30.85% \n",
            "\n",
            "Epoch: 10\n",
            "\tTrain Loss: 1.165 | Train Acc: 74.06%\n",
            "\t Val. Loss: 1.582 |  Val. Acc: 30.94% \n",
            "\n",
            "Epoch: 11\n",
            "\tTrain Loss: 1.152 | Train Acc: 75.28%\n",
            "\t Val. Loss: 1.594 |  Val. Acc: 29.78% \n",
            "\n",
            "Epoch: 12\n",
            "\tTrain Loss: 1.144 | Train Acc: 76.19%\n",
            "\t Val. Loss: 1.593 |  Val. Acc: 29.19% \n",
            "\n",
            "Epoch: 13\n",
            "\tTrain Loss: 1.120 | Train Acc: 78.59%\n",
            "\t Val. Loss: 1.607 |  Val. Acc: 28.22% \n",
            "\n",
            "Epoch: 14\n",
            "\tTrain Loss: 1.115 | Train Acc: 79.01%\n",
            "\t Val. Loss: 1.599 |  Val. Acc: 28.66% \n",
            "\n",
            "Epoch: 15\n",
            "\tTrain Loss: 1.098 | Train Acc: 80.74%\n",
            "\t Val. Loss: 1.598 |  Val. Acc: 28.93% \n",
            "\n",
            "Epoch: 16\n",
            "\tTrain Loss: 1.099 | Train Acc: 80.74%\n",
            "\t Val. Loss: 1.602 |  Val. Acc: 28.82% \n",
            "\n",
            "Epoch: 17\n",
            "\tTrain Loss: 1.100 | Train Acc: 80.46%\n",
            "\t Val. Loss: 1.587 |  Val. Acc: 30.78% \n",
            "\n",
            "Epoch: 18\n",
            "\tTrain Loss: 1.098 | Train Acc: 80.85%\n",
            "\t Val. Loss: 1.594 |  Val. Acc: 29.96% \n",
            "\n",
            "Epoch: 19\n",
            "\tTrain Loss: 1.098 | Train Acc: 80.72%\n",
            "\t Val. Loss: 1.597 |  Val. Acc: 29.02% \n",
            "\n",
            "Epoch: 20\n",
            "\tTrain Loss: 1.100 | Train Acc: 80.42%\n",
            "\t Val. Loss: 1.609 |  Val. Acc: 28.43% \n",
            "\n",
            "Epoch: 21\n",
            "\tTrain Loss: 1.099 | Train Acc: 80.64%\n",
            "\t Val. Loss: 1.594 |  Val. Acc: 30.20% \n",
            "\n",
            "Epoch: 22\n",
            "\tTrain Loss: 1.085 | Train Acc: 82.04%\n",
            "\t Val. Loss: 1.605 |  Val. Acc: 28.90% \n",
            "\n",
            "Epoch: 23\n",
            "\tTrain Loss: 1.089 | Train Acc: 81.55%\n",
            "\t Val. Loss: 1.602 |  Val. Acc: 29.08% \n",
            "\n",
            "Epoch: 24\n",
            "\tTrain Loss: 1.092 | Train Acc: 81.38%\n",
            "\t Val. Loss: 1.610 |  Val. Acc: 28.16% \n",
            "\n",
            "Epoch: 25\n",
            "\tTrain Loss: 1.084 | Train Acc: 82.14%\n",
            "\t Val. Loss: 1.594 |  Val. Acc: 29.99% \n",
            "\n",
            "Epoch: 26\n",
            "\tTrain Loss: 1.091 | Train Acc: 81.31%\n",
            "\t Val. Loss: 1.607 |  Val. Acc: 28.44% \n",
            "\n",
            "Epoch: 27\n",
            "\tTrain Loss: 1.094 | Train Acc: 81.05%\n",
            "\t Val. Loss: 1.599 |  Val. Acc: 29.48% \n",
            "\n",
            "Epoch: 28\n",
            "\tTrain Loss: 1.091 | Train Acc: 81.32%\n",
            "\t Val. Loss: 1.596 |  Val. Acc: 29.77% \n",
            "\n",
            "Epoch: 29\n",
            "\tTrain Loss: 1.093 | Train Acc: 81.13%\n",
            "\t Val. Loss: 1.588 |  Val. Acc: 30.87% \n",
            "\n",
            "Epoch: 30\n",
            "\tTrain Loss: 1.095 | Train Acc: 80.89%\n",
            "\t Val. Loss: 1.604 |  Val. Acc: 28.80% \n",
            "\n",
            "Epoch: 31\n",
            "\tTrain Loss: 1.098 | Train Acc: 80.54%\n",
            "\t Val. Loss: 1.598 |  Val. Acc: 29.88% \n",
            "\n",
            "Epoch: 32\n",
            "\tTrain Loss: 1.096 | Train Acc: 80.84%\n",
            "\t Val. Loss: 1.605 |  Val. Acc: 29.33% \n",
            "\n",
            "Epoch: 33\n",
            "\tTrain Loss: 1.083 | Train Acc: 82.27%\n",
            "\t Val. Loss: 1.601 |  Val. Acc: 29.63% \n",
            "\n",
            "Epoch: 34\n",
            "\tTrain Loss: 1.090 | Train Acc: 81.37%\n",
            "\t Val. Loss: 1.607 |  Val. Acc: 28.75% \n",
            "\n",
            "Epoch: 35\n",
            "\tTrain Loss: 1.083 | Train Acc: 82.24%\n",
            "\t Val. Loss: 1.611 |  Val. Acc: 28.18% \n",
            "\n",
            "Epoch: 36\n",
            "\tTrain Loss: 1.085 | Train Acc: 81.99%\n",
            "\t Val. Loss: 1.604 |  Val. Acc: 29.24% \n",
            "\n",
            "Epoch: 37\n",
            "\tTrain Loss: 1.089 | Train Acc: 81.66%\n",
            "\t Val. Loss: 1.610 |  Val. Acc: 28.57% \n",
            "\n",
            "Epoch: 38\n",
            "\tTrain Loss: 1.086 | Train Acc: 81.85%\n",
            "\t Val. Loss: 1.604 |  Val. Acc: 29.26% \n",
            "\n",
            "Epoch: 39\n",
            "\tTrain Loss: 1.078 | Train Acc: 82.70%\n",
            "\t Val. Loss: 1.608 |  Val. Acc: 28.66% \n",
            "\n",
            "Epoch: 40\n",
            "\tTrain Loss: 1.069 | Train Acc: 83.57%\n",
            "\t Val. Loss: 1.604 |  Val. Acc: 29.10% \n",
            "\n",
            "Epoch: 41\n",
            "\tTrain Loss: 1.068 | Train Acc: 83.77%\n",
            "\t Val. Loss: 1.616 |  Val. Acc: 27.40% \n",
            "\n",
            "Epoch: 42\n",
            "\tTrain Loss: 1.076 | Train Acc: 82.85%\n",
            "\t Val. Loss: 1.608 |  Val. Acc: 28.48% \n",
            "\n",
            "Epoch: 43\n",
            "\tTrain Loss: 1.071 | Train Acc: 83.44%\n",
            "\t Val. Loss: 1.602 |  Val. Acc: 29.38% \n",
            "\n",
            "Epoch: 44\n",
            "\tTrain Loss: 1.072 | Train Acc: 83.27%\n",
            "\t Val. Loss: 1.610 |  Val. Acc: 28.68% \n",
            "\n",
            "Epoch: 45\n",
            "\tTrain Loss: 1.088 | Train Acc: 81.65%\n",
            "\t Val. Loss: 1.609 |  Val. Acc: 28.61% \n",
            "\n",
            "Epoch: 46\n",
            "\tTrain Loss: 1.073 | Train Acc: 83.05%\n",
            "\t Val. Loss: 1.601 |  Val. Acc: 29.46% \n",
            "\n",
            "Epoch: 47\n",
            "\tTrain Loss: 1.078 | Train Acc: 82.73%\n",
            "\t Val. Loss: 1.598 |  Val. Acc: 29.26% \n",
            "\n",
            "Epoch: 48\n",
            "\tTrain Loss: 1.076 | Train Acc: 82.89%\n",
            "\t Val. Loss: 1.609 |  Val. Acc: 28.47% \n",
            "\n",
            "Epoch: 49\n",
            "\tTrain Loss: 1.069 | Train Acc: 83.66%\n",
            "\t Val. Loss: 1.601 |  Val. Acc: 29.48% \n",
            "\n"
          ],
          "name": "stdout"
        }
      ]
    },
    {
      "cell_type": "markdown",
      "metadata": {
        "id": "LZgzB0ZkHVTI"
      },
      "source": [
        "## Model Testing"
      ]
    },
    {
      "cell_type": "code",
      "metadata": {
        "id": "aZZfnWo0abRx"
      },
      "source": [
        "#load weights and tokenizer\n",
        "\n",
        "path='./saved_weights.pt'\n",
        "model.load_state_dict(torch.load(path));\n",
        "model.eval();\n",
        "tokenizer_file = open('./tokenizer.pkl', 'rb')\n",
        "tokenizer = pickle.load(tokenizer_file)\n",
        "\n",
        "#inference \n",
        "\n",
        "import spacy\n",
        "nlp = spacy.load('en')\n",
        "\n",
        "def classify_tweet(tweet):\n",
        "    \n",
        "    categories = { 0: \"Very Negative\",\n",
        "        1: \"Negative\",\n",
        "        2: \"Neutral\",\n",
        "        3: \"Positive\",\n",
        "        4: \"Very Positive\" }\n",
        "    \n",
        "    # tokenize the tweet \n",
        "    tokenized = [tok.text for tok in nlp.tokenizer(tweet)] \n",
        "    # convert to integer sequence using predefined tokenizer dictionary\n",
        "    indexed = [tokenizer[t] for t in tokenized]        \n",
        "    # compute no. of words        \n",
        "    length = [len(indexed)]\n",
        "    # convert to tensor                                    \n",
        "    tensor = torch.LongTensor(indexed).to(device)   \n",
        "    # reshape in form of batch, no. of words           \n",
        "    tensor = tensor.unsqueeze(1).T  \n",
        "    # convert to tensor                          \n",
        "    length_tensor = torch.LongTensor(length)\n",
        "    # Get the model prediction                  \n",
        "    prediction = model(tensor, length_tensor)\n",
        "\n",
        "    _, pred = torch.max(prediction, 1) \n",
        "    \n",
        "    return categories[pred.item()]"
      ],
      "execution_count": 34,
      "outputs": []
    },
    {
      "cell_type": "code",
      "metadata": {
        "id": "yTkHLEipIlM9",
        "colab": {
          "base_uri": "https://localhost:8080/",
          "height": 35
        },
        "outputId": "df821186-ebe9-484d-f267-cf44aade40b9"
      },
      "source": [
        "classify_tweet(\"I'll probably have to watch it again to understand what happens.\")"
      ],
      "execution_count": 35,
      "outputs": [
        {
          "output_type": "execute_result",
          "data": {
            "application/vnd.google.colaboratory.intrinsic+json": {
              "type": "string"
            },
            "text/plain": [
              "'Very Negative'"
            ]
          },
          "metadata": {
            "tags": []
          },
          "execution_count": 35
        }
      ]
    },
    {
      "cell_type": "markdown",
      "metadata": {
        "id": "WVjCuKK_LVEF"
      },
      "source": [
        "## Discussion on Data Augmentation Techniques \n",
        "\n",
        "You might wonder exactly how you can augment text data. After all, you can’t really flip it horizontally as you can an image! :D \n",
        "\n",
        "In contrast to data augmentation in images, augmentation techniques on data is very specific to final product you are building. As its general usage on any type of textual data doesn't provides a significant performance boost, that's why unlike torchvision, torchtext doesn’t offer a augmentation pipeline. Due to powerful models as transformers, augmentation tecnhiques are not so preferred now-a-days. But its better to know about some techniques with text that will provide your model with a little more information for training. \n",
        "\n",
        "### Synonym Replacement\n",
        "\n",
        "First, you could replace words in the sentence with synonyms, like so:\n",
        "\n",
        "    The dog slept on the mat\n",
        "\n",
        "could become\n",
        "\n",
        "    The dog slept on the rug\n",
        "\n",
        "Aside from the dog's insistence that a rug is much softer than a mat, the meaning of the sentence hasn’t changed. But mat and rug will be mapped to different indices in the vocabulary, so the model will learn that the two sentences map to the same label, and hopefully that there’s a connection between those two words, as everything else in the sentences is the same."
      ]
    },
    {
      "cell_type": "markdown",
      "metadata": {
        "id": "T_uEfWJpL6Nq"
      },
      "source": [
        "### Random Insertion\n",
        "A random insertion technique looks at a sentence and then randomly inserts synonyms of existing non-stopwords into the sentence n times. Assuming you have a way of getting a synonym of a word and a way of eliminating stopwords (common words such as and, it, the, etc.), shown, but not implemented, in this function via get_synonyms() and get_stopwords(), an implementation of this would be as follows:\n"
      ]
    },
    {
      "cell_type": "code",
      "metadata": {
        "id": "7Alm5D7WIvAC"
      },
      "source": [
        "def random_insertion(sentence, n): \n",
        "    words = remove_stopwords(sentence) \n",
        "    for _ in range(n):\n",
        "        new_synonym = get_synonyms(random.choice(words))\n",
        "        sentence.insert(randrange(len(sentence)+1), new_synonym) \n",
        "    return sentence"
      ],
      "execution_count": 36,
      "outputs": []
    },
    {
      "cell_type": "markdown",
      "metadata": {
        "id": "gqLWzwJ3Mm8h"
      },
      "source": [
        "## Random Deletion\n",
        "As the name suggests, random deletion deletes words from a sentence. Given a probability parameter p, it will go through the sentence and decide whether to delete a word or not based on that random probability. Consider of it as pixel dropouts while treating images."
      ]
    },
    {
      "cell_type": "code",
      "metadata": {
        "id": "-7Dz7JJfMqyC"
      },
      "source": [
        "def random_deletion(words, p=0.5): \n",
        "    if len(words) == 1: # return if single word\n",
        "        return words\n",
        "    remaining = list(filter(lambda x: random.uniform(0,1) > p,words)) \n",
        "    if len(remaining) == 0: # if not left, sample a random word\n",
        "        return [random.choice(words)] \n",
        "    else:\n",
        "        return remaining"
      ],
      "execution_count": 37,
      "outputs": []
    },
    {
      "cell_type": "markdown",
      "metadata": {
        "id": "zOIbi5WzO5OU"
      },
      "source": [
        "### Random Swap\n",
        "The random swap augmentation takes a sentence and then swaps words within it n times, with each iteration working on the previously swapped sentence. Here we sample two random numbers based on the length of the sentence, and then just keep swapping until we hit n."
      ]
    },
    {
      "cell_type": "code",
      "metadata": {
        "id": "LnkbG15HO3Yj"
      },
      "source": [
        "def random_swap(sentence, n=5): \n",
        "    length = range(len(sentence)) \n",
        "    for _ in range(n):\n",
        "        idx1, idx2 = random.sample(length, 2)\n",
        "        sentence[idx1], sentence[idx2] = sentence[idx2], sentence[idx1] \n",
        "    return sentence"
      ],
      "execution_count": 38,
      "outputs": []
    },
    {
      "cell_type": "markdown",
      "metadata": {
        "id": "599NpwfMR5Vm"
      },
      "source": [
        "For more on this please go through this [paper](https://arxiv.org/pdf/1901.11196.pdf)."
      ]
    },
    {
      "cell_type": "markdown",
      "metadata": {
        "id": "a5aeKuNCRGip"
      },
      "source": [
        "### Back Translation\n",
        "\n",
        "Another popular approach for augmenting text datasets is back translation. This involves translating a sentence from our target language into one or more other languages and then translating all of them back to the original language. We can use the Python library googletrans for this purpose. "
      ]
    },
    {
      "cell_type": "code",
      "metadata": {
        "id": "tkQ26i_3qzqe",
        "colab": {
          "base_uri": "https://localhost:8080/"
        },
        "outputId": "ae84e469-da79-4ee2-c3fd-a38b37b752ad"
      },
      "source": [
        "!pip install google_trans_new\r\n"
      ],
      "execution_count": 39,
      "outputs": [
        {
          "output_type": "stream",
          "text": [
            "Requirement already satisfied: google_trans_new in /usr/local/lib/python3.6/dist-packages (1.1.9)\n"
          ],
          "name": "stdout"
        }
      ]
    },
    {
      "cell_type": "code",
      "metadata": {
        "id": "pHhNBbYrRXNy",
        "colab": {
          "base_uri": "https://localhost:8080/"
        },
        "outputId": "784ad503-32fc-4e9f-a02f-3af11b756a78"
      },
      "source": [
        "import random\n",
        "import google_trans_new\n",
        "\n",
        "from google_trans_new import google_translator\n",
        "\n",
        "translator = google_translator()\n",
        "sentence = ['The dog slept on the rug', 'This is good coffee']\n",
        "\n",
        "result = translator.translate(sentence,lang_tgt='fr')\n",
        "print(result)\n",
        "translations_en_random = translator.translate(result, lang_src='fr', lang_tgt='en') \n",
        "print(translations_en_random)\n",
        "# en_text = [t for t in translations_en_random]\n",
        "# print(en_text)"
      ],
      "execution_count": 40,
      "outputs": [
        {
          "output_type": "stream",
          "text": [
            "[«Le chien a dormi sur le tapis», «C'est du bon café»] \n",
            "[\"The dog slept on the carpet\", \"It's good coffee\"] \n"
          ],
          "name": "stdout"
        }
      ]
    },
    {
      "cell_type": "code",
      "metadata": {
        "id": "ojjMj7bUTGyQ"
      },
      "source": [
        ""
      ],
      "execution_count": 40,
      "outputs": []
    },
    {
      "cell_type": "code",
      "metadata": {
        "id": "u3ILs_pTLIGH",
        "colab": {
          "base_uri": "https://localhost:8080/",
          "height": 35
        },
        "outputId": "ffe4a152-438f-485e-8e25-39a8d7beff84"
      },
      "source": [
        "googletranslate(\"The cat slept on the rug\")"
      ],
      "execution_count": 41,
      "outputs": [
        {
          "output_type": "execute_result",
          "data": {
            "application/vnd.google.colaboratory.intrinsic+json": {
              "type": "string"
            },
            "text/plain": [
              "'The cat was sleeping on the carpet '"
            ]
          },
          "metadata": {
            "tags": []
          },
          "execution_count": 41
        }
      ]
    },
    {
      "cell_type": "code",
      "metadata": {
        "id": "Lcia5-kxLLun"
      },
      "source": [
        ""
      ],
      "execution_count": 41,
      "outputs": []
    }
  ]
}