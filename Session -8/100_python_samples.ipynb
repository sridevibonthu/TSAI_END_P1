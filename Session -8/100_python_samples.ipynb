{
  "nbformat": 4,
  "nbformat_minor": 0,
  "metadata": {
    "colab": {
      "name": "100 python samples.ipynb",
      "provenance": [],
      "authorship_tag": "ABX9TyPAxO1aoQl49xfey3Mf4Px+",
      "include_colab_link": true
    },
    "kernelspec": {
      "name": "python3",
      "display_name": "Python 3"
    }
  },
  "cells": [
    {
      "cell_type": "markdown",
      "metadata": {
        "id": "view-in-github",
        "colab_type": "text"
      },
      "source": [
        "<a href=\"https://colab.research.google.com/github/sridevibonthu/TSAI_END_P1/blob/main/Session%20-8/100_python_samples.ipynb\" target=\"_parent\"><img src=\"https://colab.research.google.com/assets/colab-badge.svg\" alt=\"Open In Colab\"/></a>"
      ]
    },
    {
      "cell_type": "code",
      "metadata": {
        "colab": {
          "base_uri": "https://localhost:8080/"
        },
        "id": "SgfsPrFEXpyx",
        "outputId": "65eeb487-a478-423e-88fb-a4b4f0db4082"
      },
      "source": [
        "f# 1. Function to return area of a triangle when sides are given\r\n",
        "def areaOfTriangle(a, b, c):\r\n",
        "  s = (a+b+c)/2\r\n",
        "  return (s*(s-a)*(s-b)*(s-c)) ** 0.5\r\n",
        "\r\n",
        "areaOfTriangle(3, 6, 7)"
      ],
      "execution_count": null,
      "outputs": [
        {
          "output_type": "execute_result",
          "data": {
            "text/plain": [
              "8.94427190999916"
            ]
          },
          "metadata": {
            "tags": []
          },
          "execution_count": 4
        }
      ]
    },
    {
      "cell_type": "code",
      "metadata": {
        "id": "y9rUMeZ0YTsm"
      },
      "source": [
        "# This program checks whether the given year is leap year or not.\r\n",
        "# A  leap year is exactly divisible by 4 except for century years (years ending with 00). \r\n",
        "# The century year is a leap year only if it is perfectly divisible by 400. \r\n",
        "\r\n",
        "int = int(input(\"Enter year : \"))\r\n",
        "\r\n",
        "if (year%4 == 0 and year%100 != 0) or year%400 == 0:\r\n",
        "  print(f'{year} is a leap year')\r\n",
        "else:\r\n",
        "  \r\n"
      ],
      "execution_count": null,
      "outputs": []
    },
    {
      "cell_type": "code",
      "metadata": {
        "colab": {
          "base_uri": "https://localhost:8080/"
        },
        "id": "pb-ORsjaYl8Q",
        "outputId": "f86a77d1-205f-4fec-891b-697743727cc4"
      },
      "source": [
        "# Function to swap two numbers\r\n",
        "def swapNumbers(a, b):\r\n",
        "  return b, a\r\n",
        "\r\n",
        "swapNumbers(4, 5)"
      ],
      "execution_count": null,
      "outputs": [
        {
          "output_type": "execute_result",
          "data": {
            "text/plain": [
              "(5, 4)"
            ]
          },
          "metadata": {
            "tags": []
          },
          "execution_count": 9
        }
      ]
    },
    {
      "cell_type": "code",
      "metadata": {
        "id": "Atl4YseZYmXG"
      },
      "source": [
        ""
      ],
      "execution_count": null,
      "outputs": []
    },
    {
      "cell_type": "code",
      "metadata": {
        "colab": {
          "base_uri": "https://localhost:8080/"
        },
        "id": "arbcczvsYmt-",
        "outputId": "f2f7341b-9acf-4d22-dd5c-50ecd78b9e7b"
      },
      "source": [
        "# Finding square root without using math.sqrt\r\n",
        "x = int(input(\"Enter a number : \"))\r\n",
        "ans = x ** 0.5\r\n",
        "print(f'sqrt({x}) = {ans}')"
      ],
      "execution_count": null,
      "outputs": [
        {
          "output_type": "stream",
          "text": [
            "Enter a number : 81\n",
            "sqrt(81) = 9.0\n"
          ],
          "name": "stdout"
        }
      ]
    },
    {
      "cell_type": "code",
      "metadata": {
        "colab": {
          "base_uri": "https://localhost:8080/"
        },
        "id": "-Uwa-Boh8nLK",
        "outputId": "b72a36b5-e20b-48b1-987e-468e2e3c0388"
      },
      "source": [
        "# Program to check whether the given number is divisible by seven or not\r\n",
        "num = int(input(\"Enter a number: \"))\r\n",
        "if (num % 7) == 0:\r\n",
        "   print(f'{num} is divisible by 7.')\r\n",
        "else:\r\n",
        "   print(f'{num} is not divisible by 7.')"
      ],
      "execution_count": null,
      "outputs": [
        {
          "output_type": "stream",
          "text": [
            "Enter a number: 18\n",
            "18 is not divisible by 7.\n"
          ],
          "name": "stdout"
        }
      ]
    },
    {
      "cell_type": "code",
      "metadata": {
        "id": "5qmeNzmUY14Z",
        "colab": {
          "base_uri": "https://localhost:8080/"
        },
        "outputId": "024bfee6-06d5-4ecb-ab7b-85c462a5e992"
      },
      "source": [
        "# Generate a random number between 0 and 9\r\n",
        "import random\r\n",
        "print(random.randint(0, 9))"
      ],
      "execution_count": null,
      "outputs": [
        {
          "output_type": "stream",
          "text": [
            "0\n"
          ],
          "name": "stdout"
        }
      ]
    },
    {
      "cell_type": "code",
      "metadata": {
        "id": "AgrnnxB98fTB"
      },
      "source": [
        ""
      ],
      "execution_count": null,
      "outputs": []
    }
  ]
}